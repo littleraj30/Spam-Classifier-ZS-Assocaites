{
 "cells": [
  {
   "cell_type": "code",
   "execution_count": null,
   "metadata": {
    "slideshow": {
     "slide_type": "slide"
    }
   },
   "outputs": [],
   "source": []
  },
  {
   "cell_type": "markdown",
   "metadata": {
    "slideshow": {
     "slide_type": "slide"
    }
   },
   "source": [
    "# $\\;\\;\\;\\;\\;$SPAM CLASSIFIER NOTEBOOK\n"
   ]
  },
  {
   "cell_type": "markdown",
   "metadata": {
    "slideshow": {
     "slide_type": "slide"
    }
   },
   "source": [
    "#### In his notebook i used following thing to make a spam classifier\n",
    "#### 1. Exploratory data analysis\n",
    "#### 2. Feature engineering \n",
    "#### 3. Data wrangling $\\;\\;\\;\\;\\;\\;\\;\\;\\;\\;$ 4. Predictive Modeling\n",
    "#### 5. Model comparison $\\;\\;\\;\\;\\;\\;\\;$ 6. Ensembling model\n",
    "#### 7. Advanced modeling & hyper parameter tuning and optimization"
   ]
  },
  {
   "cell_type": "markdown",
   "metadata": {
    "slideshow": {
     "slide_type": "slide"
    }
   },
   "source": [
    "### Importing basic modules"
   ]
  },
  {
   "cell_type": "code",
   "execution_count": 1,
   "metadata": {
    "slideshow": {
     "slide_type": "subslide"
    }
   },
   "outputs": [],
   "source": [
    "# Basic modules\n",
    "import pandas as pd\n",
    "import numpy as np\n",
    "import matplotlib.pyplot as plt\n",
    "import seaborn as sns\n",
    "import re\n",
    "import warnings\n",
    "warnings.simplefilter(action='ignore', category=FutureWarning)\n",
    "warnings.simplefilter(action='ignore', category=DeprecationWarning)"
   ]
  },
  {
   "cell_type": "markdown",
   "metadata": {
    "slideshow": {
     "slide_type": "slide"
    }
   },
   "source": [
    "### Importing Train and Test dataset"
   ]
  },
  {
   "cell_type": "code",
   "execution_count": 2,
   "metadata": {
    "slideshow": {
     "slide_type": "subslide"
    }
   },
   "outputs": [],
   "source": [
    "# Importing data\n",
    "train = pd.read_csv(\"train.csv\")\n",
    "test = pd.read_csv(\"test.csv\")"
   ]
  },
  {
   "cell_type": "markdown",
   "metadata": {
    "slideshow": {
     "slide_type": "slide"
    }
   },
   "source": [
    "### 1. Exploratory data analysis"
   ]
  },
  {
   "cell_type": "code",
   "execution_count": 3,
   "metadata": {
    "slideshow": {
     "slide_type": "slide"
    }
   },
   "outputs": [
    {
     "data": {
      "text/html": [
       "<div>\n",
       "<style scoped>\n",
       "    .dataframe tbody tr th:only-of-type {\n",
       "        vertical-align: middle;\n",
       "    }\n",
       "\n",
       "    .dataframe tbody tr th {\n",
       "        vertical-align: top;\n",
       "    }\n",
       "\n",
       "    .dataframe thead th {\n",
       "        text-align: right;\n",
       "    }\n",
       "</style>\n",
       "<table border=\"1\" class=\"dataframe\">\n",
       "  <thead>\n",
       "    <tr style=\"text-align: right;\">\n",
       "      <th></th>\n",
       "      <th>COMMENT_ID</th>\n",
       "      <th>AUTHOR</th>\n",
       "      <th>DATE</th>\n",
       "      <th>CONTENT</th>\n",
       "      <th>CLASS</th>\n",
       "    </tr>\n",
       "  </thead>\n",
       "  <tbody>\n",
       "    <tr>\n",
       "      <th>0</th>\n",
       "      <td>LZQPQhLyRh80UYxNuaDWhIGQYNQ96IuCg-AYWqNPjpU</td>\n",
       "      <td>Julius NM</td>\n",
       "      <td>2013-11-07T06:20:48</td>\n",
       "      <td>Huh, anyway check out this you[tube] channel: ...</td>\n",
       "      <td>1</td>\n",
       "    </tr>\n",
       "    <tr>\n",
       "      <th>1</th>\n",
       "      <td>z13jhp0bxqncu512g22wvzkasxmvvzjaz04</td>\n",
       "      <td>ElNino Melendez</td>\n",
       "      <td>2013-11-09T08:28:43</td>\n",
       "      <td>me shaking my sexy ass on my channel enjoy ^_^ ﻿</td>\n",
       "      <td>1</td>\n",
       "    </tr>\n",
       "    <tr>\n",
       "      <th>2</th>\n",
       "      <td>z13fwbwp1oujthgqj04chlngpvzmtt3r3dw</td>\n",
       "      <td>GsMega</td>\n",
       "      <td>2013-11-10T16:05:38</td>\n",
       "      <td>watch?v=vtaRGgvGtWQ   Check this out .﻿</td>\n",
       "      <td>1</td>\n",
       "    </tr>\n",
       "    <tr>\n",
       "      <th>3</th>\n",
       "      <td>z13lfzdo5vmdi1cm123te5uz2mqig1brz04</td>\n",
       "      <td>ferleck ferles</td>\n",
       "      <td>2013-11-27T21:39:24</td>\n",
       "      <td>Subscribe to my channel ﻿</td>\n",
       "      <td>1</td>\n",
       "    </tr>\n",
       "    <tr>\n",
       "      <th>4</th>\n",
       "      <td>z12avveb4xqiirsix04chxviiljryduwxg0</td>\n",
       "      <td>BeBe Burkey</td>\n",
       "      <td>2013-11-28T16:30:13</td>\n",
       "      <td>and u should.d check my channel and tell me wh...</td>\n",
       "      <td>1</td>\n",
       "    </tr>\n",
       "  </tbody>\n",
       "</table>\n",
       "</div>"
      ],
      "text/plain": [
       "                                    COMMENT_ID           AUTHOR  \\\n",
       "0  LZQPQhLyRh80UYxNuaDWhIGQYNQ96IuCg-AYWqNPjpU        Julius NM   \n",
       "1          z13jhp0bxqncu512g22wvzkasxmvvzjaz04  ElNino Melendez   \n",
       "2          z13fwbwp1oujthgqj04chlngpvzmtt3r3dw           GsMega   \n",
       "3          z13lfzdo5vmdi1cm123te5uz2mqig1brz04   ferleck ferles   \n",
       "4          z12avveb4xqiirsix04chxviiljryduwxg0      BeBe Burkey   \n",
       "\n",
       "                  DATE                                            CONTENT  \\\n",
       "0  2013-11-07T06:20:48  Huh, anyway check out this you[tube] channel: ...   \n",
       "1  2013-11-09T08:28:43   me shaking my sexy ass on my channel enjoy ^_^ ﻿   \n",
       "2  2013-11-10T16:05:38            watch?v=vtaRGgvGtWQ   Check this out .﻿   \n",
       "3  2013-11-27T21:39:24                          Subscribe to my channel ﻿   \n",
       "4  2013-11-28T16:30:13  and u should.d check my channel and tell me wh...   \n",
       "\n",
       "   CLASS  \n",
       "0      1  \n",
       "1      1  \n",
       "2      1  \n",
       "3      1  \n",
       "4      1  "
      ]
     },
     "execution_count": 3,
     "metadata": {},
     "output_type": "execute_result"
    }
   ],
   "source": [
    "train.head()"
   ]
  },
  {
   "cell_type": "code",
   "execution_count": 4,
   "metadata": {
    "slideshow": {
     "slide_type": "fragment"
    }
   },
   "outputs": [
    {
     "data": {
      "text/html": [
       "<div>\n",
       "<style scoped>\n",
       "    .dataframe tbody tr th:only-of-type {\n",
       "        vertical-align: middle;\n",
       "    }\n",
       "\n",
       "    .dataframe tbody tr th {\n",
       "        vertical-align: top;\n",
       "    }\n",
       "\n",
       "    .dataframe thead th {\n",
       "        text-align: right;\n",
       "    }\n",
       "</style>\n",
       "<table border=\"1\" class=\"dataframe\">\n",
       "  <thead>\n",
       "    <tr style=\"text-align: right;\">\n",
       "      <th></th>\n",
       "      <th>ID</th>\n",
       "      <th>COMMENT_ID</th>\n",
       "      <th>AUTHOR</th>\n",
       "      <th>DATE</th>\n",
       "      <th>CONTENT</th>\n",
       "    </tr>\n",
       "  </thead>\n",
       "  <tbody>\n",
       "    <tr>\n",
       "      <th>0</th>\n",
       "      <td>0</td>\n",
       "      <td>LZQPQhLyRh_C2cTtd9MvFRJedxydaVW-2sNg5Diuo4A</td>\n",
       "      <td>adam riyati</td>\n",
       "      <td>2013-11-07T12:37:15</td>\n",
       "      <td>Hey guys check out my new channel and our firs...</td>\n",
       "    </tr>\n",
       "    <tr>\n",
       "      <th>1</th>\n",
       "      <td>1</td>\n",
       "      <td>LZQPQhLyRh9MSZYnf8djyk0gEF9BHDPYrrK-qCczIY8</td>\n",
       "      <td>Evgeny Murashkin</td>\n",
       "      <td>2013-11-08T17:34:21</td>\n",
       "      <td>just for test I have to say murdev.com</td>\n",
       "    </tr>\n",
       "    <tr>\n",
       "      <th>2</th>\n",
       "      <td>2</td>\n",
       "      <td>LZQPQhLyRh9-wNRtlZDM90f1k0BrdVdJyN_YsaSwfxc</td>\n",
       "      <td>Jason Haddad</td>\n",
       "      <td>2013-11-26T02:55:11</td>\n",
       "      <td>Hey, check out my new website!! This site is a...</td>\n",
       "    </tr>\n",
       "    <tr>\n",
       "      <th>3</th>\n",
       "      <td>3</td>\n",
       "      <td>z122wfnzgt30fhubn04cdn3xfx2mxzngsl40k</td>\n",
       "      <td>Bob Kanowski</td>\n",
       "      <td>2013-11-28T12:33:27</td>\n",
       "      <td>i turned it on mute as soon is i came on i jus...</td>\n",
       "    </tr>\n",
       "    <tr>\n",
       "      <th>4</th>\n",
       "      <td>4</td>\n",
       "      <td>z13ttt1jcraqexk2o234ghbgzxymz1zzi04</td>\n",
       "      <td>Cony</td>\n",
       "      <td>2013-11-28T16:01:47</td>\n",
       "      <td>You should check my channel for Funny VIDEOS!!﻿</td>\n",
       "    </tr>\n",
       "  </tbody>\n",
       "</table>\n",
       "</div>"
      ],
      "text/plain": [
       "   ID                                   COMMENT_ID            AUTHOR  \\\n",
       "0   0  LZQPQhLyRh_C2cTtd9MvFRJedxydaVW-2sNg5Diuo4A       adam riyati   \n",
       "1   1  LZQPQhLyRh9MSZYnf8djyk0gEF9BHDPYrrK-qCczIY8  Evgeny Murashkin   \n",
       "2   2  LZQPQhLyRh9-wNRtlZDM90f1k0BrdVdJyN_YsaSwfxc      Jason Haddad   \n",
       "3   3        z122wfnzgt30fhubn04cdn3xfx2mxzngsl40k      Bob Kanowski   \n",
       "4   4          z13ttt1jcraqexk2o234ghbgzxymz1zzi04              Cony   \n",
       "\n",
       "                  DATE                                            CONTENT  \n",
       "0  2013-11-07T12:37:15  Hey guys check out my new channel and our firs...  \n",
       "1  2013-11-08T17:34:21             just for test I have to say murdev.com  \n",
       "2  2013-11-26T02:55:11  Hey, check out my new website!! This site is a...  \n",
       "3  2013-11-28T12:33:27  i turned it on mute as soon is i came on i jus...  \n",
       "4  2013-11-28T16:01:47    You should check my channel for Funny VIDEOS!!﻿  "
      ]
     },
     "execution_count": 4,
     "metadata": {},
     "output_type": "execute_result"
    }
   ],
   "source": [
    "test.head()"
   ]
  },
  {
   "cell_type": "code",
   "execution_count": 5,
   "metadata": {
    "slideshow": {
     "slide_type": "slide"
    }
   },
   "outputs": [
    {
     "data": {
      "text/html": [
       "<div>\n",
       "<style scoped>\n",
       "    .dataframe tbody tr th:only-of-type {\n",
       "        vertical-align: middle;\n",
       "    }\n",
       "\n",
       "    .dataframe tbody tr th {\n",
       "        vertical-align: top;\n",
       "    }\n",
       "\n",
       "    .dataframe thead th {\n",
       "        text-align: right;\n",
       "    }\n",
       "</style>\n",
       "<table border=\"1\" class=\"dataframe\">\n",
       "  <thead>\n",
       "    <tr style=\"text-align: right;\">\n",
       "      <th></th>\n",
       "      <th>COMMENT_ID</th>\n",
       "      <th>AUTHOR</th>\n",
       "      <th>DATE</th>\n",
       "      <th>CONTENT</th>\n",
       "      <th>CLASS</th>\n",
       "    </tr>\n",
       "  </thead>\n",
       "  <tbody>\n",
       "    <tr>\n",
       "      <th>count</th>\n",
       "      <td>1157</td>\n",
       "      <td>1157</td>\n",
       "      <td>1019</td>\n",
       "      <td>1157</td>\n",
       "      <td>1157.000000</td>\n",
       "    </tr>\n",
       "    <tr>\n",
       "      <th>unique</th>\n",
       "      <td>1156</td>\n",
       "      <td>1094</td>\n",
       "      <td>1019</td>\n",
       "      <td>1057</td>\n",
       "      <td>NaN</td>\n",
       "    </tr>\n",
       "    <tr>\n",
       "      <th>top</th>\n",
       "      <td>LneaDw26bFvPh9xBHNw1btQoyP60ay_WWthtvXCx37s</td>\n",
       "      <td>Shadrach Grentz</td>\n",
       "      <td>2013-10-02T03:08:55.478000</td>\n",
       "      <td>Check out this video on YouTube:﻿</td>\n",
       "      <td>NaN</td>\n",
       "    </tr>\n",
       "    <tr>\n",
       "      <th>freq</th>\n",
       "      <td>2</td>\n",
       "      <td>5</td>\n",
       "      <td>1</td>\n",
       "      <td>52</td>\n",
       "      <td>NaN</td>\n",
       "    </tr>\n",
       "    <tr>\n",
       "      <th>mean</th>\n",
       "      <td>NaN</td>\n",
       "      <td>NaN</td>\n",
       "      <td>NaN</td>\n",
       "      <td>NaN</td>\n",
       "      <td>0.506482</td>\n",
       "    </tr>\n",
       "    <tr>\n",
       "      <th>std</th>\n",
       "      <td>NaN</td>\n",
       "      <td>NaN</td>\n",
       "      <td>NaN</td>\n",
       "      <td>NaN</td>\n",
       "      <td>0.500174</td>\n",
       "    </tr>\n",
       "    <tr>\n",
       "      <th>min</th>\n",
       "      <td>NaN</td>\n",
       "      <td>NaN</td>\n",
       "      <td>NaN</td>\n",
       "      <td>NaN</td>\n",
       "      <td>0.000000</td>\n",
       "    </tr>\n",
       "    <tr>\n",
       "      <th>25%</th>\n",
       "      <td>NaN</td>\n",
       "      <td>NaN</td>\n",
       "      <td>NaN</td>\n",
       "      <td>NaN</td>\n",
       "      <td>0.000000</td>\n",
       "    </tr>\n",
       "    <tr>\n",
       "      <th>50%</th>\n",
       "      <td>NaN</td>\n",
       "      <td>NaN</td>\n",
       "      <td>NaN</td>\n",
       "      <td>NaN</td>\n",
       "      <td>1.000000</td>\n",
       "    </tr>\n",
       "    <tr>\n",
       "      <th>75%</th>\n",
       "      <td>NaN</td>\n",
       "      <td>NaN</td>\n",
       "      <td>NaN</td>\n",
       "      <td>NaN</td>\n",
       "      <td>1.000000</td>\n",
       "    </tr>\n",
       "    <tr>\n",
       "      <th>max</th>\n",
       "      <td>NaN</td>\n",
       "      <td>NaN</td>\n",
       "      <td>NaN</td>\n",
       "      <td>NaN</td>\n",
       "      <td>1.000000</td>\n",
       "    </tr>\n",
       "  </tbody>\n",
       "</table>\n",
       "</div>"
      ],
      "text/plain": [
       "                                         COMMENT_ID           AUTHOR  \\\n",
       "count                                          1157             1157   \n",
       "unique                                         1156             1094   \n",
       "top     LneaDw26bFvPh9xBHNw1btQoyP60ay_WWthtvXCx37s  Shadrach Grentz   \n",
       "freq                                              2                5   \n",
       "mean                                            NaN              NaN   \n",
       "std                                             NaN              NaN   \n",
       "min                                             NaN              NaN   \n",
       "25%                                             NaN              NaN   \n",
       "50%                                             NaN              NaN   \n",
       "75%                                             NaN              NaN   \n",
       "max                                             NaN              NaN   \n",
       "\n",
       "                              DATE                            CONTENT  \\\n",
       "count                         1019                               1157   \n",
       "unique                        1019                               1057   \n",
       "top     2013-10-02T03:08:55.478000  Check out this video on YouTube:﻿   \n",
       "freq                             1                                 52   \n",
       "mean                           NaN                                NaN   \n",
       "std                            NaN                                NaN   \n",
       "min                            NaN                                NaN   \n",
       "25%                            NaN                                NaN   \n",
       "50%                            NaN                                NaN   \n",
       "75%                            NaN                                NaN   \n",
       "max                            NaN                                NaN   \n",
       "\n",
       "              CLASS  \n",
       "count   1157.000000  \n",
       "unique          NaN  \n",
       "top             NaN  \n",
       "freq            NaN  \n",
       "mean       0.506482  \n",
       "std        0.500174  \n",
       "min        0.000000  \n",
       "25%        0.000000  \n",
       "50%        1.000000  \n",
       "75%        1.000000  \n",
       "max        1.000000  "
      ]
     },
     "execution_count": 5,
     "metadata": {},
     "output_type": "execute_result"
    }
   ],
   "source": [
    "train.describe(include=['object','integer'])"
   ]
  },
  {
   "cell_type": "code",
   "execution_count": 6,
   "metadata": {
    "slideshow": {
     "slide_type": "fragment"
    }
   },
   "outputs": [
    {
     "data": {
      "text/html": [
       "<div>\n",
       "<style scoped>\n",
       "    .dataframe tbody tr th:only-of-type {\n",
       "        vertical-align: middle;\n",
       "    }\n",
       "\n",
       "    .dataframe tbody tr th {\n",
       "        vertical-align: top;\n",
       "    }\n",
       "\n",
       "    .dataframe thead th {\n",
       "        text-align: right;\n",
       "    }\n",
       "</style>\n",
       "<table border=\"1\" class=\"dataframe\">\n",
       "  <thead>\n",
       "    <tr style=\"text-align: right;\">\n",
       "      <th></th>\n",
       "      <th>ID</th>\n",
       "      <th>COMMENT_ID</th>\n",
       "      <th>AUTHOR</th>\n",
       "      <th>DATE</th>\n",
       "      <th>CONTENT</th>\n",
       "    </tr>\n",
       "  </thead>\n",
       "  <tbody>\n",
       "    <tr>\n",
       "      <th>count</th>\n",
       "      <td>799.000000</td>\n",
       "      <td>799</td>\n",
       "      <td>799</td>\n",
       "      <td>692</td>\n",
       "      <td>799</td>\n",
       "    </tr>\n",
       "    <tr>\n",
       "      <th>unique</th>\n",
       "      <td>NaN</td>\n",
       "      <td>799</td>\n",
       "      <td>760</td>\n",
       "      <td>692</td>\n",
       "      <td>733</td>\n",
       "    </tr>\n",
       "    <tr>\n",
       "      <th>top</th>\n",
       "      <td>NaN</td>\n",
       "      <td>z12cjj2qyo34i3ga204ci3hatn3vhlcoxkw0k</td>\n",
       "      <td>AllDailyVines</td>\n",
       "      <td>2015-05-25T19:56:09.670000</td>\n",
       "      <td>Check out this video on YouTube:﻿</td>\n",
       "    </tr>\n",
       "    <tr>\n",
       "      <th>freq</th>\n",
       "      <td>NaN</td>\n",
       "      <td>1</td>\n",
       "      <td>3</td>\n",
       "      <td>1</td>\n",
       "      <td>45</td>\n",
       "    </tr>\n",
       "    <tr>\n",
       "      <th>mean</th>\n",
       "      <td>399.000000</td>\n",
       "      <td>NaN</td>\n",
       "      <td>NaN</td>\n",
       "      <td>NaN</td>\n",
       "      <td>NaN</td>\n",
       "    </tr>\n",
       "    <tr>\n",
       "      <th>std</th>\n",
       "      <td>230.795725</td>\n",
       "      <td>NaN</td>\n",
       "      <td>NaN</td>\n",
       "      <td>NaN</td>\n",
       "      <td>NaN</td>\n",
       "    </tr>\n",
       "    <tr>\n",
       "      <th>min</th>\n",
       "      <td>0.000000</td>\n",
       "      <td>NaN</td>\n",
       "      <td>NaN</td>\n",
       "      <td>NaN</td>\n",
       "      <td>NaN</td>\n",
       "    </tr>\n",
       "    <tr>\n",
       "      <th>25%</th>\n",
       "      <td>199.500000</td>\n",
       "      <td>NaN</td>\n",
       "      <td>NaN</td>\n",
       "      <td>NaN</td>\n",
       "      <td>NaN</td>\n",
       "    </tr>\n",
       "    <tr>\n",
       "      <th>50%</th>\n",
       "      <td>399.000000</td>\n",
       "      <td>NaN</td>\n",
       "      <td>NaN</td>\n",
       "      <td>NaN</td>\n",
       "      <td>NaN</td>\n",
       "    </tr>\n",
       "    <tr>\n",
       "      <th>75%</th>\n",
       "      <td>598.500000</td>\n",
       "      <td>NaN</td>\n",
       "      <td>NaN</td>\n",
       "      <td>NaN</td>\n",
       "      <td>NaN</td>\n",
       "    </tr>\n",
       "    <tr>\n",
       "      <th>max</th>\n",
       "      <td>798.000000</td>\n",
       "      <td>NaN</td>\n",
       "      <td>NaN</td>\n",
       "      <td>NaN</td>\n",
       "      <td>NaN</td>\n",
       "    </tr>\n",
       "  </tbody>\n",
       "</table>\n",
       "</div>"
      ],
      "text/plain": [
       "                ID                             COMMENT_ID         AUTHOR  \\\n",
       "count   799.000000                                    799            799   \n",
       "unique         NaN                                    799            760   \n",
       "top            NaN  z12cjj2qyo34i3ga204ci3hatn3vhlcoxkw0k  AllDailyVines   \n",
       "freq           NaN                                      1              3   \n",
       "mean    399.000000                                    NaN            NaN   \n",
       "std     230.795725                                    NaN            NaN   \n",
       "min       0.000000                                    NaN            NaN   \n",
       "25%     199.500000                                    NaN            NaN   \n",
       "50%     399.000000                                    NaN            NaN   \n",
       "75%     598.500000                                    NaN            NaN   \n",
       "max     798.000000                                    NaN            NaN   \n",
       "\n",
       "                              DATE                            CONTENT  \n",
       "count                          692                                799  \n",
       "unique                         692                                733  \n",
       "top     2015-05-25T19:56:09.670000  Check out this video on YouTube:﻿  \n",
       "freq                             1                                 45  \n",
       "mean                           NaN                                NaN  \n",
       "std                            NaN                                NaN  \n",
       "min                            NaN                                NaN  \n",
       "25%                            NaN                                NaN  \n",
       "50%                            NaN                                NaN  \n",
       "75%                            NaN                                NaN  \n",
       "max                            NaN                                NaN  "
      ]
     },
     "execution_count": 6,
     "metadata": {},
     "output_type": "execute_result"
    }
   ],
   "source": [
    "test.describe(include=['object','integer'])"
   ]
  },
  {
   "cell_type": "code",
   "execution_count": 7,
   "metadata": {
    "slideshow": {
     "slide_type": "slide"
    }
   },
   "outputs": [
    {
     "data": {
      "text/plain": [
       "Text(0.5,1,'Missing Values')"
      ]
     },
     "execution_count": 7,
     "metadata": {},
     "output_type": "execute_result"
    },
    {
     "data": {
      "image/png": "[encoded data removed]",
      "text/plain": [
       "<Figure size 864x432 with 3 Axes>"
      ]
     },
     "metadata": {
      "needs_background": "light"
     },
     "output_type": "display_data"
    }
   ],
   "source": [
    "fig,ax= plt.subplots(1,2,figsize=(12,6))\n",
    "sns.countplot(train.CLASS, palette='Set2', ax=ax[0])\n",
    "ax[0].set_title(train.CLASS.value_counts())\n",
    "sns.heatmap(train.isnull(),cmap='Oranges',ax=ax[1])\n",
    "ax[1].set_title('Missing Values')"
   ]
  },
  {
   "cell_type": "code",
   "execution_count": 8,
   "metadata": {
    "slideshow": {
     "slide_type": "subslide"
    }
   },
   "outputs": [
    {
     "data": {
      "text/plain": [
       "Text(0.5,1,'Missing Values')"
      ]
     },
     "execution_count": 8,
     "metadata": {},
     "output_type": "execute_result"
    },
    {
     "data": {
      "image/png": "[encoded data removed]",
      "text/plain": [
       "<Figure size 432x432 with 2 Axes>"
      ]
     },
     "metadata": {
      "needs_background": "light"
     },
     "output_type": "display_data"
    }
   ],
   "source": [
    "fig= plt.figure(figsize=(6,6))\n",
    "sns.heatmap(test.isnull(),cmap='Greens')\n",
    "plt.title('Missing Values')"
   ]
  },
  {
   "cell_type": "markdown",
   "metadata": {
    "slideshow": {
     "slide_type": "slide"
    }
   },
   "source": [
    "#### a) Both train and test dataset contains missing values"
   ]
  },
  {
   "cell_type": "markdown",
   "metadata": {
    "slideshow": {
     "slide_type": "fragment"
    }
   },
   "source": [
    "#### b) Class is balanced"
   ]
  },
  {
   "cell_type": "markdown",
   "metadata": {
    "slideshow": {
     "slide_type": "fragment"
    }
   },
   "source": [
    "#### c) Trainset contain one duplicate value"
   ]
  },
  {
   "cell_type": "markdown",
   "metadata": {
    "slideshow": {
     "slide_type": "slide"
    }
   },
   "source": [
    "### 2. Feature Engineering with EDA"
   ]
  },
  {
   "cell_type": "markdown",
   "metadata": {
    "slideshow": {
     "slide_type": "slide"
    }
   },
   "source": [
    "<img src='1.png'> \n",
    "#### Insight :\n",
    "    1. Multiple times comment -> Spam"
   ]
  },
  {
   "cell_type": "markdown",
   "metadata": {
    "slideshow": {
     "slide_type": "subslide"
    }
   },
   "source": [
    "<img src='2.png'>"
   ]
  },
  {
   "cell_type": "code",
   "execution_count": 9,
   "metadata": {
    "slideshow": {
     "slide_type": "subslide"
    }
   },
   "outputs": [],
   "source": [
    "# Feature engineering\n",
    "# create column to check whether AUTHOR commented once or more than once -> MULTI_COMMENT : 1-> Yes , 0 -> No\n",
    "def extract_multi_comments(data):\n",
    "    data['MULTI_COMMENT'] = data['AUTHOR'] #to initialise multi_comments\n",
    "    z=0\n",
    "    for i in range(len(data)):\n",
    "        for j in range(1,len(data)):\n",
    "            if(data.iloc[i,1] == data.iloc[j,1]):\n",
    "                z=z+1\n",
    "        if(z>1):\n",
    "            data.ix[i,'MULTI_COMMENT']=1\n",
    "        else:\n",
    "            data.ix[i,'MULTI_COMMENT']=0\n",
    "        z=0\n",
    "    return data"
   ]
  },
  {
   "cell_type": "markdown",
   "metadata": {
    "slideshow": {
     "slide_type": "slide"
    }
   },
   "source": [
    "<img src = '3.png' >\n",
    "\n",
    "#### Insight:\n",
    "    1. Month as granularity"
   ]
  },
  {
   "cell_type": "code",
   "execution_count": 10,
   "metadata": {
    "slideshow": {
     "slide_type": "subslide"
    }
   },
   "outputs": [],
   "source": [
    "# feature engineering\n",
    "# function to create several columns based on year/month of author commented\n",
    "def datetime(data):\n",
    "    data=data.set_index('DATE')\n",
    "    data.index=pd.to_datetime(data.index)\n",
    "    data['year_2013']=data.index.year==2013\n",
    "    data['year_2014']=data.index.year==2014\n",
    "    data['year_2015']=data.index.year==2015\n",
    "    data['mon_1']=data.index.month==1\n",
    "    data['mon_2']=data.index.month==2\n",
    "    data['mon_3']=data.index.month==3\n",
    "    data['mon_4']=data.index.month==4\n",
    "    data['mon_5']=data.index.month==5\n",
    "    data['mon_6']=data.index.month==6\n",
    "    data['mon_7']=data.index.month==7\n",
    "    data['mon_8']=data.index.month==8\n",
    "    data['mon_9']=data.index.month==9\n",
    "    data['mon_10']=data.index.month==10\n",
    "    data['mon_11']=data.index.month==11\n",
    "    data['mon_12']=data.index.month==12\n",
    "    return(data)"
   ]
  },
  {
   "cell_type": "code",
   "execution_count": 11,
   "metadata": {
    "slideshow": {
     "slide_type": "slide"
    }
   },
   "outputs": [
    {
     "data": {
      "text/plain": [
       "1137             Love itt and ppl check out my channel!!!\n",
       "1138                                 SUBSCRIBE MY CHANNEL\n",
       "1139                                       adf.ly / KlD3Y\n",
       "1140                               check out my new video\n",
       "1141    ******* Facebook is LAME and so 2004! Check ou...\n",
       "1142    Please check out and send to others Freedom an...\n",
       "1143    Nice to meet You - this is Johnny: 1. If You a...\n",
       "1144     hey you ! check out the channel of Alvar Lake !!\n",
       "1145                                                  wow\n",
       "1146                                Love this song !!!!!!\n",
       "1147    Check out this video on YouTube:<br />&quot;Th...\n",
       "1148    O peoples of the earth, I have seen how you pe...\n",
       "1149    I WILL NEVER FORGET THIS SONG IN MY LIFE LIKE ...\n",
       "1150    **CHECK OUT MY NEW MIXTAPE**** **CHECK OUT MY ...\n",
       "1151    **CHECK OUT MY NEW MIXTAPE**** **CHECK OUT MY ...\n",
       "1152    **CHECK OUT MY NEW MIXTAPE**** **CHECK OUT MY ...\n",
       "1153                                  Waka waka she rules\n",
       "1154    I love this song for two reasons: 1.it is abou...\n",
       "1155                                                  wow\n",
       "1156                              Shakira u are so wiredo\n",
       "Name: CONTENT, dtype: object"
      ]
     },
     "execution_count": 11,
     "metadata": {},
     "output_type": "execute_result"
    }
   ],
   "source": [
    "train.CONTENT.tail(20)"
   ]
  },
  {
   "cell_type": "code",
   "execution_count": 12,
   "metadata": {
    "slideshow": {
     "slide_type": "slide"
    }
   },
   "outputs": [
    {
     "data": {
      "text/plain": [
       "1    554\n",
       "0     21\n",
       "Name: CLASS, dtype: int64"
      ]
     },
     "execution_count": 12,
     "metadata": {},
     "output_type": "execute_result"
    }
   ],
   "source": [
    "words=re.compile(r'check out|.com/|check them|christ|check me|card|search|dear|check my|\\\n",
    "                buck|gift|check it|check this|dollar|[=+]|sub|channel|adf|instagram|share|\\\n",
    "                follow|http|https://|[$]|please|money|free|www|facebook|fb|support|\\\n",
    "                like this comment',re.IGNORECASE)\n",
    "train[train.CONTENT.str.contains(words)].CLASS.value_counts()"
   ]
  },
  {
   "cell_type": "markdown",
   "metadata": {
    "slideshow": {
     "slide_type": "subslide"
    }
   },
   "source": [
    "<img src = '4.png'>\n",
    "\n",
    "    1 ->  586 & 0 ->  571\n",
    "\n",
    "    1 ->  554 & 0 ->  21\n"
   ]
  },
  {
   "cell_type": "code",
   "execution_count": 13,
   "metadata": {
    "slideshow": {
     "slide_type": "slide"
    }
   },
   "outputs": [],
   "source": [
    "# feature engineering\n",
    "# create column to check whether CONTENT column in contain any Spam words -> spam_word column :True -> Yes, False-> No\n",
    "def extract_spam_words(data):\n",
    "    words=re.compile(r'check out|.com/|check them|christ|check me|card|search|dear\\\n",
    "                     |check my|buck|gift|check it|check this|dollar|[=+]|sub|channel\\\n",
    "                     |adf|instagram|share|follow|http|https://|[$]|please|money|free\\\n",
    "                     |www|facebook|fb|support|like this comment',re.IGNORECASE)\n",
    "    data['spam_word']=data.CONTENT.str.contains(words)\n",
    "    return data"
   ]
  },
  {
   "cell_type": "markdown",
   "metadata": {
    "slideshow": {
     "slide_type": "slide"
    }
   },
   "source": [
    "### What if we combine spam_word and multi_comment ?"
   ]
  },
  {
   "cell_type": "code",
   "execution_count": 14,
   "metadata": {
    "slideshow": {
     "slide_type": "fragment"
    }
   },
   "outputs": [],
   "source": [
    "# feature engineering\n",
    "# create column to show if user commented multiple times using spam words: spam_multi_comment: 1->yes, 0->no\n",
    "def extract_spam_multi_comments(data):\n",
    "    data['spam_multi_comment'] = data['spam_word'] + data['MULTI_COMMENT']\n",
    "    data['spam_multi_comment'] = data.spam_multi_comment.replace({2:1,1:0})\n",
    "    return data"
   ]
  },
  {
   "cell_type": "markdown",
   "metadata": {
    "slideshow": {
     "slide_type": "slide"
    }
   },
   "source": [
    "### 3. Data Wrangling"
   ]
  },
  {
   "cell_type": "code",
   "execution_count": 15,
   "metadata": {
    "slideshow": {
     "slide_type": "subslide"
    }
   },
   "outputs": [],
   "source": [
    "# function to clean dataset\n",
    "def cleaner(data):\n",
    "    del data['CONTENT']\n",
    "    del data['COMMENT_ID']\n",
    "    del data['AUTHOR']\n",
    "    x=data.columns\n",
    "    for i in range(0,17):\n",
    "        data[x[i]]=np.where(data[x[i]]==True,1,0)\n",
    "    return data"
   ]
  },
  {
   "cell_type": "markdown",
   "metadata": {
    "slideshow": {
     "slide_type": "slide"
    }
   },
   "source": [
    "### Applying above defined function "
   ]
  },
  {
   "cell_type": "code",
   "execution_count": 16,
   "metadata": {
    "slideshow": {
     "slide_type": "slide"
    }
   },
   "outputs": [
    {
     "data": {
      "text/html": [
       "<div>\n",
       "<style scoped>\n",
       "    .dataframe tbody tr th:only-of-type {\n",
       "        vertical-align: middle;\n",
       "    }\n",
       "\n",
       "    .dataframe tbody tr th {\n",
       "        vertical-align: top;\n",
       "    }\n",
       "\n",
       "    .dataframe thead th {\n",
       "        text-align: right;\n",
       "    }\n",
       "</style>\n",
       "<table border=\"1\" class=\"dataframe\">\n",
       "  <thead>\n",
       "    <tr style=\"text-align: right;\">\n",
       "      <th></th>\n",
       "      <th>COMMENT_ID</th>\n",
       "      <th>AUTHOR</th>\n",
       "      <th>DATE</th>\n",
       "      <th>CONTENT</th>\n",
       "      <th>CLASS</th>\n",
       "      <th>spam_word</th>\n",
       "    </tr>\n",
       "  </thead>\n",
       "  <tbody>\n",
       "    <tr>\n",
       "      <th>1152</th>\n",
       "      <td>_2viQ_Qnc6_RKHVetk9kLzx8ZC62_J7y73FWFSBTe8Q</td>\n",
       "      <td>ThirdDegr3e</td>\n",
       "      <td>2013-07-13T20:47:40.793000</td>\n",
       "      <td>**CHECK OUT MY NEW MIXTAPE**** **CHECK OUT MY ...</td>\n",
       "      <td>1</td>\n",
       "      <td>True</td>\n",
       "    </tr>\n",
       "    <tr>\n",
       "      <th>1153</th>\n",
       "      <td>_2viQ_Qnc68TufyXKiTwky80ewSPbhRiD5XFHrJH9lg</td>\n",
       "      <td>Ysobel Schofield</td>\n",
       "      <td>2013-07-13T20:17:25.181000</td>\n",
       "      <td>Waka waka she rules</td>\n",
       "      <td>0</td>\n",
       "      <td>False</td>\n",
       "    </tr>\n",
       "    <tr>\n",
       "      <th>1154</th>\n",
       "      <td>_2viQ_Qnc6-pY-1yR6K2FhmC5i48-WuNx5CumlHLDAI</td>\n",
       "      <td>Sabina Pearson-Smith</td>\n",
       "      <td>2013-07-13T13:14:30.021000</td>\n",
       "      <td>I love this song for two reasons: 1.it is abou...</td>\n",
       "      <td>0</td>\n",
       "      <td>False</td>\n",
       "    </tr>\n",
       "    <tr>\n",
       "      <th>1155</th>\n",
       "      <td>_2viQ_Qnc6_k_n_Bse9zVhJP8tJReZpo8uM2uZfnzDs</td>\n",
       "      <td>jeffrey jules</td>\n",
       "      <td>2013-07-13T12:09:31.188000</td>\n",
       "      <td>wow</td>\n",
       "      <td>0</td>\n",
       "      <td>False</td>\n",
       "    </tr>\n",
       "    <tr>\n",
       "      <th>1156</th>\n",
       "      <td>_2viQ_Qnc6_yBt8UGMWyg3vh0PulTqcqyQtdE7d4Fl0</td>\n",
       "      <td>Aishlin Maciel</td>\n",
       "      <td>2013-07-13T11:17:52.308000</td>\n",
       "      <td>Shakira u are so wiredo</td>\n",
       "      <td>0</td>\n",
       "      <td>False</td>\n",
       "    </tr>\n",
       "  </tbody>\n",
       "</table>\n",
       "</div>"
      ],
      "text/plain": [
       "                                       COMMENT_ID                AUTHOR  \\\n",
       "1152  _2viQ_Qnc6_RKHVetk9kLzx8ZC62_J7y73FWFSBTe8Q           ThirdDegr3e   \n",
       "1153  _2viQ_Qnc68TufyXKiTwky80ewSPbhRiD5XFHrJH9lg      Ysobel Schofield   \n",
       "1154  _2viQ_Qnc6-pY-1yR6K2FhmC5i48-WuNx5CumlHLDAI  Sabina Pearson-Smith   \n",
       "1155  _2viQ_Qnc6_k_n_Bse9zVhJP8tJReZpo8uM2uZfnzDs         jeffrey jules   \n",
       "1156  _2viQ_Qnc6_yBt8UGMWyg3vh0PulTqcqyQtdE7d4Fl0        Aishlin Maciel   \n",
       "\n",
       "                            DATE  \\\n",
       "1152  2013-07-13T20:47:40.793000   \n",
       "1153  2013-07-13T20:17:25.181000   \n",
       "1154  2013-07-13T13:14:30.021000   \n",
       "1155  2013-07-13T12:09:31.188000   \n",
       "1156  2013-07-13T11:17:52.308000   \n",
       "\n",
       "                                                CONTENT  CLASS  spam_word  \n",
       "1152  **CHECK OUT MY NEW MIXTAPE**** **CHECK OUT MY ...      1       True  \n",
       "1153                                Waka waka she rules      0      False  \n",
       "1154  I love this song for two reasons: 1.it is abou...      0      False  \n",
       "1155                                                wow      0      False  \n",
       "1156                            Shakira u are so wiredo      0      False  "
      ]
     },
     "execution_count": 16,
     "metadata": {},
     "output_type": "execute_result"
    }
   ],
   "source": [
    "# Feature engineering function 1\n",
    "trainset=extract_spam_words(train)\n",
    "testset=extract_spam_words(test)\n",
    "trainset.tail()"
   ]
  },
  {
   "cell_type": "code",
   "execution_count": 17,
   "metadata": {
    "slideshow": {
     "slide_type": "fragment"
    }
   },
   "outputs": [
    {
     "data": {
      "text/html": [
       "<div>\n",
       "<style scoped>\n",
       "    .dataframe tbody tr th:only-of-type {\n",
       "        vertical-align: middle;\n",
       "    }\n",
       "\n",
       "    .dataframe tbody tr th {\n",
       "        vertical-align: top;\n",
       "    }\n",
       "\n",
       "    .dataframe thead th {\n",
       "        text-align: right;\n",
       "    }\n",
       "</style>\n",
       "<table border=\"1\" class=\"dataframe\">\n",
       "  <thead>\n",
       "    <tr style=\"text-align: right;\">\n",
       "      <th></th>\n",
       "      <th>ID</th>\n",
       "      <th>COMMENT_ID</th>\n",
       "      <th>AUTHOR</th>\n",
       "      <th>DATE</th>\n",
       "      <th>CONTENT</th>\n",
       "      <th>spam_word</th>\n",
       "    </tr>\n",
       "  </thead>\n",
       "  <tbody>\n",
       "    <tr>\n",
       "      <th>0</th>\n",
       "      <td>0</td>\n",
       "      <td>LZQPQhLyRh_C2cTtd9MvFRJedxydaVW-2sNg5Diuo4A</td>\n",
       "      <td>adam riyati</td>\n",
       "      <td>2013-11-07T12:37:15</td>\n",
       "      <td>Hey guys check out my new channel and our firs...</td>\n",
       "      <td>True</td>\n",
       "    </tr>\n",
       "    <tr>\n",
       "      <th>1</th>\n",
       "      <td>1</td>\n",
       "      <td>LZQPQhLyRh9MSZYnf8djyk0gEF9BHDPYrrK-qCczIY8</td>\n",
       "      <td>Evgeny Murashkin</td>\n",
       "      <td>2013-11-08T17:34:21</td>\n",
       "      <td>just for test I have to say murdev.com</td>\n",
       "      <td>False</td>\n",
       "    </tr>\n",
       "    <tr>\n",
       "      <th>2</th>\n",
       "      <td>2</td>\n",
       "      <td>LZQPQhLyRh9-wNRtlZDM90f1k0BrdVdJyN_YsaSwfxc</td>\n",
       "      <td>Jason Haddad</td>\n",
       "      <td>2013-11-26T02:55:11</td>\n",
       "      <td>Hey, check out my new website!! This site is a...</td>\n",
       "      <td>True</td>\n",
       "    </tr>\n",
       "    <tr>\n",
       "      <th>3</th>\n",
       "      <td>3</td>\n",
       "      <td>z122wfnzgt30fhubn04cdn3xfx2mxzngsl40k</td>\n",
       "      <td>Bob Kanowski</td>\n",
       "      <td>2013-11-28T12:33:27</td>\n",
       "      <td>i turned it on mute as soon is i came on i jus...</td>\n",
       "      <td>False</td>\n",
       "    </tr>\n",
       "    <tr>\n",
       "      <th>4</th>\n",
       "      <td>4</td>\n",
       "      <td>z13ttt1jcraqexk2o234ghbgzxymz1zzi04</td>\n",
       "      <td>Cony</td>\n",
       "      <td>2013-11-28T16:01:47</td>\n",
       "      <td>You should check my channel for Funny VIDEOS!!﻿</td>\n",
       "      <td>True</td>\n",
       "    </tr>\n",
       "  </tbody>\n",
       "</table>\n",
       "</div>"
      ],
      "text/plain": [
       "   ID                                   COMMENT_ID            AUTHOR  \\\n",
       "0   0  LZQPQhLyRh_C2cTtd9MvFRJedxydaVW-2sNg5Diuo4A       adam riyati   \n",
       "1   1  LZQPQhLyRh9MSZYnf8djyk0gEF9BHDPYrrK-qCczIY8  Evgeny Murashkin   \n",
       "2   2  LZQPQhLyRh9-wNRtlZDM90f1k0BrdVdJyN_YsaSwfxc      Jason Haddad   \n",
       "3   3        z122wfnzgt30fhubn04cdn3xfx2mxzngsl40k      Bob Kanowski   \n",
       "4   4          z13ttt1jcraqexk2o234ghbgzxymz1zzi04              Cony   \n",
       "\n",
       "                  DATE                                            CONTENT  \\\n",
       "0  2013-11-07T12:37:15  Hey guys check out my new channel and our firs...   \n",
       "1  2013-11-08T17:34:21             just for test I have to say murdev.com   \n",
       "2  2013-11-26T02:55:11  Hey, check out my new website!! This site is a...   \n",
       "3  2013-11-28T12:33:27  i turned it on mute as soon is i came on i jus...   \n",
       "4  2013-11-28T16:01:47    You should check my channel for Funny VIDEOS!!﻿   \n",
       "\n",
       "   spam_word  \n",
       "0       True  \n",
       "1      False  \n",
       "2       True  \n",
       "3      False  \n",
       "4       True  "
      ]
     },
     "execution_count": 17,
     "metadata": {},
     "output_type": "execute_result"
    }
   ],
   "source": [
    "testset.head()"
   ]
  },
  {
   "cell_type": "code",
   "execution_count": 18,
   "metadata": {
    "slideshow": {
     "slide_type": "slide"
    }
   },
   "outputs": [
    {
     "data": {
      "text/html": [
       "<div>\n",
       "<style scoped>\n",
       "    .dataframe tbody tr th:only-of-type {\n",
       "        vertical-align: middle;\n",
       "    }\n",
       "\n",
       "    .dataframe tbody tr th {\n",
       "        vertical-align: top;\n",
       "    }\n",
       "\n",
       "    .dataframe thead th {\n",
       "        text-align: right;\n",
       "    }\n",
       "</style>\n",
       "<table border=\"1\" class=\"dataframe\">\n",
       "  <thead>\n",
       "    <tr style=\"text-align: right;\">\n",
       "      <th></th>\n",
       "      <th>COMMENT_ID</th>\n",
       "      <th>AUTHOR</th>\n",
       "      <th>DATE</th>\n",
       "      <th>CONTENT</th>\n",
       "      <th>CLASS</th>\n",
       "      <th>spam_word</th>\n",
       "      <th>MULTI_COMMENT</th>\n",
       "    </tr>\n",
       "  </thead>\n",
       "  <tbody>\n",
       "    <tr>\n",
       "      <th>1152</th>\n",
       "      <td>_2viQ_Qnc6_RKHVetk9kLzx8ZC62_J7y73FWFSBTe8Q</td>\n",
       "      <td>ThirdDegr3e</td>\n",
       "      <td>2013-07-13T20:47:40.793000</td>\n",
       "      <td>**CHECK OUT MY NEW MIXTAPE**** **CHECK OUT MY ...</td>\n",
       "      <td>1</td>\n",
       "      <td>True</td>\n",
       "      <td>1</td>\n",
       "    </tr>\n",
       "    <tr>\n",
       "      <th>1153</th>\n",
       "      <td>_2viQ_Qnc68TufyXKiTwky80ewSPbhRiD5XFHrJH9lg</td>\n",
       "      <td>Ysobel Schofield</td>\n",
       "      <td>2013-07-13T20:17:25.181000</td>\n",
       "      <td>Waka waka she rules</td>\n",
       "      <td>0</td>\n",
       "      <td>False</td>\n",
       "      <td>0</td>\n",
       "    </tr>\n",
       "    <tr>\n",
       "      <th>1154</th>\n",
       "      <td>_2viQ_Qnc6-pY-1yR6K2FhmC5i48-WuNx5CumlHLDAI</td>\n",
       "      <td>Sabina Pearson-Smith</td>\n",
       "      <td>2013-07-13T13:14:30.021000</td>\n",
       "      <td>I love this song for two reasons: 1.it is abou...</td>\n",
       "      <td>0</td>\n",
       "      <td>False</td>\n",
       "      <td>0</td>\n",
       "    </tr>\n",
       "    <tr>\n",
       "      <th>1155</th>\n",
       "      <td>_2viQ_Qnc6_k_n_Bse9zVhJP8tJReZpo8uM2uZfnzDs</td>\n",
       "      <td>jeffrey jules</td>\n",
       "      <td>2013-07-13T12:09:31.188000</td>\n",
       "      <td>wow</td>\n",
       "      <td>0</td>\n",
       "      <td>False</td>\n",
       "      <td>0</td>\n",
       "    </tr>\n",
       "    <tr>\n",
       "      <th>1156</th>\n",
       "      <td>_2viQ_Qnc6_yBt8UGMWyg3vh0PulTqcqyQtdE7d4Fl0</td>\n",
       "      <td>Aishlin Maciel</td>\n",
       "      <td>2013-07-13T11:17:52.308000</td>\n",
       "      <td>Shakira u are so wiredo</td>\n",
       "      <td>0</td>\n",
       "      <td>False</td>\n",
       "      <td>0</td>\n",
       "    </tr>\n",
       "  </tbody>\n",
       "</table>\n",
       "</div>"
      ],
      "text/plain": [
       "                                       COMMENT_ID                AUTHOR  \\\n",
       "1152  _2viQ_Qnc6_RKHVetk9kLzx8ZC62_J7y73FWFSBTe8Q           ThirdDegr3e   \n",
       "1153  _2viQ_Qnc68TufyXKiTwky80ewSPbhRiD5XFHrJH9lg      Ysobel Schofield   \n",
       "1154  _2viQ_Qnc6-pY-1yR6K2FhmC5i48-WuNx5CumlHLDAI  Sabina Pearson-Smith   \n",
       "1155  _2viQ_Qnc6_k_n_Bse9zVhJP8tJReZpo8uM2uZfnzDs         jeffrey jules   \n",
       "1156  _2viQ_Qnc6_yBt8UGMWyg3vh0PulTqcqyQtdE7d4Fl0        Aishlin Maciel   \n",
       "\n",
       "                            DATE  \\\n",
       "1152  2013-07-13T20:47:40.793000   \n",
       "1153  2013-07-13T20:17:25.181000   \n",
       "1154  2013-07-13T13:14:30.021000   \n",
       "1155  2013-07-13T12:09:31.188000   \n",
       "1156  2013-07-13T11:17:52.308000   \n",
       "\n",
       "                                                CONTENT  CLASS  spam_word  \\\n",
       "1152  **CHECK OUT MY NEW MIXTAPE**** **CHECK OUT MY ...      1       True   \n",
       "1153                                Waka waka she rules      0      False   \n",
       "1154  I love this song for two reasons: 1.it is abou...      0      False   \n",
       "1155                                                wow      0      False   \n",
       "1156                            Shakira u are so wiredo      0      False   \n",
       "\n",
       "      MULTI_COMMENT  \n",
       "1152              1  \n",
       "1153              0  \n",
       "1154              0  \n",
       "1155              0  \n",
       "1156              0  "
      ]
     },
     "execution_count": 18,
     "metadata": {},
     "output_type": "execute_result"
    }
   ],
   "source": [
    "# Feature engineering function 2\n",
    "trainset=extract_multi_comments(trainset)\n",
    "testset=extract_multi_comments(testset)\n",
    "trainset.tail()"
   ]
  },
  {
   "cell_type": "code",
   "execution_count": 19,
   "metadata": {
    "slideshow": {
     "slide_type": "fragment"
    }
   },
   "outputs": [
    {
     "data": {
      "text/html": [
       "<div>\n",
       "<style scoped>\n",
       "    .dataframe tbody tr th:only-of-type {\n",
       "        vertical-align: middle;\n",
       "    }\n",
       "\n",
       "    .dataframe tbody tr th {\n",
       "        vertical-align: top;\n",
       "    }\n",
       "\n",
       "    .dataframe thead th {\n",
       "        text-align: right;\n",
       "    }\n",
       "</style>\n",
       "<table border=\"1\" class=\"dataframe\">\n",
       "  <thead>\n",
       "    <tr style=\"text-align: right;\">\n",
       "      <th></th>\n",
       "      <th>ID</th>\n",
       "      <th>COMMENT_ID</th>\n",
       "      <th>AUTHOR</th>\n",
       "      <th>DATE</th>\n",
       "      <th>CONTENT</th>\n",
       "      <th>spam_word</th>\n",
       "      <th>MULTI_COMMENT</th>\n",
       "    </tr>\n",
       "  </thead>\n",
       "  <tbody>\n",
       "    <tr>\n",
       "      <th>0</th>\n",
       "      <td>0</td>\n",
       "      <td>LZQPQhLyRh_C2cTtd9MvFRJedxydaVW-2sNg5Diuo4A</td>\n",
       "      <td>adam riyati</td>\n",
       "      <td>2013-11-07T12:37:15</td>\n",
       "      <td>Hey guys check out my new channel and our firs...</td>\n",
       "      <td>True</td>\n",
       "      <td>0</td>\n",
       "    </tr>\n",
       "    <tr>\n",
       "      <th>1</th>\n",
       "      <td>1</td>\n",
       "      <td>LZQPQhLyRh9MSZYnf8djyk0gEF9BHDPYrrK-qCczIY8</td>\n",
       "      <td>Evgeny Murashkin</td>\n",
       "      <td>2013-11-08T17:34:21</td>\n",
       "      <td>just for test I have to say murdev.com</td>\n",
       "      <td>False</td>\n",
       "      <td>0</td>\n",
       "    </tr>\n",
       "    <tr>\n",
       "      <th>2</th>\n",
       "      <td>2</td>\n",
       "      <td>LZQPQhLyRh9-wNRtlZDM90f1k0BrdVdJyN_YsaSwfxc</td>\n",
       "      <td>Jason Haddad</td>\n",
       "      <td>2013-11-26T02:55:11</td>\n",
       "      <td>Hey, check out my new website!! This site is a...</td>\n",
       "      <td>True</td>\n",
       "      <td>0</td>\n",
       "    </tr>\n",
       "    <tr>\n",
       "      <th>3</th>\n",
       "      <td>3</td>\n",
       "      <td>z122wfnzgt30fhubn04cdn3xfx2mxzngsl40k</td>\n",
       "      <td>Bob Kanowski</td>\n",
       "      <td>2013-11-28T12:33:27</td>\n",
       "      <td>i turned it on mute as soon is i came on i jus...</td>\n",
       "      <td>False</td>\n",
       "      <td>0</td>\n",
       "    </tr>\n",
       "    <tr>\n",
       "      <th>4</th>\n",
       "      <td>4</td>\n",
       "      <td>z13ttt1jcraqexk2o234ghbgzxymz1zzi04</td>\n",
       "      <td>Cony</td>\n",
       "      <td>2013-11-28T16:01:47</td>\n",
       "      <td>You should check my channel for Funny VIDEOS!!﻿</td>\n",
       "      <td>True</td>\n",
       "      <td>0</td>\n",
       "    </tr>\n",
       "  </tbody>\n",
       "</table>\n",
       "</div>"
      ],
      "text/plain": [
       "   ID                                   COMMENT_ID            AUTHOR  \\\n",
       "0   0  LZQPQhLyRh_C2cTtd9MvFRJedxydaVW-2sNg5Diuo4A       adam riyati   \n",
       "1   1  LZQPQhLyRh9MSZYnf8djyk0gEF9BHDPYrrK-qCczIY8  Evgeny Murashkin   \n",
       "2   2  LZQPQhLyRh9-wNRtlZDM90f1k0BrdVdJyN_YsaSwfxc      Jason Haddad   \n",
       "3   3        z122wfnzgt30fhubn04cdn3xfx2mxzngsl40k      Bob Kanowski   \n",
       "4   4          z13ttt1jcraqexk2o234ghbgzxymz1zzi04              Cony   \n",
       "\n",
       "                  DATE                                            CONTENT  \\\n",
       "0  2013-11-07T12:37:15  Hey guys check out my new channel and our firs...   \n",
       "1  2013-11-08T17:34:21             just for test I have to say murdev.com   \n",
       "2  2013-11-26T02:55:11  Hey, check out my new website!! This site is a...   \n",
       "3  2013-11-28T12:33:27  i turned it on mute as soon is i came on i jus...   \n",
       "4  2013-11-28T16:01:47    You should check my channel for Funny VIDEOS!!﻿   \n",
       "\n",
       "   spam_word  MULTI_COMMENT  \n",
       "0       True              0  \n",
       "1      False              0  \n",
       "2       True              0  \n",
       "3      False              0  \n",
       "4       True              0  "
      ]
     },
     "execution_count": 19,
     "metadata": {},
     "output_type": "execute_result"
    }
   ],
   "source": [
    "testset.head()"
   ]
  },
  {
   "cell_type": "markdown",
   "metadata": {
    "slideshow": {
     "slide_type": "slide"
    }
   },
   "source": [
    "#### Handling Missing Data before datetime feature extraction"
   ]
  },
  {
   "cell_type": "markdown",
   "metadata": {
    "slideshow": {
     "slide_type": "slide"
    }
   },
   "source": [
    "<img src = '3.png' >"
   ]
  },
  {
   "cell_type": "code",
   "execution_count": 20,
   "metadata": {
    "slideshow": {
     "slide_type": "fragment"
    }
   },
   "outputs": [],
   "source": [
    "# Handling missing values for trainset and testset\n",
    "trainset.dropna(inplace=True)\n",
    "testset.fillna(0,inplace=True)"
   ]
  },
  {
   "cell_type": "code",
   "execution_count": 21,
   "metadata": {
    "slideshow": {
     "slide_type": "slide"
    }
   },
   "outputs": [
    {
     "data": {
      "text/html": [
       "<div>\n",
       "<style scoped>\n",
       "    .dataframe tbody tr th:only-of-type {\n",
       "        vertical-align: middle;\n",
       "    }\n",
       "\n",
       "    .dataframe tbody tr th {\n",
       "        vertical-align: top;\n",
       "    }\n",
       "\n",
       "    .dataframe thead th {\n",
       "        text-align: right;\n",
       "    }\n",
       "</style>\n",
       "<table border=\"1\" class=\"dataframe\">\n",
       "  <thead>\n",
       "    <tr style=\"text-align: right;\">\n",
       "      <th></th>\n",
       "      <th>COMMENT_ID</th>\n",
       "      <th>AUTHOR</th>\n",
       "      <th>DATE</th>\n",
       "      <th>CONTENT</th>\n",
       "      <th>CLASS</th>\n",
       "      <th>spam_word</th>\n",
       "      <th>MULTI_COMMENT</th>\n",
       "    </tr>\n",
       "  </thead>\n",
       "  <tbody>\n",
       "  </tbody>\n",
       "</table>\n",
       "</div>"
      ],
      "text/plain": [
       "Empty DataFrame\n",
       "Columns: [COMMENT_ID, AUTHOR, DATE, CONTENT, CLASS, spam_word, MULTI_COMMENT]\n",
       "Index: []"
      ]
     },
     "execution_count": 21,
     "metadata": {},
     "output_type": "execute_result"
    }
   ],
   "source": [
    "# Removing trainset duplicated values\n",
    "trainset[trainset.duplicated() == True]"
   ]
  },
  {
   "cell_type": "code",
   "execution_count": 22,
   "metadata": {
    "slideshow": {
     "slide_type": "slide"
    }
   },
   "outputs": [
    {
     "data": {
      "text/html": [
       "<div>\n",
       "<style scoped>\n",
       "    .dataframe tbody tr th:only-of-type {\n",
       "        vertical-align: middle;\n",
       "    }\n",
       "\n",
       "    .dataframe tbody tr th {\n",
       "        vertical-align: top;\n",
       "    }\n",
       "\n",
       "    .dataframe thead th {\n",
       "        text-align: right;\n",
       "    }\n",
       "</style>\n",
       "<table border=\"1\" class=\"dataframe\">\n",
       "  <thead>\n",
       "    <tr style=\"text-align: right;\">\n",
       "      <th></th>\n",
       "      <th>COMMENT_ID</th>\n",
       "      <th>AUTHOR</th>\n",
       "      <th>CONTENT</th>\n",
       "      <th>spam_word</th>\n",
       "      <th>MULTI_COMMENT</th>\n",
       "      <th>year_2013</th>\n",
       "      <th>year_2014</th>\n",
       "      <th>year_2015</th>\n",
       "      <th>mon_1</th>\n",
       "      <th>mon_2</th>\n",
       "      <th>mon_3</th>\n",
       "      <th>mon_4</th>\n",
       "      <th>mon_5</th>\n",
       "      <th>mon_6</th>\n",
       "      <th>mon_7</th>\n",
       "      <th>mon_8</th>\n",
       "      <th>mon_9</th>\n",
       "      <th>mon_10</th>\n",
       "      <th>mon_11</th>\n",
       "      <th>mon_12</th>\n",
       "    </tr>\n",
       "    <tr>\n",
       "      <th>DATE</th>\n",
       "      <th></th>\n",
       "      <th></th>\n",
       "      <th></th>\n",
       "      <th></th>\n",
       "      <th></th>\n",
       "      <th></th>\n",
       "      <th></th>\n",
       "      <th></th>\n",
       "      <th></th>\n",
       "      <th></th>\n",
       "      <th></th>\n",
       "      <th></th>\n",
       "      <th></th>\n",
       "      <th></th>\n",
       "      <th></th>\n",
       "      <th></th>\n",
       "      <th></th>\n",
       "      <th></th>\n",
       "      <th></th>\n",
       "      <th></th>\n",
       "    </tr>\n",
       "  </thead>\n",
       "  <tbody>\n",
       "    <tr>\n",
       "      <th>2013-07-13 20:17:25.181</th>\n",
       "      <td>_2viQ_Qnc68TufyXKiTwky80ewSPbhRiD5XFHrJH9lg</td>\n",
       "      <td>Ysobel Schofield</td>\n",
       "      <td>Waka waka she rules</td>\n",
       "      <td>False</td>\n",
       "      <td>0</td>\n",
       "      <td>True</td>\n",
       "      <td>False</td>\n",
       "      <td>False</td>\n",
       "      <td>False</td>\n",
       "      <td>False</td>\n",
       "      <td>False</td>\n",
       "      <td>False</td>\n",
       "      <td>False</td>\n",
       "      <td>False</td>\n",
       "      <td>True</td>\n",
       "      <td>False</td>\n",
       "      <td>False</td>\n",
       "      <td>False</td>\n",
       "      <td>False</td>\n",
       "      <td>False</td>\n",
       "    </tr>\n",
       "    <tr>\n",
       "      <th>2013-07-13 13:14:30.021</th>\n",
       "      <td>_2viQ_Qnc6-pY-1yR6K2FhmC5i48-WuNx5CumlHLDAI</td>\n",
       "      <td>Sabina Pearson-Smith</td>\n",
       "      <td>I love this song for two reasons: 1.it is abou...</td>\n",
       "      <td>False</td>\n",
       "      <td>0</td>\n",
       "      <td>True</td>\n",
       "      <td>False</td>\n",
       "      <td>False</td>\n",
       "      <td>False</td>\n",
       "      <td>False</td>\n",
       "      <td>False</td>\n",
       "      <td>False</td>\n",
       "      <td>False</td>\n",
       "      <td>False</td>\n",
       "      <td>True</td>\n",
       "      <td>False</td>\n",
       "      <td>False</td>\n",
       "      <td>False</td>\n",
       "      <td>False</td>\n",
       "      <td>False</td>\n",
       "    </tr>\n",
       "    <tr>\n",
       "      <th>2013-07-13 12:09:31.188</th>\n",
       "      <td>_2viQ_Qnc6_k_n_Bse9zVhJP8tJReZpo8uM2uZfnzDs</td>\n",
       "      <td>jeffrey jules</td>\n",
       "      <td>wow</td>\n",
       "      <td>False</td>\n",
       "      <td>0</td>\n",
       "      <td>True</td>\n",
       "      <td>False</td>\n",
       "      <td>False</td>\n",
       "      <td>False</td>\n",
       "      <td>False</td>\n",
       "      <td>False</td>\n",
       "      <td>False</td>\n",
       "      <td>False</td>\n",
       "      <td>False</td>\n",
       "      <td>True</td>\n",
       "      <td>False</td>\n",
       "      <td>False</td>\n",
       "      <td>False</td>\n",
       "      <td>False</td>\n",
       "      <td>False</td>\n",
       "    </tr>\n",
       "    <tr>\n",
       "      <th>2013-07-13 11:17:52.308</th>\n",
       "      <td>_2viQ_Qnc6_yBt8UGMWyg3vh0PulTqcqyQtdE7d4Fl0</td>\n",
       "      <td>Aishlin Maciel</td>\n",
       "      <td>Shakira u are so wiredo</td>\n",
       "      <td>False</td>\n",
       "      <td>0</td>\n",
       "      <td>True</td>\n",
       "      <td>False</td>\n",
       "      <td>False</td>\n",
       "      <td>False</td>\n",
       "      <td>False</td>\n",
       "      <td>False</td>\n",
       "      <td>False</td>\n",
       "      <td>False</td>\n",
       "      <td>False</td>\n",
       "      <td>True</td>\n",
       "      <td>False</td>\n",
       "      <td>False</td>\n",
       "      <td>False</td>\n",
       "      <td>False</td>\n",
       "      <td>False</td>\n",
       "    </tr>\n",
       "  </tbody>\n",
       "</table>\n",
       "</div>"
      ],
      "text/plain": [
       "                                                          COMMENT_ID  \\\n",
       "DATE                                                                   \n",
       "2013-07-13 20:17:25.181  _2viQ_Qnc68TufyXKiTwky80ewSPbhRiD5XFHrJH9lg   \n",
       "2013-07-13 13:14:30.021  _2viQ_Qnc6-pY-1yR6K2FhmC5i48-WuNx5CumlHLDAI   \n",
       "2013-07-13 12:09:31.188  _2viQ_Qnc6_k_n_Bse9zVhJP8tJReZpo8uM2uZfnzDs   \n",
       "2013-07-13 11:17:52.308  _2viQ_Qnc6_yBt8UGMWyg3vh0PulTqcqyQtdE7d4Fl0   \n",
       "\n",
       "                                       AUTHOR  \\\n",
       "DATE                                            \n",
       "2013-07-13 20:17:25.181      Ysobel Schofield   \n",
       "2013-07-13 13:14:30.021  Sabina Pearson-Smith   \n",
       "2013-07-13 12:09:31.188         jeffrey jules   \n",
       "2013-07-13 11:17:52.308        Aishlin Maciel   \n",
       "\n",
       "                                                                   CONTENT  \\\n",
       "DATE                                                                         \n",
       "2013-07-13 20:17:25.181                                Waka waka she rules   \n",
       "2013-07-13 13:14:30.021  I love this song for two reasons: 1.it is abou...   \n",
       "2013-07-13 12:09:31.188                                                wow   \n",
       "2013-07-13 11:17:52.308                            Shakira u are so wiredo   \n",
       "\n",
       "                         spam_word  MULTI_COMMENT  year_2013  year_2014  \\\n",
       "DATE                                                                      \n",
       "2013-07-13 20:17:25.181      False              0       True      False   \n",
       "2013-07-13 13:14:30.021      False              0       True      False   \n",
       "2013-07-13 12:09:31.188      False              0       True      False   \n",
       "2013-07-13 11:17:52.308      False              0       True      False   \n",
       "\n",
       "                         year_2015  mon_1  mon_2  mon_3  mon_4  mon_5  mon_6  \\\n",
       "DATE                                                                           \n",
       "2013-07-13 20:17:25.181      False  False  False  False  False  False  False   \n",
       "2013-07-13 13:14:30.021      False  False  False  False  False  False  False   \n",
       "2013-07-13 12:09:31.188      False  False  False  False  False  False  False   \n",
       "2013-07-13 11:17:52.308      False  False  False  False  False  False  False   \n",
       "\n",
       "                         mon_7  mon_8  mon_9  mon_10  mon_11  mon_12  \n",
       "DATE                                                                  \n",
       "2013-07-13 20:17:25.181   True  False  False   False   False   False  \n",
       "2013-07-13 13:14:30.021   True  False  False   False   False   False  \n",
       "2013-07-13 12:09:31.188   True  False  False   False   False   False  \n",
       "2013-07-13 11:17:52.308   True  False  False   False   False   False  "
      ]
     },
     "execution_count": 22,
     "metadata": {},
     "output_type": "execute_result"
    }
   ],
   "source": [
    "# Handling Datetime \n",
    "trainset=datetime(trainset)\n",
    "trainset_label=trainset['CLASS']\n",
    "del trainset['CLASS']\n",
    "testset=datetime(testset)\n",
    "trainset.tail(4)"
   ]
  },
  {
   "cell_type": "code",
   "execution_count": 23,
   "metadata": {
    "slideshow": {
     "slide_type": "fragment"
    }
   },
   "outputs": [
    {
     "data": {
      "text/html": [
       "<div>\n",
       "<style scoped>\n",
       "    .dataframe tbody tr th:only-of-type {\n",
       "        vertical-align: middle;\n",
       "    }\n",
       "\n",
       "    .dataframe tbody tr th {\n",
       "        vertical-align: top;\n",
       "    }\n",
       "\n",
       "    .dataframe thead th {\n",
       "        text-align: right;\n",
       "    }\n",
       "</style>\n",
       "<table border=\"1\" class=\"dataframe\">\n",
       "  <thead>\n",
       "    <tr style=\"text-align: right;\">\n",
       "      <th></th>\n",
       "      <th>ID</th>\n",
       "      <th>COMMENT_ID</th>\n",
       "      <th>AUTHOR</th>\n",
       "      <th>CONTENT</th>\n",
       "      <th>spam_word</th>\n",
       "      <th>MULTI_COMMENT</th>\n",
       "      <th>year_2013</th>\n",
       "      <th>year_2014</th>\n",
       "      <th>year_2015</th>\n",
       "      <th>mon_1</th>\n",
       "      <th>...</th>\n",
       "      <th>mon_3</th>\n",
       "      <th>mon_4</th>\n",
       "      <th>mon_5</th>\n",
       "      <th>mon_6</th>\n",
       "      <th>mon_7</th>\n",
       "      <th>mon_8</th>\n",
       "      <th>mon_9</th>\n",
       "      <th>mon_10</th>\n",
       "      <th>mon_11</th>\n",
       "      <th>mon_12</th>\n",
       "    </tr>\n",
       "    <tr>\n",
       "      <th>DATE</th>\n",
       "      <th></th>\n",
       "      <th></th>\n",
       "      <th></th>\n",
       "      <th></th>\n",
       "      <th></th>\n",
       "      <th></th>\n",
       "      <th></th>\n",
       "      <th></th>\n",
       "      <th></th>\n",
       "      <th></th>\n",
       "      <th></th>\n",
       "      <th></th>\n",
       "      <th></th>\n",
       "      <th></th>\n",
       "      <th></th>\n",
       "      <th></th>\n",
       "      <th></th>\n",
       "      <th></th>\n",
       "      <th></th>\n",
       "      <th></th>\n",
       "      <th></th>\n",
       "    </tr>\n",
       "  </thead>\n",
       "  <tbody>\n",
       "    <tr>\n",
       "      <th>2013-11-07 12:37:15</th>\n",
       "      <td>0</td>\n",
       "      <td>LZQPQhLyRh_C2cTtd9MvFRJedxydaVW-2sNg5Diuo4A</td>\n",
       "      <td>adam riyati</td>\n",
       "      <td>Hey guys check out my new channel and our firs...</td>\n",
       "      <td>True</td>\n",
       "      <td>0</td>\n",
       "      <td>True</td>\n",
       "      <td>False</td>\n",
       "      <td>False</td>\n",
       "      <td>False</td>\n",
       "      <td>...</td>\n",
       "      <td>False</td>\n",
       "      <td>False</td>\n",
       "      <td>False</td>\n",
       "      <td>False</td>\n",
       "      <td>False</td>\n",
       "      <td>False</td>\n",
       "      <td>False</td>\n",
       "      <td>False</td>\n",
       "      <td>True</td>\n",
       "      <td>False</td>\n",
       "    </tr>\n",
       "    <tr>\n",
       "      <th>2013-11-08 17:34:21</th>\n",
       "      <td>1</td>\n",
       "      <td>LZQPQhLyRh9MSZYnf8djyk0gEF9BHDPYrrK-qCczIY8</td>\n",
       "      <td>Evgeny Murashkin</td>\n",
       "      <td>just for test I have to say murdev.com</td>\n",
       "      <td>False</td>\n",
       "      <td>0</td>\n",
       "      <td>True</td>\n",
       "      <td>False</td>\n",
       "      <td>False</td>\n",
       "      <td>False</td>\n",
       "      <td>...</td>\n",
       "      <td>False</td>\n",
       "      <td>False</td>\n",
       "      <td>False</td>\n",
       "      <td>False</td>\n",
       "      <td>False</td>\n",
       "      <td>False</td>\n",
       "      <td>False</td>\n",
       "      <td>False</td>\n",
       "      <td>True</td>\n",
       "      <td>False</td>\n",
       "    </tr>\n",
       "    <tr>\n",
       "      <th>2013-11-26 02:55:11</th>\n",
       "      <td>2</td>\n",
       "      <td>LZQPQhLyRh9-wNRtlZDM90f1k0BrdVdJyN_YsaSwfxc</td>\n",
       "      <td>Jason Haddad</td>\n",
       "      <td>Hey, check out my new website!! This site is a...</td>\n",
       "      <td>True</td>\n",
       "      <td>0</td>\n",
       "      <td>True</td>\n",
       "      <td>False</td>\n",
       "      <td>False</td>\n",
       "      <td>False</td>\n",
       "      <td>...</td>\n",
       "      <td>False</td>\n",
       "      <td>False</td>\n",
       "      <td>False</td>\n",
       "      <td>False</td>\n",
       "      <td>False</td>\n",
       "      <td>False</td>\n",
       "      <td>False</td>\n",
       "      <td>False</td>\n",
       "      <td>True</td>\n",
       "      <td>False</td>\n",
       "    </tr>\n",
       "    <tr>\n",
       "      <th>2013-11-28 12:33:27</th>\n",
       "      <td>3</td>\n",
       "      <td>z122wfnzgt30fhubn04cdn3xfx2mxzngsl40k</td>\n",
       "      <td>Bob Kanowski</td>\n",
       "      <td>i turned it on mute as soon is i came on i jus...</td>\n",
       "      <td>False</td>\n",
       "      <td>0</td>\n",
       "      <td>True</td>\n",
       "      <td>False</td>\n",
       "      <td>False</td>\n",
       "      <td>False</td>\n",
       "      <td>...</td>\n",
       "      <td>False</td>\n",
       "      <td>False</td>\n",
       "      <td>False</td>\n",
       "      <td>False</td>\n",
       "      <td>False</td>\n",
       "      <td>False</td>\n",
       "      <td>False</td>\n",
       "      <td>False</td>\n",
       "      <td>True</td>\n",
       "      <td>False</td>\n",
       "    </tr>\n",
       "  </tbody>\n",
       "</table>\n",
       "<p>4 rows × 21 columns</p>\n",
       "</div>"
      ],
      "text/plain": [
       "                     ID                                   COMMENT_ID  \\\n",
       "DATE                                                                   \n",
       "2013-11-07 12:37:15   0  LZQPQhLyRh_C2cTtd9MvFRJedxydaVW-2sNg5Diuo4A   \n",
       "2013-11-08 17:34:21   1  LZQPQhLyRh9MSZYnf8djyk0gEF9BHDPYrrK-qCczIY8   \n",
       "2013-11-26 02:55:11   2  LZQPQhLyRh9-wNRtlZDM90f1k0BrdVdJyN_YsaSwfxc   \n",
       "2013-11-28 12:33:27   3        z122wfnzgt30fhubn04cdn3xfx2mxzngsl40k   \n",
       "\n",
       "                               AUTHOR  \\\n",
       "DATE                                    \n",
       "2013-11-07 12:37:15       adam riyati   \n",
       "2013-11-08 17:34:21  Evgeny Murashkin   \n",
       "2013-11-26 02:55:11      Jason Haddad   \n",
       "2013-11-28 12:33:27      Bob Kanowski   \n",
       "\n",
       "                                                               CONTENT  \\\n",
       "DATE                                                                     \n",
       "2013-11-07 12:37:15  Hey guys check out my new channel and our firs...   \n",
       "2013-11-08 17:34:21             just for test I have to say murdev.com   \n",
       "2013-11-26 02:55:11  Hey, check out my new website!! This site is a...   \n",
       "2013-11-28 12:33:27  i turned it on mute as soon is i came on i jus...   \n",
       "\n",
       "                     spam_word  MULTI_COMMENT  year_2013  year_2014  \\\n",
       "DATE                                                                  \n",
       "2013-11-07 12:37:15       True              0       True      False   \n",
       "2013-11-08 17:34:21      False              0       True      False   \n",
       "2013-11-26 02:55:11       True              0       True      False   \n",
       "2013-11-28 12:33:27      False              0       True      False   \n",
       "\n",
       "                     year_2015  mon_1   ...    mon_3  mon_4  mon_5  mon_6  \\\n",
       "DATE                                    ...                                 \n",
       "2013-11-07 12:37:15      False  False   ...    False  False  False  False   \n",
       "2013-11-08 17:34:21      False  False   ...    False  False  False  False   \n",
       "2013-11-26 02:55:11      False  False   ...    False  False  False  False   \n",
       "2013-11-28 12:33:27      False  False   ...    False  False  False  False   \n",
       "\n",
       "                     mon_7  mon_8  mon_9  mon_10  mon_11  mon_12  \n",
       "DATE                                                              \n",
       "2013-11-07 12:37:15  False  False  False   False    True   False  \n",
       "2013-11-08 17:34:21  False  False  False   False    True   False  \n",
       "2013-11-26 02:55:11  False  False  False   False    True   False  \n",
       "2013-11-28 12:33:27  False  False  False   False    True   False  \n",
       "\n",
       "[4 rows x 21 columns]"
      ]
     },
     "execution_count": 23,
     "metadata": {},
     "output_type": "execute_result"
    }
   ],
   "source": [
    "testset.head(4)"
   ]
  },
  {
   "cell_type": "code",
   "execution_count": 24,
   "metadata": {
    "slideshow": {
     "slide_type": "slide"
    }
   },
   "outputs": [
    {
     "data": {
      "text/html": [
       "<div>\n",
       "<style scoped>\n",
       "    .dataframe tbody tr th:only-of-type {\n",
       "        vertical-align: middle;\n",
       "    }\n",
       "\n",
       "    .dataframe tbody tr th {\n",
       "        vertical-align: top;\n",
       "    }\n",
       "\n",
       "    .dataframe thead th {\n",
       "        text-align: right;\n",
       "    }\n",
       "</style>\n",
       "<table border=\"1\" class=\"dataframe\">\n",
       "  <thead>\n",
       "    <tr style=\"text-align: right;\">\n",
       "      <th></th>\n",
       "      <th>spam_word</th>\n",
       "      <th>MULTI_COMMENT</th>\n",
       "      <th>year_2013</th>\n",
       "      <th>year_2014</th>\n",
       "      <th>year_2015</th>\n",
       "      <th>mon_1</th>\n",
       "      <th>mon_2</th>\n",
       "      <th>mon_3</th>\n",
       "      <th>mon_4</th>\n",
       "      <th>mon_5</th>\n",
       "      <th>mon_6</th>\n",
       "      <th>mon_7</th>\n",
       "      <th>mon_8</th>\n",
       "      <th>mon_9</th>\n",
       "      <th>mon_10</th>\n",
       "      <th>mon_11</th>\n",
       "      <th>mon_12</th>\n",
       "    </tr>\n",
       "    <tr>\n",
       "      <th>DATE</th>\n",
       "      <th></th>\n",
       "      <th></th>\n",
       "      <th></th>\n",
       "      <th></th>\n",
       "      <th></th>\n",
       "      <th></th>\n",
       "      <th></th>\n",
       "      <th></th>\n",
       "      <th></th>\n",
       "      <th></th>\n",
       "      <th></th>\n",
       "      <th></th>\n",
       "      <th></th>\n",
       "      <th></th>\n",
       "      <th></th>\n",
       "      <th></th>\n",
       "      <th></th>\n",
       "    </tr>\n",
       "  </thead>\n",
       "  <tbody>\n",
       "    <tr>\n",
       "      <th>2013-11-07 06:20:48</th>\n",
       "      <td>1</td>\n",
       "      <td>0</td>\n",
       "      <td>1</td>\n",
       "      <td>0</td>\n",
       "      <td>0</td>\n",
       "      <td>0</td>\n",
       "      <td>0</td>\n",
       "      <td>0</td>\n",
       "      <td>0</td>\n",
       "      <td>0</td>\n",
       "      <td>0</td>\n",
       "      <td>0</td>\n",
       "      <td>0</td>\n",
       "      <td>0</td>\n",
       "      <td>0</td>\n",
       "      <td>1</td>\n",
       "      <td>0</td>\n",
       "    </tr>\n",
       "    <tr>\n",
       "      <th>2013-11-09 08:28:43</th>\n",
       "      <td>0</td>\n",
       "      <td>0</td>\n",
       "      <td>1</td>\n",
       "      <td>0</td>\n",
       "      <td>0</td>\n",
       "      <td>0</td>\n",
       "      <td>0</td>\n",
       "      <td>0</td>\n",
       "      <td>0</td>\n",
       "      <td>0</td>\n",
       "      <td>0</td>\n",
       "      <td>0</td>\n",
       "      <td>0</td>\n",
       "      <td>0</td>\n",
       "      <td>0</td>\n",
       "      <td>1</td>\n",
       "      <td>0</td>\n",
       "    </tr>\n",
       "    <tr>\n",
       "      <th>2013-11-10 16:05:38</th>\n",
       "      <td>1</td>\n",
       "      <td>0</td>\n",
       "      <td>1</td>\n",
       "      <td>0</td>\n",
       "      <td>0</td>\n",
       "      <td>0</td>\n",
       "      <td>0</td>\n",
       "      <td>0</td>\n",
       "      <td>0</td>\n",
       "      <td>0</td>\n",
       "      <td>0</td>\n",
       "      <td>0</td>\n",
       "      <td>0</td>\n",
       "      <td>0</td>\n",
       "      <td>0</td>\n",
       "      <td>1</td>\n",
       "      <td>0</td>\n",
       "    </tr>\n",
       "    <tr>\n",
       "      <th>2013-11-27 21:39:24</th>\n",
       "      <td>1</td>\n",
       "      <td>0</td>\n",
       "      <td>1</td>\n",
       "      <td>0</td>\n",
       "      <td>0</td>\n",
       "      <td>0</td>\n",
       "      <td>0</td>\n",
       "      <td>0</td>\n",
       "      <td>0</td>\n",
       "      <td>0</td>\n",
       "      <td>0</td>\n",
       "      <td>0</td>\n",
       "      <td>0</td>\n",
       "      <td>0</td>\n",
       "      <td>0</td>\n",
       "      <td>1</td>\n",
       "      <td>0</td>\n",
       "    </tr>\n",
       "  </tbody>\n",
       "</table>\n",
       "</div>"
      ],
      "text/plain": [
       "                     spam_word  MULTI_COMMENT  year_2013  year_2014  \\\n",
       "DATE                                                                  \n",
       "2013-11-07 06:20:48          1              0          1          0   \n",
       "2013-11-09 08:28:43          0              0          1          0   \n",
       "2013-11-10 16:05:38          1              0          1          0   \n",
       "2013-11-27 21:39:24          1              0          1          0   \n",
       "\n",
       "                     year_2015  mon_1  mon_2  mon_3  mon_4  mon_5  mon_6  \\\n",
       "DATE                                                                       \n",
       "2013-11-07 06:20:48          0      0      0      0      0      0      0   \n",
       "2013-11-09 08:28:43          0      0      0      0      0      0      0   \n",
       "2013-11-10 16:05:38          0      0      0      0      0      0      0   \n",
       "2013-11-27 21:39:24          0      0      0      0      0      0      0   \n",
       "\n",
       "                     mon_7  mon_8  mon_9  mon_10  mon_11  mon_12  \n",
       "DATE                                                              \n",
       "2013-11-07 06:20:48      0      0      0       0       1       0  \n",
       "2013-11-09 08:28:43      0      0      0       0       1       0  \n",
       "2013-11-10 16:05:38      0      0      0       0       1       0  \n",
       "2013-11-27 21:39:24      0      0      0       0       1       0  "
      ]
     },
     "execution_count": 24,
     "metadata": {},
     "output_type": "execute_result"
    }
   ],
   "source": [
    "# Cleaning Dataset\n",
    "trainset=cleaner(trainset)\n",
    "del testset['ID']\n",
    "testset= cleaner(testset)\n",
    "trainset.head(4)"
   ]
  },
  {
   "cell_type": "code",
   "execution_count": 25,
   "metadata": {
    "slideshow": {
     "slide_type": "fragment"
    }
   },
   "outputs": [
    {
     "data": {
      "text/html": [
       "<div>\n",
       "<style scoped>\n",
       "    .dataframe tbody tr th:only-of-type {\n",
       "        vertical-align: middle;\n",
       "    }\n",
       "\n",
       "    .dataframe tbody tr th {\n",
       "        vertical-align: top;\n",
       "    }\n",
       "\n",
       "    .dataframe thead th {\n",
       "        text-align: right;\n",
       "    }\n",
       "</style>\n",
       "<table border=\"1\" class=\"dataframe\">\n",
       "  <thead>\n",
       "    <tr style=\"text-align: right;\">\n",
       "      <th></th>\n",
       "      <th>spam_word</th>\n",
       "      <th>MULTI_COMMENT</th>\n",
       "      <th>year_2013</th>\n",
       "      <th>year_2014</th>\n",
       "      <th>year_2015</th>\n",
       "      <th>mon_1</th>\n",
       "      <th>mon_2</th>\n",
       "      <th>mon_3</th>\n",
       "      <th>mon_4</th>\n",
       "      <th>mon_5</th>\n",
       "      <th>mon_6</th>\n",
       "      <th>mon_7</th>\n",
       "      <th>mon_8</th>\n",
       "      <th>mon_9</th>\n",
       "      <th>mon_10</th>\n",
       "      <th>mon_11</th>\n",
       "      <th>mon_12</th>\n",
       "    </tr>\n",
       "    <tr>\n",
       "      <th>DATE</th>\n",
       "      <th></th>\n",
       "      <th></th>\n",
       "      <th></th>\n",
       "      <th></th>\n",
       "      <th></th>\n",
       "      <th></th>\n",
       "      <th></th>\n",
       "      <th></th>\n",
       "      <th></th>\n",
       "      <th></th>\n",
       "      <th></th>\n",
       "      <th></th>\n",
       "      <th></th>\n",
       "      <th></th>\n",
       "      <th></th>\n",
       "      <th></th>\n",
       "      <th></th>\n",
       "    </tr>\n",
       "  </thead>\n",
       "  <tbody>\n",
       "    <tr>\n",
       "      <th>2013-11-07 12:37:15</th>\n",
       "      <td>1</td>\n",
       "      <td>0</td>\n",
       "      <td>1</td>\n",
       "      <td>0</td>\n",
       "      <td>0</td>\n",
       "      <td>0</td>\n",
       "      <td>0</td>\n",
       "      <td>0</td>\n",
       "      <td>0</td>\n",
       "      <td>0</td>\n",
       "      <td>0</td>\n",
       "      <td>0</td>\n",
       "      <td>0</td>\n",
       "      <td>0</td>\n",
       "      <td>0</td>\n",
       "      <td>1</td>\n",
       "      <td>0</td>\n",
       "    </tr>\n",
       "    <tr>\n",
       "      <th>2013-11-08 17:34:21</th>\n",
       "      <td>0</td>\n",
       "      <td>0</td>\n",
       "      <td>1</td>\n",
       "      <td>0</td>\n",
       "      <td>0</td>\n",
       "      <td>0</td>\n",
       "      <td>0</td>\n",
       "      <td>0</td>\n",
       "      <td>0</td>\n",
       "      <td>0</td>\n",
       "      <td>0</td>\n",
       "      <td>0</td>\n",
       "      <td>0</td>\n",
       "      <td>0</td>\n",
       "      <td>0</td>\n",
       "      <td>1</td>\n",
       "      <td>0</td>\n",
       "    </tr>\n",
       "    <tr>\n",
       "      <th>2013-11-26 02:55:11</th>\n",
       "      <td>1</td>\n",
       "      <td>0</td>\n",
       "      <td>1</td>\n",
       "      <td>0</td>\n",
       "      <td>0</td>\n",
       "      <td>0</td>\n",
       "      <td>0</td>\n",
       "      <td>0</td>\n",
       "      <td>0</td>\n",
       "      <td>0</td>\n",
       "      <td>0</td>\n",
       "      <td>0</td>\n",
       "      <td>0</td>\n",
       "      <td>0</td>\n",
       "      <td>0</td>\n",
       "      <td>1</td>\n",
       "      <td>0</td>\n",
       "    </tr>\n",
       "    <tr>\n",
       "      <th>2013-11-28 12:33:27</th>\n",
       "      <td>0</td>\n",
       "      <td>0</td>\n",
       "      <td>1</td>\n",
       "      <td>0</td>\n",
       "      <td>0</td>\n",
       "      <td>0</td>\n",
       "      <td>0</td>\n",
       "      <td>0</td>\n",
       "      <td>0</td>\n",
       "      <td>0</td>\n",
       "      <td>0</td>\n",
       "      <td>0</td>\n",
       "      <td>0</td>\n",
       "      <td>0</td>\n",
       "      <td>0</td>\n",
       "      <td>1</td>\n",
       "      <td>0</td>\n",
       "    </tr>\n",
       "  </tbody>\n",
       "</table>\n",
       "</div>"
      ],
      "text/plain": [
       "                     spam_word  MULTI_COMMENT  year_2013  year_2014  \\\n",
       "DATE                                                                  \n",
       "2013-11-07 12:37:15          1              0          1          0   \n",
       "2013-11-08 17:34:21          0              0          1          0   \n",
       "2013-11-26 02:55:11          1              0          1          0   \n",
       "2013-11-28 12:33:27          0              0          1          0   \n",
       "\n",
       "                     year_2015  mon_1  mon_2  mon_3  mon_4  mon_5  mon_6  \\\n",
       "DATE                                                                       \n",
       "2013-11-07 12:37:15          0      0      0      0      0      0      0   \n",
       "2013-11-08 17:34:21          0      0      0      0      0      0      0   \n",
       "2013-11-26 02:55:11          0      0      0      0      0      0      0   \n",
       "2013-11-28 12:33:27          0      0      0      0      0      0      0   \n",
       "\n",
       "                     mon_7  mon_8  mon_9  mon_10  mon_11  mon_12  \n",
       "DATE                                                              \n",
       "2013-11-07 12:37:15      0      0      0       0       1       0  \n",
       "2013-11-08 17:34:21      0      0      0       0       1       0  \n",
       "2013-11-26 02:55:11      0      0      0       0       1       0  \n",
       "2013-11-28 12:33:27      0      0      0       0       1       0  "
      ]
     },
     "execution_count": 25,
     "metadata": {},
     "output_type": "execute_result"
    }
   ],
   "source": [
    "testset.head(4)"
   ]
  },
  {
   "cell_type": "code",
   "execution_count": 26,
   "metadata": {
    "slideshow": {
     "slide_type": "slide"
    }
   },
   "outputs": [
    {
     "data": {
      "text/html": [
       "<div>\n",
       "<style scoped>\n",
       "    .dataframe tbody tr th:only-of-type {\n",
       "        vertical-align: middle;\n",
       "    }\n",
       "\n",
       "    .dataframe tbody tr th {\n",
       "        vertical-align: top;\n",
       "    }\n",
       "\n",
       "    .dataframe thead th {\n",
       "        text-align: right;\n",
       "    }\n",
       "</style>\n",
       "<table border=\"1\" class=\"dataframe\">\n",
       "  <thead>\n",
       "    <tr style=\"text-align: right;\">\n",
       "      <th></th>\n",
       "      <th>spam_word</th>\n",
       "      <th>MULTI_COMMENT</th>\n",
       "      <th>year_2013</th>\n",
       "      <th>year_2014</th>\n",
       "      <th>year_2015</th>\n",
       "      <th>mon_1</th>\n",
       "      <th>mon_2</th>\n",
       "      <th>mon_3</th>\n",
       "      <th>mon_4</th>\n",
       "      <th>mon_5</th>\n",
       "      <th>mon_6</th>\n",
       "      <th>mon_7</th>\n",
       "      <th>mon_8</th>\n",
       "      <th>mon_9</th>\n",
       "      <th>mon_10</th>\n",
       "      <th>mon_11</th>\n",
       "      <th>mon_12</th>\n",
       "      <th>spam_multi_comment</th>\n",
       "    </tr>\n",
       "    <tr>\n",
       "      <th>DATE</th>\n",
       "      <th></th>\n",
       "      <th></th>\n",
       "      <th></th>\n",
       "      <th></th>\n",
       "      <th></th>\n",
       "      <th></th>\n",
       "      <th></th>\n",
       "      <th></th>\n",
       "      <th></th>\n",
       "      <th></th>\n",
       "      <th></th>\n",
       "      <th></th>\n",
       "      <th></th>\n",
       "      <th></th>\n",
       "      <th></th>\n",
       "      <th></th>\n",
       "      <th></th>\n",
       "      <th></th>\n",
       "    </tr>\n",
       "  </thead>\n",
       "  <tbody>\n",
       "    <tr>\n",
       "      <th>2013-11-07 06:20:48</th>\n",
       "      <td>1</td>\n",
       "      <td>0</td>\n",
       "      <td>1</td>\n",
       "      <td>0</td>\n",
       "      <td>0</td>\n",
       "      <td>0</td>\n",
       "      <td>0</td>\n",
       "      <td>0</td>\n",
       "      <td>0</td>\n",
       "      <td>0</td>\n",
       "      <td>0</td>\n",
       "      <td>0</td>\n",
       "      <td>0</td>\n",
       "      <td>0</td>\n",
       "      <td>0</td>\n",
       "      <td>1</td>\n",
       "      <td>0</td>\n",
       "      <td>0</td>\n",
       "    </tr>\n",
       "    <tr>\n",
       "      <th>2013-11-09 08:28:43</th>\n",
       "      <td>0</td>\n",
       "      <td>0</td>\n",
       "      <td>1</td>\n",
       "      <td>0</td>\n",
       "      <td>0</td>\n",
       "      <td>0</td>\n",
       "      <td>0</td>\n",
       "      <td>0</td>\n",
       "      <td>0</td>\n",
       "      <td>0</td>\n",
       "      <td>0</td>\n",
       "      <td>0</td>\n",
       "      <td>0</td>\n",
       "      <td>0</td>\n",
       "      <td>0</td>\n",
       "      <td>1</td>\n",
       "      <td>0</td>\n",
       "      <td>0</td>\n",
       "    </tr>\n",
       "    <tr>\n",
       "      <th>2013-11-10 16:05:38</th>\n",
       "      <td>1</td>\n",
       "      <td>0</td>\n",
       "      <td>1</td>\n",
       "      <td>0</td>\n",
       "      <td>0</td>\n",
       "      <td>0</td>\n",
       "      <td>0</td>\n",
       "      <td>0</td>\n",
       "      <td>0</td>\n",
       "      <td>0</td>\n",
       "      <td>0</td>\n",
       "      <td>0</td>\n",
       "      <td>0</td>\n",
       "      <td>0</td>\n",
       "      <td>0</td>\n",
       "      <td>1</td>\n",
       "      <td>0</td>\n",
       "      <td>0</td>\n",
       "    </tr>\n",
       "    <tr>\n",
       "      <th>2013-11-27 21:39:24</th>\n",
       "      <td>1</td>\n",
       "      <td>0</td>\n",
       "      <td>1</td>\n",
       "      <td>0</td>\n",
       "      <td>0</td>\n",
       "      <td>0</td>\n",
       "      <td>0</td>\n",
       "      <td>0</td>\n",
       "      <td>0</td>\n",
       "      <td>0</td>\n",
       "      <td>0</td>\n",
       "      <td>0</td>\n",
       "      <td>0</td>\n",
       "      <td>0</td>\n",
       "      <td>0</td>\n",
       "      <td>1</td>\n",
       "      <td>0</td>\n",
       "      <td>0</td>\n",
       "    </tr>\n",
       "  </tbody>\n",
       "</table>\n",
       "</div>"
      ],
      "text/plain": [
       "                     spam_word  MULTI_COMMENT  year_2013  year_2014  \\\n",
       "DATE                                                                  \n",
       "2013-11-07 06:20:48          1              0          1          0   \n",
       "2013-11-09 08:28:43          0              0          1          0   \n",
       "2013-11-10 16:05:38          1              0          1          0   \n",
       "2013-11-27 21:39:24          1              0          1          0   \n",
       "\n",
       "                     year_2015  mon_1  mon_2  mon_3  mon_4  mon_5  mon_6  \\\n",
       "DATE                                                                       \n",
       "2013-11-07 06:20:48          0      0      0      0      0      0      0   \n",
       "2013-11-09 08:28:43          0      0      0      0      0      0      0   \n",
       "2013-11-10 16:05:38          0      0      0      0      0      0      0   \n",
       "2013-11-27 21:39:24          0      0      0      0      0      0      0   \n",
       "\n",
       "                     mon_7  mon_8  mon_9  mon_10  mon_11  mon_12  \\\n",
       "DATE                                                               \n",
       "2013-11-07 06:20:48      0      0      0       0       1       0   \n",
       "2013-11-09 08:28:43      0      0      0       0       1       0   \n",
       "2013-11-10 16:05:38      0      0      0       0       1       0   \n",
       "2013-11-27 21:39:24      0      0      0       0       1       0   \n",
       "\n",
       "                     spam_multi_comment  \n",
       "DATE                                     \n",
       "2013-11-07 06:20:48                   0  \n",
       "2013-11-09 08:28:43                   0  \n",
       "2013-11-10 16:05:38                   0  \n",
       "2013-11-27 21:39:24                   0  "
      ]
     },
     "execution_count": 26,
     "metadata": {},
     "output_type": "execute_result"
    }
   ],
   "source": [
    "# Feature engineering (spam_word + Multi comments)\n",
    "trainset=extract_spam_multi_comments(trainset)\n",
    "testset=extract_spam_multi_comments(testset)\n",
    "trainset.head(4)"
   ]
  },
  {
   "cell_type": "code",
   "execution_count": 27,
   "metadata": {
    "slideshow": {
     "slide_type": "fragment"
    }
   },
   "outputs": [
    {
     "data": {
      "text/html": [
       "<div>\n",
       "<style scoped>\n",
       "    .dataframe tbody tr th:only-of-type {\n",
       "        vertical-align: middle;\n",
       "    }\n",
       "\n",
       "    .dataframe tbody tr th {\n",
       "        vertical-align: top;\n",
       "    }\n",
       "\n",
       "    .dataframe thead th {\n",
       "        text-align: right;\n",
       "    }\n",
       "</style>\n",
       "<table border=\"1\" class=\"dataframe\">\n",
       "  <thead>\n",
       "    <tr style=\"text-align: right;\">\n",
       "      <th></th>\n",
       "      <th>spam_word</th>\n",
       "      <th>MULTI_COMMENT</th>\n",
       "      <th>year_2013</th>\n",
       "      <th>year_2014</th>\n",
       "      <th>year_2015</th>\n",
       "      <th>mon_1</th>\n",
       "      <th>mon_2</th>\n",
       "      <th>mon_3</th>\n",
       "      <th>mon_4</th>\n",
       "      <th>mon_5</th>\n",
       "      <th>mon_6</th>\n",
       "      <th>mon_7</th>\n",
       "      <th>mon_8</th>\n",
       "      <th>mon_9</th>\n",
       "      <th>mon_10</th>\n",
       "      <th>mon_11</th>\n",
       "      <th>mon_12</th>\n",
       "      <th>spam_multi_comment</th>\n",
       "    </tr>\n",
       "    <tr>\n",
       "      <th>DATE</th>\n",
       "      <th></th>\n",
       "      <th></th>\n",
       "      <th></th>\n",
       "      <th></th>\n",
       "      <th></th>\n",
       "      <th></th>\n",
       "      <th></th>\n",
       "      <th></th>\n",
       "      <th></th>\n",
       "      <th></th>\n",
       "      <th></th>\n",
       "      <th></th>\n",
       "      <th></th>\n",
       "      <th></th>\n",
       "      <th></th>\n",
       "      <th></th>\n",
       "      <th></th>\n",
       "      <th></th>\n",
       "    </tr>\n",
       "  </thead>\n",
       "  <tbody>\n",
       "    <tr>\n",
       "      <th>2013-11-07 12:37:15</th>\n",
       "      <td>1</td>\n",
       "      <td>0</td>\n",
       "      <td>1</td>\n",
       "      <td>0</td>\n",
       "      <td>0</td>\n",
       "      <td>0</td>\n",
       "      <td>0</td>\n",
       "      <td>0</td>\n",
       "      <td>0</td>\n",
       "      <td>0</td>\n",
       "      <td>0</td>\n",
       "      <td>0</td>\n",
       "      <td>0</td>\n",
       "      <td>0</td>\n",
       "      <td>0</td>\n",
       "      <td>1</td>\n",
       "      <td>0</td>\n",
       "      <td>0</td>\n",
       "    </tr>\n",
       "    <tr>\n",
       "      <th>2013-11-08 17:34:21</th>\n",
       "      <td>0</td>\n",
       "      <td>0</td>\n",
       "      <td>1</td>\n",
       "      <td>0</td>\n",
       "      <td>0</td>\n",
       "      <td>0</td>\n",
       "      <td>0</td>\n",
       "      <td>0</td>\n",
       "      <td>0</td>\n",
       "      <td>0</td>\n",
       "      <td>0</td>\n",
       "      <td>0</td>\n",
       "      <td>0</td>\n",
       "      <td>0</td>\n",
       "      <td>0</td>\n",
       "      <td>1</td>\n",
       "      <td>0</td>\n",
       "      <td>0</td>\n",
       "    </tr>\n",
       "    <tr>\n",
       "      <th>2013-11-26 02:55:11</th>\n",
       "      <td>1</td>\n",
       "      <td>0</td>\n",
       "      <td>1</td>\n",
       "      <td>0</td>\n",
       "      <td>0</td>\n",
       "      <td>0</td>\n",
       "      <td>0</td>\n",
       "      <td>0</td>\n",
       "      <td>0</td>\n",
       "      <td>0</td>\n",
       "      <td>0</td>\n",
       "      <td>0</td>\n",
       "      <td>0</td>\n",
       "      <td>0</td>\n",
       "      <td>0</td>\n",
       "      <td>1</td>\n",
       "      <td>0</td>\n",
       "      <td>0</td>\n",
       "    </tr>\n",
       "    <tr>\n",
       "      <th>2013-11-28 12:33:27</th>\n",
       "      <td>0</td>\n",
       "      <td>0</td>\n",
       "      <td>1</td>\n",
       "      <td>0</td>\n",
       "      <td>0</td>\n",
       "      <td>0</td>\n",
       "      <td>0</td>\n",
       "      <td>0</td>\n",
       "      <td>0</td>\n",
       "      <td>0</td>\n",
       "      <td>0</td>\n",
       "      <td>0</td>\n",
       "      <td>0</td>\n",
       "      <td>0</td>\n",
       "      <td>0</td>\n",
       "      <td>1</td>\n",
       "      <td>0</td>\n",
       "      <td>0</td>\n",
       "    </tr>\n",
       "  </tbody>\n",
       "</table>\n",
       "</div>"
      ],
      "text/plain": [
       "                     spam_word  MULTI_COMMENT  year_2013  year_2014  \\\n",
       "DATE                                                                  \n",
       "2013-11-07 12:37:15          1              0          1          0   \n",
       "2013-11-08 17:34:21          0              0          1          0   \n",
       "2013-11-26 02:55:11          1              0          1          0   \n",
       "2013-11-28 12:33:27          0              0          1          0   \n",
       "\n",
       "                     year_2015  mon_1  mon_2  mon_3  mon_4  mon_5  mon_6  \\\n",
       "DATE                                                                       \n",
       "2013-11-07 12:37:15          0      0      0      0      0      0      0   \n",
       "2013-11-08 17:34:21          0      0      0      0      0      0      0   \n",
       "2013-11-26 02:55:11          0      0      0      0      0      0      0   \n",
       "2013-11-28 12:33:27          0      0      0      0      0      0      0   \n",
       "\n",
       "                     mon_7  mon_8  mon_9  mon_10  mon_11  mon_12  \\\n",
       "DATE                                                               \n",
       "2013-11-07 12:37:15      0      0      0       0       1       0   \n",
       "2013-11-08 17:34:21      0      0      0       0       1       0   \n",
       "2013-11-26 02:55:11      0      0      0       0       1       0   \n",
       "2013-11-28 12:33:27      0      0      0       0       1       0   \n",
       "\n",
       "                     spam_multi_comment  \n",
       "DATE                                     \n",
       "2013-11-07 12:37:15                   0  \n",
       "2013-11-08 17:34:21                   0  \n",
       "2013-11-26 02:55:11                   0  \n",
       "2013-11-28 12:33:27                   0  "
      ]
     },
     "execution_count": 27,
     "metadata": {},
     "output_type": "execute_result"
    }
   ],
   "source": [
    "testset.head(4)"
   ]
  },
  {
   "cell_type": "code",
   "execution_count": 28,
   "metadata": {
    "slideshow": {
     "slide_type": "slide"
    }
   },
   "outputs": [
    {
     "data": {
      "text/plain": [
       "((1019, 18), (799, 18))"
      ]
     },
     "execution_count": 28,
     "metadata": {},
     "output_type": "execute_result"
    }
   ],
   "source": [
    "trainset.shape, testset.shape"
   ]
  },
  {
   "cell_type": "code",
   "execution_count": 29,
   "metadata": {
    "slideshow": {
     "slide_type": "fragment"
    }
   },
   "outputs": [
    {
     "data": {
      "text/plain": [
       "(Index(['spam_word', 'MULTI_COMMENT', 'year_2013', 'year_2014', 'year_2015',\n",
       "        'mon_1', 'mon_2', 'mon_3', 'mon_4', 'mon_5', 'mon_6', 'mon_7', 'mon_8',\n",
       "        'mon_9', 'mon_10', 'mon_11', 'mon_12', 'spam_multi_comment'],\n",
       "       dtype='object'),\n",
       " Index(['spam_word', 'MULTI_COMMENT', 'year_2013', 'year_2014', 'year_2015',\n",
       "        'mon_1', 'mon_2', 'mon_3', 'mon_4', 'mon_5', 'mon_6', 'mon_7', 'mon_8',\n",
       "        'mon_9', 'mon_10', 'mon_11', 'mon_12', 'spam_multi_comment'],\n",
       "       dtype='object'))"
      ]
     },
     "execution_count": 29,
     "metadata": {},
     "output_type": "execute_result"
    }
   ],
   "source": [
    "trainset.columns, testset.columns"
   ]
  },
  {
   "cell_type": "markdown",
   "metadata": {
    "slideshow": {
     "slide_type": "slide"
    }
   },
   "source": [
    "### 4. Predictive Modeling"
   ]
  },
  {
   "cell_type": "markdown",
   "metadata": {
    "slideshow": {
     "slide_type": "slide"
    }
   },
   "source": [
    "### Splittting data into test and train set"
   ]
  },
  {
   "cell_type": "code",
   "execution_count": 30,
   "metadata": {
    "slideshow": {
     "slide_type": "fragment"
    }
   },
   "outputs": [],
   "source": [
    "# to split dataset for training and validation purpose\n",
    "from sklearn.model_selection import train_test_split\n",
    "Xtrain,Xtest,Ytrain,Ytest = train_test_split(trainset, trainset_label, test_size=0.30,\n",
    "                                             stratify=trainset_label,random_state=87337)"
   ]
  },
  {
   "cell_type": "markdown",
   "metadata": {
    "slideshow": {
     "slide_type": "slide"
    }
   },
   "source": [
    "#### Importing Classifiers"
   ]
  },
  {
   "cell_type": "code",
   "execution_count": 31,
   "metadata": {
    "slideshow": {
     "slide_type": "fragment"
    }
   },
   "outputs": [],
   "source": [
    "# Classifiers\n",
    "from sklearn.linear_model import SGDClassifier\n",
    "from sklearn.linear_model import LogisticRegression\n",
    "from sklearn.neighbors import KNeighborsClassifier\n",
    "from sklearn.tree import DecisionTreeClassifier\n",
    "from sklearn.svm import SVC\n",
    "from sklearn.ensemble import RandomForestClassifier\n",
    "from sklearn.ensemble import ExtraTreesClassifier\n",
    "from sklearn.ensemble import BaggingClassifier\n",
    "from sklearn.ensemble import AdaBoostClassifier\n",
    "from sklearn.ensemble import GradientBoostingClassifier\n",
    "import lightgbm as lgb"
   ]
  },
  {
   "cell_type": "markdown",
   "metadata": {
    "slideshow": {
     "slide_type": "slide"
    }
   },
   "source": [
    "#### Evaluation metrics"
   ]
  },
  {
   "cell_type": "code",
   "execution_count": 32,
   "metadata": {
    "slideshow": {
     "slide_type": "fragment"
    }
   },
   "outputs": [],
   "source": [
    "# Evaluation metrics to evaluate classifier\n",
    "from sklearn.metrics import confusion_matrix\n",
    "from sklearn.metrics import precision_recall_curve\n",
    "from sklearn.metrics import average_precision_score\n",
    "from sklearn.metrics import roc_curve\n",
    "from sklearn.metrics import auc\n",
    "from sklearn.model_selection import cross_val_score\n",
    "from sklearn.metrics import f1_score"
   ]
  },
  {
   "cell_type": "markdown",
   "metadata": {
    "slideshow": {
     "slide_type": "slide"
    }
   },
   "source": [
    "### Cross-Validation "
   ]
  },
  {
   "cell_type": "code",
   "execution_count": 33,
   "metadata": {
    "slideshow": {
     "slide_type": "fragment"
    }
   },
   "outputs": [],
   "source": [
    "def CrossVal(dataX,dataY,mode,cv=10):\n",
    "    score=cross_val_score(mode,dataX , dataY, cv=cv, scoring='accuracy')\n",
    "    return(np.mean(score))"
   ]
  },
  {
   "cell_type": "markdown",
   "metadata": {
    "slideshow": {
     "slide_type": "slide"
    }
   },
   "source": [
    "### Helper function to plot ROC curve, Precision Recall curve, Confusion matrix"
   ]
  },
  {
   "cell_type": "code",
   "execution_count": 34,
   "metadata": {
    "slideshow": {
     "slide_type": "fragment"
    }
   },
   "outputs": [],
   "source": [
    "def plotting(true,pred):\n",
    "    fig,ax=plt.subplots(1,2,figsize=(10,5))\n",
    "    precision,recall,threshold = precision_recall_curve(true,pred[:,1])\n",
    "    ax[0].plot(recall,precision,'g--')\n",
    "    ax[0].set_xlabel('Recall')\n",
    "    ax[0].set_ylabel('Precision')\n",
    "    ax[0].set_title(\"Average Precision Score : {}\".format(average_precision_score(true,pred[:,1])))\n",
    "    fpr,tpr,threshold = roc_curve(true,pred[:,1])\n",
    "    ax[1].plot(fpr,tpr)\n",
    "    ax[1].set_title(\"AUC Score is: {}\".format(auc(fpr,tpr)))\n",
    "    ax[1].plot([0,1],[0,1],'k--')\n",
    "    ax[1].set_xlabel('False Positive Rate')\n",
    "    ax[1].set_ylabel('True Positive Rate')\n",
    "    return auc(fpr,tpr)"
   ]
  },
  {
   "cell_type": "markdown",
   "metadata": {
    "slideshow": {
     "slide_type": "slide"
    }
   },
   "source": [
    "### a) Stochastic Gradient Descent"
   ]
  },
  {
   "cell_type": "code",
   "execution_count": 35,
   "metadata": {
    "slideshow": {
     "slide_type": "subslide"
    }
   },
   "outputs": [
    {
     "name": "stdout",
     "output_type": "stream",
     "text": [
      "Accuracy is :  0.955144757433\n"
     ]
    },
    {
     "data": {
      "text/plain": [
       "Text(0.5,1,'F1 Score = 0.9527272727272726')"
      ]
     },
     "execution_count": 35,
     "metadata": {},
     "output_type": "execute_result"
    },
    {
     "data": {
      "image/png": "[encoded data removed]",
      "text/plain": [
       "<Figure size 720x360 with 2 Axes>"
      ]
     },
     "metadata": {
      "needs_background": "light"
     },
     "output_type": "display_data"
    },
    {
     "data": {
      "image/png": "[encoded data removed]",
      "text/plain": [
       "<Figure size 432x288 with 2 Axes>"
      ]
     },
     "metadata": {
      "needs_background": "light"
     },
     "output_type": "display_data"
    }
   ],
   "source": [
    "sgd=SGDClassifier(tol=1e-25, random_state=1343234,loss='log', class_weight = 'balanced')\n",
    "score_sgd=CrossVal(Xtrain,Ytrain,sgd)\n",
    "print(\"Accuracy is : \",score_sgd)\n",
    "sgd.fit(Xtrain,Ytrain)\n",
    "sgd_auc=plotting(Ytest,sgd.predict_proba(Xtest))\n",
    "fig=plt.figure()\n",
    "sns.heatmap(confusion_matrix(Ytest,sgd.predict(Xtest)), annot= True, cmap='Oranges')\n",
    "sgd_f1=f1_score(Ytest,sgd.predict(Xtest))\n",
    "plt.title('F1 Score = {}'.format(sgd_f1))"
   ]
  },
  {
   "cell_type": "markdown",
   "metadata": {
    "slideshow": {
     "slide_type": "slide"
    }
   },
   "source": [
    "### b) K-Nearest Neighbors"
   ]
  },
  {
   "cell_type": "code",
   "execution_count": 36,
   "metadata": {
    "slideshow": {
     "slide_type": "subslide"
    }
   },
   "outputs": [
    {
     "name": "stdout",
     "output_type": "stream",
     "text": [
      "Accuracy is :  0.949550078247\n"
     ]
    },
    {
     "data": {
      "text/plain": [
       "Text(0.5,1,'F1 Score = 0.9323843416370107')"
      ]
     },
     "execution_count": 36,
     "metadata": {},
     "output_type": "execute_result"
    },
    {
     "data": {
      "image/png": "[encoded data removed]",
      "text/plain": [
       "<Figure size 720x360 with 2 Axes>"
      ]
     },
     "metadata": {
      "needs_background": "light"
     },
     "output_type": "display_data"
    },
    {
     "data": {
      "image/png": "[encoded data removed]",
      "text/plain": [
       "<Figure size 432x288 with 2 Axes>"
      ]
     },
     "metadata": {
      "needs_background": "light"
     },
     "output_type": "display_data"
    }
   ],
   "source": [
    "k=KNeighborsClassifier(algorithm='auto', n_neighbors= 5)\n",
    "score_k=CrossVal(Xtrain,Ytrain,k)\n",
    "print(\"Accuracy is : \",score_k)\n",
    "k.fit(Xtrain,Ytrain)\n",
    "k_auc=plotting(Ytest,k.predict_proba(Xtest))\n",
    "\n",
    "\n",
    "fig=plt.figure()\n",
    "sns.heatmap(confusion_matrix(Ytest,k.predict(Xtest)), annot= True, cmap='Reds')\n",
    "k_f1=f1_score(Ytest,k.predict(Xtest))\n",
    "plt.title('F1 Score = {}'.format(k_f1))"
   ]
  },
  {
   "cell_type": "markdown",
   "metadata": {
    "slideshow": {
     "slide_type": "slide"
    }
   },
   "source": [
    "### c)Logistic"
   ]
  },
  {
   "cell_type": "code",
   "execution_count": 37,
   "metadata": {
    "slideshow": {
     "slide_type": "subslide"
    }
   },
   "outputs": [
    {
     "name": "stdout",
     "output_type": "stream",
     "text": [
      "Accuracy is :  0.956533646322\n"
     ]
    },
    {
     "data": {
      "text/plain": [
       "Text(0.5,1,'F1 Score = 0.9527272727272726')"
      ]
     },
     "execution_count": 37,
     "metadata": {},
     "output_type": "execute_result"
    },
    {
     "data": {
      "image/png": "[encoded data removed]",
      "text/plain": [
       "<Figure size 720x360 with 2 Axes>"
      ]
     },
     "metadata": {
      "needs_background": "light"
     },
     "output_type": "display_data"
    },
    {
     "data": {
      "image/png": "[encoded data removed]",
      "text/plain": [
       "<Figure size 432x288 with 2 Axes>"
      ]
     },
     "metadata": {
      "needs_background": "light"
     },
     "output_type": "display_data"
    }
   ],
   "source": [
    "lr=LogisticRegression(class_weight='balanced', tol=1e-25)\n",
    "score_lr=CrossVal(Xtrain,Ytrain,lr)\n",
    "print(\"Accuracy is : \",score_lr)\n",
    "lr.fit(Xtrain,Ytrain)\n",
    "lr_auc =plotting(Ytest,lr.predict_proba(Xtest))\n",
    "\n",
    "fig=plt.figure()\n",
    "sns.heatmap(confusion_matrix(Ytest,lr.predict(Xtest)), annot= True, cmap='Greens')\n",
    "lr_f1=f1_score(Ytest,lr.predict(Xtest))\n",
    "plt.title('F1 Score = {}'.format(lr_f1))"
   ]
  },
  {
   "cell_type": "markdown",
   "metadata": {
    "slideshow": {
     "slide_type": "slide"
    }
   },
   "source": [
    "### d) decision tree"
   ]
  },
  {
   "cell_type": "code",
   "execution_count": 38,
   "metadata": {
    "slideshow": {
     "slide_type": "subslide"
    }
   },
   "outputs": [
    {
     "name": "stdout",
     "output_type": "stream",
     "text": [
      "Accuracy is :  0.955125195618\n"
     ]
    },
    {
     "data": {
      "text/plain": [
       "Text(0.5,1,'F1 Score = 0.9527272727272726')"
      ]
     },
     "execution_count": 38,
     "metadata": {},
     "output_type": "execute_result"
    },
    {
     "data": {
      "image/png": "[encoded data removed]",
      "text/plain": [
       "<Figure size 720x360 with 2 Axes>"
      ]
     },
     "metadata": {
      "needs_background": "light"
     },
     "output_type": "display_data"
    },
    {
     "data": {
      "image/png": "[encoded data removed]",
      "text/plain": [
       "<Figure size 432x288 with 2 Axes>"
      ]
     },
     "metadata": {
      "needs_background": "light"
     },
     "output_type": "display_data"
    }
   ],
   "source": [
    "dtc=DecisionTreeClassifier()\n",
    "score_dtc=CrossVal(Xtrain,Ytrain,dtc)\n",
    "print(\"Accuracy is : \",score_dtc)\n",
    "dtc.fit(Xtrain,Ytrain)\n",
    "dtc_auc =plotting(Ytest,dtc.predict_proba(Xtest))\n",
    "\n",
    "fig=plt.figure()\n",
    "sns.heatmap(confusion_matrix(Ytest,dtc.predict(Xtest)), annot= True, cmap='Blues')\n",
    "dtc_f1=f1_score(Ytest,dtc.predict(Xtest))\n",
    "plt.title('F1 Score = {}'.format(dtc_f1))"
   ]
  },
  {
   "cell_type": "markdown",
   "metadata": {
    "slideshow": {
     "slide_type": "slide"
    }
   },
   "source": [
    "### e) Support vector machine"
   ]
  },
  {
   "cell_type": "code",
   "execution_count": 39,
   "metadata": {
    "slideshow": {
     "slide_type": "subslide"
    }
   },
   "outputs": [
    {
     "name": "stdout",
     "output_type": "stream",
     "text": [
      "Accuracy is :  0.955125195618\n"
     ]
    },
    {
     "data": {
      "text/plain": [
       "Text(0.5,1,'F1 Score = 0.9527272727272726')"
      ]
     },
     "execution_count": 39,
     "metadata": {},
     "output_type": "execute_result"
    },
    {
     "data": {
      "image/png": "[encoded data removed]",
      "text/plain": [
       "<Figure size 720x360 with 2 Axes>"
      ]
     },
     "metadata": {
      "needs_background": "light"
     },
     "output_type": "display_data"
    },
    {
     "data": {
      "image/png": "[encoded data removed]",
      "text/plain": [
       "<Figure size 432x288 with 2 Axes>"
      ]
     },
     "metadata": {
      "needs_background": "light"
     },
     "output_type": "display_data"
    }
   ],
   "source": [
    "svc=SVC(class_weight='balanced',C=20,probability=True,kernel='rbf',gamma=0.1)\n",
    "score_svc=CrossVal(Xtrain,Ytrain,svc)\n",
    "print(\"Accuracy is : \",score_svc)\n",
    "svc.fit(Xtrain,Ytrain)\n",
    "svc_auc =plotting(Ytest,svc.predict_proba(Xtest))\n",
    "\n",
    "fig=plt.figure()\n",
    "sns.heatmap(confusion_matrix(Ytest,svc.predict(Xtest)), annot= True, cmap='Greys')\n",
    "svc_f1=f1_score(Ytest,svc.predict(Xtest))\n",
    "plt.title('F1 Score = {}'.format(svc_f1))"
   ]
  },
  {
   "cell_type": "markdown",
   "metadata": {
    "slideshow": {
     "slide_type": "slide"
    }
   },
   "source": [
    "### f) Random Forest Classifier"
   ]
  },
  {
   "cell_type": "code",
   "execution_count": 40,
   "metadata": {
    "slideshow": {
     "slide_type": "subslide"
    }
   },
   "outputs": [
    {
     "name": "stdout",
     "output_type": "stream",
     "text": [
      "Accuracy is: 0.953736306729\n"
     ]
    },
    {
     "data": {
      "text/plain": [
       "Text(0.5,1,'F1 Score = 0.9527272727272726')"
      ]
     },
     "execution_count": 40,
     "metadata": {},
     "output_type": "execute_result"
    },
    {
     "data": {
      "image/png": "[encoded data removed]",
      "text/plain": [
       "<Figure size 720x360 with 2 Axes>"
      ]
     },
     "metadata": {
      "needs_background": "light"
     },
     "output_type": "display_data"
    },
    {
     "data": {
      "image/png": "[encoded data removed]",
      "text/plain": [
       "<Figure size 432x288 with 2 Axes>"
      ]
     },
     "metadata": {
      "needs_background": "light"
     },
     "output_type": "display_data"
    }
   ],
   "source": [
    "rf=RandomForestClassifier(n_estimators=1000, n_jobs=-1, random_state=98723, class_weight='balanced')\n",
    "score_rf= CrossVal(Xtrain,Ytrain,rf)\n",
    "print('Accuracy is:',score_rf)\n",
    "rf.fit(Xtrain,Ytrain)\n",
    "rf_auc =plotting(Ytest,rf.predict_proba(Xtest))\n",
    "\n",
    "fig=plt.figure()\n",
    "sns.heatmap(confusion_matrix(Ytest,rf.predict(Xtest)), annot= True, cmap='Oranges')\n",
    "\n",
    "rf_f1=f1_score(Ytest,rf.predict(Xtest))\n",
    "plt.title('F1 Score = {}'.format(rf_f1))"
   ]
  },
  {
   "cell_type": "markdown",
   "metadata": {
    "slideshow": {
     "slide_type": "slide"
    }
   },
   "source": [
    "### g) Extra Trees Classifier"
   ]
  },
  {
   "cell_type": "code",
   "execution_count": 41,
   "metadata": {
    "slideshow": {
     "slide_type": "subslide"
    }
   },
   "outputs": [
    {
     "name": "stdout",
     "output_type": "stream",
     "text": [
      "Accuracy is: 0.952327856025\n"
     ]
    },
    {
     "data": {
      "text/plain": [
       "Text(0.5,1,'F1 Score = 0.9527272727272726')"
      ]
     },
     "execution_count": 41,
     "metadata": {},
     "output_type": "execute_result"
    },
    {
     "data": {
      "image/png": "[encoded data removed]",
      "text/plain": [
       "<Figure size 720x360 with 2 Axes>"
      ]
     },
     "metadata": {
      "needs_background": "light"
     },
     "output_type": "display_data"
    },
    {
     "data": {
      "image/png": "[encoded data removed]",
      "text/plain": [
       "<Figure size 432x288 with 2 Axes>"
      ]
     },
     "metadata": {
      "needs_background": "light"
     },
     "output_type": "display_data"
    }
   ],
   "source": [
    "etc=ExtraTreesClassifier(n_estimators=1000, n_jobs=-1, random_state=243234, class_weight = 'balanced')\n",
    "score_etc= CrossVal(Xtrain,Ytrain,etc)\n",
    "print('Accuracy is:',score_etc)\n",
    "etc.fit(Xtrain,Ytrain)\n",
    "etc_auc=plotting(Ytest,etc.predict_proba(Xtest))\n",
    "\n",
    "fig=plt.figure()\n",
    "sns.heatmap(confusion_matrix(Ytest,etc.predict(Xtest)), annot= True, cmap='Greens')\n",
    "\n",
    "etc_f1=f1_score(Ytest,etc.predict(Xtest))\n",
    "plt.title('F1 Score = {}'.format(etc_f1))"
   ]
  },
  {
   "cell_type": "markdown",
   "metadata": {
    "slideshow": {
     "slide_type": "slide"
    }
   },
   "source": [
    "### h) Ada Boost Classifier"
   ]
  },
  {
   "cell_type": "code",
   "execution_count": 42,
   "metadata": {
    "slideshow": {
     "slide_type": "subslide"
    }
   },
   "outputs": [
    {
     "name": "stdout",
     "output_type": "stream",
     "text": [
      "Accuracy is: 0.956533646322\n"
     ]
    },
    {
     "data": {
      "text/plain": [
       "Text(0.5,1,'F1 Score = 0.9527272727272726')"
      ]
     },
     "execution_count": 42,
     "metadata": {},
     "output_type": "execute_result"
    },
    {
     "data": {
      "image/png": "[encoded data removed]",
      "text/plain": [
       "<Figure size 720x360 with 2 Axes>"
      ]
     },
     "metadata": {
      "needs_background": "light"
     },
     "output_type": "display_data"
    },
    {
     "data": {
      "image/png": "[encoded data removed]",
      "text/plain": [
       "<Figure size 432x288 with 2 Axes>"
      ]
     },
     "metadata": {
      "needs_background": "light"
     },
     "output_type": "display_data"
    }
   ],
   "source": [
    "abc=AdaBoostClassifier(sgd ,n_estimators=500, random_state=98734,algorithm='SAMME.R', learning_rate=0.001)\n",
    "score_ada= CrossVal(Xtrain,Ytrain,abc)\n",
    "print('Accuracy is:',score_ada)\n",
    "abc.fit(Xtrain,Ytrain)\n",
    "abc_auc=plotting(Ytest,abc.predict_proba(Xtest))\n",
    "\n",
    "fig=plt.figure()\n",
    "sns.heatmap(confusion_matrix(Ytest,abc.predict(Xtest)), annot= True, cmap='Reds')\n",
    "\n",
    "abc_f1=f1_score(Ytest,abc.predict(Xtest))\n",
    "plt.title('F1 Score = {}'.format(abc_f1))"
   ]
  },
  {
   "cell_type": "markdown",
   "metadata": {
    "slideshow": {
     "slide_type": "slide"
    }
   },
   "source": [
    "### i) Gradient Boosting Classifier "
   ]
  },
  {
   "cell_type": "code",
   "execution_count": 43,
   "metadata": {
    "slideshow": {
     "slide_type": "subslide"
    }
   },
   "outputs": [
    {
     "name": "stdout",
     "output_type": "stream",
     "text": [
      "Accuracy is: 0.956533646322\n"
     ]
    },
    {
     "data": {
      "text/plain": [
       "Text(0.5,1,'F1 Score = 0.9527272727272726')"
      ]
     },
     "execution_count": 43,
     "metadata": {},
     "output_type": "execute_result"
    },
    {
     "data": {
      "image/png": "[encoded data removed]",
      "text/plain": [
       "<Figure size 720x360 with 2 Axes>"
      ]
     },
     "metadata": {
      "needs_background": "light"
     },
     "output_type": "display_data"
    },
    {
     "data": {
      "image/png": "[encoded data removed]",
      "text/plain": [
       "<Figure size 432x288 with 2 Axes>"
      ]
     },
     "metadata": {
      "needs_background": "light"
     },
     "output_type": "display_data"
    }
   ],
   "source": [
    "gbc=GradientBoostingClassifier(n_estimators=500, random_state=293847, learning_rate = 0.005)\n",
    "score_gbc= CrossVal(Xtrain,Ytrain,gbc)\n",
    "print('Accuracy is:',score_gbc)\n",
    "gbc.fit(Xtrain,Ytrain)\n",
    "gbc_auc =plotting(Ytest,gbc.predict_proba(Xtest))\n",
    "\n",
    "fig=plt.figure()\n",
    "sns.heatmap(confusion_matrix(Ytest,gbc.predict(Xtest)), annot= True, cmap='Blues')\n",
    "\n",
    "gbc_f1=f1_score(Ytest,gbc.predict(Xtest))\n",
    "plt.title('F1 Score = {}'.format(gbc_f1))"
   ]
  },
  {
   "cell_type": "markdown",
   "metadata": {
    "slideshow": {
     "slide_type": "slide"
    }
   },
   "source": [
    "### j) Bagging Classifier "
   ]
  },
  {
   "cell_type": "code",
   "execution_count": 44,
   "metadata": {
    "slideshow": {
     "slide_type": "subslide"
    }
   },
   "outputs": [
    {
     "name": "stdout",
     "output_type": "stream",
     "text": [
      "Accuracy is: 0.956533646322\n"
     ]
    },
    {
     "data": {
      "text/plain": [
       "Text(0.5,1,'F1 Score = 0.9527272727272726')"
      ]
     },
     "execution_count": 44,
     "metadata": {},
     "output_type": "execute_result"
    },
    {
     "data": {
      "image/png": "[encoded data removed]",
      "text/plain": [
       "<Figure size 720x360 with 2 Axes>"
      ]
     },
     "metadata": {
      "needs_background": "light"
     },
     "output_type": "display_data"
    },
    {
     "data": {
      "image/png": "[encoded data removed]",
      "text/plain": [
       "<Figure size 432x288 with 2 Axes>"
      ]
     },
     "metadata": {
      "needs_background": "light"
     },
     "output_type": "display_data"
    }
   ],
   "source": [
    "bc=BaggingClassifier(lr,max_samples=31, bootstrap=True, n_jobs= -1)\n",
    "score_bc= CrossVal(Xtrain,Ytrain,gbc)\n",
    "print('Accuracy is:',score_bc)\n",
    "bc.fit(Xtrain,Ytrain)\n",
    "bc_auc =plotting(Ytest,bc.predict_proba(Xtest))\n",
    "\n",
    "fig=plt.figure()\n",
    "sns.heatmap(confusion_matrix(Ytest,bc.predict(Xtest)), annot= True, cmap='Greys')\n",
    "\n",
    "bc_f1=f1_score(Ytest,bc.predict(Xtest))\n",
    "plt.title('F1 Score = {}'.format(bc_f1))"
   ]
  },
  {
   "cell_type": "markdown",
   "metadata": {
    "slideshow": {
     "slide_type": "slide"
    }
   },
   "source": [
    "### 5) Model Comparison"
   ]
  },
  {
   "cell_type": "markdown",
   "metadata": {
    "slideshow": {
     "slide_type": "slide"
    }
   },
   "source": [
    "#### F1 score"
   ]
  },
  {
   "cell_type": "code",
   "execution_count": 45,
   "metadata": {
    "scrolled": true,
    "slideshow": {
     "slide_type": "subslide"
    }
   },
   "outputs": [
    {
     "data": {
      "text/plain": [
       "Text(0.5,1,'Model F1 Score Comparison')"
      ]
     },
     "execution_count": 45,
     "metadata": {},
     "output_type": "execute_result"
    },
    {
     "data": {
      "image/png": "[encoded data removed]",
      "text/plain": [
       "<Figure size 576x576 with 1 Axes>"
      ]
     },
     "metadata": {
      "needs_background": "light"
     },
     "output_type": "display_data"
    }
   ],
   "source": [
    "model_f1_score = pd.Series(data=[sgd_f1, k_f1, lr_f1, dtc_f1, svc_f1, rf_f1, etc_f1, \n",
    "                           abc_f1, gbc_f1, bc_f1], \n",
    "                           index=['Stochastic GD','KNN','logistic Regression','decision tree', 'SVM', 'Random Forest',\n",
    "                                'Extra Tree', 'Ada Boost' , 'Gradient Boost', 'Bagging Classfier'])\n",
    "fig= plt.figure(figsize=(8,8))\n",
    "model_f1_score.sort_values().plot.barh()\n",
    "plt.title('Model F1 Score Comparison')"
   ]
  },
  {
   "cell_type": "markdown",
   "metadata": {
    "slideshow": {
     "slide_type": "slide"
    }
   },
   "source": [
    "#### AUC score"
   ]
  },
  {
   "cell_type": "code",
   "execution_count": 46,
   "metadata": {
    "slideshow": {
     "slide_type": "subslide"
    }
   },
   "outputs": [
    {
     "data": {
      "text/plain": [
       "Text(0.5,1,'Model AUC Score Comparison')"
      ]
     },
     "execution_count": 46,
     "metadata": {},
     "output_type": "execute_result"
    },
    {
     "data": {
      "image/png": "[encoded data removed]",
      "text/plain": [
       "<Figure size 576x576 with 1 Axes>"
      ]
     },
     "metadata": {
      "needs_background": "light"
     },
     "output_type": "display_data"
    }
   ],
   "source": [
    "model_auc_score = pd.Series(data=[sgd_auc, k_auc, lr_auc, dtc_auc, svc_auc, rf_auc, etc_auc, \n",
    "                           abc_auc, gbc_auc, bc_auc], \n",
    "                           index=['Stochastic GD','KNN','logistic Regression','decision tree', 'SVM', 'Random Forest',\n",
    "                                'Extra Tree', 'Ada Boost' , 'Gradient Boost', 'Bagging Classfier'])\n",
    "fig= plt.figure(figsize=(8,8))\n",
    "model_auc_score.sort_values().plot.barh()\n",
    "plt.title('Model AUC Score Comparison')"
   ]
  },
  {
   "cell_type": "markdown",
   "metadata": {
    "slideshow": {
     "slide_type": "slide"
    }
   },
   "source": [
    "### Based on F1 score and AUC score :\n",
    "#### Stochastic Gradient Descent\n",
    "#### Logistic Regression Classifier\n",
    "#### Bagging Classifier\n",
    "#### Ada Boost Classifier"
   ]
  },
  {
   "cell_type": "markdown",
   "metadata": {
    "slideshow": {
     "slide_type": "slide"
    }
   },
   "source": [
    "### 6. Ensembling best classifiers"
   ]
  },
  {
   "cell_type": "markdown",
   "metadata": {
    "slideshow": {
     "slide_type": "fragment"
    }
   },
   "source": [
    "### k) Voting Classifier"
   ]
  },
  {
   "cell_type": "code",
   "execution_count": 47,
   "metadata": {
    "slideshow": {
     "slide_type": "subslide"
    }
   },
   "outputs": [
    {
     "name": "stdout",
     "output_type": "stream",
     "text": [
      "Accuracy is: 0.956533646322\n"
     ]
    },
    {
     "data": {
      "text/plain": [
       "Text(0.5,1,'F1 Score = 0.9527272727272726')"
      ]
     },
     "execution_count": 47,
     "metadata": {},
     "output_type": "execute_result"
    },
    {
     "data": {
      "image/png": "[encoded data removed]",
      "text/plain": [
       "<Figure size 720x360 with 2 Axes>"
      ]
     },
     "metadata": {
      "needs_background": "light"
     },
     "output_type": "display_data"
    },
    {
     "data": {
      "image/png": "[encoded data removed]",
      "text/plain": [
       "<Figure size 432x288 with 2 Axes>"
      ]
     },
     "metadata": {
      "needs_background": "light"
     },
     "output_type": "display_data"
    }
   ],
   "source": [
    "from sklearn.ensemble import VotingClassifier\n",
    "vc=VotingClassifier(voting='soft', estimators=[('bg',bc),('abc',abc),('lr',lr)])\n",
    "score_vc= CrossVal(Xtrain,Ytrain,vc)\n",
    "print('Accuracy is:',score_vc)\n",
    "vc.fit(Xtrain,Ytrain)\n",
    "plotting(Ytest,vc.predict_proba(Xtest))\n",
    "\n",
    "fig=plt.figure()\n",
    "sns.heatmap(confusion_matrix(Ytest,vc.predict(Xtest)), annot= True, cmap='Greys')\n",
    "\n",
    "vc_f1=f1_score(Ytest,vc.predict(Xtest))\n",
    "plt.title('F1 Score = {}'.format(vc_f1))"
   ]
  },
  {
   "cell_type": "markdown",
   "metadata": {
    "slideshow": {
     "slide_type": "slide"
    }
   },
   "source": [
    "#### Feature importance"
   ]
  },
  {
   "cell_type": "code",
   "execution_count": 48,
   "metadata": {
    "slideshow": {
     "slide_type": "fragment"
    }
   },
   "outputs": [
    {
     "data": {
      "text/plain": [
       "<matplotlib.axes._subplots.AxesSubplot at 0x1c8bba49898>"
      ]
     },
     "execution_count": 48,
     "metadata": {},
     "output_type": "execute_result"
    },
    {
     "data": {
      "image/png": "[encoded data removed]",
      "text/plain": [
       "<Figure size 576x576 with 1 Axes>"
      ]
     },
     "metadata": {
      "needs_background": "light"
     },
     "output_type": "display_data"
    }
   ],
   "source": [
    "pd.DataFrame(rf.feature_importances_,index=Xtrain.columns).sort_values(by=0).plot.barh(figsize=(8,8))"
   ]
  },
  {
   "cell_type": "markdown",
   "metadata": {
    "slideshow": {
     "slide_type": "slide"
    }
   },
   "source": [
    "### What if we use Algorithm which can do Bagging and Boosting both  ?"
   ]
  },
  {
   "cell_type": "markdown",
   "metadata": {
    "slideshow": {
     "slide_type": "fragment"
    }
   },
   "source": [
    "### Light gradient boosting "
   ]
  },
  {
   "cell_type": "markdown",
   "metadata": {
    "slideshow": {
     "slide_type": "slide"
    }
   },
   "source": [
    "### 6) Advanced model & Hyper Parameter Tuning\n"
   ]
  },
  {
   "cell_type": "code",
   "execution_count": 49,
   "metadata": {
    "slideshow": {
     "slide_type": "slide"
    }
   },
   "outputs": [
    {
     "data": {
      "text/plain": [
       "\"from bayes_opt import BayesianOptimization \\n\\ndef hyperparametertuning(Xtrain, Ytrain,init_round=20, opt_round=10, learning_rate=0.01, n_estimators=1000,n_folds=10):<br/>\\n    lgb_train=lgb.Dataset(trainset, trainset_label)<br/>\\n    \\n    def tuning(max_depth, num_leaves, lambda_l1, lambda_l2, feature_fraction,colsample_bytree,subsample,bagging_fraction, min_data_in_leaf, min_gain_to_split):\\n        params = {'objective':'binary', 'metric':'auc' ,'num_boosting_round' : n_estimators ,\\n                'learning_rate' : learning_rate}\\n        params['num_leaves'] = round(int(num_leaves))\\n        params['max_depth'] = round(int(max_depth))\\n        params['feature_fraction'] = max(min(feature_fraction,0),1)\\n        params['bagging_fraction'] = max(min(bagging_fraction,0),1)\\n        params['colsample_bytree'] = max(min(colsample_bytree,0),1)\\n        params['subsample'] = max(min(subsample,0),1)\\n        params['min_data_in_leaf'] = round(int(min_data_in_leaf))\\n        params['min_gain_to_split'] = min_gain_to_split\\n        params['lambda_l1'] = lambda_l1\\n        params['lambda_l2'] = lambda_l2\\n        lgb_cv = lgb.cv(params, lgb_train, metrics = ['auc'])\\n        return max(lgb_cv['auc-mean'])\\n    \\n    optimize = BayesianOptimization(tuning,{'num_leaves':(20,60), 'max_depth':(3,9), 'feature_fraction':(0,1),\\n                                           'bagging_fraction':(0,1), 'min_data_in_leaf':(5,100),'subsample':(0,1),\\n                                            'min_gain_to_split':(0.0001,0.9), 'lambda_l1': (0,2),'lambda_l2':(0,2),\\n                                           'colsample_bytree':(0,1)})\\n    optimize.maximize(init_round, opt_round)\\n    return optimize\""
      ]
     },
     "execution_count": 49,
     "metadata": {},
     "output_type": "execute_result"
    }
   ],
   "source": [
    "'''from bayes_opt import BayesianOptimization \n",
    "\n",
    "def hyperparametertuning(Xtrain, Ytrain,init_round=20, opt_round=10, learning_rate=0.01, n_estimators=1000,n_folds=10):<br/>\n",
    "    lgb_train=lgb.Dataset(trainset, trainset_label)<br/>\n",
    "    \n",
    "    def tuning(max_depth, num_leaves, lambda_l1, lambda_l2, feature_fraction,colsample_bytree,subsample,bagging_fraction, min_data_in_leaf, min_gain_to_split):\n",
    "        params = {'objective':'binary', 'metric':'auc' ,'num_boosting_round' : n_estimators ,\n",
    "                'learning_rate' : learning_rate}\n",
    "        params['num_leaves'] = round(int(num_leaves))\n",
    "        params['max_depth'] = round(int(max_depth))\n",
    "        params['feature_fraction'] = max(min(feature_fraction,0),1)\n",
    "        params['bagging_fraction'] = max(min(bagging_fraction,0),1)\n",
    "        params['colsample_bytree'] = max(min(colsample_bytree,0),1)\n",
    "        params['subsample'] = max(min(subsample,0),1)\n",
    "        params['min_data_in_leaf'] = round(int(min_data_in_leaf))\n",
    "        params['min_gain_to_split'] = min_gain_to_split\n",
    "        params['lambda_l1'] = lambda_l1\n",
    "        params['lambda_l2'] = lambda_l2\n",
    "        lgb_cv = lgb.cv(params, lgb_train, metrics = ['auc'])\n",
    "        return max(lgb_cv['auc-mean'])\n",
    "    \n",
    "    optimize = BayesianOptimization(tuning,{'num_leaves':(20,60), 'max_depth':(3,9), 'feature_fraction':(0,1),\n",
    "                                           'bagging_fraction':(0,1), 'min_data_in_leaf':(5,100),'subsample':(0,1),\n",
    "                                            'min_gain_to_split':(0.0001,0.9), 'lambda_l1': (0,2),'lambda_l2':(0,2),\n",
    "                                           'colsample_bytree':(0,1)})\n",
    "    optimize.maximize(init_round, opt_round)\n",
    "    return optimize'''                        "
   ]
  },
  {
   "cell_type": "code",
   "execution_count": 50,
   "metadata": {
    "slideshow": {
     "slide_type": "slide"
    }
   },
   "outputs": [],
   "source": [
    "param = {\n",
    "  'bagging_fraction': 0.6132942194801654,\n",
    "  'colsample_bytree': 0.3787126672691248,\n",
    "  'feature_fraction': 0.9952813805616908,\n",
    "  'lambda_l1': 0.14013984921443146,\n",
    "  'lambda_l2': 0.17966112145500235,\n",
    "  'max_depth': 8,\n",
    "  'min_data_in_leaf': 9,\n",
    "  'min_gain_to_split': 0.013724581067876487,\n",
    "  'num_leaves': 21,\n",
    "  'subsample': 0.03366508401866353,\n",
    "  'metric':'auc',\n",
    "  'objective':'binary',\n",
    "  'booster':'gbdt'}"
   ]
  },
  {
   "cell_type": "code",
   "execution_count": 51,
   "metadata": {
    "slideshow": {
     "slide_type": "slide"
    }
   },
   "outputs": [
    {
     "name": "stdout",
     "output_type": "stream",
     "text": [
      "[1]\tvalid_0's auc: 0.964587\n",
      "Training until validation scores don't improve for 700 rounds.\n",
      "[2]\tvalid_0's auc: 0.964587\n",
      "[3]\tvalid_0's auc: 0.964587\n",
      "[4]\tvalid_0's auc: 0.964587\n",
      "[5]\tvalid_0's auc: 0.964587\n",
      "[6]\tvalid_0's auc: 0.969136\n",
      "[7]\tvalid_0's auc: 0.969136\n",
      "[8]\tvalid_0's auc: 0.969136\n",
      "[9]\tvalid_0's auc: 0.969136\n",
      "[10]\tvalid_0's auc: 0.969136\n",
      "[11]\tvalid_0's auc: 0.969136\n",
      "[12]\tvalid_0's auc: 0.969136\n",
      "[13]\tvalid_0's auc: 0.97271\n",
      "[14]\tvalid_0's auc: 0.973706\n",
      "[15]\tvalid_0's auc: 0.979554\n",
      "[16]\tvalid_0's auc: 0.980377\n",
      "[17]\tvalid_0's auc: 0.979662\n",
      "[18]\tvalid_0's auc: 0.980615\n",
      "[19]\tvalid_0's auc: 0.980269\n",
      "[20]\tvalid_0's auc: 0.980312\n",
      "[21]\tvalid_0's auc: 0.980312\n",
      "[22]\tvalid_0's auc: 0.980312\n",
      "[23]\tvalid_0's auc: 0.980312\n",
      "[24]\tvalid_0's auc: 0.980312\n",
      "[25]\tvalid_0's auc: 0.980312\n",
      "[26]\tvalid_0's auc: 0.980312\n",
      "[27]\tvalid_0's auc: 0.980312\n",
      "[28]\tvalid_0's auc: 0.980312\n",
      "[29]\tvalid_0's auc: 0.980312\n",
      "[30]\tvalid_0's auc: 0.98016\n",
      "[31]\tvalid_0's auc: 0.98003\n",
      "[32]\tvalid_0's auc: 0.9799\n",
      "[33]\tvalid_0's auc: 0.9799\n",
      "[34]\tvalid_0's auc: 0.978471\n",
      "[35]\tvalid_0's auc: 0.978471\n",
      "[36]\tvalid_0's auc: 0.97964\n",
      "[37]\tvalid_0's auc: 0.97964\n",
      "[38]\tvalid_0's auc: 0.979727\n",
      "[39]\tvalid_0's auc: 0.979727\n",
      "[40]\tvalid_0's auc: 0.976175\n",
      "[41]\tvalid_0's auc: 0.976262\n",
      "[42]\tvalid_0's auc: 0.976262\n",
      "[43]\tvalid_0's auc: 0.976262\n",
      "[44]\tvalid_0's auc: 0.976262\n",
      "[45]\tvalid_0's auc: 0.976262\n",
      "[46]\tvalid_0's auc: 0.976262\n",
      "[47]\tvalid_0's auc: 0.976262\n",
      "[48]\tvalid_0's auc: 0.976262\n",
      "[49]\tvalid_0's auc: 0.976045\n",
      "[50]\tvalid_0's auc: 0.976045\n",
      "[51]\tvalid_0's auc: 0.975655\n",
      "[52]\tvalid_0's auc: 0.975655\n",
      "[53]\tvalid_0's auc: 0.974312\n",
      "[54]\tvalid_0's auc: 0.974269\n",
      "[55]\tvalid_0's auc: 0.974269\n",
      "[56]\tvalid_0's auc: 0.974269\n",
      "[57]\tvalid_0's auc: 0.974269\n",
      "[58]\tvalid_0's auc: 0.974269\n",
      "[59]\tvalid_0's auc: 0.974269\n",
      "[60]\tvalid_0's auc: 0.974269\n",
      "[61]\tvalid_0's auc: 0.974269\n",
      "[62]\tvalid_0's auc: 0.974356\n",
      "[63]\tvalid_0's auc: 0.974356\n",
      "[64]\tvalid_0's auc: 0.974356\n",
      "[65]\tvalid_0's auc: 0.974356\n",
      "[66]\tvalid_0's auc: 0.974356\n",
      "[67]\tvalid_0's auc: 0.974356\n",
      "[68]\tvalid_0's auc: 0.974356\n",
      "[69]\tvalid_0's auc: 0.974356\n",
      "[70]\tvalid_0's auc: 0.974356\n",
      "[71]\tvalid_0's auc: 0.974356\n",
      "[72]\tvalid_0's auc: 0.974356\n",
      "[73]\tvalid_0's auc: 0.974356\n",
      "[74]\tvalid_0's auc: 0.974356\n",
      "[75]\tvalid_0's auc: 0.974356\n",
      "[76]\tvalid_0's auc: 0.974356\n",
      "[77]\tvalid_0's auc: 0.974356\n",
      "[78]\tvalid_0's auc: 0.974356\n",
      "[79]\tvalid_0's auc: 0.974312\n",
      "[80]\tvalid_0's auc: 0.974312\n",
      "[81]\tvalid_0's auc: 0.974269\n",
      "[82]\tvalid_0's auc: 0.974269\n",
      "[83]\tvalid_0's auc: 0.974269\n",
      "[84]\tvalid_0's auc: 0.974312\n",
      "[85]\tvalid_0's auc: 0.974312\n",
      "[86]\tvalid_0's auc: 0.974269\n",
      "[87]\tvalid_0's auc: 0.974269\n",
      "[88]\tvalid_0's auc: 0.974269\n",
      "[89]\tvalid_0's auc: 0.974269\n",
      "[90]\tvalid_0's auc: 0.974269\n",
      "[91]\tvalid_0's auc: 0.974269\n",
      "[92]\tvalid_0's auc: 0.974269\n",
      "[93]\tvalid_0's auc: 0.974269\n",
      "[94]\tvalid_0's auc: 0.974269\n",
      "[95]\tvalid_0's auc: 0.974269\n",
      "[96]\tvalid_0's auc: 0.974269\n",
      "[97]\tvalid_0's auc: 0.974269\n",
      "[98]\tvalid_0's auc: 0.974269\n",
      "[99]\tvalid_0's auc: 0.974269\n",
      "[100]\tvalid_0's auc: 0.974269\n",
      "[101]\tvalid_0's auc: 0.974269\n",
      "[102]\tvalid_0's auc: 0.974269\n",
      "[103]\tvalid_0's auc: 0.974269\n",
      "[104]\tvalid_0's auc: 0.974269\n",
      "[105]\tvalid_0's auc: 0.974269\n",
      "[106]\tvalid_0's auc: 0.974269\n",
      "[107]\tvalid_0's auc: 0.974269\n",
      "[108]\tvalid_0's auc: 0.974269\n",
      "[109]\tvalid_0's auc: 0.974269\n",
      "[110]\tvalid_0's auc: 0.974269\n",
      "[111]\tvalid_0's auc: 0.974269\n",
      "[112]\tvalid_0's auc: 0.974269\n",
      "[113]\tvalid_0's auc: 0.974269\n",
      "[114]\tvalid_0's auc: 0.974269\n",
      "[115]\tvalid_0's auc: 0.974269\n",
      "[116]\tvalid_0's auc: 0.974269\n",
      "[117]\tvalid_0's auc: 0.974269\n",
      "[118]\tvalid_0's auc: 0.974269\n",
      "[119]\tvalid_0's auc: 0.974269\n",
      "[120]\tvalid_0's auc: 0.974269\n",
      "[121]\tvalid_0's auc: 0.974269\n",
      "[122]\tvalid_0's auc: 0.974269\n",
      "[123]\tvalid_0's auc: 0.974269\n",
      "[124]\tvalid_0's auc: 0.974269\n",
      "[125]\tvalid_0's auc: 0.974269\n",
      "[126]\tvalid_0's auc: 0.974269\n",
      "[127]\tvalid_0's auc: 0.974269\n",
      "[128]\tvalid_0's auc: 0.974269\n",
      "[129]\tvalid_0's auc: 0.974269\n",
      "[130]\tvalid_0's auc: 0.974269\n",
      "[131]\tvalid_0's auc: 0.974269\n",
      "[132]\tvalid_0's auc: 0.974269\n",
      "[133]\tvalid_0's auc: 0.974269\n",
      "[134]\tvalid_0's auc: 0.974269\n",
      "[135]\tvalid_0's auc: 0.974269\n",
      "[136]\tvalid_0's auc: 0.974269\n",
      "[137]\tvalid_0's auc: 0.974269\n",
      "[138]\tvalid_0's auc: 0.974269\n",
      "[139]\tvalid_0's auc: 0.974269\n",
      "[140]\tvalid_0's auc: 0.974269\n",
      "[141]\tvalid_0's auc: 0.974269\n",
      "[142]\tvalid_0's auc: 0.974269\n",
      "[143]\tvalid_0's auc: 0.974269\n",
      "[144]\tvalid_0's auc: 0.974269\n",
      "[145]\tvalid_0's auc: 0.974269\n",
      "[146]\tvalid_0's auc: 0.974269\n",
      "[147]\tvalid_0's auc: 0.974269\n",
      "[148]\tvalid_0's auc: 0.974269\n",
      "[149]\tvalid_0's auc: 0.974269\n",
      "[150]\tvalid_0's auc: 0.974269\n",
      "[151]\tvalid_0's auc: 0.974269\n",
      "[152]\tvalid_0's auc: 0.974269\n",
      "[153]\tvalid_0's auc: 0.974269\n",
      "[154]\tvalid_0's auc: 0.974269\n",
      "[155]\tvalid_0's auc: 0.974269\n",
      "[156]\tvalid_0's auc: 0.974269\n",
      "[157]\tvalid_0's auc: 0.974269\n",
      "[158]\tvalid_0's auc: 0.974269\n",
      "[159]\tvalid_0's auc: 0.974269\n",
      "[160]\tvalid_0's auc: 0.974269\n",
      "[161]\tvalid_0's auc: 0.974269\n",
      "[162]\tvalid_0's auc: 0.974269\n",
      "[163]\tvalid_0's auc: 0.974269\n",
      "[164]\tvalid_0's auc: 0.974269\n",
      "[165]\tvalid_0's auc: 0.974269\n",
      "[166]\tvalid_0's auc: 0.974269\n",
      "[167]\tvalid_0's auc: 0.974269\n",
      "[168]\tvalid_0's auc: 0.974269\n",
      "[169]\tvalid_0's auc: 0.974269\n",
      "[170]\tvalid_0's auc: 0.974269\n",
      "[171]\tvalid_0's auc: 0.974269\n",
      "[172]\tvalid_0's auc: 0.974269\n",
      "[173]\tvalid_0's auc: 0.974269\n",
      "[174]\tvalid_0's auc: 0.974269\n",
      "[175]\tvalid_0's auc: 0.974269\n",
      "[176]\tvalid_0's auc: 0.974269\n",
      "[177]\tvalid_0's auc: 0.974269\n",
      "[178]\tvalid_0's auc: 0.974269\n",
      "[179]\tvalid_0's auc: 0.974269\n",
      "[180]\tvalid_0's auc: 0.974269\n",
      "[181]\tvalid_0's auc: 0.974269\n",
      "[182]\tvalid_0's auc: 0.974269\n",
      "[183]\tvalid_0's auc: 0.974269\n",
      "[184]\tvalid_0's auc: 0.974269\n",
      "[185]\tvalid_0's auc: 0.974269\n",
      "[186]\tvalid_0's auc: 0.974269\n",
      "[187]\tvalid_0's auc: 0.974269\n",
      "[188]\tvalid_0's auc: 0.974269\n",
      "[189]\tvalid_0's auc: 0.974269\n",
      "[190]\tvalid_0's auc: 0.974269\n",
      "[191]\tvalid_0's auc: 0.974269\n",
      "[192]\tvalid_0's auc: 0.974269\n",
      "[193]\tvalid_0's auc: 0.974269\n",
      "[194]\tvalid_0's auc: 0.974269\n",
      "[195]\tvalid_0's auc: 0.974269\n",
      "[196]\tvalid_0's auc: 0.974269\n",
      "[197]\tvalid_0's auc: 0.974269\n",
      "[198]\tvalid_0's auc: 0.974269\n",
      "[199]\tvalid_0's auc: 0.974269\n",
      "[200]\tvalid_0's auc: 0.974269\n",
      "[201]\tvalid_0's auc: 0.974269\n",
      "[202]\tvalid_0's auc: 0.974269\n",
      "[203]\tvalid_0's auc: 0.974269\n",
      "[204]\tvalid_0's auc: 0.974269\n",
      "[205]\tvalid_0's auc: 0.974269\n",
      "[206]\tvalid_0's auc: 0.974269\n",
      "[207]\tvalid_0's auc: 0.974269\n",
      "[208]\tvalid_0's auc: 0.974269\n",
      "[209]\tvalid_0's auc: 0.974269\n",
      "[210]\tvalid_0's auc: 0.974269\n",
      "[211]\tvalid_0's auc: 0.974269\n",
      "[212]\tvalid_0's auc: 0.974269\n",
      "[213]\tvalid_0's auc: 0.974269\n",
      "[214]\tvalid_0's auc: 0.974269\n",
      "[215]\tvalid_0's auc: 0.974269\n",
      "[216]\tvalid_0's auc: 0.974269\n",
      "[217]\tvalid_0's auc: 0.974269\n",
      "[218]\tvalid_0's auc: 0.974269\n",
      "[219]\tvalid_0's auc: 0.974269\n",
      "[220]\tvalid_0's auc: 0.974269\n",
      "[221]\tvalid_0's auc: 0.974269\n",
      "[222]\tvalid_0's auc: 0.974269\n",
      "[223]\tvalid_0's auc: 0.974269\n",
      "[224]\tvalid_0's auc: 0.974269\n",
      "[225]\tvalid_0's auc: 0.974269\n",
      "[226]\tvalid_0's auc: 0.974269\n",
      "[227]\tvalid_0's auc: 0.974269\n",
      "[228]\tvalid_0's auc: 0.974269\n",
      "[229]\tvalid_0's auc: 0.974269\n",
      "[230]\tvalid_0's auc: 0.974269\n",
      "[231]\tvalid_0's auc: 0.974269\n",
      "[232]\tvalid_0's auc: 0.974269\n",
      "[233]\tvalid_0's auc: 0.974269\n",
      "[234]\tvalid_0's auc: 0.974269\n",
      "[235]\tvalid_0's auc: 0.974269\n",
      "[236]\tvalid_0's auc: 0.974269\n",
      "[237]\tvalid_0's auc: 0.974269\n",
      "[238]\tvalid_0's auc: 0.974269\n",
      "[239]\tvalid_0's auc: 0.974269\n",
      "[240]\tvalid_0's auc: 0.974269\n",
      "[241]\tvalid_0's auc: 0.974269\n",
      "[242]\tvalid_0's auc: 0.974269\n",
      "[243]\tvalid_0's auc: 0.974269\n",
      "[244]\tvalid_0's auc: 0.974269\n",
      "[245]\tvalid_0's auc: 0.974269\n",
      "[246]\tvalid_0's auc: 0.974269\n",
      "[247]\tvalid_0's auc: 0.974269\n",
      "[248]\tvalid_0's auc: 0.974269\n",
      "[249]\tvalid_0's auc: 0.974269\n",
      "[250]\tvalid_0's auc: 0.974269\n",
      "[251]\tvalid_0's auc: 0.974269\n",
      "[252]\tvalid_0's auc: 0.974269\n",
      "[253]\tvalid_0's auc: 0.974269\n",
      "[254]\tvalid_0's auc: 0.974269\n",
      "[255]\tvalid_0's auc: 0.974269\n",
      "[256]\tvalid_0's auc: 0.974269\n",
      "[257]\tvalid_0's auc: 0.974269\n",
      "[258]\tvalid_0's auc: 0.974269\n",
      "[259]\tvalid_0's auc: 0.974269\n",
      "[260]\tvalid_0's auc: 0.974269\n",
      "[261]\tvalid_0's auc: 0.974269\n",
      "[262]\tvalid_0's auc: 0.974269\n",
      "[263]\tvalid_0's auc: 0.974269\n",
      "[264]\tvalid_0's auc: 0.974269\n",
      "[265]\tvalid_0's auc: 0.974269\n",
      "[266]\tvalid_0's auc: 0.974269\n",
      "[267]\tvalid_0's auc: 0.974269\n",
      "[268]\tvalid_0's auc: 0.974269\n",
      "[269]\tvalid_0's auc: 0.974269\n",
      "[270]\tvalid_0's auc: 0.974269\n",
      "[271]\tvalid_0's auc: 0.974269\n",
      "[272]\tvalid_0's auc: 0.974269\n",
      "[273]\tvalid_0's auc: 0.974269\n",
      "[274]\tvalid_0's auc: 0.974269\n",
      "[275]\tvalid_0's auc: 0.974269\n",
      "[276]\tvalid_0's auc: 0.974269\n",
      "[277]\tvalid_0's auc: 0.974269\n",
      "[278]\tvalid_0's auc: 0.974269\n",
      "[279]\tvalid_0's auc: 0.974269\n",
      "[280]\tvalid_0's auc: 0.974269\n",
      "[281]\tvalid_0's auc: 0.974269\n",
      "[282]\tvalid_0's auc: 0.974269\n",
      "[283]\tvalid_0's auc: 0.974269\n",
      "[284]\tvalid_0's auc: 0.974269\n",
      "[285]\tvalid_0's auc: 0.974269\n",
      "[286]\tvalid_0's auc: 0.974269\n",
      "[287]\tvalid_0's auc: 0.974269\n",
      "[288]\tvalid_0's auc: 0.974269\n",
      "[289]\tvalid_0's auc: 0.974269\n",
      "[290]\tvalid_0's auc: 0.974269\n",
      "[291]\tvalid_0's auc: 0.974269\n",
      "[292]\tvalid_0's auc: 0.974269\n",
      "[293]\tvalid_0's auc: 0.974269\n",
      "[294]\tvalid_0's auc: 0.974269\n",
      "[295]\tvalid_0's auc: 0.974269\n",
      "[296]\tvalid_0's auc: 0.974269\n",
      "[297]\tvalid_0's auc: 0.974269\n",
      "[298]\tvalid_0's auc: 0.974269\n",
      "[299]\tvalid_0's auc: 0.974269\n",
      "[300]\tvalid_0's auc: 0.974269\n",
      "[301]\tvalid_0's auc: 0.974269\n",
      "[302]\tvalid_0's auc: 0.974269\n",
      "[303]\tvalid_0's auc: 0.974269\n",
      "[304]\tvalid_0's auc: 0.974269\n",
      "[305]\tvalid_0's auc: 0.974269\n",
      "[306]\tvalid_0's auc: 0.974269\n",
      "[307]\tvalid_0's auc: 0.974269\n",
      "[308]\tvalid_0's auc: 0.974269\n",
      "[309]\tvalid_0's auc: 0.974269\n",
      "[310]\tvalid_0's auc: 0.974269\n",
      "[311]\tvalid_0's auc: 0.974269\n",
      "[312]\tvalid_0's auc: 0.974269\n",
      "[313]\tvalid_0's auc: 0.974269\n",
      "[314]\tvalid_0's auc: 0.974269\n",
      "[315]\tvalid_0's auc: 0.974269\n",
      "[316]\tvalid_0's auc: 0.974269\n",
      "[317]\tvalid_0's auc: 0.974269\n",
      "[318]\tvalid_0's auc: 0.974269\n",
      "[319]\tvalid_0's auc: 0.974269\n",
      "[320]\tvalid_0's auc: 0.974269\n",
      "[321]\tvalid_0's auc: 0.974269\n",
      "[322]\tvalid_0's auc: 0.974269\n",
      "[323]\tvalid_0's auc: 0.974269\n",
      "[324]\tvalid_0's auc: 0.974269\n",
      "[325]\tvalid_0's auc: 0.974269\n",
      "[326]\tvalid_0's auc: 0.974269\n",
      "[327]\tvalid_0's auc: 0.974269\n",
      "[328]\tvalid_0's auc: 0.974269\n",
      "[329]\tvalid_0's auc: 0.974269\n",
      "[330]\tvalid_0's auc: 0.974269\n",
      "[331]\tvalid_0's auc: 0.974269\n",
      "[332]\tvalid_0's auc: 0.974269\n",
      "[333]\tvalid_0's auc: 0.974269\n",
      "[334]\tvalid_0's auc: 0.974269\n",
      "[335]\tvalid_0's auc: 0.974269\n",
      "[336]\tvalid_0's auc: 0.974269\n",
      "[337]\tvalid_0's auc: 0.974269\n",
      "[338]\tvalid_0's auc: 0.974269\n",
      "[339]\tvalid_0's auc: 0.974269\n",
      "[340]\tvalid_0's auc: 0.974269\n",
      "[341]\tvalid_0's auc: 0.974269\n",
      "[342]\tvalid_0's auc: 0.974269\n",
      "[343]\tvalid_0's auc: 0.974269\n",
      "[344]\tvalid_0's auc: 0.974269\n",
      "[345]\tvalid_0's auc: 0.974269\n",
      "[346]\tvalid_0's auc: 0.974269\n",
      "[347]\tvalid_0's auc: 0.974269\n",
      "[348]\tvalid_0's auc: 0.974269\n",
      "[349]\tvalid_0's auc: 0.974269\n",
      "[350]\tvalid_0's auc: 0.974269\n",
      "[351]\tvalid_0's auc: 0.974269\n",
      "[352]\tvalid_0's auc: 0.974269\n",
      "[353]\tvalid_0's auc: 0.974269\n",
      "[354]\tvalid_0's auc: 0.974269\n",
      "[355]\tvalid_0's auc: 0.974269\n",
      "[356]\tvalid_0's auc: 0.974269\n",
      "[357]\tvalid_0's auc: 0.974269\n",
      "[358]\tvalid_0's auc: 0.974269\n",
      "[359]\tvalid_0's auc: 0.974269\n",
      "[360]\tvalid_0's auc: 0.974269\n",
      "[361]\tvalid_0's auc: 0.974269\n",
      "[362]\tvalid_0's auc: 0.974269\n",
      "[363]\tvalid_0's auc: 0.974269\n",
      "[364]\tvalid_0's auc: 0.974269\n",
      "[365]\tvalid_0's auc: 0.974269\n",
      "[366]\tvalid_0's auc: 0.974269\n",
      "[367]\tvalid_0's auc: 0.974269\n",
      "[368]\tvalid_0's auc: 0.974269\n",
      "[369]\tvalid_0's auc: 0.974269\n",
      "[370]\tvalid_0's auc: 0.974269\n",
      "[371]\tvalid_0's auc: 0.974269\n",
      "[372]\tvalid_0's auc: 0.974269\n",
      "[373]\tvalid_0's auc: 0.974269\n",
      "[374]\tvalid_0's auc: 0.974269\n",
      "[375]\tvalid_0's auc: 0.974269\n",
      "[376]\tvalid_0's auc: 0.974269\n",
      "[377]\tvalid_0's auc: 0.974269\n",
      "[378]\tvalid_0's auc: 0.974269\n",
      "[379]\tvalid_0's auc: 0.974269\n",
      "[380]\tvalid_0's auc: 0.974269\n",
      "[381]\tvalid_0's auc: 0.974269\n",
      "[382]\tvalid_0's auc: 0.974269\n",
      "[383]\tvalid_0's auc: 0.974269\n",
      "[384]\tvalid_0's auc: 0.974269\n",
      "[385]\tvalid_0's auc: 0.974269\n",
      "[386]\tvalid_0's auc: 0.974269\n",
      "[387]\tvalid_0's auc: 0.974269\n",
      "[388]\tvalid_0's auc: 0.974269\n",
      "[389]\tvalid_0's auc: 0.974269\n",
      "[390]\tvalid_0's auc: 0.974269\n",
      "[391]\tvalid_0's auc: 0.974269\n",
      "[392]\tvalid_0's auc: 0.974269\n",
      "[393]\tvalid_0's auc: 0.974269\n",
      "[394]\tvalid_0's auc: 0.974269\n",
      "[395]\tvalid_0's auc: 0.974269\n",
      "[396]\tvalid_0's auc: 0.974269\n",
      "[397]\tvalid_0's auc: 0.974269\n",
      "[398]\tvalid_0's auc: 0.974269\n",
      "[399]\tvalid_0's auc: 0.974269\n",
      "[400]\tvalid_0's auc: 0.974269\n",
      "[401]\tvalid_0's auc: 0.974269\n",
      "[402]\tvalid_0's auc: 0.974269\n",
      "[403]\tvalid_0's auc: 0.974269\n",
      "[404]\tvalid_0's auc: 0.974269\n",
      "[405]\tvalid_0's auc: 0.974269\n",
      "[406]\tvalid_0's auc: 0.974269\n",
      "[407]\tvalid_0's auc: 0.974269\n",
      "[408]\tvalid_0's auc: 0.974269\n",
      "[409]\tvalid_0's auc: 0.974269\n",
      "[410]\tvalid_0's auc: 0.974269\n",
      "[411]\tvalid_0's auc: 0.974269\n",
      "[412]\tvalid_0's auc: 0.974269\n",
      "[413]\tvalid_0's auc: 0.974269\n",
      "[414]\tvalid_0's auc: 0.974269\n",
      "[415]\tvalid_0's auc: 0.974269\n",
      "[416]\tvalid_0's auc: 0.974269\n",
      "[417]\tvalid_0's auc: 0.974269\n",
      "[418]\tvalid_0's auc: 0.974269\n",
      "[419]\tvalid_0's auc: 0.974269\n",
      "[420]\tvalid_0's auc: 0.974269\n",
      "[421]\tvalid_0's auc: 0.974269\n",
      "[422]\tvalid_0's auc: 0.974269\n",
      "[423]\tvalid_0's auc: 0.974269\n",
      "[424]\tvalid_0's auc: 0.974269\n",
      "[425]\tvalid_0's auc: 0.974269\n",
      "[426]\tvalid_0's auc: 0.974269\n",
      "[427]\tvalid_0's auc: 0.974269\n",
      "[428]\tvalid_0's auc: 0.974269\n",
      "[429]\tvalid_0's auc: 0.974269\n",
      "[430]\tvalid_0's auc: 0.974269\n",
      "[431]\tvalid_0's auc: 0.974269\n",
      "[432]\tvalid_0's auc: 0.974269\n",
      "[433]\tvalid_0's auc: 0.974269\n"
     ]
    },
    {
     "name": "stdout",
     "output_type": "stream",
     "text": [
      "[434]\tvalid_0's auc: 0.974269\n",
      "[435]\tvalid_0's auc: 0.974269\n",
      "[436]\tvalid_0's auc: 0.974269\n",
      "[437]\tvalid_0's auc: 0.974269\n",
      "[438]\tvalid_0's auc: 0.974269\n",
      "[439]\tvalid_0's auc: 0.974269\n",
      "[440]\tvalid_0's auc: 0.974269\n",
      "[441]\tvalid_0's auc: 0.974269\n",
      "[442]\tvalid_0's auc: 0.974269\n",
      "[443]\tvalid_0's auc: 0.974269\n",
      "[444]\tvalid_0's auc: 0.974269\n",
      "[445]\tvalid_0's auc: 0.974269\n",
      "[446]\tvalid_0's auc: 0.974269\n",
      "[447]\tvalid_0's auc: 0.974269\n",
      "[448]\tvalid_0's auc: 0.974269\n",
      "[449]\tvalid_0's auc: 0.974269\n",
      "[450]\tvalid_0's auc: 0.974269\n",
      "[451]\tvalid_0's auc: 0.974269\n",
      "[452]\tvalid_0's auc: 0.974269\n",
      "[453]\tvalid_0's auc: 0.974269\n",
      "[454]\tvalid_0's auc: 0.974269\n",
      "[455]\tvalid_0's auc: 0.974269\n",
      "[456]\tvalid_0's auc: 0.974269\n",
      "[457]\tvalid_0's auc: 0.974269\n",
      "[458]\tvalid_0's auc: 0.974269\n",
      "[459]\tvalid_0's auc: 0.974269\n",
      "[460]\tvalid_0's auc: 0.974269\n",
      "[461]\tvalid_0's auc: 0.974269\n",
      "[462]\tvalid_0's auc: 0.974269\n",
      "[463]\tvalid_0's auc: 0.974269\n",
      "[464]\tvalid_0's auc: 0.974269\n",
      "[465]\tvalid_0's auc: 0.974269\n",
      "[466]\tvalid_0's auc: 0.974269\n",
      "[467]\tvalid_0's auc: 0.974269\n",
      "[468]\tvalid_0's auc: 0.974269\n",
      "[469]\tvalid_0's auc: 0.974269\n",
      "[470]\tvalid_0's auc: 0.974269\n",
      "[471]\tvalid_0's auc: 0.974269\n",
      "[472]\tvalid_0's auc: 0.974269\n",
      "[473]\tvalid_0's auc: 0.974269\n",
      "[474]\tvalid_0's auc: 0.974269\n",
      "[475]\tvalid_0's auc: 0.974269\n",
      "[476]\tvalid_0's auc: 0.974269\n",
      "[477]\tvalid_0's auc: 0.974269\n",
      "[478]\tvalid_0's auc: 0.974269\n",
      "[479]\tvalid_0's auc: 0.974269\n",
      "[480]\tvalid_0's auc: 0.974269\n",
      "[481]\tvalid_0's auc: 0.974269\n",
      "[482]\tvalid_0's auc: 0.974269\n",
      "[483]\tvalid_0's auc: 0.974269\n",
      "[484]\tvalid_0's auc: 0.974269\n",
      "[485]\tvalid_0's auc: 0.974269\n",
      "[486]\tvalid_0's auc: 0.974269\n",
      "[487]\tvalid_0's auc: 0.974269\n",
      "[488]\tvalid_0's auc: 0.974269\n",
      "[489]\tvalid_0's auc: 0.974269\n",
      "[490]\tvalid_0's auc: 0.974269\n",
      "[491]\tvalid_0's auc: 0.974269\n",
      "[492]\tvalid_0's auc: 0.974269\n",
      "[493]\tvalid_0's auc: 0.974269\n",
      "[494]\tvalid_0's auc: 0.974269\n",
      "[495]\tvalid_0's auc: 0.974269\n",
      "[496]\tvalid_0's auc: 0.974269\n",
      "[497]\tvalid_0's auc: 0.974269\n",
      "[498]\tvalid_0's auc: 0.974269\n",
      "[499]\tvalid_0's auc: 0.974269\n",
      "[500]\tvalid_0's auc: 0.974269\n",
      "[501]\tvalid_0's auc: 0.974269\n",
      "[502]\tvalid_0's auc: 0.974269\n",
      "[503]\tvalid_0's auc: 0.974269\n",
      "[504]\tvalid_0's auc: 0.974269\n",
      "[505]\tvalid_0's auc: 0.974269\n",
      "[506]\tvalid_0's auc: 0.974269\n",
      "[507]\tvalid_0's auc: 0.974269\n",
      "[508]\tvalid_0's auc: 0.974269\n",
      "[509]\tvalid_0's auc: 0.974269\n",
      "[510]\tvalid_0's auc: 0.974269\n",
      "[511]\tvalid_0's auc: 0.974269\n",
      "[512]\tvalid_0's auc: 0.974269\n",
      "[513]\tvalid_0's auc: 0.974269\n",
      "[514]\tvalid_0's auc: 0.974269\n",
      "[515]\tvalid_0's auc: 0.974269\n",
      "[516]\tvalid_0's auc: 0.974269\n",
      "[517]\tvalid_0's auc: 0.974269\n",
      "[518]\tvalid_0's auc: 0.974269\n",
      "[519]\tvalid_0's auc: 0.974269\n",
      "[520]\tvalid_0's auc: 0.974269\n",
      "[521]\tvalid_0's auc: 0.974269\n",
      "[522]\tvalid_0's auc: 0.974269\n",
      "[523]\tvalid_0's auc: 0.974269\n",
      "[524]\tvalid_0's auc: 0.974269\n",
      "[525]\tvalid_0's auc: 0.974269\n",
      "[526]\tvalid_0's auc: 0.974269\n",
      "[527]\tvalid_0's auc: 0.974269\n",
      "[528]\tvalid_0's auc: 0.974269\n",
      "[529]\tvalid_0's auc: 0.974269\n",
      "[530]\tvalid_0's auc: 0.974269\n",
      "[531]\tvalid_0's auc: 0.974269\n",
      "[532]\tvalid_0's auc: 0.974269\n",
      "[533]\tvalid_0's auc: 0.974269\n",
      "[534]\tvalid_0's auc: 0.974269\n",
      "[535]\tvalid_0's auc: 0.974269\n",
      "[536]\tvalid_0's auc: 0.974269\n",
      "[537]\tvalid_0's auc: 0.974269\n",
      "[538]\tvalid_0's auc: 0.974269\n",
      "[539]\tvalid_0's auc: 0.974269\n",
      "[540]\tvalid_0's auc: 0.974269\n",
      "[541]\tvalid_0's auc: 0.974269\n",
      "[542]\tvalid_0's auc: 0.974269\n",
      "[543]\tvalid_0's auc: 0.974269\n",
      "[544]\tvalid_0's auc: 0.974269\n",
      "[545]\tvalid_0's auc: 0.974269\n",
      "[546]\tvalid_0's auc: 0.974269\n",
      "[547]\tvalid_0's auc: 0.974269\n",
      "[548]\tvalid_0's auc: 0.974269\n",
      "[549]\tvalid_0's auc: 0.974269\n",
      "[550]\tvalid_0's auc: 0.974269\n",
      "[551]\tvalid_0's auc: 0.974269\n",
      "[552]\tvalid_0's auc: 0.974269\n",
      "[553]\tvalid_0's auc: 0.974269\n",
      "[554]\tvalid_0's auc: 0.974269\n",
      "[555]\tvalid_0's auc: 0.974269\n",
      "[556]\tvalid_0's auc: 0.974269\n",
      "[557]\tvalid_0's auc: 0.974269\n",
      "[558]\tvalid_0's auc: 0.974269\n",
      "[559]\tvalid_0's auc: 0.974269\n",
      "[560]\tvalid_0's auc: 0.974269\n",
      "[561]\tvalid_0's auc: 0.974269\n",
      "[562]\tvalid_0's auc: 0.974269\n",
      "[563]\tvalid_0's auc: 0.974269\n",
      "[564]\tvalid_0's auc: 0.974269\n",
      "[565]\tvalid_0's auc: 0.974269\n",
      "[566]\tvalid_0's auc: 0.974269\n",
      "[567]\tvalid_0's auc: 0.974269\n",
      "[568]\tvalid_0's auc: 0.974269\n",
      "[569]\tvalid_0's auc: 0.974269\n",
      "[570]\tvalid_0's auc: 0.974269\n",
      "[571]\tvalid_0's auc: 0.974269\n",
      "[572]\tvalid_0's auc: 0.974269\n",
      "[573]\tvalid_0's auc: 0.974269\n",
      "[574]\tvalid_0's auc: 0.974269\n",
      "[575]\tvalid_0's auc: 0.974269\n",
      "[576]\tvalid_0's auc: 0.974269\n",
      "[577]\tvalid_0's auc: 0.974269\n",
      "[578]\tvalid_0's auc: 0.974269\n",
      "[579]\tvalid_0's auc: 0.974269\n",
      "[580]\tvalid_0's auc: 0.974269\n",
      "[581]\tvalid_0's auc: 0.974269\n",
      "[582]\tvalid_0's auc: 0.974269\n",
      "[583]\tvalid_0's auc: 0.974269\n",
      "[584]\tvalid_0's auc: 0.974269\n",
      "[585]\tvalid_0's auc: 0.974269\n",
      "[586]\tvalid_0's auc: 0.974269\n",
      "[587]\tvalid_0's auc: 0.974269\n",
      "[588]\tvalid_0's auc: 0.974269\n",
      "[589]\tvalid_0's auc: 0.974269\n",
      "[590]\tvalid_0's auc: 0.974269\n",
      "[591]\tvalid_0's auc: 0.974269\n",
      "[592]\tvalid_0's auc: 0.974269\n",
      "[593]\tvalid_0's auc: 0.974269\n",
      "[594]\tvalid_0's auc: 0.974269\n",
      "[595]\tvalid_0's auc: 0.974269\n",
      "[596]\tvalid_0's auc: 0.974269\n",
      "[597]\tvalid_0's auc: 0.974269\n",
      "[598]\tvalid_0's auc: 0.974269\n",
      "[599]\tvalid_0's auc: 0.974269\n",
      "[600]\tvalid_0's auc: 0.974269\n",
      "[601]\tvalid_0's auc: 0.974269\n",
      "[602]\tvalid_0's auc: 0.974269\n",
      "[603]\tvalid_0's auc: 0.974269\n",
      "[604]\tvalid_0's auc: 0.974269\n",
      "[605]\tvalid_0's auc: 0.974269\n",
      "[606]\tvalid_0's auc: 0.974269\n",
      "[607]\tvalid_0's auc: 0.974269\n",
      "[608]\tvalid_0's auc: 0.974269\n",
      "[609]\tvalid_0's auc: 0.974269\n",
      "[610]\tvalid_0's auc: 0.974269\n",
      "[611]\tvalid_0's auc: 0.974269\n",
      "[612]\tvalid_0's auc: 0.974269\n",
      "[613]\tvalid_0's auc: 0.974269\n",
      "[614]\tvalid_0's auc: 0.974269\n",
      "[615]\tvalid_0's auc: 0.974269\n",
      "[616]\tvalid_0's auc: 0.974269\n",
      "[617]\tvalid_0's auc: 0.974269\n",
      "[618]\tvalid_0's auc: 0.974269\n",
      "[619]\tvalid_0's auc: 0.974269\n",
      "[620]\tvalid_0's auc: 0.974269\n",
      "[621]\tvalid_0's auc: 0.974269\n",
      "[622]\tvalid_0's auc: 0.974269\n",
      "[623]\tvalid_0's auc: 0.974269\n",
      "[624]\tvalid_0's auc: 0.974269\n",
      "[625]\tvalid_0's auc: 0.974269\n",
      "[626]\tvalid_0's auc: 0.974269\n",
      "[627]\tvalid_0's auc: 0.974269\n",
      "[628]\tvalid_0's auc: 0.974269\n",
      "[629]\tvalid_0's auc: 0.974269\n",
      "[630]\tvalid_0's auc: 0.974269\n",
      "[631]\tvalid_0's auc: 0.974269\n",
      "[632]\tvalid_0's auc: 0.974269\n",
      "[633]\tvalid_0's auc: 0.974269\n",
      "[634]\tvalid_0's auc: 0.974269\n",
      "[635]\tvalid_0's auc: 0.974269\n",
      "[636]\tvalid_0's auc: 0.974269\n",
      "[637]\tvalid_0's auc: 0.974269\n",
      "[638]\tvalid_0's auc: 0.974269\n",
      "[639]\tvalid_0's auc: 0.974269\n",
      "[640]\tvalid_0's auc: 0.974269\n",
      "[641]\tvalid_0's auc: 0.974269\n",
      "[642]\tvalid_0's auc: 0.974269\n",
      "[643]\tvalid_0's auc: 0.974269\n",
      "[644]\tvalid_0's auc: 0.974269\n",
      "[645]\tvalid_0's auc: 0.974269\n",
      "[646]\tvalid_0's auc: 0.974269\n",
      "[647]\tvalid_0's auc: 0.974269\n",
      "[648]\tvalid_0's auc: 0.974269\n",
      "[649]\tvalid_0's auc: 0.974269\n",
      "[650]\tvalid_0's auc: 0.974269\n",
      "[651]\tvalid_0's auc: 0.974269\n",
      "[652]\tvalid_0's auc: 0.974269\n",
      "[653]\tvalid_0's auc: 0.974269\n",
      "[654]\tvalid_0's auc: 0.974269\n",
      "[655]\tvalid_0's auc: 0.974269\n",
      "[656]\tvalid_0's auc: 0.974269\n",
      "[657]\tvalid_0's auc: 0.974269\n",
      "[658]\tvalid_0's auc: 0.974269\n",
      "[659]\tvalid_0's auc: 0.974269\n",
      "[660]\tvalid_0's auc: 0.974269\n",
      "[661]\tvalid_0's auc: 0.974269\n",
      "[662]\tvalid_0's auc: 0.974269\n",
      "[663]\tvalid_0's auc: 0.974269\n",
      "[664]\tvalid_0's auc: 0.974269\n",
      "[665]\tvalid_0's auc: 0.974269\n",
      "[666]\tvalid_0's auc: 0.974269\n",
      "[667]\tvalid_0's auc: 0.974269\n",
      "[668]\tvalid_0's auc: 0.974269\n",
      "[669]\tvalid_0's auc: 0.974269\n",
      "[670]\tvalid_0's auc: 0.974269\n",
      "[671]\tvalid_0's auc: 0.974269\n",
      "[672]\tvalid_0's auc: 0.974269\n",
      "[673]\tvalid_0's auc: 0.974269\n",
      "[674]\tvalid_0's auc: 0.974269\n",
      "[675]\tvalid_0's auc: 0.974269\n",
      "[676]\tvalid_0's auc: 0.974269\n",
      "[677]\tvalid_0's auc: 0.974269\n",
      "[678]\tvalid_0's auc: 0.974269\n",
      "[679]\tvalid_0's auc: 0.974269\n",
      "[680]\tvalid_0's auc: 0.974269\n",
      "[681]\tvalid_0's auc: 0.974269\n",
      "[682]\tvalid_0's auc: 0.974269\n",
      "[683]\tvalid_0's auc: 0.974269\n",
      "[684]\tvalid_0's auc: 0.974269\n",
      "[685]\tvalid_0's auc: 0.974269\n",
      "[686]\tvalid_0's auc: 0.974269\n",
      "[687]\tvalid_0's auc: 0.974269\n",
      "[688]\tvalid_0's auc: 0.974269\n",
      "[689]\tvalid_0's auc: 0.974269\n",
      "[690]\tvalid_0's auc: 0.974269\n",
      "[691]\tvalid_0's auc: 0.974269\n",
      "[692]\tvalid_0's auc: 0.974269\n",
      "[693]\tvalid_0's auc: 0.974269\n",
      "[694]\tvalid_0's auc: 0.974269\n",
      "[695]\tvalid_0's auc: 0.974269\n",
      "[696]\tvalid_0's auc: 0.974269\n",
      "[697]\tvalid_0's auc: 0.974269\n",
      "[698]\tvalid_0's auc: 0.974269\n",
      "[699]\tvalid_0's auc: 0.974269\n",
      "[700]\tvalid_0's auc: 0.974269\n",
      "[701]\tvalid_0's auc: 0.974269\n",
      "[702]\tvalid_0's auc: 0.974269\n",
      "[703]\tvalid_0's auc: 0.974269\n",
      "[704]\tvalid_0's auc: 0.974269\n",
      "[705]\tvalid_0's auc: 0.974269\n",
      "[706]\tvalid_0's auc: 0.974269\n",
      "[707]\tvalid_0's auc: 0.974269\n",
      "[708]\tvalid_0's auc: 0.974269\n",
      "[709]\tvalid_0's auc: 0.974269\n",
      "[710]\tvalid_0's auc: 0.974269\n",
      "[711]\tvalid_0's auc: 0.974269\n",
      "[712]\tvalid_0's auc: 0.974269\n",
      "[713]\tvalid_0's auc: 0.974269\n",
      "[714]\tvalid_0's auc: 0.974269\n",
      "[715]\tvalid_0's auc: 0.974269\n",
      "[716]\tvalid_0's auc: 0.974269\n",
      "[717]\tvalid_0's auc: 0.974269\n",
      "[718]\tvalid_0's auc: 0.974269\n",
      "Early stopping, best iteration is:\n",
      "[18]\tvalid_0's auc: 0.980615\n"
     ]
    }
   ],
   "source": [
    "# tuning number of estimators\n",
    "data_1=lgb.Dataset(Xtrain,Ytrain)\n",
    "data_2=lgb.Dataset(Xtest,Ytest,reference=data_1)\n",
    "best=lgb.train(param, train_set=data_1, valid_sets=data_2, num_boost_round=20000, early_stopping_rounds=700)"
   ]
  },
  {
   "cell_type": "code",
   "execution_count": 52,
   "metadata": {
    "slideshow": {
     "slide_type": "slide"
    }
   },
   "outputs": [
    {
     "data": {
      "text/plain": [
       "(defaultdict(dict, {'valid_0': {'auc': 0.98061511804201862}}), 18)"
      ]
     },
     "execution_count": 52,
     "metadata": {},
     "output_type": "execute_result"
    }
   ],
   "source": [
    "best.best_score, best.best_iteration"
   ]
  },
  {
   "cell_type": "markdown",
   "metadata": {
    "slideshow": {
     "slide_type": "fragment"
    }
   },
   "source": [
    "#### Since from all models LGB doing better and achieved auc score of 0.98832. So we will use it to built our model"
   ]
  },
  {
   "cell_type": "code",
   "execution_count": 53,
   "metadata": {
    "slideshow": {
     "slide_type": "slide"
    }
   },
   "outputs": [],
   "source": [
    "lgbm = lgb.LGBMClassifier(n_estimators=best.best_iteration,learning_rate=0.01,\n",
    "                          bagging_fraction=0.6132942194801654,colsample_bytree = 0.3787126672691248,\n",
    "                          feature_fraction= 0.9952813805616908,lambda_l1= 0.14013984921443146,\n",
    "                          lambda_l2= 0.17966112145500235,max_depth= 8,min_data_in_leaf= 9,\n",
    "                          min_gain_to_split= 0.013724581067876487,num_leaves= 21,subsample= 0.03366508401866353,\n",
    "                          metric= 'auc',objective='binary',booster= 'gbdt')"
   ]
  },
  {
   "cell_type": "code",
   "execution_count": 54,
   "metadata": {
    "slideshow": {
     "slide_type": "slide"
    }
   },
   "outputs": [
    {
     "data": {
      "text/plain": [
       "LGBMClassifier(bagging_fraction=0.6132942194801654, booster='gbdt',\n",
       "        boosting_type='gbdt', class_weight=None,\n",
       "        colsample_bytree=0.3787126672691248,\n",
       "        feature_fraction=0.9952813805616908, importance_type='split',\n",
       "        lambda_l1=0.14013984921443146, lambda_l2=0.17966112145500235,\n",
       "        learning_rate=0.01, max_depth=8, metric='auc',\n",
       "        min_child_samples=20, min_child_weight=0.001, min_data_in_leaf=9,\n",
       "        min_gain_to_split=0.013724581067876487, min_split_gain=0.0,\n",
       "        n_estimators=18, n_jobs=-1, num_leaves=21, objective='binary',\n",
       "        random_state=None, reg_alpha=0.0, reg_lambda=0.0, silent=True,\n",
       "        subsample=0.03366508401866353, subsample_for_bin=200000,\n",
       "        subsample_freq=0)"
      ]
     },
     "execution_count": 54,
     "metadata": {},
     "output_type": "execute_result"
    }
   ],
   "source": [
    "lgbm.fit(trainset,trainset_label)"
   ]
  },
  {
   "cell_type": "code",
   "execution_count": 55,
   "metadata": {
    "slideshow": {
     "slide_type": "slide"
    }
   },
   "outputs": [],
   "source": [
    "prediction=lgbm.predict(testset)\n",
    "output=pd.DataFrame({'ID':range(0,799), 'CLASS':prediction})\n",
    "output.to_csv('spam_classifed_rishi_presentation.csv',index=False)"
   ]
  },
  {
   "cell_type": "code",
   "execution_count": null,
   "metadata": {},
   "outputs": [],
   "source": []
  },
  {
   "cell_type": "markdown",
   "metadata": {
    "slideshow": {
     "slide_type": "slide"
    }
   },
   "source": [
    "## THANKS"
   ]
  }
 ],
 "metadata": {
  "celltoolbar": "Slideshow",
  "kernelspec": {
   "display_name": "Python 3",
   "language": "python",
   "name": "python3"
  },
  "language_info": {
   "codemirror_mode": {
    "name": "ipython",
    "version": 3
   },
   "file_extension": ".py",
   "mimetype": "text/x-python",
   "name": "python",
   "nbconvert_exporter": "python",
   "pygments_lexer": "ipython3",
   "version": "3.7.0"
  }
 },
 "nbformat": 4,
 "nbformat_minor": 2
}
