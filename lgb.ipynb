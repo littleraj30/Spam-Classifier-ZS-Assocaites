{
 "cells": [
  {
   "cell_type": "code",
   "execution_count": 231,
   "metadata": {},
   "outputs": [],
   "source": [
    "import pandas as pd\n",
    "import numpy as np\n",
    "import matplotlib.pyplot as plt\n",
    "import seaborn as sns\n",
    "import re"
   ]
  },
  {
   "cell_type": "code",
   "execution_count": 232,
   "metadata": {},
   "outputs": [],
   "source": [
    "train=pd.read_csv(\"train.csv\")\n",
    "test=pd.read_csv(\"test.csv\")"
   ]
  },
  {
   "cell_type": "code",
   "execution_count": 233,
   "metadata": {
    "scrolled": true
   },
   "outputs": [
    {
     "data": {
      "text/html": [
       "<div>\n",
       "<style scoped>\n",
       "    .dataframe tbody tr th:only-of-type {\n",
       "        vertical-align: middle;\n",
       "    }\n",
       "\n",
       "    .dataframe tbody tr th {\n",
       "        vertical-align: top;\n",
       "    }\n",
       "\n",
       "    .dataframe thead th {\n",
       "        text-align: right;\n",
       "    }\n",
       "</style>\n",
       "<table border=\"1\" class=\"dataframe\">\n",
       "  <thead>\n",
       "    <tr style=\"text-align: right;\">\n",
       "      <th></th>\n",
       "      <th>COMMENT_ID</th>\n",
       "      <th>AUTHOR</th>\n",
       "      <th>DATE</th>\n",
       "      <th>CONTENT</th>\n",
       "      <th>CLASS</th>\n",
       "    </tr>\n",
       "  </thead>\n",
       "  <tbody>\n",
       "    <tr>\n",
       "      <th>0</th>\n",
       "      <td>LZQPQhLyRh80UYxNuaDWhIGQYNQ96IuCg-AYWqNPjpU</td>\n",
       "      <td>Julius NM</td>\n",
       "      <td>2013-11-07T06:20:48</td>\n",
       "      <td>Huh, anyway check out this you[tube] channel: ...</td>\n",
       "      <td>1</td>\n",
       "    </tr>\n",
       "    <tr>\n",
       "      <th>1</th>\n",
       "      <td>z13jhp0bxqncu512g22wvzkasxmvvzjaz04</td>\n",
       "      <td>ElNino Melendez</td>\n",
       "      <td>2013-11-09T08:28:43</td>\n",
       "      <td>me shaking my sexy ass on my channel enjoy ^_^ ﻿</td>\n",
       "      <td>1</td>\n",
       "    </tr>\n",
       "    <tr>\n",
       "      <th>2</th>\n",
       "      <td>z13fwbwp1oujthgqj04chlngpvzmtt3r3dw</td>\n",
       "      <td>GsMega</td>\n",
       "      <td>2013-11-10T16:05:38</td>\n",
       "      <td>watch?v=vtaRGgvGtWQ   Check this out .﻿</td>\n",
       "      <td>1</td>\n",
       "    </tr>\n",
       "    <tr>\n",
       "      <th>3</th>\n",
       "      <td>z13lfzdo5vmdi1cm123te5uz2mqig1brz04</td>\n",
       "      <td>ferleck ferles</td>\n",
       "      <td>2013-11-27T21:39:24</td>\n",
       "      <td>Subscribe to my channel ﻿</td>\n",
       "      <td>1</td>\n",
       "    </tr>\n",
       "    <tr>\n",
       "      <th>4</th>\n",
       "      <td>z12avveb4xqiirsix04chxviiljryduwxg0</td>\n",
       "      <td>BeBe Burkey</td>\n",
       "      <td>2013-11-28T16:30:13</td>\n",
       "      <td>and u should.d check my channel and tell me wh...</td>\n",
       "      <td>1</td>\n",
       "    </tr>\n",
       "  </tbody>\n",
       "</table>\n",
       "</div>"
      ],
      "text/plain": [
       "                                    COMMENT_ID           AUTHOR  \\\n",
       "0  LZQPQhLyRh80UYxNuaDWhIGQYNQ96IuCg-AYWqNPjpU        Julius NM   \n",
       "1          z13jhp0bxqncu512g22wvzkasxmvvzjaz04  ElNino Melendez   \n",
       "2          z13fwbwp1oujthgqj04chlngpvzmtt3r3dw           GsMega   \n",
       "3          z13lfzdo5vmdi1cm123te5uz2mqig1brz04   ferleck ferles   \n",
       "4          z12avveb4xqiirsix04chxviiljryduwxg0      BeBe Burkey   \n",
       "\n",
       "                  DATE                                            CONTENT  \\\n",
       "0  2013-11-07T06:20:48  Huh, anyway check out this you[tube] channel: ...   \n",
       "1  2013-11-09T08:28:43   me shaking my sexy ass on my channel enjoy ^_^ ﻿   \n",
       "2  2013-11-10T16:05:38            watch?v=vtaRGgvGtWQ   Check this out .﻿   \n",
       "3  2013-11-27T21:39:24                          Subscribe to my channel ﻿   \n",
       "4  2013-11-28T16:30:13  and u should.d check my channel and tell me wh...   \n",
       "\n",
       "   CLASS  \n",
       "0      1  \n",
       "1      1  \n",
       "2      1  \n",
       "3      1  \n",
       "4      1  "
      ]
     },
     "execution_count": 233,
     "metadata": {},
     "output_type": "execute_result"
    }
   ],
   "source": [
    "train.head()"
   ]
  },
  {
   "cell_type": "markdown",
   "metadata": {},
   "source": [
    "## 1.Data exploration"
   ]
  },
  {
   "cell_type": "code",
   "execution_count": 234,
   "metadata": {},
   "outputs": [
    {
     "data": {
      "text/html": [
       "<div>\n",
       "<style scoped>\n",
       "    .dataframe tbody tr th:only-of-type {\n",
       "        vertical-align: middle;\n",
       "    }\n",
       "\n",
       "    .dataframe tbody tr th {\n",
       "        vertical-align: top;\n",
       "    }\n",
       "\n",
       "    .dataframe thead th {\n",
       "        text-align: right;\n",
       "    }\n",
       "</style>\n",
       "<table border=\"1\" class=\"dataframe\">\n",
       "  <thead>\n",
       "    <tr style=\"text-align: right;\">\n",
       "      <th></th>\n",
       "      <th>COMMENT_ID</th>\n",
       "      <th>AUTHOR</th>\n",
       "      <th>DATE</th>\n",
       "      <th>CONTENT</th>\n",
       "      <th>CLASS</th>\n",
       "    </tr>\n",
       "  </thead>\n",
       "  <tbody>\n",
       "    <tr>\n",
       "      <th>count</th>\n",
       "      <td>1157</td>\n",
       "      <td>1157</td>\n",
       "      <td>1019</td>\n",
       "      <td>1157</td>\n",
       "      <td>1157.000000</td>\n",
       "    </tr>\n",
       "    <tr>\n",
       "      <th>unique</th>\n",
       "      <td>1156</td>\n",
       "      <td>1094</td>\n",
       "      <td>1019</td>\n",
       "      <td>1057</td>\n",
       "      <td>NaN</td>\n",
       "    </tr>\n",
       "    <tr>\n",
       "      <th>top</th>\n",
       "      <td>LneaDw26bFvPh9xBHNw1btQoyP60ay_WWthtvXCx37s</td>\n",
       "      <td>Shadrach Grentz</td>\n",
       "      <td>2014-11-02T22:48:21</td>\n",
       "      <td>Check out this video on YouTube:﻿</td>\n",
       "      <td>NaN</td>\n",
       "    </tr>\n",
       "    <tr>\n",
       "      <th>freq</th>\n",
       "      <td>2</td>\n",
       "      <td>5</td>\n",
       "      <td>1</td>\n",
       "      <td>52</td>\n",
       "      <td>NaN</td>\n",
       "    </tr>\n",
       "    <tr>\n",
       "      <th>mean</th>\n",
       "      <td>NaN</td>\n",
       "      <td>NaN</td>\n",
       "      <td>NaN</td>\n",
       "      <td>NaN</td>\n",
       "      <td>0.506482</td>\n",
       "    </tr>\n",
       "    <tr>\n",
       "      <th>std</th>\n",
       "      <td>NaN</td>\n",
       "      <td>NaN</td>\n",
       "      <td>NaN</td>\n",
       "      <td>NaN</td>\n",
       "      <td>0.500174</td>\n",
       "    </tr>\n",
       "    <tr>\n",
       "      <th>min</th>\n",
       "      <td>NaN</td>\n",
       "      <td>NaN</td>\n",
       "      <td>NaN</td>\n",
       "      <td>NaN</td>\n",
       "      <td>0.000000</td>\n",
       "    </tr>\n",
       "    <tr>\n",
       "      <th>25%</th>\n",
       "      <td>NaN</td>\n",
       "      <td>NaN</td>\n",
       "      <td>NaN</td>\n",
       "      <td>NaN</td>\n",
       "      <td>0.000000</td>\n",
       "    </tr>\n",
       "    <tr>\n",
       "      <th>50%</th>\n",
       "      <td>NaN</td>\n",
       "      <td>NaN</td>\n",
       "      <td>NaN</td>\n",
       "      <td>NaN</td>\n",
       "      <td>1.000000</td>\n",
       "    </tr>\n",
       "    <tr>\n",
       "      <th>75%</th>\n",
       "      <td>NaN</td>\n",
       "      <td>NaN</td>\n",
       "      <td>NaN</td>\n",
       "      <td>NaN</td>\n",
       "      <td>1.000000</td>\n",
       "    </tr>\n",
       "    <tr>\n",
       "      <th>max</th>\n",
       "      <td>NaN</td>\n",
       "      <td>NaN</td>\n",
       "      <td>NaN</td>\n",
       "      <td>NaN</td>\n",
       "      <td>1.000000</td>\n",
       "    </tr>\n",
       "  </tbody>\n",
       "</table>\n",
       "</div>"
      ],
      "text/plain": [
       "                                         COMMENT_ID           AUTHOR  \\\n",
       "count                                          1157             1157   \n",
       "unique                                         1156             1094   \n",
       "top     LneaDw26bFvPh9xBHNw1btQoyP60ay_WWthtvXCx37s  Shadrach Grentz   \n",
       "freq                                              2                5   \n",
       "mean                                            NaN              NaN   \n",
       "std                                             NaN              NaN   \n",
       "min                                             NaN              NaN   \n",
       "25%                                             NaN              NaN   \n",
       "50%                                             NaN              NaN   \n",
       "75%                                             NaN              NaN   \n",
       "max                                             NaN              NaN   \n",
       "\n",
       "                       DATE                            CONTENT        CLASS  \n",
       "count                  1019                               1157  1157.000000  \n",
       "unique                 1019                               1057          NaN  \n",
       "top     2014-11-02T22:48:21  Check out this video on YouTube:﻿          NaN  \n",
       "freq                      1                                 52          NaN  \n",
       "mean                    NaN                                NaN     0.506482  \n",
       "std                     NaN                                NaN     0.500174  \n",
       "min                     NaN                                NaN     0.000000  \n",
       "25%                     NaN                                NaN     0.000000  \n",
       "50%                     NaN                                NaN     1.000000  \n",
       "75%                     NaN                                NaN     1.000000  \n",
       "max                     NaN                                NaN     1.000000  "
      ]
     },
     "execution_count": 234,
     "metadata": {},
     "output_type": "execute_result"
    }
   ],
   "source": [
    "train.describe(include=['object','integer'])"
   ]
  },
  {
   "cell_type": "code",
   "execution_count": 235,
   "metadata": {},
   "outputs": [
    {
     "data": {
      "text/html": [
       "<div>\n",
       "<style scoped>\n",
       "    .dataframe tbody tr th:only-of-type {\n",
       "        vertical-align: middle;\n",
       "    }\n",
       "\n",
       "    .dataframe tbody tr th {\n",
       "        vertical-align: top;\n",
       "    }\n",
       "\n",
       "    .dataframe thead th {\n",
       "        text-align: right;\n",
       "    }\n",
       "</style>\n",
       "<table border=\"1\" class=\"dataframe\">\n",
       "  <thead>\n",
       "    <tr style=\"text-align: right;\">\n",
       "      <th></th>\n",
       "      <th>ID</th>\n",
       "      <th>COMMENT_ID</th>\n",
       "      <th>AUTHOR</th>\n",
       "      <th>DATE</th>\n",
       "      <th>CONTENT</th>\n",
       "    </tr>\n",
       "  </thead>\n",
       "  <tbody>\n",
       "    <tr>\n",
       "      <th>count</th>\n",
       "      <td>799.000000</td>\n",
       "      <td>799</td>\n",
       "      <td>799</td>\n",
       "      <td>692</td>\n",
       "      <td>799</td>\n",
       "    </tr>\n",
       "    <tr>\n",
       "      <th>unique</th>\n",
       "      <td>NaN</td>\n",
       "      <td>799</td>\n",
       "      <td>760</td>\n",
       "      <td>692</td>\n",
       "      <td>733</td>\n",
       "    </tr>\n",
       "    <tr>\n",
       "      <th>top</th>\n",
       "      <td>NaN</td>\n",
       "      <td>z13cfr5o3mnyez4ju04ce3whmvflg1fifl00k</td>\n",
       "      <td>Laura Brown</td>\n",
       "      <td>2015-05-22T22:19:43.707000</td>\n",
       "      <td>Check out this video on YouTube:﻿</td>\n",
       "    </tr>\n",
       "    <tr>\n",
       "      <th>freq</th>\n",
       "      <td>NaN</td>\n",
       "      <td>1</td>\n",
       "      <td>3</td>\n",
       "      <td>1</td>\n",
       "      <td>45</td>\n",
       "    </tr>\n",
       "    <tr>\n",
       "      <th>mean</th>\n",
       "      <td>399.000000</td>\n",
       "      <td>NaN</td>\n",
       "      <td>NaN</td>\n",
       "      <td>NaN</td>\n",
       "      <td>NaN</td>\n",
       "    </tr>\n",
       "    <tr>\n",
       "      <th>std</th>\n",
       "      <td>230.795725</td>\n",
       "      <td>NaN</td>\n",
       "      <td>NaN</td>\n",
       "      <td>NaN</td>\n",
       "      <td>NaN</td>\n",
       "    </tr>\n",
       "    <tr>\n",
       "      <th>min</th>\n",
       "      <td>0.000000</td>\n",
       "      <td>NaN</td>\n",
       "      <td>NaN</td>\n",
       "      <td>NaN</td>\n",
       "      <td>NaN</td>\n",
       "    </tr>\n",
       "    <tr>\n",
       "      <th>25%</th>\n",
       "      <td>199.500000</td>\n",
       "      <td>NaN</td>\n",
       "      <td>NaN</td>\n",
       "      <td>NaN</td>\n",
       "      <td>NaN</td>\n",
       "    </tr>\n",
       "    <tr>\n",
       "      <th>50%</th>\n",
       "      <td>399.000000</td>\n",
       "      <td>NaN</td>\n",
       "      <td>NaN</td>\n",
       "      <td>NaN</td>\n",
       "      <td>NaN</td>\n",
       "    </tr>\n",
       "    <tr>\n",
       "      <th>75%</th>\n",
       "      <td>598.500000</td>\n",
       "      <td>NaN</td>\n",
       "      <td>NaN</td>\n",
       "      <td>NaN</td>\n",
       "      <td>NaN</td>\n",
       "    </tr>\n",
       "    <tr>\n",
       "      <th>max</th>\n",
       "      <td>798.000000</td>\n",
       "      <td>NaN</td>\n",
       "      <td>NaN</td>\n",
       "      <td>NaN</td>\n",
       "      <td>NaN</td>\n",
       "    </tr>\n",
       "  </tbody>\n",
       "</table>\n",
       "</div>"
      ],
      "text/plain": [
       "                ID                             COMMENT_ID       AUTHOR  \\\n",
       "count   799.000000                                    799          799   \n",
       "unique         NaN                                    799          760   \n",
       "top            NaN  z13cfr5o3mnyez4ju04ce3whmvflg1fifl00k  Laura Brown   \n",
       "freq           NaN                                      1            3   \n",
       "mean    399.000000                                    NaN          NaN   \n",
       "std     230.795725                                    NaN          NaN   \n",
       "min       0.000000                                    NaN          NaN   \n",
       "25%     199.500000                                    NaN          NaN   \n",
       "50%     399.000000                                    NaN          NaN   \n",
       "75%     598.500000                                    NaN          NaN   \n",
       "max     798.000000                                    NaN          NaN   \n",
       "\n",
       "                              DATE                            CONTENT  \n",
       "count                          692                                799  \n",
       "unique                         692                                733  \n",
       "top     2015-05-22T22:19:43.707000  Check out this video on YouTube:﻿  \n",
       "freq                             1                                 45  \n",
       "mean                           NaN                                NaN  \n",
       "std                            NaN                                NaN  \n",
       "min                            NaN                                NaN  \n",
       "25%                            NaN                                NaN  \n",
       "50%                            NaN                                NaN  \n",
       "75%                            NaN                                NaN  \n",
       "max                            NaN                                NaN  "
      ]
     },
     "execution_count": 235,
     "metadata": {},
     "output_type": "execute_result"
    }
   ],
   "source": [
    "test.describe(include=['object','integer'])"
   ]
  },
  {
   "cell_type": "code",
   "execution_count": 236,
   "metadata": {},
   "outputs": [
    {
     "data": {
      "text/plain": [
       "Text(0.5,1,'Missing Values')"
      ]
     },
     "execution_count": 236,
     "metadata": {},
     "output_type": "execute_result"
    },
    {
     "data": {
      "image/png": "[encoded data removed]",
      "text/plain": [
       "<Figure size 864x432 with 3 Axes>"
      ]
     },
     "metadata": {
      "needs_background": "light"
     },
     "output_type": "display_data"
    }
   ],
   "source": [
    "fig,ax= plt.subplots(1,2,figsize=(12,6))\n",
    "sns.countplot(train.CLASS, palette='Set2', ax=ax[0])\n",
    "ax[0].set_title('CLASS COUNT')\n",
    "sns.heatmap(train.isnull(),cmap='Blues',ax=ax[1])\n",
    "ax[1].set_title('Missing Values')"
   ]
  },
  {
   "cell_type": "markdown",
   "metadata": {},
   "source": [
    "From above exploration we can say Class is balanced therefore we don't have to worry about imbalanced problem. Other than this Dataset contains missing values. Some Dates are missing from dataset."
   ]
  },
  {
   "cell_type": "markdown",
   "metadata": {},
   "source": [
    "Therefore Either we have to fill or drop missing columns/rows "
   ]
  },
  {
   "cell_type": "markdown",
   "metadata": {},
   "source": [
    "# Due to short timeline of competition i used tableau for better Data exploration"
   ]
  },
  {
   "cell_type": "markdown",
   "metadata": {},
   "source": [
    "### Feature engineering"
   ]
  },
  {
   "cell_type": "code",
   "execution_count": 237,
   "metadata": {},
   "outputs": [],
   "source": [
    "def extract(data):\n",
    "    words=re.compile(r'(check out|check this|dollar|[=+]|sub|channel|adf|instagram|share|follow|https://|[$]|please|money|free|www|facebook|fb|support|like this comment)',re.IGNORECASE)\n",
    "    data['spam_word']=data.CONTENT.str.extract(words)\n",
    "    data.spam_word.fillna(0,inplace=True)\n",
    "    return data"
   ]
  },
  {
   "cell_type": "code",
   "execution_count": null,
   "metadata": {},
   "outputs": [],
   "source": []
  },
  {
   "cell_type": "code",
   "execution_count": 238,
   "metadata": {},
   "outputs": [],
   "source": [
    "def feature(data):\n",
    "    data['MULTI_COMMENT'] = data['AUTHOR'] #to initialise multi_comments\n",
    "    z=0\n",
    "    for i in range(len(data)):\n",
    "        for j in range(1,len(data)):\n",
    "            if(data.iloc[i,1] == data.iloc[j,1]):\n",
    "                z=z+1\n",
    "        if(z>1):\n",
    "            data.ix[i,'MULTI_COMMENT']=1\n",
    "        else:\n",
    "            data.ix[i,'MULTI_COMMENT']=0\n",
    "        z=0\n",
    "    return data"
   ]
  },
  {
   "cell_type": "markdown",
   "metadata": {},
   "source": [
    "### Missing data"
   ]
  },
  {
   "cell_type": "code",
   "execution_count": 217,
   "metadata": {},
   "outputs": [
    {
     "name": "stderr",
     "output_type": "stream",
     "text": [
      "C:\\Users\\Rishi\\Anaconda3\\lib\\site-packages\\ipykernel_launcher.py:11: DeprecationWarning: \n",
      ".ix is deprecated. Please use\n",
      ".loc for label based indexing or\n",
      ".iloc for positional indexing\n",
      "\n",
      "See the documentation here:\n",
      "http://pandas.pydata.org/pandas-docs/stable/indexing.html#ix-indexer-is-deprecated\n",
      "  # This is added back by InteractiveShellApp.init_path()\n",
      "C:\\Users\\Rishi\\Anaconda3\\lib\\site-packages\\ipykernel_launcher.py:9: DeprecationWarning: \n",
      ".ix is deprecated. Please use\n",
      ".loc for label based indexing or\n",
      ".iloc for positional indexing\n",
      "\n",
      "See the documentation here:\n",
      "http://pandas.pydata.org/pandas-docs/stable/indexing.html#ix-indexer-is-deprecated\n",
      "  if __name__ == '__main__':\n"
     ]
    }
   ],
   "source": [
    "trainset=extract(train)\n",
    "trainset=feature(trainset)\n",
    "trainset.dropna(inplace=True)"
   ]
  },
  {
   "cell_type": "code",
   "execution_count": 218,
   "metadata": {},
   "outputs": [
    {
     "name": "stderr",
     "output_type": "stream",
     "text": [
      "C:\\Users\\Rishi\\Anaconda3\\lib\\site-packages\\ipykernel_launcher.py:11: DeprecationWarning: \n",
      ".ix is deprecated. Please use\n",
      ".loc for label based indexing or\n",
      ".iloc for positional indexing\n",
      "\n",
      "See the documentation here:\n",
      "http://pandas.pydata.org/pandas-docs/stable/indexing.html#ix-indexer-is-deprecated\n",
      "  # This is added back by InteractiveShellApp.init_path()\n"
     ]
    }
   ],
   "source": [
    "testset=extract(test)\n",
    "testset=feature(testset)\n",
    "testset.fillna(0,inplace=True)"
   ]
  },
  {
   "cell_type": "markdown",
   "metadata": {},
   "source": [
    "## Datetime index"
   ]
  },
  {
   "cell_type": "code",
   "execution_count": 219,
   "metadata": {},
   "outputs": [],
   "source": [
    "def datetime(data):\n",
    "    data=data.set_index('DATE')\n",
    "    data.index=pd.to_datetime(data.index)\n",
    "    data['year_2013']=data.index.year==2013\n",
    "    data['year_2014']=data.index.year==2014\n",
    "    data['year_2015']=data.index.year==2015\n",
    "    data['mon_1']=data.index.month==1\n",
    "    data['mon_2']=data.index.month==2\n",
    "    data['mon_3']=data.index.month==3\n",
    "    data['mon_4']=data.index.month==4\n",
    "    data['mon_5']=data.index.month==5\n",
    "    data['mon_6']=data.index.month==6\n",
    "    data['mon_7']=data.index.month==7\n",
    "    data['mon_8']=data.index.month==8\n",
    "    data['mon_9']=data.index.month==9\n",
    "    data['mon_10']=data.index.month==10\n",
    "    data['mon_11']=data.index.month==11\n",
    "    data['mon_12']=data.index.month==12\n",
    "    return(data)"
   ]
  },
  {
   "cell_type": "code",
   "execution_count": 220,
   "metadata": {},
   "outputs": [],
   "source": [
    "trainset=datetime(trainset)\n",
    "trainset_label=trainset['CLASS']\n",
    "del trainset['CLASS']\n",
    "\n",
    "testset=datetime(testset)"
   ]
  },
  {
   "cell_type": "markdown",
   "metadata": {},
   "source": [
    "# Cleaning"
   ]
  },
  {
   "cell_type": "code",
   "execution_count": 221,
   "metadata": {},
   "outputs": [],
   "source": [
    "def cleaner(data):\n",
    "    del data['CONTENT']\n",
    "    del data['COMMENT_ID']\n",
    "    del data['AUTHOR']\n",
    "    x=data.columns\n",
    "    for i in range(0,1):\n",
    "        data[x[i]]=data[x[i]].astype('category')\n",
    "    x=data.columns\n",
    "    for i in range(1,17):\n",
    "        data[x[i]]=np.where(data[x[i]]==True,1,0)\n",
    "    return data"
   ]
  },
  {
   "cell_type": "code",
   "execution_count": 222,
   "metadata": {},
   "outputs": [],
   "source": [
    "trainset=cleaner(trainset)\n",
    "del testset['ID']\n",
    "testset= cleaner(testset)"
   ]
  },
  {
   "cell_type": "code",
   "execution_count": 223,
   "metadata": {},
   "outputs": [
    {
     "data": {
      "text/html": [
       "<div>\n",
       "<style scoped>\n",
       "    .dataframe tbody tr th:only-of-type {\n",
       "        vertical-align: middle;\n",
       "    }\n",
       "\n",
       "    .dataframe tbody tr th {\n",
       "        vertical-align: top;\n",
       "    }\n",
       "\n",
       "    .dataframe thead th {\n",
       "        text-align: right;\n",
       "    }\n",
       "</style>\n",
       "<table border=\"1\" class=\"dataframe\">\n",
       "  <thead>\n",
       "    <tr style=\"text-align: right;\">\n",
       "      <th></th>\n",
       "      <th>spam_word</th>\n",
       "      <th>MULTI_COMMENT</th>\n",
       "      <th>year_2013</th>\n",
       "      <th>year_2014</th>\n",
       "      <th>year_2015</th>\n",
       "      <th>mon_1</th>\n",
       "      <th>mon_2</th>\n",
       "      <th>mon_3</th>\n",
       "      <th>mon_4</th>\n",
       "      <th>mon_5</th>\n",
       "      <th>mon_6</th>\n",
       "      <th>mon_7</th>\n",
       "      <th>mon_8</th>\n",
       "      <th>mon_9</th>\n",
       "      <th>mon_10</th>\n",
       "      <th>mon_11</th>\n",
       "      <th>mon_12</th>\n",
       "    </tr>\n",
       "    <tr>\n",
       "      <th>DATE</th>\n",
       "      <th></th>\n",
       "      <th></th>\n",
       "      <th></th>\n",
       "      <th></th>\n",
       "      <th></th>\n",
       "      <th></th>\n",
       "      <th></th>\n",
       "      <th></th>\n",
       "      <th></th>\n",
       "      <th></th>\n",
       "      <th></th>\n",
       "      <th></th>\n",
       "      <th></th>\n",
       "      <th></th>\n",
       "      <th></th>\n",
       "      <th></th>\n",
       "      <th></th>\n",
       "    </tr>\n",
       "  </thead>\n",
       "  <tbody>\n",
       "    <tr>\n",
       "      <th>2013-11-07 06:20:48</th>\n",
       "      <td>check out</td>\n",
       "      <td>0</td>\n",
       "      <td>1</td>\n",
       "      <td>0</td>\n",
       "      <td>0</td>\n",
       "      <td>0</td>\n",
       "      <td>0</td>\n",
       "      <td>0</td>\n",
       "      <td>0</td>\n",
       "      <td>0</td>\n",
       "      <td>0</td>\n",
       "      <td>0</td>\n",
       "      <td>0</td>\n",
       "      <td>0</td>\n",
       "      <td>0</td>\n",
       "      <td>1</td>\n",
       "      <td>0</td>\n",
       "    </tr>\n",
       "    <tr>\n",
       "      <th>2013-11-09 08:28:43</th>\n",
       "      <td>channel</td>\n",
       "      <td>0</td>\n",
       "      <td>1</td>\n",
       "      <td>0</td>\n",
       "      <td>0</td>\n",
       "      <td>0</td>\n",
       "      <td>0</td>\n",
       "      <td>0</td>\n",
       "      <td>0</td>\n",
       "      <td>0</td>\n",
       "      <td>0</td>\n",
       "      <td>0</td>\n",
       "      <td>0</td>\n",
       "      <td>0</td>\n",
       "      <td>0</td>\n",
       "      <td>1</td>\n",
       "      <td>0</td>\n",
       "    </tr>\n",
       "  </tbody>\n",
       "</table>\n",
       "</div>"
      ],
      "text/plain": [
       "                     spam_word  MULTI_COMMENT  year_2013  year_2014  \\\n",
       "DATE                                                                  \n",
       "2013-11-07 06:20:48  check out              0          1          0   \n",
       "2013-11-09 08:28:43    channel              0          1          0   \n",
       "\n",
       "                     year_2015  mon_1  mon_2  mon_3  mon_4  mon_5  mon_6  \\\n",
       "DATE                                                                       \n",
       "2013-11-07 06:20:48          0      0      0      0      0      0      0   \n",
       "2013-11-09 08:28:43          0      0      0      0      0      0      0   \n",
       "\n",
       "                     mon_7  mon_8  mon_9  mon_10  mon_11  mon_12  \n",
       "DATE                                                              \n",
       "2013-11-07 06:20:48      0      0      0       0       1       0  \n",
       "2013-11-09 08:28:43      0      0      0       0       1       0  "
      ]
     },
     "execution_count": 223,
     "metadata": {},
     "output_type": "execute_result"
    }
   ],
   "source": [
    "trainset.head(2)"
   ]
  },
  {
   "cell_type": "code",
   "execution_count": 224,
   "metadata": {},
   "outputs": [
    {
     "data": {
      "text/html": [
       "<div>\n",
       "<style scoped>\n",
       "    .dataframe tbody tr th:only-of-type {\n",
       "        vertical-align: middle;\n",
       "    }\n",
       "\n",
       "    .dataframe tbody tr th {\n",
       "        vertical-align: top;\n",
       "    }\n",
       "\n",
       "    .dataframe thead th {\n",
       "        text-align: right;\n",
       "    }\n",
       "</style>\n",
       "<table border=\"1\" class=\"dataframe\">\n",
       "  <thead>\n",
       "    <tr style=\"text-align: right;\">\n",
       "      <th></th>\n",
       "      <th>spam_word</th>\n",
       "      <th>MULTI_COMMENT</th>\n",
       "      <th>year_2013</th>\n",
       "      <th>year_2014</th>\n",
       "      <th>year_2015</th>\n",
       "      <th>mon_1</th>\n",
       "      <th>mon_2</th>\n",
       "      <th>mon_3</th>\n",
       "      <th>mon_4</th>\n",
       "      <th>mon_5</th>\n",
       "      <th>mon_6</th>\n",
       "      <th>mon_7</th>\n",
       "      <th>mon_8</th>\n",
       "      <th>mon_9</th>\n",
       "      <th>mon_10</th>\n",
       "      <th>mon_11</th>\n",
       "      <th>mon_12</th>\n",
       "    </tr>\n",
       "    <tr>\n",
       "      <th>DATE</th>\n",
       "      <th></th>\n",
       "      <th></th>\n",
       "      <th></th>\n",
       "      <th></th>\n",
       "      <th></th>\n",
       "      <th></th>\n",
       "      <th></th>\n",
       "      <th></th>\n",
       "      <th></th>\n",
       "      <th></th>\n",
       "      <th></th>\n",
       "      <th></th>\n",
       "      <th></th>\n",
       "      <th></th>\n",
       "      <th></th>\n",
       "      <th></th>\n",
       "      <th></th>\n",
       "    </tr>\n",
       "  </thead>\n",
       "  <tbody>\n",
       "    <tr>\n",
       "      <th>2013-11-07 12:37:15</th>\n",
       "      <td>check out</td>\n",
       "      <td>0</td>\n",
       "      <td>1</td>\n",
       "      <td>0</td>\n",
       "      <td>0</td>\n",
       "      <td>0</td>\n",
       "      <td>0</td>\n",
       "      <td>0</td>\n",
       "      <td>0</td>\n",
       "      <td>0</td>\n",
       "      <td>0</td>\n",
       "      <td>0</td>\n",
       "      <td>0</td>\n",
       "      <td>0</td>\n",
       "      <td>0</td>\n",
       "      <td>1</td>\n",
       "      <td>0</td>\n",
       "    </tr>\n",
       "    <tr>\n",
       "      <th>2013-11-08 17:34:21</th>\n",
       "      <td>0</td>\n",
       "      <td>0</td>\n",
       "      <td>1</td>\n",
       "      <td>0</td>\n",
       "      <td>0</td>\n",
       "      <td>0</td>\n",
       "      <td>0</td>\n",
       "      <td>0</td>\n",
       "      <td>0</td>\n",
       "      <td>0</td>\n",
       "      <td>0</td>\n",
       "      <td>0</td>\n",
       "      <td>0</td>\n",
       "      <td>0</td>\n",
       "      <td>0</td>\n",
       "      <td>1</td>\n",
       "      <td>0</td>\n",
       "    </tr>\n",
       "  </tbody>\n",
       "</table>\n",
       "</div>"
      ],
      "text/plain": [
       "                     spam_word  MULTI_COMMENT  year_2013  year_2014  \\\n",
       "DATE                                                                  \n",
       "2013-11-07 12:37:15  check out              0          1          0   \n",
       "2013-11-08 17:34:21          0              0          1          0   \n",
       "\n",
       "                     year_2015  mon_1  mon_2  mon_3  mon_4  mon_5  mon_6  \\\n",
       "DATE                                                                       \n",
       "2013-11-07 12:37:15          0      0      0      0      0      0      0   \n",
       "2013-11-08 17:34:21          0      0      0      0      0      0      0   \n",
       "\n",
       "                     mon_7  mon_8  mon_9  mon_10  mon_11  mon_12  \n",
       "DATE                                                              \n",
       "2013-11-07 12:37:15      0      0      0       0       1       0  \n",
       "2013-11-08 17:34:21      0      0      0       0       1       0  "
      ]
     },
     "execution_count": 224,
     "metadata": {},
     "output_type": "execute_result"
    }
   ],
   "source": [
    "testset.head(2)"
   ]
  },
  {
   "cell_type": "code",
   "execution_count": null,
   "metadata": {},
   "outputs": [],
   "source": []
  },
  {
   "cell_type": "code",
   "execution_count": null,
   "metadata": {},
   "outputs": [],
   "source": []
  },
  {
   "cell_type": "code",
   "execution_count": 225,
   "metadata": {},
   "outputs": [],
   "source": [
    "trainset=pd.get_dummies(trainset,drop_first=True)\n",
    "testset=pd.get_dummies(testset,drop_first=True)"
   ]
  },
  {
   "cell_type": "code",
   "execution_count": null,
   "metadata": {},
   "outputs": [],
   "source": []
  },
  {
   "cell_type": "code",
   "execution_count": 226,
   "metadata": {},
   "outputs": [
    {
     "data": {
      "text/plain": [
       "(1019, 65)"
      ]
     },
     "execution_count": 226,
     "metadata": {},
     "output_type": "execute_result"
    }
   ],
   "source": [
    "trainset.shape"
   ]
  },
  {
   "cell_type": "code",
   "execution_count": 227,
   "metadata": {},
   "outputs": [
    {
     "data": {
      "text/plain": [
       "(799, 50)"
      ]
     },
     "execution_count": 227,
     "metadata": {},
     "output_type": "execute_result"
    }
   ],
   "source": [
    "testset.shape"
   ]
  },
  {
   "cell_type": "code",
   "execution_count": 229,
   "metadata": {},
   "outputs": [
    {
     "data": {
      "text/plain": [
       "Index(['MULTI_COMMENT', 'year_2013', 'year_2014', 'year_2015', 'mon_1',\n",
       "       'mon_2', 'mon_3', 'mon_4', 'mon_5', 'mon_6', 'mon_7', 'mon_8', 'mon_9',\n",
       "       'mon_10', 'mon_11', 'mon_12', 'spam_word_$', 'spam_word_+',\n",
       "       'spam_word_=', 'spam_word_CHANNEL', 'spam_word_CHECK OUT',\n",
       "       'spam_word_CHeck out', 'spam_word_Channel', 'spam_word_Check Out',\n",
       "       'spam_word_Check out', 'spam_word_Check this', 'spam_word_Dollar',\n",
       "       'spam_word_FACEBOOK', 'spam_word_FB', 'spam_word_FOLLOW',\n",
       "       'spam_word_FREE', 'spam_word_Facebook', 'spam_word_Follow',\n",
       "       'spam_word_Free', 'spam_word_LIKE THIS COMMENT',\n",
       "       'spam_word_Like this comment', 'spam_word_MONEY', 'spam_word_Money',\n",
       "       'spam_word_PLEASE', 'spam_word_Please', 'spam_word_SHARE',\n",
       "       'spam_word_SUB', 'spam_word_SUPPORT', 'spam_word_Share',\n",
       "       'spam_word_Sub', 'spam_word_Support', 'spam_word_Www', 'spam_word_adf',\n",
       "       'spam_word_channel', 'spam_word_check out', 'spam_word_check this',\n",
       "       'spam_word_dollar', 'spam_word_facebook', 'spam_word_fb',\n",
       "       'spam_word_follow', 'spam_word_free', 'spam_word_https://',\n",
       "       'spam_word_instagram', 'spam_word_like this comment', 'spam_word_money',\n",
       "       'spam_word_please', 'spam_word_share', 'spam_word_sub',\n",
       "       'spam_word_support', 'spam_word_www'],\n",
       "      dtype='object')"
      ]
     },
     "execution_count": 229,
     "metadata": {},
     "output_type": "execute_result"
    }
   ],
   "source": [
    "trainset.columns"
   ]
  },
  {
   "cell_type": "code",
   "execution_count": 230,
   "metadata": {},
   "outputs": [
    {
     "data": {
      "text/plain": [
       "Index(['MULTI_COMMENT', 'year_2013', 'year_2014', 'year_2015', 'mon_1',\n",
       "       'mon_2', 'mon_3', 'mon_4', 'mon_5', 'mon_6', 'mon_7', 'mon_8', 'mon_9',\n",
       "       'mon_10', 'mon_11', 'mon_12', 'spam_word_+', 'spam_word_=',\n",
       "       'spam_word_CHANNEL', 'spam_word_CHECK OUT', 'spam_word_Channel',\n",
       "       'spam_word_Check Out', 'spam_word_Check out', 'spam_word_FREe',\n",
       "       'spam_word_Facebook', 'spam_word_Follow', 'spam_word_Free',\n",
       "       'spam_word_Like This Comment', 'spam_word_Like this comment',\n",
       "       'spam_word_MONEY', 'spam_word_Money', 'spam_word_PLEASE',\n",
       "       'spam_word_Please', 'spam_word_SUB', 'spam_word_Sub', 'spam_word_adf',\n",
       "       'spam_word_channel', 'spam_word_check out', 'spam_word_fb',\n",
       "       'spam_word_follow', 'spam_word_free', 'spam_word_https://',\n",
       "       'spam_word_like This Comment', 'spam_word_like this comment',\n",
       "       'spam_word_money', 'spam_word_please', 'spam_word_share',\n",
       "       'spam_word_sub', 'spam_word_support', 'spam_word_www'],\n",
       "      dtype='object')"
      ]
     },
     "execution_count": 230,
     "metadata": {},
     "output_type": "execute_result"
    }
   ],
   "source": [
    "testset.columns"
   ]
  },
  {
   "cell_type": "code",
   "execution_count": null,
   "metadata": {},
   "outputs": [],
   "source": []
  },
  {
   "cell_type": "code",
   "execution_count": 54,
   "metadata": {},
   "outputs": [],
   "source": [
    "#df\n",
    "#names=names_backup"
   ]
  },
  {
   "cell_type": "markdown",
   "metadata": {},
   "source": [
    "trainset=df\n",
    "for x in names:\n",
    "    print(x)\n",
    "    del trainset['AUTHOR_'+x]"
   ]
  },
  {
   "cell_type": "code",
   "execution_count": 55,
   "metadata": {},
   "outputs": [
    {
     "data": {
      "text/plain": [
       "(1019, 59)"
      ]
     },
     "execution_count": 55,
     "metadata": {},
     "output_type": "execute_result"
    }
   ],
   "source": [
    "trainset.shape"
   ]
  },
  {
   "cell_type": "code",
   "execution_count": null,
   "metadata": {},
   "outputs": [],
   "source": []
  },
  {
   "cell_type": "code",
   "execution_count": null,
   "metadata": {},
   "outputs": [],
   "source": []
  },
  {
   "cell_type": "code",
   "execution_count": null,
   "metadata": {},
   "outputs": [],
   "source": []
  },
  {
   "cell_type": "code",
   "execution_count": 56,
   "metadata": {},
   "outputs": [
    {
     "data": {
      "text/plain": [
       "array([[-0.44173338,  0.47678762,  1.14604956, ...,  0.04503715,\n",
       "         0.13597001, -0.0597606 ],\n",
       "       [-0.45098009,  0.42119788,  1.14980463, ..., -0.03192938,\n",
       "         0.14714405, -0.12643826],\n",
       "       [-0.43761286,  0.43392008,  1.12814962, ..., -0.02675328,\n",
       "         0.21411495, -0.07718814],\n",
       "       ...,\n",
       "       [-0.16102126,  1.02793875,  0.56615389, ...,  0.68387095,\n",
       "        -0.33062228,  0.29889583],\n",
       "       [-0.16102126,  1.02793875,  0.56615389, ...,  0.68387095,\n",
       "        -0.33062228,  0.29889583],\n",
       "       [-0.16102126,  1.02793875,  0.56615389, ...,  0.68387095,\n",
       "        -0.33062228,  0.29889583]])"
      ]
     },
     "execution_count": 56,
     "metadata": {},
     "output_type": "execute_result"
    }
   ],
   "source": [
    "from sklearn.decomposition import PCA\n",
    "pca= PCA(n_components=10, whiten= False, random_state=187236)\n",
    "pca.fit_transform(trainset)"
   ]
  },
  {
   "cell_type": "code",
   "execution_count": 57,
   "metadata": {},
   "outputs": [
    {
     "data": {
      "text/plain": [
       "0.8214531779087227"
      ]
     },
     "execution_count": 57,
     "metadata": {},
     "output_type": "execute_result"
    }
   ],
   "source": [
    "sum(pca.explained_variance_ratio_)"
   ]
  },
  {
   "cell_type": "code",
   "execution_count": 58,
   "metadata": {},
   "outputs": [
    {
     "data": {
      "text/plain": [
       "<seaborn.axisgrid.FacetGrid at 0x145ce0dc390>"
      ]
     },
     "execution_count": 58,
     "metadata": {},
     "output_type": "execute_result"
    },
    {
     "data": {
      "image/png": "[encoded data removed]",
      "text/plain": [
       "<Figure size 402.375x360 with 1 Axes>"
      ]
     },
     "metadata": {
      "needs_background": "light"
     },
     "output_type": "display_data"
    }
   ],
   "source": [
    "pca_df=pd.DataFrame(pca.fit_transform(trainset),index=trainset.index)\n",
    "pca_df=pca_df.iloc[:,0:2]\n",
    "pca_df=pd.concat([pca_df,trainset_label],axis=1)\n",
    "pca_df.columns=['first','second','label']\n",
    "sns.lmplot(x='first',y='second', hue='label',data=pca_df, fit_reg=False)"
   ]
  },
  {
   "cell_type": "markdown",
   "metadata": {},
   "source": [
    "## Part3: Predictive Modeling"
   ]
  },
  {
   "cell_type": "markdown",
   "metadata": {},
   "source": [
    "### Splittting data into test and train set"
   ]
  },
  {
   "cell_type": "code",
   "execution_count": 59,
   "metadata": {},
   "outputs": [],
   "source": [
    "from sklearn.model_selection import train_test_split\n",
    "Xtrain,Xtest,Ytrain,Ytest = train_test_split(trainset, trainset_label, test_size=0.30,\n",
    "                                             stratify=trainset_label,random_state=765534)"
   ]
  },
  {
   "cell_type": "code",
   "execution_count": 60,
   "metadata": {},
   "outputs": [],
   "source": [
    "from sklearn.linear_model import SGDClassifier\n",
    "from sklearn.linear_model import LogisticRegression\n",
    "from sklearn.neighbors import KNeighborsClassifier\n",
    "from sklearn.tree import DecisionTreeClassifier\n",
    "from sklearn.svm import SVC\n",
    "from sklearn.ensemble import RandomForestClassifier\n",
    "from sklearn.ensemble import ExtraTreesClassifier\n",
    "from sklearn.ensemble import BaggingClassifier\n",
    "from sklearn.ensemble import AdaBoostClassifier\n",
    "from sklearn.ensemble import GradientBoostingClassifier"
   ]
  },
  {
   "cell_type": "code",
   "execution_count": 61,
   "metadata": {},
   "outputs": [],
   "source": [
    "from sklearn.metrics import confusion_matrix\n",
    "from sklearn.metrics import precision_recall_curve\n",
    "from sklearn.metrics import average_precision_score\n",
    "from sklearn.metrics import roc_curve\n",
    "from sklearn.metrics import auc\n",
    "from sklearn.model_selection import cross_val_score\n",
    "from sklearn.metrics import f1_score"
   ]
  },
  {
   "cell_type": "code",
   "execution_count": 62,
   "metadata": {},
   "outputs": [],
   "source": [
    "def CrossVal(dataX,dataY,mode,cv=10):\n",
    "    score=cross_val_score(mode,dataX , dataY, cv=cv, scoring='accuracy')\n",
    "    return(np.mean(score))"
   ]
  },
  {
   "cell_type": "code",
   "execution_count": 63,
   "metadata": {},
   "outputs": [],
   "source": [
    "def plotting(true,pred):\n",
    "    fig,ax=plt.subplots(1,2,figsize=(10,5))\n",
    "    precision,recall,threshold = precision_recall_curve(true,pred[:,1])\n",
    "    ax[0].plot(recall,precision,'g--')\n",
    "    ax[0].set_xlabel('Recall')\n",
    "    ax[0].set_ylabel('Precision')\n",
    "    ax[0].set_title(\"Average Precision Score : {}\".format(average_precision_score(true,pred[:,1])))\n",
    "    fpr,tpr,threshold = roc_curve(true,pred[:,1])\n",
    "    ax[1].plot(fpr,tpr)\n",
    "    ax[1].set_title(\"AUC Score is: {}\".format(auc(fpr,tpr)))\n",
    "    ax[1].plot([0,1],[0,1],'k--')\n",
    "    ax[1].set_xlabel('False Positive Rate')\n",
    "    ax[1].set_ylabel('True Positive Rate')"
   ]
  },
  {
   "cell_type": "markdown",
   "metadata": {},
   "source": [
    "### SGD"
   ]
  },
  {
   "cell_type": "code",
   "execution_count": 64,
   "metadata": {},
   "outputs": [
    {
     "name": "stdout",
     "output_type": "stream",
     "text": [
      "Accuracy is :  0.9354264475743348\n"
     ]
    },
    {
     "data": {
      "text/plain": [
       "Text(0.5,1,'F1 Score = 0.8835341365461847')"
      ]
     },
     "execution_count": 64,
     "metadata": {},
     "output_type": "execute_result"
    },
    {
     "data": {
      "image/png": "[encoded data removed]",
      "text/plain": [
       "<Figure size 720x360 with 2 Axes>"
      ]
     },
     "metadata": {
      "needs_background": "light"
     },
     "output_type": "display_data"
    },
    {
     "data": {
      "image/png": "[encoded data removed]",
      "text/plain": [
       "<Figure size 432x288 with 2 Axes>"
      ]
     },
     "metadata": {
      "needs_background": "light"
     },
     "output_type": "display_data"
    }
   ],
   "source": [
    "sgd=SGDClassifier(tol=0.00001, random_state=87643,loss='log')\n",
    "score_sgd=CrossVal(Xtrain,Ytrain,sgd)\n",
    "print(\"Accuracy is : \",score_sgd)\n",
    "sgd.fit(Xtrain,Ytrain)\n",
    "plotting(Ytest,sgd.predict_proba(Xtest))\n",
    "\n",
    "fig=plt.figure()\n",
    "sns.heatmap(confusion_matrix(Ytest,sgd.predict(Xtest)), annot= True, cmap='Oranges')\n",
    "sgd_f1=f1_score(Ytest,sgd.predict(Xtest))\n",
    "plt.title('F1 Score = {}'.format(sgd_f1))"
   ]
  },
  {
   "cell_type": "markdown",
   "metadata": {},
   "source": [
    "### b) K-Nearest Neighbors"
   ]
  },
  {
   "cell_type": "code",
   "execution_count": 65,
   "metadata": {},
   "outputs": [
    {
     "name": "stdout",
     "output_type": "stream",
     "text": [
      "Accuracy is :  0.7658646322378717\n"
     ]
    },
    {
     "data": {
      "text/plain": [
       "Text(0.5,1,'F1 Score = 0.6467661691542289')"
      ]
     },
     "execution_count": 65,
     "metadata": {},
     "output_type": "execute_result"
    },
    {
     "data": {
      "image/png": "[encoded data removed]",
      "text/plain": [
       "<Figure size 720x360 with 2 Axes>"
      ]
     },
     "metadata": {
      "needs_background": "light"
     },
     "output_type": "display_data"
    },
    {
     "data": {
      "image/png": "[encoded data removed]",
      "text/plain": [
       "<Figure size 432x288 with 2 Axes>"
      ]
     },
     "metadata": {
      "needs_background": "light"
     },
     "output_type": "display_data"
    }
   ],
   "source": [
    "k=KNeighborsClassifier(algorithm='auto', n_neighbors= 7)\n",
    "score_k=CrossVal(Xtrain,Ytrain,k)\n",
    "print(\"Accuracy is : \",score_k)\n",
    "k.fit(Xtrain,Ytrain)\n",
    "plotting(Ytest,k.predict_proba(Xtest))\n",
    "\n",
    "\n",
    "fig=plt.figure()\n",
    "sns.heatmap(confusion_matrix(Ytest,k.predict(Xtest)), annot= True, cmap='Reds')\n",
    "k_f1=f1_score(Ytest,k.predict(Xtest))\n",
    "plt.title('F1 Score = {}'.format(k_f1))"
   ]
  },
  {
   "cell_type": "markdown",
   "metadata": {},
   "source": [
    "# Logistic"
   ]
  },
  {
   "cell_type": "code",
   "execution_count": 66,
   "metadata": {},
   "outputs": [
    {
     "name": "stdout",
     "output_type": "stream",
     "text": [
      "Accuracy is :  0.9088223787167449\n"
     ]
    },
    {
     "name": "stderr",
     "output_type": "stream",
     "text": [
      "C:\\Users\\Rishi\\Anaconda3\\lib\\site-packages\\sklearn\\linear_model\\logistic.py:433: FutureWarning: Default solver will be changed to 'lbfgs' in 0.22. Specify a solver to silence this warning.\n",
      "  FutureWarning)\n",
      "C:\\Users\\Rishi\\Anaconda3\\lib\\site-packages\\sklearn\\linear_model\\logistic.py:433: FutureWarning: Default solver will be changed to 'lbfgs' in 0.22. Specify a solver to silence this warning.\n",
      "  FutureWarning)\n",
      "C:\\Users\\Rishi\\Anaconda3\\lib\\site-packages\\sklearn\\linear_model\\logistic.py:433: FutureWarning: Default solver will be changed to 'lbfgs' in 0.22. Specify a solver to silence this warning.\n",
      "  FutureWarning)\n",
      "C:\\Users\\Rishi\\Anaconda3\\lib\\site-packages\\sklearn\\linear_model\\logistic.py:433: FutureWarning: Default solver will be changed to 'lbfgs' in 0.22. Specify a solver to silence this warning.\n",
      "  FutureWarning)\n",
      "C:\\Users\\Rishi\\Anaconda3\\lib\\site-packages\\sklearn\\linear_model\\logistic.py:433: FutureWarning: Default solver will be changed to 'lbfgs' in 0.22. Specify a solver to silence this warning.\n",
      "  FutureWarning)\n",
      "C:\\Users\\Rishi\\Anaconda3\\lib\\site-packages\\sklearn\\linear_model\\logistic.py:433: FutureWarning: Default solver will be changed to 'lbfgs' in 0.22. Specify a solver to silence this warning.\n",
      "  FutureWarning)\n",
      "C:\\Users\\Rishi\\Anaconda3\\lib\\site-packages\\sklearn\\linear_model\\logistic.py:433: FutureWarning: Default solver will be changed to 'lbfgs' in 0.22. Specify a solver to silence this warning.\n",
      "  FutureWarning)\n",
      "C:\\Users\\Rishi\\Anaconda3\\lib\\site-packages\\sklearn\\linear_model\\logistic.py:433: FutureWarning: Default solver will be changed to 'lbfgs' in 0.22. Specify a solver to silence this warning.\n",
      "  FutureWarning)\n",
      "C:\\Users\\Rishi\\Anaconda3\\lib\\site-packages\\sklearn\\linear_model\\logistic.py:433: FutureWarning: Default solver will be changed to 'lbfgs' in 0.22. Specify a solver to silence this warning.\n",
      "  FutureWarning)\n",
      "C:\\Users\\Rishi\\Anaconda3\\lib\\site-packages\\sklearn\\linear_model\\logistic.py:433: FutureWarning: Default solver will be changed to 'lbfgs' in 0.22. Specify a solver to silence this warning.\n",
      "  FutureWarning)\n",
      "C:\\Users\\Rishi\\Anaconda3\\lib\\site-packages\\sklearn\\linear_model\\logistic.py:433: FutureWarning: Default solver will be changed to 'lbfgs' in 0.22. Specify a solver to silence this warning.\n",
      "  FutureWarning)\n"
     ]
    },
    {
     "data": {
      "text/plain": [
       "Text(0.5,1,'F1 Score = 0.8734693877551021')"
      ]
     },
     "execution_count": 66,
     "metadata": {},
     "output_type": "execute_result"
    },
    {
     "data": {
      "image/png": "[encoded data removed]",
      "text/plain": [
       "<Figure size 720x360 with 2 Axes>"
      ]
     },
     "metadata": {
      "needs_background": "light"
     },
     "output_type": "display_data"
    },
    {
     "data": {
      "image/png": "[encoded data removed]",
      "text/plain": [
       "<Figure size 432x288 with 2 Axes>"
      ]
     },
     "metadata": {
      "needs_background": "light"
     },
     "output_type": "display_data"
    }
   ],
   "source": [
    "lr=LogisticRegression(class_weight='balanced', tol=0.00001)\n",
    "score_lr=CrossVal(Xtrain,Ytrain,lr)\n",
    "print(\"Accuracy is : \",score_lr)\n",
    "lr.fit(Xtrain,Ytrain)\n",
    "plotting(Ytest,lr.predict_proba(Xtest))\n",
    "\n",
    "\n",
    "fig=plt.figure()\n",
    "sns.heatmap(confusion_matrix(Ytest,lr.predict(Xtest)), annot= True, cmap='Greens')\n",
    "lr_f1=f1_score(Ytest,lr.predict(Xtest))\n",
    "plt.title('F1 Score = {}'.format(lr_f1))"
   ]
  },
  {
   "cell_type": "markdown",
   "metadata": {},
   "source": [
    "## decision tree"
   ]
  },
  {
   "cell_type": "code",
   "execution_count": 67,
   "metadata": {},
   "outputs": [
    {
     "name": "stdout",
     "output_type": "stream",
     "text": [
      "Accuracy is :  0.9073356807511737\n"
     ]
    },
    {
     "data": {
      "text/plain": [
       "Text(0.5,1,'F1 Score = 0.8138528138528138')"
      ]
     },
     "execution_count": 67,
     "metadata": {},
     "output_type": "execute_result"
    },
    {
     "data": {
      "image/png": "[encoded data removed]",
      "text/plain": [
       "<Figure size 720x360 with 2 Axes>"
      ]
     },
     "metadata": {
      "needs_background": "light"
     },
     "output_type": "display_data"
    },
    {
     "data": {
      "image/png": "[encoded data removed]",
      "text/plain": [
       "<Figure size 432x288 with 2 Axes>"
      ]
     },
     "metadata": {
      "needs_background": "light"
     },
     "output_type": "display_data"
    }
   ],
   "source": [
    "dtc=DecisionTreeClassifier()\n",
    "score_dtc=CrossVal(Xtrain,Ytrain,dtc)\n",
    "print(\"Accuracy is : \",score_dtc)\n",
    "dtc.fit(Xtrain,Ytrain)\n",
    "plotting(Ytest,dtc.predict_proba(Xtest))\n",
    "\n",
    "fig=plt.figure()\n",
    "sns.heatmap(confusion_matrix(Ytest,dtc.predict(Xtest)), annot= True, cmap='Blues')\n",
    "\n",
    "dtc_f1=f1_score(Ytest,dtc.predict(Xtest))\n",
    "plt.title('F1 Score = {}'.format(dtc_f1))"
   ]
  },
  {
   "cell_type": "markdown",
   "metadata": {},
   "source": [
    "### e) Support vector machine"
   ]
  },
  {
   "cell_type": "code",
   "execution_count": 95,
   "metadata": {},
   "outputs": [
    {
     "name": "stdout",
     "output_type": "stream",
     "text": [
      "Accuracy is :  0.9466940532081377\n"
     ]
    },
    {
     "data": {
      "text/plain": [
       "Text(0.5,1,'F1 Score = 0.918918918918919')"
      ]
     },
     "execution_count": 95,
     "metadata": {},
     "output_type": "execute_result"
    },
    {
     "data": {
      "image/png": "[encoded data removed]",
      "text/plain": [
       "<Figure size 720x360 with 2 Axes>"
      ]
     },
     "metadata": {
      "needs_background": "light"
     },
     "output_type": "display_data"
    },
    {
     "data": {
      "image/png": "[encoded data removed]",
      "text/plain": [
       "<Figure size 432x288 with 2 Axes>"
      ]
     },
     "metadata": {
      "needs_background": "light"
     },
     "output_type": "display_data"
    }
   ],
   "source": [
    "svc=SVC(C=13,probability=True,kernel='rbf',gamma=0.1)\n",
    "score_svc=CrossVal(Xtrain,Ytrain,svc)\n",
    "print(\"Accuracy is : \",score_svc)\n",
    "svc.fit(Xtrain,Ytrain)\n",
    "plotting(Ytest,svc.predict_proba(Xtest))\n",
    "\n",
    "fig=plt.figure()\n",
    "sns.heatmap(confusion_matrix(Ytest,svc.predict(Xtest)), annot= True, cmap='Greys')\n",
    "svc_f1=f1_score(Ytest,svc.predict(Xtest))\n",
    "plt.title('F1 Score = {}'.format(svc_f1))"
   ]
  },
  {
   "cell_type": "markdown",
   "metadata": {},
   "source": [
    "### f) Random Forest Classifier"
   ]
  },
  {
   "cell_type": "code",
   "execution_count": 70,
   "metadata": {},
   "outputs": [
    {
     "name": "stdout",
     "output_type": "stream",
     "text": [
      "Accuracy is: 0.9101330203442878\n"
     ]
    },
    {
     "data": {
      "text/plain": [
       "Text(0.5,1,'F1 Score = 0.8189655172413793')"
      ]
     },
     "execution_count": 70,
     "metadata": {},
     "output_type": "execute_result"
    },
    {
     "data": {
      "image/png": "[encoded data removed]",
      "text/plain": [
       "<Figure size 720x360 with 2 Axes>"
      ]
     },
     "metadata": {
      "needs_background": "light"
     },
     "output_type": "display_data"
    },
    {
     "data": {
      "image/png": "[encoded data removed]",
      "text/plain": [
       "<Figure size 432x288 with 2 Axes>"
      ]
     },
     "metadata": {
      "needs_background": "light"
     },
     "output_type": "display_data"
    }
   ],
   "source": [
    "rf=RandomForestClassifier(n_estimators=100, n_jobs=-1, random_state=1296)\n",
    "score_rf= CrossVal(Xtrain,Ytrain,rf)\n",
    "print('Accuracy is:',score_rf)\n",
    "rf.fit(Xtrain,Ytrain)\n",
    "plotting(Ytest,rf.predict_proba(Xtest))\n",
    "\n",
    "fig=plt.figure()\n",
    "sns.heatmap(confusion_matrix(Ytest,rf.predict(Xtest)), annot= True, cmap='Oranges')\n",
    "\n",
    "rf_f1=f1_score(Ytest,rf.predict(Xtest))\n",
    "plt.title('F1 Score = {}'.format(rf_f1))"
   ]
  },
  {
   "cell_type": "markdown",
   "metadata": {},
   "source": [
    "### g) Extra Trees Classifier"
   ]
  },
  {
   "cell_type": "code",
   "execution_count": 75,
   "metadata": {},
   "outputs": [
    {
     "name": "stdout",
     "output_type": "stream",
     "text": [
      "Accuracy is: 0.9115610328638498\n"
     ]
    },
    {
     "data": {
      "text/plain": [
       "Text(0.5,1,'F1 Score = 0.8225108225108225')"
      ]
     },
     "execution_count": 75,
     "metadata": {},
     "output_type": "execute_result"
    },
    {
     "data": {
      "image/png": "[encoded data removed]",
      "text/plain": [
       "<Figure size 720x360 with 2 Axes>"
      ]
     },
     "metadata": {
      "needs_background": "light"
     },
     "output_type": "display_data"
    },
    {
     "data": {
      "image/png": "[encoded data removed]",
      "text/plain": [
       "<Figure size 432x288 with 2 Axes>"
      ]
     },
     "metadata": {
      "needs_background": "light"
     },
     "output_type": "display_data"
    }
   ],
   "source": [
    "etc=ExtraTreesClassifier(n_estimators=100, n_jobs=-1, random_state=728964)\n",
    "score_etc= CrossVal(Xtrain,Ytrain,etc)\n",
    "print('Accuracy is:',score_etc)\n",
    "etc.fit(Xtrain,Ytrain)\n",
    "plotting(Ytest,etc.predict_proba(Xtest))\n",
    "\n",
    "fig=plt.figure()\n",
    "sns.heatmap(confusion_matrix(Ytest,etc.predict(Xtest)), annot= True, cmap='Greens')\n",
    "\n",
    "etc_f1=f1_score(Ytest,etc.predict(Xtest))\n",
    "plt.title('F1 Score = {}'.format(etc_f1))"
   ]
  },
  {
   "cell_type": "markdown",
   "metadata": {},
   "source": [
    "### h) Ada Boost Classifier"
   ]
  },
  {
   "cell_type": "code",
   "execution_count": 72,
   "metadata": {},
   "outputs": [
    {
     "name": "stdout",
     "output_type": "stream",
     "text": [
      "Accuracy is: 0.876564945226917\n"
     ]
    },
    {
     "data": {
      "text/plain": [
       "Text(0.5,1,'F1 Score = 0.8032128514056226')"
      ]
     },
     "execution_count": 72,
     "metadata": {},
     "output_type": "execute_result"
    },
    {
     "data": {
      "image/png": "[encoded data removed]",
      "text/plain": [
       "<Figure size 720x360 with 2 Axes>"
      ]
     },
     "metadata": {
      "needs_background": "light"
     },
     "output_type": "display_data"
    },
    {
     "data": {
      "image/png": "[encoded data removed]",
      "text/plain": [
       "<Figure size 432x288 with 2 Axes>"
      ]
     },
     "metadata": {
      "needs_background": "light"
     },
     "output_type": "display_data"
    }
   ],
   "source": [
    "abc=AdaBoostClassifier(sgd,n_estimators=100, random_state=2786,algorithm='SAMME', learning_rate=0.01)\n",
    "score_ada= CrossVal(Xtrain,Ytrain,abc)\n",
    "print('Accuracy is:',score_ada)\n",
    "abc.fit(Xtrain,Ytrain)\n",
    "plotting(Ytest,abc.predict_proba(Xtest))\n",
    "\n",
    "fig=plt.figure()\n",
    "sns.heatmap(confusion_matrix(Ytest,abc.predict(Xtest)), annot= True, cmap='Reds')\n",
    "\n",
    "abc_f1=f1_score(Ytest,abc.predict(Xtest))\n",
    "plt.title('F1 Score = {}'.format(abc_f1))"
   ]
  },
  {
   "cell_type": "markdown",
   "metadata": {},
   "source": [
    "### i) Gradient Boosting Classifier "
   ]
  },
  {
   "cell_type": "code",
   "execution_count": 73,
   "metadata": {},
   "outputs": [
    {
     "name": "stdout",
     "output_type": "stream",
     "text": [
      "Accuracy is: 0.7854264475743349\n"
     ]
    },
    {
     "data": {
      "text/plain": [
       "Text(0.5,1,'F1 Score = 0.6875')"
      ]
     },
     "execution_count": 73,
     "metadata": {},
     "output_type": "execute_result"
    },
    {
     "data": {
      "image/png": "[encoded data removed]",
      "text/plain": [
       "<Figure size 720x360 with 2 Axes>"
      ]
     },
     "metadata": {
      "needs_background": "light"
     },
     "output_type": "display_data"
    },
    {
     "data": {
      "image/png": "[encoded data removed]",
      "text/plain": [
       "<Figure size 432x288 with 2 Axes>"
      ]
     },
     "metadata": {
      "needs_background": "light"
     },
     "output_type": "display_data"
    }
   ],
   "source": [
    "gbc=GradientBoostingClassifier(n_estimators=100, random_state=977078, learning_rate = 0.01)\n",
    "score_gbc= CrossVal(Xtrain,Ytrain,gbc)\n",
    "print('Accuracy is:',score_gbc)\n",
    "gbc.fit(Xtrain,Ytrain)\n",
    "plotting(Ytest,gbc.predict_proba(Xtest))\n",
    "\n",
    "fig=plt.figure()\n",
    "sns.heatmap(confusion_matrix(Ytest,gbc.predict(Xtest)), annot= True, cmap='Blues')\n",
    "\n",
    "gbc_f1=f1_score(Ytest,gbc.predict(Xtest))\n",
    "plt.title('F1 Score = {}'.format(gbc_f1))"
   ]
  },
  {
   "cell_type": "markdown",
   "metadata": {},
   "source": [
    "### j) Bagging Classifier "
   ]
  },
  {
   "cell_type": "code",
   "execution_count": 74,
   "metadata": {},
   "outputs": [
    {
     "name": "stdout",
     "output_type": "stream",
     "text": [
      "Accuracy is: 0.7854264475743349\n"
     ]
    },
    {
     "data": {
      "text/plain": [
       "Text(0.5,1,'F1 Score = 0.7353951890034366')"
      ]
     },
     "execution_count": 74,
     "metadata": {},
     "output_type": "execute_result"
    },
    {
     "data": {
      "image/png": "[encoded data removed]",
      "text/plain": [
       "<Figure size 720x360 with 2 Axes>"
      ]
     },
     "metadata": {
      "needs_background": "light"
     },
     "output_type": "display_data"
    },
    {
     "data": {
      "image/png": "[encoded data removed]",
      "text/plain": [
       "<Figure size 432x288 with 2 Axes>"
      ]
     },
     "metadata": {
      "needs_background": "light"
     },
     "output_type": "display_data"
    }
   ],
   "source": [
    "bc=BaggingClassifier(lr,max_samples=31, bootstrap=True, n_jobs= -1, )\n",
    "score_bc= CrossVal(Xtrain,Ytrain,gbc)\n",
    "print('Accuracy is:',score_bc)\n",
    "bc.fit(Xtrain,Ytrain)\n",
    "plotting(Ytest,bc.predict_proba(Xtest))\n",
    "\n",
    "fig=plt.figure()\n",
    "sns.heatmap(confusion_matrix(Ytest,bc.predict(Xtest)), annot= True, cmap='Greys')\n",
    "\n",
    "bc_f1=f1_score(Ytest,bc.predict(Xtest))\n",
    "plt.title('F1 Score = {}'.format(bc_f1))"
   ]
  },
  {
   "cell_type": "code",
   "execution_count": 76,
   "metadata": {},
   "outputs": [],
   "source": [
    "import lightgbm as lgb"
   ]
  },
  {
   "cell_type": "code",
   "execution_count": 77,
   "metadata": {},
   "outputs": [],
   "source": [
    "param = { 'objective': 'binary',\n",
    "        'metric':'auc',\n",
    "        'bagging_fraction': 0.42640981419916935,\n",
    "  'feature_fraction': 0.5718888549869281,\n",
    "  'lambda_l1': 1.9766800773416946,\n",
    "  'lambda_l2': 1.3322262742031845,\n",
    "  'max_depth': 5,\n",
    "  'min_data_in_leaf': 24,\n",
    "  'min_gain_to_split': 0.5219501719417943,\n",
    "  'num_leaves': 25}"
   ]
  },
  {
   "cell_type": "code",
   "execution_count": 78,
   "metadata": {},
   "outputs": [],
   "source": [
    "data_1=lgb.Dataset(Xtrain,Ytrain)\n",
    "best=lgb.cv(param, train_set=data_1, nfold=10, metrics='auc',\n",
    "       num_boost_round=10000, early_stopping_rounds=1000)"
   ]
  },
  {
   "cell_type": "code",
   "execution_count": 79,
   "metadata": {},
   "outputs": [
    {
     "data": {
      "text/plain": [
       "{'auc-mean': [0.680102066532258,\n",
       "  0.7996862399193548,\n",
       "  0.8061668346774195,\n",
       "  0.8116406249999999,\n",
       "  0.806265120967742,\n",
       "  0.8273689516129032,\n",
       "  0.8258618951612903,\n",
       "  0.8245715725806452,\n",
       "  0.8244102822580646,\n",
       "  0.8268976814516129,\n",
       "  0.8300176411290323,\n",
       "  0.8317918346774194,\n",
       "  0.8311340725806451,\n",
       "  0.8314931955645161,\n",
       "  0.8325441028225807,\n",
       "  0.8322215221774194,\n",
       "  0.832546622983871,\n",
       "  0.8311756552419356,\n",
       "  0.8342237903225806,\n",
       "  0.8342137096774195,\n",
       "  0.8343724798387097,\n",
       "  0.8343724798387097,\n",
       "  0.8347757056451612,\n",
       "  0.8359148185483871,\n",
       "  0.8330115927419355,\n",
       "  0.8303843245967742,\n",
       "  0.8312487399193549,\n",
       "  0.8325088205645162,\n",
       "  0.8325088205645162,\n",
       "  0.835905997983871,\n",
       "  0.8387084173387096,\n",
       "  0.8375189012096774,\n",
       "  0.8384576612903226,\n",
       "  0.8389314516129032,\n",
       "  0.8428881048387098,\n",
       "  0.8449647177419356,\n",
       "  0.8451260080645163,\n",
       "  0.851796875,\n",
       "  0.8518775201612904,\n",
       "  0.8519682459677419,\n",
       "  0.8541759072580646,\n",
       "  0.8531779233870967,\n",
       "  0.8553553427419356,\n",
       "  0.8548311491935484,\n",
       "  0.8548311491935484,\n",
       "  0.8551436491935485,\n",
       "  0.8553956653225807,\n",
       "  0.8543674395161291,\n",
       "  0.8546799395161291,\n",
       "  0.8552394153225806,\n",
       "  0.8555519153225808,\n",
       "  0.8559551411290321,\n",
       "  0.8559551411290321,\n",
       "  0.8563860887096775,\n",
       "  0.8567086693548387,\n",
       "  0.8571925403225806,\n",
       "  0.8573538306451614,\n",
       "  0.8573538306451614,\n",
       "  0.8573538306451614,\n",
       "  0.8573538306451614,\n",
       "  0.858482862903226,\n",
       "  0.8574344758064516,\n",
       "  0.8588734879032259,\n",
       "  0.8588734879032259,\n",
       "  0.8592691532258063,\n",
       "  0.8592691532258063,\n",
       "  0.8592691532258063,\n",
       "  0.8592691532258063,\n",
       "  0.8592691532258063,\n",
       "  0.8593497983870968,\n",
       "  0.8593497983870968,\n",
       "  0.8595110887096775,\n",
       "  0.8595110887096775,\n",
       "  0.8595110887096775,\n",
       "  0.8601360887096774,\n",
       "  0.8607610887096774],\n",
       " 'auc-stdv': [0.026714236558302646,\n",
       "  0.028281995376948334,\n",
       "  0.02985349344457003,\n",
       "  0.027651440515144923,\n",
       "  0.03407184891443834,\n",
       "  0.03358014253242121,\n",
       "  0.03457393246452296,\n",
       "  0.03455662217182285,\n",
       "  0.034728845260937904,\n",
       "  0.03281958365652486,\n",
       "  0.03152845755230277,\n",
       "  0.032493848414659826,\n",
       "  0.03526954552083281,\n",
       "  0.035247923985013016,\n",
       "  0.03534109619536444,\n",
       "  0.03535879266077052,\n",
       "  0.036251796363216696,\n",
       "  0.034564983879540705,\n",
       "  0.03695415157807411,\n",
       "  0.03637925048446673,\n",
       "  0.03651187672907768,\n",
       "  0.03651187672907768,\n",
       "  0.036727908787850795,\n",
       "  0.03847794390076752,\n",
       "  0.044025191901108936,\n",
       "  0.04460436594982056,\n",
       "  0.04364088089896468,\n",
       "  0.041632162332089336,\n",
       "  0.041632162332089336,\n",
       "  0.04393845640383899,\n",
       "  0.0473360595866961,\n",
       "  0.048859633515577455,\n",
       "  0.04701186816448747,\n",
       "  0.04720174441978873,\n",
       "  0.04923626355352194,\n",
       "  0.0475661834713982,\n",
       "  0.04748036032936798,\n",
       "  0.04915487259262899,\n",
       "  0.04921665111124397,\n",
       "  0.04937928712379174,\n",
       "  0.04613300425998263,\n",
       "  0.04961794543258154,\n",
       "  0.044420779258342376,\n",
       "  0.0441515597642848,\n",
       "  0.0441515597642848,\n",
       "  0.043584541362141745,\n",
       "  0.04352264146418318,\n",
       "  0.04369959357675698,\n",
       "  0.04312999320022156,\n",
       "  0.043075245535378476,\n",
       "  0.04252532557466822,\n",
       "  0.04264952397725528,\n",
       "  0.04264952397725528,\n",
       "  0.04265388052696496,\n",
       "  0.042624938614085936,\n",
       "  0.042697028132101786,\n",
       "  0.04273199046288566,\n",
       "  0.04273199046288566,\n",
       "  0.04273199046288566,\n",
       "  0.04273199046288566,\n",
       "  0.043269721302000824,\n",
       "  0.042577737166368895,\n",
       "  0.04259365475947155,\n",
       "  0.04259365475947155,\n",
       "  0.042164074438254505,\n",
       "  0.042164074438254505,\n",
       "  0.042164074438254505,\n",
       "  0.042164074438254505,\n",
       "  0.042164074438254505,\n",
       "  0.042181741550307954,\n",
       "  0.042181741550307954,\n",
       "  0.042221212806499674,\n",
       "  0.042221212806499674,\n",
       "  0.042221212806499674,\n",
       "  0.04120191037700359,\n",
       "  0.04024419556380199]}"
      ]
     },
     "execution_count": 79,
     "metadata": {},
     "output_type": "execute_result"
    }
   ],
   "source": [
    "best"
   ]
  },
  {
   "cell_type": "markdown",
   "metadata": {},
   "source": [
    "### Voting Classifier"
   ]
  },
  {
   "cell_type": "code",
   "execution_count": 89,
   "metadata": {},
   "outputs": [
    {
     "name": "stderr",
     "output_type": "stream",
     "text": [
      "C:\\Users\\Rishi\\Anaconda3\\lib\\site-packages\\sklearn\\linear_model\\logistic.py:433: FutureWarning: Default solver will be changed to 'lbfgs' in 0.22. Specify a solver to silence this warning.\n",
      "  FutureWarning)\n",
      "C:\\Users\\Rishi\\Anaconda3\\lib\\site-packages\\sklearn\\linear_model\\logistic.py:433: FutureWarning: Default solver will be changed to 'lbfgs' in 0.22. Specify a solver to silence this warning.\n",
      "  FutureWarning)\n",
      "C:\\Users\\Rishi\\Anaconda3\\lib\\site-packages\\sklearn\\linear_model\\logistic.py:433: FutureWarning: Default solver will be changed to 'lbfgs' in 0.22. Specify a solver to silence this warning.\n",
      "  FutureWarning)\n",
      "C:\\Users\\Rishi\\Anaconda3\\lib\\site-packages\\sklearn\\linear_model\\logistic.py:433: FutureWarning: Default solver will be changed to 'lbfgs' in 0.22. Specify a solver to silence this warning.\n",
      "  FutureWarning)\n",
      "C:\\Users\\Rishi\\Anaconda3\\lib\\site-packages\\sklearn\\linear_model\\logistic.py:433: FutureWarning: Default solver will be changed to 'lbfgs' in 0.22. Specify a solver to silence this warning.\n",
      "  FutureWarning)\n",
      "C:\\Users\\Rishi\\Anaconda3\\lib\\site-packages\\sklearn\\linear_model\\logistic.py:433: FutureWarning: Default solver will be changed to 'lbfgs' in 0.22. Specify a solver to silence this warning.\n",
      "  FutureWarning)\n",
      "C:\\Users\\Rishi\\Anaconda3\\lib\\site-packages\\sklearn\\linear_model\\logistic.py:433: FutureWarning: Default solver will be changed to 'lbfgs' in 0.22. Specify a solver to silence this warning.\n",
      "  FutureWarning)\n",
      "C:\\Users\\Rishi\\Anaconda3\\lib\\site-packages\\sklearn\\linear_model\\logistic.py:433: FutureWarning: Default solver will be changed to 'lbfgs' in 0.22. Specify a solver to silence this warning.\n",
      "  FutureWarning)\n",
      "C:\\Users\\Rishi\\Anaconda3\\lib\\site-packages\\sklearn\\linear_model\\logistic.py:433: FutureWarning: Default solver will be changed to 'lbfgs' in 0.22. Specify a solver to silence this warning.\n",
      "  FutureWarning)\n",
      "C:\\Users\\Rishi\\Anaconda3\\lib\\site-packages\\sklearn\\linear_model\\logistic.py:433: FutureWarning: Default solver will be changed to 'lbfgs' in 0.22. Specify a solver to silence this warning.\n",
      "  FutureWarning)\n",
      "C:\\Users\\Rishi\\Anaconda3\\lib\\site-packages\\sklearn\\linear_model\\logistic.py:433: FutureWarning: Default solver will be changed to 'lbfgs' in 0.22. Specify a solver to silence this warning.\n",
      "  FutureWarning)\n"
     ]
    },
    {
     "name": "stdout",
     "output_type": "stream",
     "text": [
      "Accuracy is: 0.9214006259780906\n"
     ]
    },
    {
     "data": {
      "text/plain": [
       "Text(0.5,1,'F1 Score = 0.8816326530612246')"
      ]
     },
     "execution_count": 89,
     "metadata": {},
     "output_type": "execute_result"
    },
    {
     "data": {
      "image/png": "[encoded data removed]",
      "text/plain": [
       "<Figure size 720x360 with 2 Axes>"
      ]
     },
     "metadata": {
      "needs_background": "light"
     },
     "output_type": "display_data"
    },
    {
     "data": {
      "image/png": "[encoded data removed]",
      "text/plain": [
       "<Figure size 432x288 with 2 Axes>"
      ]
     },
     "metadata": {
      "needs_background": "light"
     },
     "output_type": "display_data"
    }
   ],
   "source": [
    "from sklearn.ensemble import VotingClassifier\n",
    "vc=VotingClassifier(voting='soft', estimators=[('bg',bc),('lr',lr),('sgd',sgd)])\n",
    "score_vc= CrossVal(Xtrain,Ytrain,vc)\n",
    "print('Accuracy is:',score_vc)\n",
    "vc.fit(Xtrain,Ytrain)\n",
    "plotting(Ytest,vc.predict_proba(Xtest))\n",
    "\n",
    "fig=plt.figure()\n",
    "sns.heatmap(confusion_matrix(Ytest,vc.predict(Xtest)), annot= True, cmap='Greys')\n",
    "\n",
    "vc_f1=f1_score(Ytest,vc.predict(Xtest))\n",
    "plt.title('F1 Score = {}'.format(vc_f1))"
   ]
  },
  {
   "cell_type": "code",
   "execution_count": 100,
   "metadata": {},
   "outputs": [
    {
     "data": {
      "text/html": [
       "<div>\n",
       "<style scoped>\n",
       "    .dataframe tbody tr th:only-of-type {\n",
       "        vertical-align: middle;\n",
       "    }\n",
       "\n",
       "    .dataframe tbody tr th {\n",
       "        vertical-align: top;\n",
       "    }\n",
       "\n",
       "    .dataframe thead th {\n",
       "        text-align: right;\n",
       "    }\n",
       "</style>\n",
       "<table border=\"1\" class=\"dataframe\">\n",
       "  <thead>\n",
       "    <tr style=\"text-align: right;\">\n",
       "      <th></th>\n",
       "      <th>0</th>\n",
       "    </tr>\n",
       "  </thead>\n",
       "  <tbody>\n",
       "    <tr>\n",
       "      <th>spam_word_Check out</th>\n",
       "      <td>0.146962</td>\n",
       "    </tr>\n",
       "    <tr>\n",
       "      <th>mon_5</th>\n",
       "      <td>0.143684</td>\n",
       "    </tr>\n",
       "    <tr>\n",
       "      <th>spam_word_sub</th>\n",
       "      <td>0.068137</td>\n",
       "    </tr>\n",
       "    <tr>\n",
       "      <th>spam_word_https://</th>\n",
       "      <td>0.051291</td>\n",
       "    </tr>\n",
       "    <tr>\n",
       "      <th>spam_word_Please</th>\n",
       "      <td>0.041035</td>\n",
       "    </tr>\n",
       "    <tr>\n",
       "      <th>spam_word_Sub</th>\n",
       "      <td>0.036042</td>\n",
       "    </tr>\n",
       "    <tr>\n",
       "      <th>year_2015</th>\n",
       "      <td>0.032888</td>\n",
       "    </tr>\n",
       "    <tr>\n",
       "      <th>spam_word_please</th>\n",
       "      <td>0.032038</td>\n",
       "    </tr>\n",
       "    <tr>\n",
       "      <th>mon_8</th>\n",
       "      <td>0.028711</td>\n",
       "    </tr>\n",
       "    <tr>\n",
       "      <th>spam_word_channel</th>\n",
       "      <td>0.028617</td>\n",
       "    </tr>\n",
       "    <tr>\n",
       "      <th>spam_word_check out</th>\n",
       "      <td>0.027227</td>\n",
       "    </tr>\n",
       "    <tr>\n",
       "      <th>spam_word_http://www.</th>\n",
       "      <td>0.025890</td>\n",
       "    </tr>\n",
       "    <tr>\n",
       "      <th>year_2014</th>\n",
       "      <td>0.022127</td>\n",
       "    </tr>\n",
       "    <tr>\n",
       "      <th>spam_word_PLEASE</th>\n",
       "      <td>0.021743</td>\n",
       "    </tr>\n",
       "    <tr>\n",
       "      <th>spam_word_money</th>\n",
       "      <td>0.021121</td>\n",
       "    </tr>\n",
       "    <tr>\n",
       "      <th>year_2013</th>\n",
       "      <td>0.015409</td>\n",
       "    </tr>\n",
       "    <tr>\n",
       "      <th>spam_word_SUB</th>\n",
       "      <td>0.015283</td>\n",
       "    </tr>\n",
       "    <tr>\n",
       "      <th>mon_3</th>\n",
       "      <td>0.012374</td>\n",
       "    </tr>\n",
       "    <tr>\n",
       "      <th>spam_word_CHECK OUT</th>\n",
       "      <td>0.012092</td>\n",
       "    </tr>\n",
       "    <tr>\n",
       "      <th>mon_1</th>\n",
       "      <td>0.011816</td>\n",
       "    </tr>\n",
       "    <tr>\n",
       "      <th>spam_word_fb</th>\n",
       "      <td>0.011405</td>\n",
       "    </tr>\n",
       "    <tr>\n",
       "      <th>spam_word_Support</th>\n",
       "      <td>0.011344</td>\n",
       "    </tr>\n",
       "    <tr>\n",
       "      <th>mon_4</th>\n",
       "      <td>0.011160</td>\n",
       "    </tr>\n",
       "    <tr>\n",
       "      <th>spam_word_Follow</th>\n",
       "      <td>0.010804</td>\n",
       "    </tr>\n",
       "    <tr>\n",
       "      <th>mon_12</th>\n",
       "      <td>0.010700</td>\n",
       "    </tr>\n",
       "    <tr>\n",
       "      <th>mon_10</th>\n",
       "      <td>0.010593</td>\n",
       "    </tr>\n",
       "    <tr>\n",
       "      <th>mon_11</th>\n",
       "      <td>0.009259</td>\n",
       "    </tr>\n",
       "    <tr>\n",
       "      <th>spam_word_Free</th>\n",
       "      <td>0.008216</td>\n",
       "    </tr>\n",
       "    <tr>\n",
       "      <th>spam_word_FB</th>\n",
       "      <td>0.007527</td>\n",
       "    </tr>\n",
       "    <tr>\n",
       "      <th>spam_word_follow</th>\n",
       "      <td>0.007272</td>\n",
       "    </tr>\n",
       "    <tr>\n",
       "      <th>spam_word_Check this</th>\n",
       "      <td>0.007244</td>\n",
       "    </tr>\n",
       "    <tr>\n",
       "      <th>mon_6</th>\n",
       "      <td>0.007027</td>\n",
       "    </tr>\n",
       "    <tr>\n",
       "      <th>mon_2</th>\n",
       "      <td>0.006787</td>\n",
       "    </tr>\n",
       "    <tr>\n",
       "      <th>spam_word_thought</th>\n",
       "      <td>0.006440</td>\n",
       "    </tr>\n",
       "    <tr>\n",
       "      <th>mon_9</th>\n",
       "      <td>0.006250</td>\n",
       "    </tr>\n",
       "    <tr>\n",
       "      <th>spam_word_free</th>\n",
       "      <td>0.006021</td>\n",
       "    </tr>\n",
       "    <tr>\n",
       "      <th>spam_word_facebook</th>\n",
       "      <td>0.005901</td>\n",
       "    </tr>\n",
       "    <tr>\n",
       "      <th>mon_7</th>\n",
       "      <td>0.005900</td>\n",
       "    </tr>\n",
       "    <tr>\n",
       "      <th>spam_word_Money</th>\n",
       "      <td>0.005876</td>\n",
       "    </tr>\n",
       "    <tr>\n",
       "      <th>spam_word_Facebook</th>\n",
       "      <td>0.005569</td>\n",
       "    </tr>\n",
       "    <tr>\n",
       "      <th>spam_word_CHeck out</th>\n",
       "      <td>0.004864</td>\n",
       "    </tr>\n",
       "    <tr>\n",
       "      <th>spam_word_www</th>\n",
       "      <td>0.004722</td>\n",
       "    </tr>\n",
       "    <tr>\n",
       "      <th>spam_word_Like this comment</th>\n",
       "      <td>0.004632</td>\n",
       "    </tr>\n",
       "    <tr>\n",
       "      <th>spam_word_FOLLOW</th>\n",
       "      <td>0.004506</td>\n",
       "    </tr>\n",
       "    <tr>\n",
       "      <th>spam_word_check this</th>\n",
       "      <td>0.004265</td>\n",
       "    </tr>\n",
       "    <tr>\n",
       "      <th>spam_word_FREE</th>\n",
       "      <td>0.003990</td>\n",
       "    </tr>\n",
       "    <tr>\n",
       "      <th>spam_word_Www</th>\n",
       "      <td>0.003798</td>\n",
       "    </tr>\n",
       "    <tr>\n",
       "      <th>spam_word_instagram</th>\n",
       "      <td>0.003750</td>\n",
       "    </tr>\n",
       "    <tr>\n",
       "      <th>spam_word_SUPPORT</th>\n",
       "      <td>0.002933</td>\n",
       "    </tr>\n",
       "    <tr>\n",
       "      <th>spam_word_LIKE THIS COMMENT</th>\n",
       "      <td>0.001957</td>\n",
       "    </tr>\n",
       "    <tr>\n",
       "      <th>spam_word_adf</th>\n",
       "      <td>0.001955</td>\n",
       "    </tr>\n",
       "    <tr>\n",
       "      <th>spam_word_support</th>\n",
       "      <td>0.001766</td>\n",
       "    </tr>\n",
       "    <tr>\n",
       "      <th>spam_word_like this comment</th>\n",
       "      <td>0.000522</td>\n",
       "    </tr>\n",
       "    <tr>\n",
       "      <th>spam_word_Check Out</th>\n",
       "      <td>0.000387</td>\n",
       "    </tr>\n",
       "    <tr>\n",
       "      <th>spam_word_MONEY</th>\n",
       "      <td>0.000174</td>\n",
       "    </tr>\n",
       "    <tr>\n",
       "      <th>spam_word_http://www1</th>\n",
       "      <td>0.000000</td>\n",
       "    </tr>\n",
       "    <tr>\n",
       "      <th>spam_word_FACEBOOK</th>\n",
       "      <td>0.000000</td>\n",
       "    </tr>\n",
       "    <tr>\n",
       "      <th>spam_word_Channel</th>\n",
       "      <td>0.000000</td>\n",
       "    </tr>\n",
       "    <tr>\n",
       "      <th>spam_word_CHANNEL</th>\n",
       "      <td>0.000000</td>\n",
       "    </tr>\n",
       "  </tbody>\n",
       "</table>\n",
       "</div>"
      ],
      "text/plain": [
       "                                    0\n",
       "spam_word_Check out          0.146962\n",
       "mon_5                        0.143684\n",
       "spam_word_sub                0.068137\n",
       "spam_word_https://           0.051291\n",
       "spam_word_Please             0.041035\n",
       "spam_word_Sub                0.036042\n",
       "year_2015                    0.032888\n",
       "spam_word_please             0.032038\n",
       "mon_8                        0.028711\n",
       "spam_word_channel            0.028617\n",
       "spam_word_check out          0.027227\n",
       "spam_word_http://www.        0.025890\n",
       "year_2014                    0.022127\n",
       "spam_word_PLEASE             0.021743\n",
       "spam_word_money              0.021121\n",
       "year_2013                    0.015409\n",
       "spam_word_SUB                0.015283\n",
       "mon_3                        0.012374\n",
       "spam_word_CHECK OUT          0.012092\n",
       "mon_1                        0.011816\n",
       "spam_word_fb                 0.011405\n",
       "spam_word_Support            0.011344\n",
       "mon_4                        0.011160\n",
       "spam_word_Follow             0.010804\n",
       "mon_12                       0.010700\n",
       "mon_10                       0.010593\n",
       "mon_11                       0.009259\n",
       "spam_word_Free               0.008216\n",
       "spam_word_FB                 0.007527\n",
       "spam_word_follow             0.007272\n",
       "spam_word_Check this         0.007244\n",
       "mon_6                        0.007027\n",
       "mon_2                        0.006787\n",
       "spam_word_thought            0.006440\n",
       "mon_9                        0.006250\n",
       "spam_word_free               0.006021\n",
       "spam_word_facebook           0.005901\n",
       "mon_7                        0.005900\n",
       "spam_word_Money              0.005876\n",
       "spam_word_Facebook           0.005569\n",
       "spam_word_CHeck out          0.004864\n",
       "spam_word_www                0.004722\n",
       "spam_word_Like this comment  0.004632\n",
       "spam_word_FOLLOW             0.004506\n",
       "spam_word_check this         0.004265\n",
       "spam_word_FREE               0.003990\n",
       "spam_word_Www                0.003798\n",
       "spam_word_instagram          0.003750\n",
       "spam_word_SUPPORT            0.002933\n",
       "spam_word_LIKE THIS COMMENT  0.001957\n",
       "spam_word_adf                0.001955\n",
       "spam_word_support            0.001766\n",
       "spam_word_like this comment  0.000522\n",
       "spam_word_Check Out          0.000387\n",
       "spam_word_MONEY              0.000174\n",
       "spam_word_http://www1        0.000000\n",
       "spam_word_FACEBOOK           0.000000\n",
       "spam_word_Channel            0.000000\n",
       "spam_word_CHANNEL            0.000000"
      ]
     },
     "execution_count": 100,
     "metadata": {},
     "output_type": "execute_result"
    }
   ],
   "source": [
    "pd.DataFrame(rf.feature_importances_,index=Xtrain.columns).sort_values(ascending=False, by=0)"
   ]
  },
  {
   "cell_type": "code",
   "execution_count": 103,
   "metadata": {},
   "outputs": [
    {
     "data": {
      "text/plain": [
       "AUTHOR\n",
       "   Berty  Winata                          0\n",
       "((A.B))                                   1\n",
       "16ladydanger                              1\n",
       "2010shevy                                 1\n",
       "2666playboy                               1\n",
       "42o2 Studios                              1\n",
       "500 Subscribers with no videos?           1\n",
       "5000palo                                  0\n",
       "8-BitMusic                                1\n",
       "AUSENCIO garrido                          1\n",
       "Aaa Aaa                                   1\n",
       "Aarjav Parmar                             0\n",
       "Abdullah Fawzi                            1\n",
       "Abhi Vats                                 0\n",
       "Ach raf                                   1\n",
       "Adam Whitney                              2\n",
       "Adele Lupei                               0\n",
       "Adrian Skalak                             1\n",
       "Adyel Rodriguez                           1\n",
       "Aemon Sevker                              1\n",
       "Agung Handono Susilo                      0\n",
       "Ahmed Medhat                              0\n",
       "Aiden Hill                                0\n",
       "Aishlin Maciel                            0\n",
       "Aj Riberal                                0\n",
       "Ala Fatah                                 0\n",
       "Alain Bruno                               0\n",
       "Alef Paulo                                0\n",
       "Aleksaivan Neidert                        0\n",
       "Alenaid Zeledon                           1\n",
       "                                         ..\n",
       "virgie natividad                          0\n",
       "viviane trinh                             0\n",
       "wanderer damion                           0\n",
       "xhonavsky                                 0\n",
       "xiaoying chen                             1\n",
       "yakikukamo FIRELOVER                      1\n",
       "yenis maría Rodríguez                     0\n",
       "zakaia ziko                               1\n",
       "zonZi                                     1\n",
       "||GuitarZ||                               1\n",
       "ΑΓΛΑΪΑ ΛΕΠΤΟΚΑΡΙΔΟΥ                       0\n",
       "Λυδία Γκ                                  0\n",
       "Никита Безухов                            1\n",
       "Олег Пась                                 1\n",
       "Олег Хижняк                               1\n",
       "Роза Герман                               0\n",
       "Рустем Ахметов                            0\n",
       "алексей алгаев                            1\n",
       "احمد الهوارى                              1\n",
       "น้ำ ริน                                   0\n",
       "‫הילה שוהם‬‎                              1\n",
       "‫جوجو جوجو‬‎                              1\n",
       "‫حلم الشباب‬‎                             1\n",
       "‫كيكه وستايلي فيكه كيكه وستايلي فيكه‬‎    0\n",
       "‫مريم الهندي‬‎                            2\n",
       "来安 Rai An Tatsumi                         0\n",
       "林思鳳                                       0\n",
       "전광용                                       0\n",
       "조윤기                                       1\n",
       "호성나                                       0\n",
       "Name: CLASS, Length: 982, dtype: int64"
      ]
     },
     "execution_count": 103,
     "metadata": {},
     "output_type": "execute_result"
    }
   ],
   "source": [
    "train.groupby('AUTHOR')['CLASS'].sum()"
   ]
  },
  {
   "cell_type": "code",
   "execution_count": null,
   "metadata": {},
   "outputs": [],
   "source": []
  },
  {
   "cell_type": "code",
   "execution_count": null,
   "metadata": {},
   "outputs": [],
   "source": []
  },
  {
   "cell_type": "code",
   "execution_count": null,
   "metadata": {},
   "outputs": [],
   "source": []
  },
  {
   "cell_type": "code",
   "execution_count": null,
   "metadata": {},
   "outputs": [],
   "source": []
  },
  {
   "cell_type": "markdown",
   "metadata": {},
   "source": [
    "# Grid search"
   ]
  },
  {
   "cell_type": "markdown",
   "metadata": {},
   "source": [
    "from sklearn.model_selection import GridSearchCV"
   ]
  },
  {
   "cell_type": "markdown",
   "metadata": {},
   "source": [
    "param = [{'max_depth': [3,5,7,9], 'min_samples_split':[9,13,17,25,31],'min_samples_leaf':[3,5,9,11,15],\n",
    "          'criterion':['gini','entropy'], 'max_leaf_nodes':[7,9,11,13,17]}]"
   ]
  },
  {
   "cell_type": "markdown",
   "metadata": {},
   "source": [
    "from sklearn.metrics import make_scorer\n",
    "def custom_auc(ground_truth, predictions):\n",
    "    fpr, tpr, thres= roc_curve(ground_truth, predictions)    \n",
    "    return auc(fpr,tpr)\n",
    "my_auc = make_scorer(custom_auc, greater_is_better=True, needs_proba=True)"
   ]
  },
  {
   "cell_type": "markdown",
   "metadata": {},
   "source": [
    "gs=GridSearchCV(param_grid=param, cv=3, scoring=my_auc, \n",
    "                      estimator=RandomForestClassifier(n_estimators=100))\n",
    "gs.fit(Xtrain,Ytrain)"
   ]
  },
  {
   "cell_type": "markdown",
   "metadata": {},
   "source": [
    "gs.best_estimator_, gs.best_score_"
   ]
  },
  {
   "cell_type": "code",
   "execution_count": null,
   "metadata": {},
   "outputs": [],
   "source": []
  },
  {
   "cell_type": "markdown",
   "metadata": {},
   "source": [
    "# Test"
   ]
  },
  {
   "cell_type": "code",
   "execution_count": 403,
   "metadata": {},
   "outputs": [
    {
     "name": "stdout",
     "output_type": "stream",
     "text": [
      "<class 'pandas.core.frame.DataFrame'>\n",
      "RangeIndex: 799 entries, 0 to 798\n",
      "Data columns (total 6 columns):\n",
      "ID            799 non-null int64\n",
      "COMMENT_ID    799 non-null object\n",
      "AUTHOR        799 non-null object\n",
      "DATE          799 non-null object\n",
      "CONTENT       799 non-null object\n",
      "spam_word     799 non-null object\n",
      "dtypes: int64(1), object(5)\n",
      "memory usage: 37.5+ KB\n"
     ]
    }
   ],
   "source": [
    "testset=extract(test)\n",
    "testset.info()"
   ]
  },
  {
   "cell_type": "code",
   "execution_count": 404,
   "metadata": {},
   "outputs": [],
   "source": [
    "testset.fillna(0,inplace=True)"
   ]
  },
  {
   "cell_type": "code",
   "execution_count": 405,
   "metadata": {},
   "outputs": [],
   "source": [
    "testset1=datetime(testset)"
   ]
  },
  {
   "cell_type": "code",
   "execution_count": 406,
   "metadata": {},
   "outputs": [
    {
     "data": {
      "text/html": [
       "<div>\n",
       "<style scoped>\n",
       "    .dataframe tbody tr th:only-of-type {\n",
       "        vertical-align: middle;\n",
       "    }\n",
       "\n",
       "    .dataframe tbody tr th {\n",
       "        vertical-align: top;\n",
       "    }\n",
       "\n",
       "    .dataframe thead th {\n",
       "        text-align: right;\n",
       "    }\n",
       "</style>\n",
       "<table border=\"1\" class=\"dataframe\">\n",
       "  <thead>\n",
       "    <tr style=\"text-align: right;\">\n",
       "      <th></th>\n",
       "      <th>ID</th>\n",
       "      <th>COMMENT_ID</th>\n",
       "      <th>AUTHOR</th>\n",
       "      <th>CONTENT</th>\n",
       "      <th>spam_word</th>\n",
       "      <th>year_2013</th>\n",
       "      <th>year_2014</th>\n",
       "      <th>year_2015</th>\n",
       "      <th>mon_1</th>\n",
       "      <th>mon_2</th>\n",
       "      <th>mon_3</th>\n",
       "      <th>mon_4</th>\n",
       "      <th>mon_5</th>\n",
       "      <th>mon_6</th>\n",
       "      <th>mon_7</th>\n",
       "      <th>mon_8</th>\n",
       "      <th>mon_9</th>\n",
       "      <th>mon_10</th>\n",
       "      <th>mon_11</th>\n",
       "      <th>mon_12</th>\n",
       "    </tr>\n",
       "    <tr>\n",
       "      <th>DATE</th>\n",
       "      <th></th>\n",
       "      <th></th>\n",
       "      <th></th>\n",
       "      <th></th>\n",
       "      <th></th>\n",
       "      <th></th>\n",
       "      <th></th>\n",
       "      <th></th>\n",
       "      <th></th>\n",
       "      <th></th>\n",
       "      <th></th>\n",
       "      <th></th>\n",
       "      <th></th>\n",
       "      <th></th>\n",
       "      <th></th>\n",
       "      <th></th>\n",
       "      <th></th>\n",
       "      <th></th>\n",
       "      <th></th>\n",
       "      <th></th>\n",
       "    </tr>\n",
       "  </thead>\n",
       "  <tbody>\n",
       "    <tr>\n",
       "      <th>2013-11-07 12:37:15</th>\n",
       "      <td>0</td>\n",
       "      <td>LZQPQhLyRh_C2cTtd9MvFRJedxydaVW-2sNg5Diuo4A</td>\n",
       "      <td>adam riyati</td>\n",
       "      <td>Hey guys check out my new channel and our firs...</td>\n",
       "      <td>check out</td>\n",
       "      <td>True</td>\n",
       "      <td>False</td>\n",
       "      <td>False</td>\n",
       "      <td>False</td>\n",
       "      <td>False</td>\n",
       "      <td>False</td>\n",
       "      <td>False</td>\n",
       "      <td>False</td>\n",
       "      <td>False</td>\n",
       "      <td>False</td>\n",
       "      <td>False</td>\n",
       "      <td>False</td>\n",
       "      <td>False</td>\n",
       "      <td>True</td>\n",
       "      <td>False</td>\n",
       "    </tr>\n",
       "    <tr>\n",
       "      <th>2013-11-08 17:34:21</th>\n",
       "      <td>1</td>\n",
       "      <td>LZQPQhLyRh9MSZYnf8djyk0gEF9BHDPYrrK-qCczIY8</td>\n",
       "      <td>Evgeny Murashkin</td>\n",
       "      <td>just for test I have to say murdev.com</td>\n",
       "      <td>0</td>\n",
       "      <td>True</td>\n",
       "      <td>False</td>\n",
       "      <td>False</td>\n",
       "      <td>False</td>\n",
       "      <td>False</td>\n",
       "      <td>False</td>\n",
       "      <td>False</td>\n",
       "      <td>False</td>\n",
       "      <td>False</td>\n",
       "      <td>False</td>\n",
       "      <td>False</td>\n",
       "      <td>False</td>\n",
       "      <td>False</td>\n",
       "      <td>True</td>\n",
       "      <td>False</td>\n",
       "    </tr>\n",
       "    <tr>\n",
       "      <th>2013-11-26 02:55:11</th>\n",
       "      <td>2</td>\n",
       "      <td>LZQPQhLyRh9-wNRtlZDM90f1k0BrdVdJyN_YsaSwfxc</td>\n",
       "      <td>Jason Haddad</td>\n",
       "      <td>Hey, check out my new website!! This site is a...</td>\n",
       "      <td>check out</td>\n",
       "      <td>True</td>\n",
       "      <td>False</td>\n",
       "      <td>False</td>\n",
       "      <td>False</td>\n",
       "      <td>False</td>\n",
       "      <td>False</td>\n",
       "      <td>False</td>\n",
       "      <td>False</td>\n",
       "      <td>False</td>\n",
       "      <td>False</td>\n",
       "      <td>False</td>\n",
       "      <td>False</td>\n",
       "      <td>False</td>\n",
       "      <td>True</td>\n",
       "      <td>False</td>\n",
       "    </tr>\n",
       "    <tr>\n",
       "      <th>2013-11-28 12:33:27</th>\n",
       "      <td>3</td>\n",
       "      <td>z122wfnzgt30fhubn04cdn3xfx2mxzngsl40k</td>\n",
       "      <td>Bob Kanowski</td>\n",
       "      <td>i turned it on mute as soon is i came on i jus...</td>\n",
       "      <td>0</td>\n",
       "      <td>True</td>\n",
       "      <td>False</td>\n",
       "      <td>False</td>\n",
       "      <td>False</td>\n",
       "      <td>False</td>\n",
       "      <td>False</td>\n",
       "      <td>False</td>\n",
       "      <td>False</td>\n",
       "      <td>False</td>\n",
       "      <td>False</td>\n",
       "      <td>False</td>\n",
       "      <td>False</td>\n",
       "      <td>False</td>\n",
       "      <td>True</td>\n",
       "      <td>False</td>\n",
       "    </tr>\n",
       "    <tr>\n",
       "      <th>2013-11-28 16:01:47</th>\n",
       "      <td>4</td>\n",
       "      <td>z13ttt1jcraqexk2o234ghbgzxymz1zzi04</td>\n",
       "      <td>Cony</td>\n",
       "      <td>You should check my channel for Funny VIDEOS!!﻿</td>\n",
       "      <td>channel</td>\n",
       "      <td>True</td>\n",
       "      <td>False</td>\n",
       "      <td>False</td>\n",
       "      <td>False</td>\n",
       "      <td>False</td>\n",
       "      <td>False</td>\n",
       "      <td>False</td>\n",
       "      <td>False</td>\n",
       "      <td>False</td>\n",
       "      <td>False</td>\n",
       "      <td>False</td>\n",
       "      <td>False</td>\n",
       "      <td>False</td>\n",
       "      <td>True</td>\n",
       "      <td>False</td>\n",
       "    </tr>\n",
       "  </tbody>\n",
       "</table>\n",
       "</div>"
      ],
      "text/plain": [
       "                     ID                                   COMMENT_ID  \\\n",
       "DATE                                                                   \n",
       "2013-11-07 12:37:15   0  LZQPQhLyRh_C2cTtd9MvFRJedxydaVW-2sNg5Diuo4A   \n",
       "2013-11-08 17:34:21   1  LZQPQhLyRh9MSZYnf8djyk0gEF9BHDPYrrK-qCczIY8   \n",
       "2013-11-26 02:55:11   2  LZQPQhLyRh9-wNRtlZDM90f1k0BrdVdJyN_YsaSwfxc   \n",
       "2013-11-28 12:33:27   3        z122wfnzgt30fhubn04cdn3xfx2mxzngsl40k   \n",
       "2013-11-28 16:01:47   4          z13ttt1jcraqexk2o234ghbgzxymz1zzi04   \n",
       "\n",
       "                               AUTHOR  \\\n",
       "DATE                                    \n",
       "2013-11-07 12:37:15       adam riyati   \n",
       "2013-11-08 17:34:21  Evgeny Murashkin   \n",
       "2013-11-26 02:55:11      Jason Haddad   \n",
       "2013-11-28 12:33:27      Bob Kanowski   \n",
       "2013-11-28 16:01:47              Cony   \n",
       "\n",
       "                                                               CONTENT  \\\n",
       "DATE                                                                     \n",
       "2013-11-07 12:37:15  Hey guys check out my new channel and our firs...   \n",
       "2013-11-08 17:34:21             just for test I have to say murdev.com   \n",
       "2013-11-26 02:55:11  Hey, check out my new website!! This site is a...   \n",
       "2013-11-28 12:33:27  i turned it on mute as soon is i came on i jus...   \n",
       "2013-11-28 16:01:47    You should check my channel for Funny VIDEOS!!﻿   \n",
       "\n",
       "                     spam_word  year_2013  year_2014  year_2015  mon_1  mon_2  \\\n",
       "DATE                                                                            \n",
       "2013-11-07 12:37:15  check out       True      False      False  False  False   \n",
       "2013-11-08 17:34:21          0       True      False      False  False  False   \n",
       "2013-11-26 02:55:11  check out       True      False      False  False  False   \n",
       "2013-11-28 12:33:27          0       True      False      False  False  False   \n",
       "2013-11-28 16:01:47    channel       True      False      False  False  False   \n",
       "\n",
       "                     mon_3  mon_4  mon_5  mon_6  mon_7  mon_8  mon_9  mon_10  \\\n",
       "DATE                                                                           \n",
       "2013-11-07 12:37:15  False  False  False  False  False  False  False   False   \n",
       "2013-11-08 17:34:21  False  False  False  False  False  False  False   False   \n",
       "2013-11-26 02:55:11  False  False  False  False  False  False  False   False   \n",
       "2013-11-28 12:33:27  False  False  False  False  False  False  False   False   \n",
       "2013-11-28 16:01:47  False  False  False  False  False  False  False   False   \n",
       "\n",
       "                     mon_11  mon_12  \n",
       "DATE                                 \n",
       "2013-11-07 12:37:15    True   False  \n",
       "2013-11-08 17:34:21    True   False  \n",
       "2013-11-26 02:55:11    True   False  \n",
       "2013-11-28 12:33:27    True   False  \n",
       "2013-11-28 16:01:47    True   False  "
      ]
     },
     "execution_count": 406,
     "metadata": {},
     "output_type": "execute_result"
    }
   ],
   "source": [
    "testset1.head()"
   ]
  },
  {
   "cell_type": "code",
   "execution_count": 407,
   "metadata": {},
   "outputs": [],
   "source": [
    "del testset1['ID']\n",
    "testset2=cleaner(testset1)"
   ]
  },
  {
   "cell_type": "code",
   "execution_count": 408,
   "metadata": {},
   "outputs": [
    {
     "data": {
      "text/html": [
       "<div>\n",
       "<style scoped>\n",
       "    .dataframe tbody tr th:only-of-type {\n",
       "        vertical-align: middle;\n",
       "    }\n",
       "\n",
       "    .dataframe tbody tr th {\n",
       "        vertical-align: top;\n",
       "    }\n",
       "\n",
       "    .dataframe thead th {\n",
       "        text-align: right;\n",
       "    }\n",
       "</style>\n",
       "<table border=\"1\" class=\"dataframe\">\n",
       "  <thead>\n",
       "    <tr style=\"text-align: right;\">\n",
       "      <th></th>\n",
       "      <th>AUTHOR</th>\n",
       "      <th>spam_word</th>\n",
       "      <th>year_2013</th>\n",
       "      <th>year_2014</th>\n",
       "      <th>year_2015</th>\n",
       "      <th>mon_1</th>\n",
       "      <th>mon_2</th>\n",
       "      <th>mon_3</th>\n",
       "      <th>mon_4</th>\n",
       "      <th>mon_5</th>\n",
       "      <th>mon_6</th>\n",
       "      <th>mon_7</th>\n",
       "      <th>mon_8</th>\n",
       "      <th>mon_9</th>\n",
       "      <th>mon_10</th>\n",
       "      <th>mon_11</th>\n",
       "      <th>mon_12</th>\n",
       "    </tr>\n",
       "    <tr>\n",
       "      <th>DATE</th>\n",
       "      <th></th>\n",
       "      <th></th>\n",
       "      <th></th>\n",
       "      <th></th>\n",
       "      <th></th>\n",
       "      <th></th>\n",
       "      <th></th>\n",
       "      <th></th>\n",
       "      <th></th>\n",
       "      <th></th>\n",
       "      <th></th>\n",
       "      <th></th>\n",
       "      <th></th>\n",
       "      <th></th>\n",
       "      <th></th>\n",
       "      <th></th>\n",
       "      <th></th>\n",
       "    </tr>\n",
       "  </thead>\n",
       "  <tbody>\n",
       "    <tr>\n",
       "      <th>2013-11-07 12:37:15</th>\n",
       "      <td>adam riyati</td>\n",
       "      <td>check out</td>\n",
       "      <td>1</td>\n",
       "      <td>0</td>\n",
       "      <td>0</td>\n",
       "      <td>0</td>\n",
       "      <td>0</td>\n",
       "      <td>0</td>\n",
       "      <td>0</td>\n",
       "      <td>0</td>\n",
       "      <td>0</td>\n",
       "      <td>0</td>\n",
       "      <td>0</td>\n",
       "      <td>0</td>\n",
       "      <td>0</td>\n",
       "      <td>1</td>\n",
       "      <td>0</td>\n",
       "    </tr>\n",
       "    <tr>\n",
       "      <th>2013-11-08 17:34:21</th>\n",
       "      <td>Evgeny Murashkin</td>\n",
       "      <td>0</td>\n",
       "      <td>1</td>\n",
       "      <td>0</td>\n",
       "      <td>0</td>\n",
       "      <td>0</td>\n",
       "      <td>0</td>\n",
       "      <td>0</td>\n",
       "      <td>0</td>\n",
       "      <td>0</td>\n",
       "      <td>0</td>\n",
       "      <td>0</td>\n",
       "      <td>0</td>\n",
       "      <td>0</td>\n",
       "      <td>0</td>\n",
       "      <td>1</td>\n",
       "      <td>0</td>\n",
       "    </tr>\n",
       "    <tr>\n",
       "      <th>2013-11-26 02:55:11</th>\n",
       "      <td>Jason Haddad</td>\n",
       "      <td>check out</td>\n",
       "      <td>1</td>\n",
       "      <td>0</td>\n",
       "      <td>0</td>\n",
       "      <td>0</td>\n",
       "      <td>0</td>\n",
       "      <td>0</td>\n",
       "      <td>0</td>\n",
       "      <td>0</td>\n",
       "      <td>0</td>\n",
       "      <td>0</td>\n",
       "      <td>0</td>\n",
       "      <td>0</td>\n",
       "      <td>0</td>\n",
       "      <td>1</td>\n",
       "      <td>0</td>\n",
       "    </tr>\n",
       "    <tr>\n",
       "      <th>2013-11-28 12:33:27</th>\n",
       "      <td>Bob Kanowski</td>\n",
       "      <td>0</td>\n",
       "      <td>1</td>\n",
       "      <td>0</td>\n",
       "      <td>0</td>\n",
       "      <td>0</td>\n",
       "      <td>0</td>\n",
       "      <td>0</td>\n",
       "      <td>0</td>\n",
       "      <td>0</td>\n",
       "      <td>0</td>\n",
       "      <td>0</td>\n",
       "      <td>0</td>\n",
       "      <td>0</td>\n",
       "      <td>0</td>\n",
       "      <td>1</td>\n",
       "      <td>0</td>\n",
       "    </tr>\n",
       "    <tr>\n",
       "      <th>2013-11-28 16:01:47</th>\n",
       "      <td>Cony</td>\n",
       "      <td>channel</td>\n",
       "      <td>1</td>\n",
       "      <td>0</td>\n",
       "      <td>0</td>\n",
       "      <td>0</td>\n",
       "      <td>0</td>\n",
       "      <td>0</td>\n",
       "      <td>0</td>\n",
       "      <td>0</td>\n",
       "      <td>0</td>\n",
       "      <td>0</td>\n",
       "      <td>0</td>\n",
       "      <td>0</td>\n",
       "      <td>0</td>\n",
       "      <td>1</td>\n",
       "      <td>0</td>\n",
       "    </tr>\n",
       "  </tbody>\n",
       "</table>\n",
       "</div>"
      ],
      "text/plain": [
       "                               AUTHOR  spam_word  year_2013  year_2014  \\\n",
       "DATE                                                                     \n",
       "2013-11-07 12:37:15       adam riyati  check out          1          0   \n",
       "2013-11-08 17:34:21  Evgeny Murashkin          0          1          0   \n",
       "2013-11-26 02:55:11      Jason Haddad  check out          1          0   \n",
       "2013-11-28 12:33:27      Bob Kanowski          0          1          0   \n",
       "2013-11-28 16:01:47              Cony    channel          1          0   \n",
       "\n",
       "                     year_2015  mon_1  mon_2  mon_3  mon_4  mon_5  mon_6  \\\n",
       "DATE                                                                       \n",
       "2013-11-07 12:37:15          0      0      0      0      0      0      0   \n",
       "2013-11-08 17:34:21          0      0      0      0      0      0      0   \n",
       "2013-11-26 02:55:11          0      0      0      0      0      0      0   \n",
       "2013-11-28 12:33:27          0      0      0      0      0      0      0   \n",
       "2013-11-28 16:01:47          0      0      0      0      0      0      0   \n",
       "\n",
       "                     mon_7  mon_8  mon_9  mon_10  mon_11  mon_12  \n",
       "DATE                                                              \n",
       "2013-11-07 12:37:15      0      0      0       0       1       0  \n",
       "2013-11-08 17:34:21      0      0      0       0       1       0  \n",
       "2013-11-26 02:55:11      0      0      0       0       1       0  \n",
       "2013-11-28 12:33:27      0      0      0       0       1       0  \n",
       "2013-11-28 16:01:47      0      0      0       0       1       0  "
      ]
     },
     "execution_count": 408,
     "metadata": {},
     "output_type": "execute_result"
    }
   ],
   "source": [
    "testset2.head()"
   ]
  },
  {
   "cell_type": "code",
   "execution_count": 409,
   "metadata": {},
   "outputs": [
    {
     "name": "stdout",
     "output_type": "stream",
     "text": [
      "<class 'pandas.core.frame.DataFrame'>\n",
      "DatetimeIndex: 799 entries, 2013-11-07 12:37:15 to 2013-07-12 22:33:27.916000\n",
      "Data columns (total 17 columns):\n",
      "AUTHOR       799 non-null category\n",
      "spam_word    799 non-null category\n",
      "year_2013    799 non-null int32\n",
      "year_2014    799 non-null int32\n",
      "year_2015    799 non-null int32\n",
      "mon_1        799 non-null int32\n",
      "mon_2        799 non-null int32\n",
      "mon_3        799 non-null int32\n",
      "mon_4        799 non-null int32\n",
      "mon_5        799 non-null int32\n",
      "mon_6        799 non-null int32\n",
      "mon_7        799 non-null int32\n",
      "mon_8        799 non-null int32\n",
      "mon_9        799 non-null int32\n",
      "mon_10       799 non-null int32\n",
      "mon_11       799 non-null int32\n",
      "mon_12       799 non-null int32\n",
      "dtypes: category(2), int32(15)\n",
      "memory usage: 82.9 KB\n"
     ]
    }
   ],
   "source": [
    "testset2.info()"
   ]
  },
  {
   "cell_type": "code",
   "execution_count": 410,
   "metadata": {},
   "outputs": [],
   "source": [
    "testset2=pd.get_dummies(testset2,drop_first=True)"
   ]
  },
  {
   "cell_type": "code",
   "execution_count": 411,
   "metadata": {},
   "outputs": [
    {
     "data": {
      "text/plain": [
       "(799, 807)"
      ]
     },
     "execution_count": 411,
     "metadata": {},
     "output_type": "execute_result"
    }
   ],
   "source": [
    "testset2.shape"
   ]
  },
  {
   "cell_type": "code",
   "execution_count": 413,
   "metadata": {},
   "outputs": [
    {
     "ename": "ValueError",
     "evalue": "Number of features of the model must match the input. Model n_features is 1040 and input n_features is 807.",
     "output_type": "error",
     "traceback": [
      "\u001b[1;31m---------------------------------------------------------------------------\u001b[0m",
      "\u001b[1;31mValueError\u001b[0m                                Traceback (most recent call last)",
      "\u001b[1;32m<ipython-input-413-5fbd38acaf82>\u001b[0m in \u001b[0;36m<module>\u001b[1;34m()\u001b[0m\n\u001b[1;32m----> 1\u001b[1;33m \u001b[0mvc\u001b[0m\u001b[1;33m.\u001b[0m\u001b[0mpredict\u001b[0m\u001b[1;33m(\u001b[0m\u001b[0mtestset2\u001b[0m\u001b[1;33m)\u001b[0m\u001b[1;33m\u001b[0m\u001b[0m\n\u001b[0m",
      "\u001b[1;32mC:\\Users\\Rishi\\Anaconda3\\lib\\site-packages\\sklearn\\ensemble\\voting_classifier.py\u001b[0m in \u001b[0;36mpredict\u001b[1;34m(self, X)\u001b[0m\n\u001b[0;32m    230\u001b[0m         \u001b[0mcheck_is_fitted\u001b[0m\u001b[1;33m(\u001b[0m\u001b[0mself\u001b[0m\u001b[1;33m,\u001b[0m \u001b[1;34m'estimators_'\u001b[0m\u001b[1;33m)\u001b[0m\u001b[1;33m\u001b[0m\u001b[0m\n\u001b[0;32m    231\u001b[0m         \u001b[1;32mif\u001b[0m \u001b[0mself\u001b[0m\u001b[1;33m.\u001b[0m\u001b[0mvoting\u001b[0m \u001b[1;33m==\u001b[0m \u001b[1;34m'soft'\u001b[0m\u001b[1;33m:\u001b[0m\u001b[1;33m\u001b[0m\u001b[0m\n\u001b[1;32m--> 232\u001b[1;33m             \u001b[0mmaj\u001b[0m \u001b[1;33m=\u001b[0m \u001b[0mnp\u001b[0m\u001b[1;33m.\u001b[0m\u001b[0margmax\u001b[0m\u001b[1;33m(\u001b[0m\u001b[0mself\u001b[0m\u001b[1;33m.\u001b[0m\u001b[0mpredict_proba\u001b[0m\u001b[1;33m(\u001b[0m\u001b[0mX\u001b[0m\u001b[1;33m)\u001b[0m\u001b[1;33m,\u001b[0m \u001b[0maxis\u001b[0m\u001b[1;33m=\u001b[0m\u001b[1;36m1\u001b[0m\u001b[1;33m)\u001b[0m\u001b[1;33m\u001b[0m\u001b[0m\n\u001b[0m\u001b[0;32m    233\u001b[0m \u001b[1;33m\u001b[0m\u001b[0m\n\u001b[0;32m    234\u001b[0m         \u001b[1;32melse\u001b[0m\u001b[1;33m:\u001b[0m  \u001b[1;31m# 'hard' voting\u001b[0m\u001b[1;33m\u001b[0m\u001b[0m\n",
      "\u001b[1;32mC:\\Users\\Rishi\\Anaconda3\\lib\\site-packages\\sklearn\\ensemble\\voting_classifier.py\u001b[0m in \u001b[0;36m_predict_proba\u001b[1;34m(self, X)\u001b[0m\n\u001b[0;32m    253\u001b[0m                                  \" voting=%r\" % self.voting)\n\u001b[0;32m    254\u001b[0m         \u001b[0mcheck_is_fitted\u001b[0m\u001b[1;33m(\u001b[0m\u001b[0mself\u001b[0m\u001b[1;33m,\u001b[0m \u001b[1;34m'estimators_'\u001b[0m\u001b[1;33m)\u001b[0m\u001b[1;33m\u001b[0m\u001b[0m\n\u001b[1;32m--> 255\u001b[1;33m         avg = np.average(self._collect_probas(X), axis=0,\n\u001b[0m\u001b[0;32m    256\u001b[0m                          weights=self._weights_not_none)\n\u001b[0;32m    257\u001b[0m         \u001b[1;32mreturn\u001b[0m \u001b[0mavg\u001b[0m\u001b[1;33m\u001b[0m\u001b[0m\n",
      "\u001b[1;32mC:\\Users\\Rishi\\Anaconda3\\lib\\site-packages\\sklearn\\ensemble\\voting_classifier.py\u001b[0m in \u001b[0;36m_collect_probas\u001b[1;34m(self, X)\u001b[0m\n\u001b[0;32m    245\u001b[0m     \u001b[1;32mdef\u001b[0m \u001b[0m_collect_probas\u001b[0m\u001b[1;33m(\u001b[0m\u001b[0mself\u001b[0m\u001b[1;33m,\u001b[0m \u001b[0mX\u001b[0m\u001b[1;33m)\u001b[0m\u001b[1;33m:\u001b[0m\u001b[1;33m\u001b[0m\u001b[0m\n\u001b[0;32m    246\u001b[0m         \u001b[1;34m\"\"\"Collect results from clf.predict calls. \"\"\"\u001b[0m\u001b[1;33m\u001b[0m\u001b[0m\n\u001b[1;32m--> 247\u001b[1;33m         \u001b[1;32mreturn\u001b[0m \u001b[0mnp\u001b[0m\u001b[1;33m.\u001b[0m\u001b[0masarray\u001b[0m\u001b[1;33m(\u001b[0m\u001b[1;33m[\u001b[0m\u001b[0mclf\u001b[0m\u001b[1;33m.\u001b[0m\u001b[0mpredict_proba\u001b[0m\u001b[1;33m(\u001b[0m\u001b[0mX\u001b[0m\u001b[1;33m)\u001b[0m \u001b[1;32mfor\u001b[0m \u001b[0mclf\u001b[0m \u001b[1;32min\u001b[0m \u001b[0mself\u001b[0m\u001b[1;33m.\u001b[0m\u001b[0mestimators_\u001b[0m\u001b[1;33m]\u001b[0m\u001b[1;33m)\u001b[0m\u001b[1;33m\u001b[0m\u001b[0m\n\u001b[0m\u001b[0;32m    248\u001b[0m \u001b[1;33m\u001b[0m\u001b[0m\n\u001b[0;32m    249\u001b[0m     \u001b[1;32mdef\u001b[0m \u001b[0m_predict_proba\u001b[0m\u001b[1;33m(\u001b[0m\u001b[0mself\u001b[0m\u001b[1;33m,\u001b[0m \u001b[0mX\u001b[0m\u001b[1;33m)\u001b[0m\u001b[1;33m:\u001b[0m\u001b[1;33m\u001b[0m\u001b[0m\n",
      "\u001b[1;32mC:\\Users\\Rishi\\Anaconda3\\lib\\site-packages\\sklearn\\ensemble\\voting_classifier.py\u001b[0m in \u001b[0;36m<listcomp>\u001b[1;34m(.0)\u001b[0m\n\u001b[0;32m    245\u001b[0m     \u001b[1;32mdef\u001b[0m \u001b[0m_collect_probas\u001b[0m\u001b[1;33m(\u001b[0m\u001b[0mself\u001b[0m\u001b[1;33m,\u001b[0m \u001b[0mX\u001b[0m\u001b[1;33m)\u001b[0m\u001b[1;33m:\u001b[0m\u001b[1;33m\u001b[0m\u001b[0m\n\u001b[0;32m    246\u001b[0m         \u001b[1;34m\"\"\"Collect results from clf.predict calls. \"\"\"\u001b[0m\u001b[1;33m\u001b[0m\u001b[0m\n\u001b[1;32m--> 247\u001b[1;33m         \u001b[1;32mreturn\u001b[0m \u001b[0mnp\u001b[0m\u001b[1;33m.\u001b[0m\u001b[0masarray\u001b[0m\u001b[1;33m(\u001b[0m\u001b[1;33m[\u001b[0m\u001b[0mclf\u001b[0m\u001b[1;33m.\u001b[0m\u001b[0mpredict_proba\u001b[0m\u001b[1;33m(\u001b[0m\u001b[0mX\u001b[0m\u001b[1;33m)\u001b[0m \u001b[1;32mfor\u001b[0m \u001b[0mclf\u001b[0m \u001b[1;32min\u001b[0m \u001b[0mself\u001b[0m\u001b[1;33m.\u001b[0m\u001b[0mestimators_\u001b[0m\u001b[1;33m]\u001b[0m\u001b[1;33m)\u001b[0m\u001b[1;33m\u001b[0m\u001b[0m\n\u001b[0m\u001b[0;32m    248\u001b[0m \u001b[1;33m\u001b[0m\u001b[0m\n\u001b[0;32m    249\u001b[0m     \u001b[1;32mdef\u001b[0m \u001b[0m_predict_proba\u001b[0m\u001b[1;33m(\u001b[0m\u001b[0mself\u001b[0m\u001b[1;33m,\u001b[0m \u001b[0mX\u001b[0m\u001b[1;33m)\u001b[0m\u001b[1;33m:\u001b[0m\u001b[1;33m\u001b[0m\u001b[0m\n",
      "\u001b[1;32mC:\\Users\\Rishi\\Anaconda3\\lib\\site-packages\\sklearn\\ensemble\\bagging.py\u001b[0m in \u001b[0;36mpredict_proba\u001b[1;34m(self, X)\u001b[0m\n\u001b[0;32m    681\u001b[0m                              \u001b[1;34m\"match the input. Model n_features is {0} and \"\u001b[0m\u001b[1;33m\u001b[0m\u001b[0m\n\u001b[0;32m    682\u001b[0m                              \u001b[1;34m\"input n_features is {1}.\"\u001b[0m\u001b[1;33m\u001b[0m\u001b[0m\n\u001b[1;32m--> 683\u001b[1;33m                              \"\".format(self.n_features_, X.shape[1]))\n\u001b[0m\u001b[0;32m    684\u001b[0m \u001b[1;33m\u001b[0m\u001b[0m\n\u001b[0;32m    685\u001b[0m         \u001b[1;31m# Parallel loop\u001b[0m\u001b[1;33m\u001b[0m\u001b[1;33m\u001b[0m\u001b[0m\n",
      "\u001b[1;31mValueError\u001b[0m: Number of features of the model must match the input. Model n_features is 1040 and input n_features is 807."
     ]
    }
   ],
   "source": [
    "vc.predict(testset2)"
   ]
  },
  {
   "cell_type": "code",
   "execution_count": null,
   "metadata": {},
   "outputs": [],
   "source": []
  }
 ],
 "metadata": {
  "kernelspec": {
   "display_name": "Python 3",
   "language": "python",
   "name": "python3"
  },
  "language_info": {
   "codemirror_mode": {
    "name": "ipython",
    "version": 3
   },
   "file_extension": ".py",
   "mimetype": "text/x-python",
   "name": "python",
   "nbconvert_exporter": "python",
   "pygments_lexer": "ipython3",
   "version": "3.7.0"
  }
 },
 "nbformat": 4,
 "nbformat_minor": 2
}
