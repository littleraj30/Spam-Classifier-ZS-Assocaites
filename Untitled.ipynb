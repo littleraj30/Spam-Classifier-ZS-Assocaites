{
 "cells": [
  {
   "cell_type": "code",
   "execution_count": 1,
   "metadata": {},
   "outputs": [],
   "source": [
    "import pandas as pd\n",
    "import numpy as np\n",
    "import matplotlib.pyplot as plt\n",
    "import seaborn as sns\n",
    "import re"
   ]
  },
  {
   "cell_type": "code",
   "execution_count": 2,
   "metadata": {},
   "outputs": [],
   "source": [
    "train=pd.read_csv(\"train.csv\")\n",
    "test=pd.read_csv(\"test.csv\")"
   ]
  },
  {
   "cell_type": "code",
   "execution_count": 3,
   "metadata": {
    "scrolled": true
   },
   "outputs": [
    {
     "data": {
      "text/html": [
       "<div>\n",
       "<style scoped>\n",
       "    .dataframe tbody tr th:only-of-type {\n",
       "        vertical-align: middle;\n",
       "    }\n",
       "\n",
       "    .dataframe tbody tr th {\n",
       "        vertical-align: top;\n",
       "    }\n",
       "\n",
       "    .dataframe thead th {\n",
       "        text-align: right;\n",
       "    }\n",
       "</style>\n",
       "<table border=\"1\" class=\"dataframe\">\n",
       "  <thead>\n",
       "    <tr style=\"text-align: right;\">\n",
       "      <th></th>\n",
       "      <th>COMMENT_ID</th>\n",
       "      <th>AUTHOR</th>\n",
       "      <th>DATE</th>\n",
       "      <th>CONTENT</th>\n",
       "      <th>CLASS</th>\n",
       "    </tr>\n",
       "  </thead>\n",
       "  <tbody>\n",
       "    <tr>\n",
       "      <th>0</th>\n",
       "      <td>LZQPQhLyRh80UYxNuaDWhIGQYNQ96IuCg-AYWqNPjpU</td>\n",
       "      <td>Julius NM</td>\n",
       "      <td>2013-11-07T06:20:48</td>\n",
       "      <td>Huh, anyway check out this you[tube] channel: ...</td>\n",
       "      <td>1</td>\n",
       "    </tr>\n",
       "    <tr>\n",
       "      <th>1</th>\n",
       "      <td>z13jhp0bxqncu512g22wvzkasxmvvzjaz04</td>\n",
       "      <td>ElNino Melendez</td>\n",
       "      <td>2013-11-09T08:28:43</td>\n",
       "      <td>me shaking my sexy ass on my channel enjoy ^_^ ﻿</td>\n",
       "      <td>1</td>\n",
       "    </tr>\n",
       "    <tr>\n",
       "      <th>2</th>\n",
       "      <td>z13fwbwp1oujthgqj04chlngpvzmtt3r3dw</td>\n",
       "      <td>GsMega</td>\n",
       "      <td>2013-11-10T16:05:38</td>\n",
       "      <td>watch?v=vtaRGgvGtWQ   Check this out .﻿</td>\n",
       "      <td>1</td>\n",
       "    </tr>\n",
       "    <tr>\n",
       "      <th>3</th>\n",
       "      <td>z13lfzdo5vmdi1cm123te5uz2mqig1brz04</td>\n",
       "      <td>ferleck ferles</td>\n",
       "      <td>2013-11-27T21:39:24</td>\n",
       "      <td>Subscribe to my channel ﻿</td>\n",
       "      <td>1</td>\n",
       "    </tr>\n",
       "    <tr>\n",
       "      <th>4</th>\n",
       "      <td>z12avveb4xqiirsix04chxviiljryduwxg0</td>\n",
       "      <td>BeBe Burkey</td>\n",
       "      <td>2013-11-28T16:30:13</td>\n",
       "      <td>and u should.d check my channel and tell me wh...</td>\n",
       "      <td>1</td>\n",
       "    </tr>\n",
       "  </tbody>\n",
       "</table>\n",
       "</div>"
      ],
      "text/plain": [
       "                                    COMMENT_ID           AUTHOR  \\\n",
       "0  LZQPQhLyRh80UYxNuaDWhIGQYNQ96IuCg-AYWqNPjpU        Julius NM   \n",
       "1          z13jhp0bxqncu512g22wvzkasxmvvzjaz04  ElNino Melendez   \n",
       "2          z13fwbwp1oujthgqj04chlngpvzmtt3r3dw           GsMega   \n",
       "3          z13lfzdo5vmdi1cm123te5uz2mqig1brz04   ferleck ferles   \n",
       "4          z12avveb4xqiirsix04chxviiljryduwxg0      BeBe Burkey   \n",
       "\n",
       "                  DATE                                            CONTENT  \\\n",
       "0  2013-11-07T06:20:48  Huh, anyway check out this you[tube] channel: ...   \n",
       "1  2013-11-09T08:28:43   me shaking my sexy ass on my channel enjoy ^_^ ﻿   \n",
       "2  2013-11-10T16:05:38            watch?v=vtaRGgvGtWQ   Check this out .﻿   \n",
       "3  2013-11-27T21:39:24                          Subscribe to my channel ﻿   \n",
       "4  2013-11-28T16:30:13  and u should.d check my channel and tell me wh...   \n",
       "\n",
       "   CLASS  \n",
       "0      1  \n",
       "1      1  \n",
       "2      1  \n",
       "3      1  \n",
       "4      1  "
      ]
     },
     "execution_count": 3,
     "metadata": {},
     "output_type": "execute_result"
    }
   ],
   "source": [
    "train.head()"
   ]
  },
  {
   "cell_type": "markdown",
   "metadata": {},
   "source": [
    "## 1.Data exploration"
   ]
  },
  {
   "cell_type": "code",
   "execution_count": 4,
   "metadata": {},
   "outputs": [
    {
     "data": {
      "text/html": [
       "<div>\n",
       "<style scoped>\n",
       "    .dataframe tbody tr th:only-of-type {\n",
       "        vertical-align: middle;\n",
       "    }\n",
       "\n",
       "    .dataframe tbody tr th {\n",
       "        vertical-align: top;\n",
       "    }\n",
       "\n",
       "    .dataframe thead th {\n",
       "        text-align: right;\n",
       "    }\n",
       "</style>\n",
       "<table border=\"1\" class=\"dataframe\">\n",
       "  <thead>\n",
       "    <tr style=\"text-align: right;\">\n",
       "      <th></th>\n",
       "      <th>COMMENT_ID</th>\n",
       "      <th>AUTHOR</th>\n",
       "      <th>DATE</th>\n",
       "      <th>CONTENT</th>\n",
       "      <th>CLASS</th>\n",
       "    </tr>\n",
       "  </thead>\n",
       "  <tbody>\n",
       "    <tr>\n",
       "      <th>count</th>\n",
       "      <td>1157</td>\n",
       "      <td>1157</td>\n",
       "      <td>1019</td>\n",
       "      <td>1157</td>\n",
       "      <td>1157.000000</td>\n",
       "    </tr>\n",
       "    <tr>\n",
       "      <th>unique</th>\n",
       "      <td>1156</td>\n",
       "      <td>1094</td>\n",
       "      <td>1019</td>\n",
       "      <td>1057</td>\n",
       "      <td>NaN</td>\n",
       "    </tr>\n",
       "    <tr>\n",
       "      <th>top</th>\n",
       "      <td>LneaDw26bFvPh9xBHNw1btQoyP60ay_WWthtvXCx37s</td>\n",
       "      <td>M.E.S</td>\n",
       "      <td>2015-05-24T21:31:02.726000</td>\n",
       "      <td>Check out this video on YouTube:﻿</td>\n",
       "      <td>NaN</td>\n",
       "    </tr>\n",
       "    <tr>\n",
       "      <th>freq</th>\n",
       "      <td>2</td>\n",
       "      <td>5</td>\n",
       "      <td>1</td>\n",
       "      <td>52</td>\n",
       "      <td>NaN</td>\n",
       "    </tr>\n",
       "    <tr>\n",
       "      <th>mean</th>\n",
       "      <td>NaN</td>\n",
       "      <td>NaN</td>\n",
       "      <td>NaN</td>\n",
       "      <td>NaN</td>\n",
       "      <td>0.506482</td>\n",
       "    </tr>\n",
       "    <tr>\n",
       "      <th>std</th>\n",
       "      <td>NaN</td>\n",
       "      <td>NaN</td>\n",
       "      <td>NaN</td>\n",
       "      <td>NaN</td>\n",
       "      <td>0.500174</td>\n",
       "    </tr>\n",
       "    <tr>\n",
       "      <th>min</th>\n",
       "      <td>NaN</td>\n",
       "      <td>NaN</td>\n",
       "      <td>NaN</td>\n",
       "      <td>NaN</td>\n",
       "      <td>0.000000</td>\n",
       "    </tr>\n",
       "    <tr>\n",
       "      <th>25%</th>\n",
       "      <td>NaN</td>\n",
       "      <td>NaN</td>\n",
       "      <td>NaN</td>\n",
       "      <td>NaN</td>\n",
       "      <td>0.000000</td>\n",
       "    </tr>\n",
       "    <tr>\n",
       "      <th>50%</th>\n",
       "      <td>NaN</td>\n",
       "      <td>NaN</td>\n",
       "      <td>NaN</td>\n",
       "      <td>NaN</td>\n",
       "      <td>1.000000</td>\n",
       "    </tr>\n",
       "    <tr>\n",
       "      <th>75%</th>\n",
       "      <td>NaN</td>\n",
       "      <td>NaN</td>\n",
       "      <td>NaN</td>\n",
       "      <td>NaN</td>\n",
       "      <td>1.000000</td>\n",
       "    </tr>\n",
       "    <tr>\n",
       "      <th>max</th>\n",
       "      <td>NaN</td>\n",
       "      <td>NaN</td>\n",
       "      <td>NaN</td>\n",
       "      <td>NaN</td>\n",
       "      <td>1.000000</td>\n",
       "    </tr>\n",
       "  </tbody>\n",
       "</table>\n",
       "</div>"
      ],
      "text/plain": [
       "                                         COMMENT_ID AUTHOR  \\\n",
       "count                                          1157   1157   \n",
       "unique                                         1156   1094   \n",
       "top     LneaDw26bFvPh9xBHNw1btQoyP60ay_WWthtvXCx37s  M.E.S   \n",
       "freq                                              2      5   \n",
       "mean                                            NaN    NaN   \n",
       "std                                             NaN    NaN   \n",
       "min                                             NaN    NaN   \n",
       "25%                                             NaN    NaN   \n",
       "50%                                             NaN    NaN   \n",
       "75%                                             NaN    NaN   \n",
       "max                                             NaN    NaN   \n",
       "\n",
       "                              DATE                            CONTENT  \\\n",
       "count                         1019                               1157   \n",
       "unique                        1019                               1057   \n",
       "top     2015-05-24T21:31:02.726000  Check out this video on YouTube:﻿   \n",
       "freq                             1                                 52   \n",
       "mean                           NaN                                NaN   \n",
       "std                            NaN                                NaN   \n",
       "min                            NaN                                NaN   \n",
       "25%                            NaN                                NaN   \n",
       "50%                            NaN                                NaN   \n",
       "75%                            NaN                                NaN   \n",
       "max                            NaN                                NaN   \n",
       "\n",
       "              CLASS  \n",
       "count   1157.000000  \n",
       "unique          NaN  \n",
       "top             NaN  \n",
       "freq            NaN  \n",
       "mean       0.506482  \n",
       "std        0.500174  \n",
       "min        0.000000  \n",
       "25%        0.000000  \n",
       "50%        1.000000  \n",
       "75%        1.000000  \n",
       "max        1.000000  "
      ]
     },
     "execution_count": 4,
     "metadata": {},
     "output_type": "execute_result"
    }
   ],
   "source": [
    "train.describe(include=['object','integer'])"
   ]
  },
  {
   "cell_type": "code",
   "execution_count": 5,
   "metadata": {},
   "outputs": [
    {
     "data": {
      "text/html": [
       "<div>\n",
       "<style scoped>\n",
       "    .dataframe tbody tr th:only-of-type {\n",
       "        vertical-align: middle;\n",
       "    }\n",
       "\n",
       "    .dataframe tbody tr th {\n",
       "        vertical-align: top;\n",
       "    }\n",
       "\n",
       "    .dataframe thead th {\n",
       "        text-align: right;\n",
       "    }\n",
       "</style>\n",
       "<table border=\"1\" class=\"dataframe\">\n",
       "  <thead>\n",
       "    <tr style=\"text-align: right;\">\n",
       "      <th></th>\n",
       "      <th>ID</th>\n",
       "      <th>COMMENT_ID</th>\n",
       "      <th>AUTHOR</th>\n",
       "      <th>DATE</th>\n",
       "      <th>CONTENT</th>\n",
       "    </tr>\n",
       "  </thead>\n",
       "  <tbody>\n",
       "    <tr>\n",
       "      <th>count</th>\n",
       "      <td>799.000000</td>\n",
       "      <td>799</td>\n",
       "      <td>799</td>\n",
       "      <td>692</td>\n",
       "      <td>799</td>\n",
       "    </tr>\n",
       "    <tr>\n",
       "      <th>unique</th>\n",
       "      <td>NaN</td>\n",
       "      <td>799</td>\n",
       "      <td>760</td>\n",
       "      <td>692</td>\n",
       "      <td>733</td>\n",
       "    </tr>\n",
       "    <tr>\n",
       "      <th>top</th>\n",
       "      <td>NaN</td>\n",
       "      <td>z13tyhj4drvcxzllt222tvwp3qi1e34ju04</td>\n",
       "      <td>OFFICIAL LEXIS</td>\n",
       "      <td>2014-11-08T03:11:40</td>\n",
       "      <td>Check out this video on YouTube:﻿</td>\n",
       "    </tr>\n",
       "    <tr>\n",
       "      <th>freq</th>\n",
       "      <td>NaN</td>\n",
       "      <td>1</td>\n",
       "      <td>3</td>\n",
       "      <td>1</td>\n",
       "      <td>45</td>\n",
       "    </tr>\n",
       "    <tr>\n",
       "      <th>mean</th>\n",
       "      <td>399.000000</td>\n",
       "      <td>NaN</td>\n",
       "      <td>NaN</td>\n",
       "      <td>NaN</td>\n",
       "      <td>NaN</td>\n",
       "    </tr>\n",
       "    <tr>\n",
       "      <th>std</th>\n",
       "      <td>230.795725</td>\n",
       "      <td>NaN</td>\n",
       "      <td>NaN</td>\n",
       "      <td>NaN</td>\n",
       "      <td>NaN</td>\n",
       "    </tr>\n",
       "    <tr>\n",
       "      <th>min</th>\n",
       "      <td>0.000000</td>\n",
       "      <td>NaN</td>\n",
       "      <td>NaN</td>\n",
       "      <td>NaN</td>\n",
       "      <td>NaN</td>\n",
       "    </tr>\n",
       "    <tr>\n",
       "      <th>25%</th>\n",
       "      <td>199.500000</td>\n",
       "      <td>NaN</td>\n",
       "      <td>NaN</td>\n",
       "      <td>NaN</td>\n",
       "      <td>NaN</td>\n",
       "    </tr>\n",
       "    <tr>\n",
       "      <th>50%</th>\n",
       "      <td>399.000000</td>\n",
       "      <td>NaN</td>\n",
       "      <td>NaN</td>\n",
       "      <td>NaN</td>\n",
       "      <td>NaN</td>\n",
       "    </tr>\n",
       "    <tr>\n",
       "      <th>75%</th>\n",
       "      <td>598.500000</td>\n",
       "      <td>NaN</td>\n",
       "      <td>NaN</td>\n",
       "      <td>NaN</td>\n",
       "      <td>NaN</td>\n",
       "    </tr>\n",
       "    <tr>\n",
       "      <th>max</th>\n",
       "      <td>798.000000</td>\n",
       "      <td>NaN</td>\n",
       "      <td>NaN</td>\n",
       "      <td>NaN</td>\n",
       "      <td>NaN</td>\n",
       "    </tr>\n",
       "  </tbody>\n",
       "</table>\n",
       "</div>"
      ],
      "text/plain": [
       "                ID                           COMMENT_ID          AUTHOR  \\\n",
       "count   799.000000                                  799             799   \n",
       "unique         NaN                                  799             760   \n",
       "top            NaN  z13tyhj4drvcxzllt222tvwp3qi1e34ju04  OFFICIAL LEXIS   \n",
       "freq           NaN                                    1               3   \n",
       "mean    399.000000                                  NaN             NaN   \n",
       "std     230.795725                                  NaN             NaN   \n",
       "min       0.000000                                  NaN             NaN   \n",
       "25%     199.500000                                  NaN             NaN   \n",
       "50%     399.000000                                  NaN             NaN   \n",
       "75%     598.500000                                  NaN             NaN   \n",
       "max     798.000000                                  NaN             NaN   \n",
       "\n",
       "                       DATE                            CONTENT  \n",
       "count                   692                                799  \n",
       "unique                  692                                733  \n",
       "top     2014-11-08T03:11:40  Check out this video on YouTube:﻿  \n",
       "freq                      1                                 45  \n",
       "mean                    NaN                                NaN  \n",
       "std                     NaN                                NaN  \n",
       "min                     NaN                                NaN  \n",
       "25%                     NaN                                NaN  \n",
       "50%                     NaN                                NaN  \n",
       "75%                     NaN                                NaN  \n",
       "max                     NaN                                NaN  "
      ]
     },
     "execution_count": 5,
     "metadata": {},
     "output_type": "execute_result"
    }
   ],
   "source": [
    "test.describe(include=['object','integer'])"
   ]
  },
  {
   "cell_type": "code",
   "execution_count": 6,
   "metadata": {},
   "outputs": [
    {
     "data": {
      "text/plain": [
       "Text(0.5,1,'Missing Values')"
      ]
     },
     "execution_count": 6,
     "metadata": {},
     "output_type": "execute_result"
    },
    {
     "data": {
      "image/png": "[encoded data removed]",
      "text/plain": [
       "<Figure size 864x432 with 3 Axes>"
      ]
     },
     "metadata": {
      "needs_background": "light"
     },
     "output_type": "display_data"
    }
   ],
   "source": [
    "fig,ax= plt.subplots(1,2,figsize=(12,6))\n",
    "sns.countplot(train.CLASS, palette='Set2', ax=ax[0])\n",
    "ax[0].set_title('CLASS COUNT')\n",
    "sns.heatmap(train.isnull(),cmap='Blues',ax=ax[1])\n",
    "ax[1].set_title('Missing Values')"
   ]
  },
  {
   "cell_type": "markdown",
   "metadata": {},
   "source": [
    "From above exploration we can say Class is balanced therefore we don't have to worry about imbalanced problem. Other than this Dataset contains missing values. Some Dates are missing from dataset."
   ]
  },
  {
   "cell_type": "markdown",
   "metadata": {},
   "source": [
    "Therefore Either we have to fill or drop missing columns/rows "
   ]
  },
  {
   "cell_type": "markdown",
   "metadata": {},
   "source": [
    "# Due to short timeline of competition i used tableau for better Data exploration"
   ]
  },
  {
   "cell_type": "code",
   "execution_count": 7,
   "metadata": {},
   "outputs": [
    {
     "data": {
      "text/plain": [
       "1    586\n",
       "0    571\n",
       "Name: CLASS, dtype: int64"
      ]
     },
     "execution_count": 7,
     "metadata": {},
     "output_type": "execute_result"
    }
   ],
   "source": [
    "train.CLASS.value_counts()"
   ]
  },
  {
   "cell_type": "markdown",
   "metadata": {},
   "source": [
    "### Feature engineering"
   ]
  },
  {
   "cell_type": "code",
   "execution_count": 8,
   "metadata": {},
   "outputs": [
    {
     "data": {
      "text/plain": [
       "1    565\n",
       "0     21\n",
       "Name: CLASS, dtype: int64"
      ]
     },
     "execution_count": 8,
     "metadata": {},
     "output_type": "execute_result"
    }
   ],
   "source": [
    "words=re.compile(r'check out|.com/|check them|christ|check me|card|search|dear|check my|buck|gift|check it|check this|dollar|[=+]|sub|channel|adf|instagram|share|follow|http|https://|[$]|please|money|free|www|facebook|fb|support|like this comment',re.IGNORECASE)\n",
    "train[train.CONTENT.str.contains(words)].CLASS.value_counts()"
   ]
  },
  {
   "cell_type": "code",
   "execution_count": 9,
   "metadata": {},
   "outputs": [],
   "source": [
    "words=re.compile(r'(check out|check this|dollar|[=+]|sub|channel|adf|instagram|share|follow|https://|[$]|please|money|free|www|facebook|fb|support|like this comment)',re.IGNORECASE)\n",
    "train['spam_word']=train.CONTENT.str.extract(words)"
   ]
  },
  {
   "cell_type": "code",
   "execution_count": 10,
   "metadata": {},
   "outputs": [
    {
     "data": {
      "text/html": [
       "<div>\n",
       "<style scoped>\n",
       "    .dataframe tbody tr th:only-of-type {\n",
       "        vertical-align: middle;\n",
       "    }\n",
       "\n",
       "    .dataframe tbody tr th {\n",
       "        vertical-align: top;\n",
       "    }\n",
       "\n",
       "    .dataframe thead th {\n",
       "        text-align: right;\n",
       "    }\n",
       "</style>\n",
       "<table border=\"1\" class=\"dataframe\">\n",
       "  <thead>\n",
       "    <tr style=\"text-align: right;\">\n",
       "      <th></th>\n",
       "      <th>COMMENT_ID</th>\n",
       "      <th>AUTHOR</th>\n",
       "      <th>DATE</th>\n",
       "      <th>CONTENT</th>\n",
       "      <th>CLASS</th>\n",
       "      <th>spam_word</th>\n",
       "    </tr>\n",
       "  </thead>\n",
       "  <tbody>\n",
       "    <tr>\n",
       "      <th>0</th>\n",
       "      <td>LZQPQhLyRh80UYxNuaDWhIGQYNQ96IuCg-AYWqNPjpU</td>\n",
       "      <td>Julius NM</td>\n",
       "      <td>2013-11-07T06:20:48</td>\n",
       "      <td>Huh, anyway check out this you[tube] channel: ...</td>\n",
       "      <td>1</td>\n",
       "      <td>check out</td>\n",
       "    </tr>\n",
       "    <tr>\n",
       "      <th>1</th>\n",
       "      <td>z13jhp0bxqncu512g22wvzkasxmvvzjaz04</td>\n",
       "      <td>ElNino Melendez</td>\n",
       "      <td>2013-11-09T08:28:43</td>\n",
       "      <td>me shaking my sexy ass on my channel enjoy ^_^ ﻿</td>\n",
       "      <td>1</td>\n",
       "      <td>channel</td>\n",
       "    </tr>\n",
       "    <tr>\n",
       "      <th>2</th>\n",
       "      <td>z13fwbwp1oujthgqj04chlngpvzmtt3r3dw</td>\n",
       "      <td>GsMega</td>\n",
       "      <td>2013-11-10T16:05:38</td>\n",
       "      <td>watch?v=vtaRGgvGtWQ   Check this out .﻿</td>\n",
       "      <td>1</td>\n",
       "      <td>=</td>\n",
       "    </tr>\n",
       "    <tr>\n",
       "      <th>3</th>\n",
       "      <td>z13lfzdo5vmdi1cm123te5uz2mqig1brz04</td>\n",
       "      <td>ferleck ferles</td>\n",
       "      <td>2013-11-27T21:39:24</td>\n",
       "      <td>Subscribe to my channel ﻿</td>\n",
       "      <td>1</td>\n",
       "      <td>Sub</td>\n",
       "    </tr>\n",
       "    <tr>\n",
       "      <th>4</th>\n",
       "      <td>z12avveb4xqiirsix04chxviiljryduwxg0</td>\n",
       "      <td>BeBe Burkey</td>\n",
       "      <td>2013-11-28T16:30:13</td>\n",
       "      <td>and u should.d check my channel and tell me wh...</td>\n",
       "      <td>1</td>\n",
       "      <td>channel</td>\n",
       "    </tr>\n",
       "  </tbody>\n",
       "</table>\n",
       "</div>"
      ],
      "text/plain": [
       "                                    COMMENT_ID           AUTHOR  \\\n",
       "0  LZQPQhLyRh80UYxNuaDWhIGQYNQ96IuCg-AYWqNPjpU        Julius NM   \n",
       "1          z13jhp0bxqncu512g22wvzkasxmvvzjaz04  ElNino Melendez   \n",
       "2          z13fwbwp1oujthgqj04chlngpvzmtt3r3dw           GsMega   \n",
       "3          z13lfzdo5vmdi1cm123te5uz2mqig1brz04   ferleck ferles   \n",
       "4          z12avveb4xqiirsix04chxviiljryduwxg0      BeBe Burkey   \n",
       "\n",
       "                  DATE                                            CONTENT  \\\n",
       "0  2013-11-07T06:20:48  Huh, anyway check out this you[tube] channel: ...   \n",
       "1  2013-11-09T08:28:43   me shaking my sexy ass on my channel enjoy ^_^ ﻿   \n",
       "2  2013-11-10T16:05:38            watch?v=vtaRGgvGtWQ   Check this out .﻿   \n",
       "3  2013-11-27T21:39:24                          Subscribe to my channel ﻿   \n",
       "4  2013-11-28T16:30:13  and u should.d check my channel and tell me wh...   \n",
       "\n",
       "   CLASS  spam_word  \n",
       "0      1  check out  \n",
       "1      1    channel  \n",
       "2      1          =  \n",
       "3      1        Sub  \n",
       "4      1    channel  "
      ]
     },
     "execution_count": 10,
     "metadata": {},
     "output_type": "execute_result"
    }
   ],
   "source": [
    "train.head()"
   ]
  },
  {
   "cell_type": "code",
   "execution_count": 11,
   "metadata": {},
   "outputs": [],
   "source": [
    "train.to_csv('spam_words.csv')"
   ]
  },
  {
   "cell_type": "code",
   "execution_count": 29,
   "metadata": {},
   "outputs": [],
   "source": [
    "train.spam_word.fillna(0,inplace=True)\n",
    "del train['COMMENT_ID']"
   ]
  },
  {
   "cell_type": "code",
   "execution_count": 30,
   "metadata": {},
   "outputs": [],
   "source": [
    "df=train\n",
    "df.dropna(inplace=True)\n",
    "df=df.set_index('DATE')"
   ]
  },
  {
   "cell_type": "code",
   "execution_count": null,
   "metadata": {},
   "outputs": [],
   "source": []
  },
  {
   "cell_type": "code",
   "execution_count": null,
   "metadata": {},
   "outputs": [],
   "source": []
  },
  {
   "cell_type": "raw",
   "metadata": {},
   "source": []
  },
  {
   "cell_type": "code",
   "execution_count": null,
   "metadata": {},
   "outputs": [],
   "source": []
  },
  {
   "cell_type": "code",
   "execution_count": null,
   "metadata": {},
   "outputs": [],
   "source": []
  },
  {
   "cell_type": "code",
   "execution_count": 31,
   "metadata": {},
   "outputs": [
    {
     "data": {
      "text/html": [
       "<div>\n",
       "<style scoped>\n",
       "    .dataframe tbody tr th:only-of-type {\n",
       "        vertical-align: middle;\n",
       "    }\n",
       "\n",
       "    .dataframe tbody tr th {\n",
       "        vertical-align: top;\n",
       "    }\n",
       "\n",
       "    .dataframe thead th {\n",
       "        text-align: right;\n",
       "    }\n",
       "</style>\n",
       "<table border=\"1\" class=\"dataframe\">\n",
       "  <thead>\n",
       "    <tr style=\"text-align: right;\">\n",
       "      <th></th>\n",
       "      <th>AUTHOR</th>\n",
       "      <th>CONTENT</th>\n",
       "      <th>CLASS</th>\n",
       "      <th>spam_word</th>\n",
       "    </tr>\n",
       "    <tr>\n",
       "      <th>DATE</th>\n",
       "      <th></th>\n",
       "      <th></th>\n",
       "      <th></th>\n",
       "      <th></th>\n",
       "    </tr>\n",
       "  </thead>\n",
       "  <tbody>\n",
       "    <tr>\n",
       "      <th>2013-11-07T06:20:48</th>\n",
       "      <td>Julius NM</td>\n",
       "      <td>Huh, anyway check out this you[tube] channel: ...</td>\n",
       "      <td>1</td>\n",
       "      <td>check out</td>\n",
       "    </tr>\n",
       "    <tr>\n",
       "      <th>2013-11-09T08:28:43</th>\n",
       "      <td>ElNino Melendez</td>\n",
       "      <td>me shaking my sexy ass on my channel enjoy ^_^ ﻿</td>\n",
       "      <td>1</td>\n",
       "      <td>channel</td>\n",
       "    </tr>\n",
       "    <tr>\n",
       "      <th>2013-11-10T16:05:38</th>\n",
       "      <td>GsMega</td>\n",
       "      <td>watch?v=vtaRGgvGtWQ   Check this out .﻿</td>\n",
       "      <td>1</td>\n",
       "      <td>=</td>\n",
       "    </tr>\n",
       "    <tr>\n",
       "      <th>2013-11-27T21:39:24</th>\n",
       "      <td>ferleck ferles</td>\n",
       "      <td>Subscribe to my channel ﻿</td>\n",
       "      <td>1</td>\n",
       "      <td>Sub</td>\n",
       "    </tr>\n",
       "    <tr>\n",
       "      <th>2013-11-28T16:30:13</th>\n",
       "      <td>BeBe Burkey</td>\n",
       "      <td>and u should.d check my channel and tell me wh...</td>\n",
       "      <td>1</td>\n",
       "      <td>channel</td>\n",
       "    </tr>\n",
       "  </tbody>\n",
       "</table>\n",
       "</div>"
      ],
      "text/plain": [
       "                              AUTHOR  \\\n",
       "DATE                                   \n",
       "2013-11-07T06:20:48        Julius NM   \n",
       "2013-11-09T08:28:43  ElNino Melendez   \n",
       "2013-11-10T16:05:38           GsMega   \n",
       "2013-11-27T21:39:24   ferleck ferles   \n",
       "2013-11-28T16:30:13      BeBe Burkey   \n",
       "\n",
       "                                                               CONTENT  CLASS  \\\n",
       "DATE                                                                            \n",
       "2013-11-07T06:20:48  Huh, anyway check out this you[tube] channel: ...      1   \n",
       "2013-11-09T08:28:43   me shaking my sexy ass on my channel enjoy ^_^ ﻿      1   \n",
       "2013-11-10T16:05:38            watch?v=vtaRGgvGtWQ   Check this out .﻿      1   \n",
       "2013-11-27T21:39:24                          Subscribe to my channel ﻿      1   \n",
       "2013-11-28T16:30:13  and u should.d check my channel and tell me wh...      1   \n",
       "\n",
       "                     spam_word  \n",
       "DATE                            \n",
       "2013-11-07T06:20:48  check out  \n",
       "2013-11-09T08:28:43    channel  \n",
       "2013-11-10T16:05:38          =  \n",
       "2013-11-27T21:39:24        Sub  \n",
       "2013-11-28T16:30:13    channel  "
      ]
     },
     "execution_count": 31,
     "metadata": {},
     "output_type": "execute_result"
    }
   ],
   "source": [
    "df.head()"
   ]
  },
  {
   "cell_type": "code",
   "execution_count": 32,
   "metadata": {},
   "outputs": [],
   "source": [
    "df.index=pd.to_datetime(df.index)"
   ]
  },
  {
   "cell_type": "code",
   "execution_count": 33,
   "metadata": {},
   "outputs": [],
   "source": [
    "df.AUTHOR=df.AUTHOR.astype('category')"
   ]
  },
  {
   "cell_type": "code",
   "execution_count": null,
   "metadata": {},
   "outputs": [],
   "source": []
  },
  {
   "cell_type": "code",
   "execution_count": 34,
   "metadata": {},
   "outputs": [],
   "source": [
    "df=df.sort_index()"
   ]
  },
  {
   "cell_type": "code",
   "execution_count": 35,
   "metadata": {},
   "outputs": [],
   "source": [
    "df['year_2013']=df.index.year==2013\n",
    "df['year_2014']=df.index.year==2014\n",
    "df['year_2015']=df.index.year==2015\n",
    "df['mon_1']=df.index.month==1\n",
    "df['mon_2']=df.index.month==2\n",
    "df['mon_3']=df.index.month==3\n",
    "df['mon_4']=df.index.month==4\n",
    "df['mon_5']=df.index.month==5\n",
    "df['mon_6']=df.index.month==6\n",
    "df['mon_7']=df.index.month==7\n",
    "df['mon_8']=df.index.month==8\n",
    "df['mon_9']=df.index.month==9\n",
    "df['mon_10']=df.index.month==10\n",
    "df['mon_11']=df.index.month==11\n",
    "df['mon_12']=df.index.month==12"
   ]
  },
  {
   "cell_type": "code",
   "execution_count": 36,
   "metadata": {},
   "outputs": [
    {
     "data": {
      "text/html": [
       "<div>\n",
       "<style scoped>\n",
       "    .dataframe tbody tr th:only-of-type {\n",
       "        vertical-align: middle;\n",
       "    }\n",
       "\n",
       "    .dataframe tbody tr th {\n",
       "        vertical-align: top;\n",
       "    }\n",
       "\n",
       "    .dataframe thead th {\n",
       "        text-align: right;\n",
       "    }\n",
       "</style>\n",
       "<table border=\"1\" class=\"dataframe\">\n",
       "  <thead>\n",
       "    <tr style=\"text-align: right;\">\n",
       "      <th></th>\n",
       "      <th>AUTHOR</th>\n",
       "      <th>CONTENT</th>\n",
       "      <th>CLASS</th>\n",
       "      <th>spam_word</th>\n",
       "      <th>year_2013</th>\n",
       "      <th>year_2014</th>\n",
       "      <th>year_2015</th>\n",
       "      <th>mon_1</th>\n",
       "      <th>mon_2</th>\n",
       "      <th>mon_3</th>\n",
       "      <th>mon_4</th>\n",
       "      <th>mon_5</th>\n",
       "      <th>mon_6</th>\n",
       "      <th>mon_7</th>\n",
       "      <th>mon_8</th>\n",
       "      <th>mon_9</th>\n",
       "      <th>mon_10</th>\n",
       "      <th>mon_11</th>\n",
       "      <th>mon_12</th>\n",
       "    </tr>\n",
       "    <tr>\n",
       "      <th>DATE</th>\n",
       "      <th></th>\n",
       "      <th></th>\n",
       "      <th></th>\n",
       "      <th></th>\n",
       "      <th></th>\n",
       "      <th></th>\n",
       "      <th></th>\n",
       "      <th></th>\n",
       "      <th></th>\n",
       "      <th></th>\n",
       "      <th></th>\n",
       "      <th></th>\n",
       "      <th></th>\n",
       "      <th></th>\n",
       "      <th></th>\n",
       "      <th></th>\n",
       "      <th></th>\n",
       "      <th></th>\n",
       "      <th></th>\n",
       "    </tr>\n",
       "  </thead>\n",
       "  <tbody>\n",
       "    <tr>\n",
       "      <th>2013-07-13 11:17:52.308</th>\n",
       "      <td>Aishlin Maciel</td>\n",
       "      <td>Shakira u are so wiredo</td>\n",
       "      <td>0</td>\n",
       "      <td>0</td>\n",
       "      <td>True</td>\n",
       "      <td>False</td>\n",
       "      <td>False</td>\n",
       "      <td>False</td>\n",
       "      <td>False</td>\n",
       "      <td>False</td>\n",
       "      <td>False</td>\n",
       "      <td>False</td>\n",
       "      <td>False</td>\n",
       "      <td>True</td>\n",
       "      <td>False</td>\n",
       "      <td>False</td>\n",
       "      <td>False</td>\n",
       "      <td>False</td>\n",
       "      <td>False</td>\n",
       "    </tr>\n",
       "    <tr>\n",
       "      <th>2013-07-13 12:09:31.188</th>\n",
       "      <td>jeffrey jules</td>\n",
       "      <td>wow</td>\n",
       "      <td>0</td>\n",
       "      <td>0</td>\n",
       "      <td>True</td>\n",
       "      <td>False</td>\n",
       "      <td>False</td>\n",
       "      <td>False</td>\n",
       "      <td>False</td>\n",
       "      <td>False</td>\n",
       "      <td>False</td>\n",
       "      <td>False</td>\n",
       "      <td>False</td>\n",
       "      <td>True</td>\n",
       "      <td>False</td>\n",
       "      <td>False</td>\n",
       "      <td>False</td>\n",
       "      <td>False</td>\n",
       "      <td>False</td>\n",
       "    </tr>\n",
       "    <tr>\n",
       "      <th>2013-07-13 13:14:30.021</th>\n",
       "      <td>Sabina Pearson-Smith</td>\n",
       "      <td>I love this song for two reasons: 1.it is abou...</td>\n",
       "      <td>0</td>\n",
       "      <td>0</td>\n",
       "      <td>True</td>\n",
       "      <td>False</td>\n",
       "      <td>False</td>\n",
       "      <td>False</td>\n",
       "      <td>False</td>\n",
       "      <td>False</td>\n",
       "      <td>False</td>\n",
       "      <td>False</td>\n",
       "      <td>False</td>\n",
       "      <td>True</td>\n",
       "      <td>False</td>\n",
       "      <td>False</td>\n",
       "      <td>False</td>\n",
       "      <td>False</td>\n",
       "      <td>False</td>\n",
       "    </tr>\n",
       "    <tr>\n",
       "      <th>2013-07-13 20:17:25.181</th>\n",
       "      <td>Ysobel Schofield</td>\n",
       "      <td>Waka waka she rules</td>\n",
       "      <td>0</td>\n",
       "      <td>0</td>\n",
       "      <td>True</td>\n",
       "      <td>False</td>\n",
       "      <td>False</td>\n",
       "      <td>False</td>\n",
       "      <td>False</td>\n",
       "      <td>False</td>\n",
       "      <td>False</td>\n",
       "      <td>False</td>\n",
       "      <td>False</td>\n",
       "      <td>True</td>\n",
       "      <td>False</td>\n",
       "      <td>False</td>\n",
       "      <td>False</td>\n",
       "      <td>False</td>\n",
       "      <td>False</td>\n",
       "    </tr>\n",
       "    <tr>\n",
       "      <th>2013-07-13 20:47:40.793</th>\n",
       "      <td>ThirdDegr3e</td>\n",
       "      <td>**CHECK OUT MY NEW MIXTAPE**** **CHECK OUT MY ...</td>\n",
       "      <td>1</td>\n",
       "      <td>CHECK OUT</td>\n",
       "      <td>True</td>\n",
       "      <td>False</td>\n",
       "      <td>False</td>\n",
       "      <td>False</td>\n",
       "      <td>False</td>\n",
       "      <td>False</td>\n",
       "      <td>False</td>\n",
       "      <td>False</td>\n",
       "      <td>False</td>\n",
       "      <td>True</td>\n",
       "      <td>False</td>\n",
       "      <td>False</td>\n",
       "      <td>False</td>\n",
       "      <td>False</td>\n",
       "      <td>False</td>\n",
       "    </tr>\n",
       "  </tbody>\n",
       "</table>\n",
       "</div>"
      ],
      "text/plain": [
       "                                       AUTHOR  \\\n",
       "DATE                                            \n",
       "2013-07-13 11:17:52.308        Aishlin Maciel   \n",
       "2013-07-13 12:09:31.188         jeffrey jules   \n",
       "2013-07-13 13:14:30.021  Sabina Pearson-Smith   \n",
       "2013-07-13 20:17:25.181      Ysobel Schofield   \n",
       "2013-07-13 20:47:40.793           ThirdDegr3e   \n",
       "\n",
       "                                                                   CONTENT  \\\n",
       "DATE                                                                         \n",
       "2013-07-13 11:17:52.308                            Shakira u are so wiredo   \n",
       "2013-07-13 12:09:31.188                                                wow   \n",
       "2013-07-13 13:14:30.021  I love this song for two reasons: 1.it is abou...   \n",
       "2013-07-13 20:17:25.181                                Waka waka she rules   \n",
       "2013-07-13 20:47:40.793  **CHECK OUT MY NEW MIXTAPE**** **CHECK OUT MY ...   \n",
       "\n",
       "                         CLASS  spam_word  year_2013  year_2014  year_2015  \\\n",
       "DATE                                                                         \n",
       "2013-07-13 11:17:52.308      0          0       True      False      False   \n",
       "2013-07-13 12:09:31.188      0          0       True      False      False   \n",
       "2013-07-13 13:14:30.021      0          0       True      False      False   \n",
       "2013-07-13 20:17:25.181      0          0       True      False      False   \n",
       "2013-07-13 20:47:40.793      1  CHECK OUT       True      False      False   \n",
       "\n",
       "                         mon_1  mon_2  mon_3  mon_4  mon_5  mon_6  mon_7  \\\n",
       "DATE                                                                       \n",
       "2013-07-13 11:17:52.308  False  False  False  False  False  False   True   \n",
       "2013-07-13 12:09:31.188  False  False  False  False  False  False   True   \n",
       "2013-07-13 13:14:30.021  False  False  False  False  False  False   True   \n",
       "2013-07-13 20:17:25.181  False  False  False  False  False  False   True   \n",
       "2013-07-13 20:47:40.793  False  False  False  False  False  False   True   \n",
       "\n",
       "                         mon_8  mon_9  mon_10  mon_11  mon_12  \n",
       "DATE                                                           \n",
       "2013-07-13 11:17:52.308  False  False   False   False   False  \n",
       "2013-07-13 12:09:31.188  False  False   False   False   False  \n",
       "2013-07-13 13:14:30.021  False  False   False   False   False  \n",
       "2013-07-13 20:17:25.181  False  False   False   False   False  \n",
       "2013-07-13 20:47:40.793  False  False   False   False   False  "
      ]
     },
     "execution_count": 36,
     "metadata": {},
     "output_type": "execute_result"
    }
   ],
   "source": [
    "df.head()"
   ]
  },
  {
   "cell_type": "code",
   "execution_count": 37,
   "metadata": {},
   "outputs": [],
   "source": [
    "df=df.set_index(np.arange(0,1019))"
   ]
  },
  {
   "cell_type": "code",
   "execution_count": 38,
   "metadata": {},
   "outputs": [
    {
     "name": "stdout",
     "output_type": "stream",
     "text": [
      "<class 'pandas.core.frame.DataFrame'>\n",
      "Int64Index: 1019 entries, 0 to 1018\n",
      "Data columns (total 19 columns):\n",
      "AUTHOR       1019 non-null category\n",
      "CONTENT      1019 non-null object\n",
      "CLASS        1019 non-null int64\n",
      "spam_word    1019 non-null object\n",
      "year_2013    1019 non-null bool\n",
      "year_2014    1019 non-null bool\n",
      "year_2015    1019 non-null bool\n",
      "mon_1        1019 non-null bool\n",
      "mon_2        1019 non-null bool\n",
      "mon_3        1019 non-null bool\n",
      "mon_4        1019 non-null bool\n",
      "mon_5        1019 non-null bool\n",
      "mon_6        1019 non-null bool\n",
      "mon_7        1019 non-null bool\n",
      "mon_8        1019 non-null bool\n",
      "mon_9        1019 non-null bool\n",
      "mon_10       1019 non-null bool\n",
      "mon_11       1019 non-null bool\n",
      "mon_12       1019 non-null bool\n",
      "dtypes: bool(15), category(1), int64(1), object(2)\n",
      "memory usage: 96.4+ KB\n"
     ]
    }
   ],
   "source": [
    "df.info()"
   ]
  },
  {
   "cell_type": "code",
   "execution_count": 39,
   "metadata": {},
   "outputs": [],
   "source": [
    "x=df.columns\n",
    "for i in range(3,19):\n",
    "    df[x[i]]=df[x[i]].astype('category')"
   ]
  },
  {
   "cell_type": "code",
   "execution_count": 40,
   "metadata": {},
   "outputs": [],
   "source": [
    "del df['CONTENT']"
   ]
  },
  {
   "cell_type": "code",
   "execution_count": 41,
   "metadata": {},
   "outputs": [
    {
     "data": {
      "text/plain": [
       "(1019, 18)"
      ]
     },
     "execution_count": 41,
     "metadata": {},
     "output_type": "execute_result"
    }
   ],
   "source": [
    "df.shape"
   ]
  },
  {
   "cell_type": "code",
   "execution_count": 42,
   "metadata": {},
   "outputs": [],
   "source": [
    "x=df.columns\n",
    "for i in range(3,18):\n",
    "    df[x[i]]=np.where(df[x[i]]==True,1,0)"
   ]
  },
  {
   "cell_type": "code",
   "execution_count": 43,
   "metadata": {},
   "outputs": [
    {
     "data": {
      "text/html": [
       "<div>\n",
       "<style scoped>\n",
       "    .dataframe tbody tr th:only-of-type {\n",
       "        vertical-align: middle;\n",
       "    }\n",
       "\n",
       "    .dataframe tbody tr th {\n",
       "        vertical-align: top;\n",
       "    }\n",
       "\n",
       "    .dataframe thead th {\n",
       "        text-align: right;\n",
       "    }\n",
       "</style>\n",
       "<table border=\"1\" class=\"dataframe\">\n",
       "  <thead>\n",
       "    <tr style=\"text-align: right;\">\n",
       "      <th></th>\n",
       "      <th>AUTHOR</th>\n",
       "      <th>CLASS</th>\n",
       "      <th>spam_word</th>\n",
       "      <th>year_2013</th>\n",
       "      <th>year_2014</th>\n",
       "      <th>year_2015</th>\n",
       "      <th>mon_1</th>\n",
       "      <th>mon_2</th>\n",
       "      <th>mon_3</th>\n",
       "      <th>mon_4</th>\n",
       "      <th>mon_5</th>\n",
       "      <th>mon_6</th>\n",
       "      <th>mon_7</th>\n",
       "      <th>mon_8</th>\n",
       "      <th>mon_9</th>\n",
       "      <th>mon_10</th>\n",
       "      <th>mon_11</th>\n",
       "      <th>mon_12</th>\n",
       "    </tr>\n",
       "  </thead>\n",
       "  <tbody>\n",
       "    <tr>\n",
       "      <th>0</th>\n",
       "      <td>Aishlin Maciel</td>\n",
       "      <td>0</td>\n",
       "      <td>0</td>\n",
       "      <td>1</td>\n",
       "      <td>0</td>\n",
       "      <td>0</td>\n",
       "      <td>0</td>\n",
       "      <td>0</td>\n",
       "      <td>0</td>\n",
       "      <td>0</td>\n",
       "      <td>0</td>\n",
       "      <td>0</td>\n",
       "      <td>1</td>\n",
       "      <td>0</td>\n",
       "      <td>0</td>\n",
       "      <td>0</td>\n",
       "      <td>0</td>\n",
       "      <td>0</td>\n",
       "    </tr>\n",
       "    <tr>\n",
       "      <th>1</th>\n",
       "      <td>jeffrey jules</td>\n",
       "      <td>0</td>\n",
       "      <td>0</td>\n",
       "      <td>1</td>\n",
       "      <td>0</td>\n",
       "      <td>0</td>\n",
       "      <td>0</td>\n",
       "      <td>0</td>\n",
       "      <td>0</td>\n",
       "      <td>0</td>\n",
       "      <td>0</td>\n",
       "      <td>0</td>\n",
       "      <td>1</td>\n",
       "      <td>0</td>\n",
       "      <td>0</td>\n",
       "      <td>0</td>\n",
       "      <td>0</td>\n",
       "      <td>0</td>\n",
       "    </tr>\n",
       "    <tr>\n",
       "      <th>2</th>\n",
       "      <td>Sabina Pearson-Smith</td>\n",
       "      <td>0</td>\n",
       "      <td>0</td>\n",
       "      <td>1</td>\n",
       "      <td>0</td>\n",
       "      <td>0</td>\n",
       "      <td>0</td>\n",
       "      <td>0</td>\n",
       "      <td>0</td>\n",
       "      <td>0</td>\n",
       "      <td>0</td>\n",
       "      <td>0</td>\n",
       "      <td>1</td>\n",
       "      <td>0</td>\n",
       "      <td>0</td>\n",
       "      <td>0</td>\n",
       "      <td>0</td>\n",
       "      <td>0</td>\n",
       "    </tr>\n",
       "    <tr>\n",
       "      <th>3</th>\n",
       "      <td>Ysobel Schofield</td>\n",
       "      <td>0</td>\n",
       "      <td>0</td>\n",
       "      <td>1</td>\n",
       "      <td>0</td>\n",
       "      <td>0</td>\n",
       "      <td>0</td>\n",
       "      <td>0</td>\n",
       "      <td>0</td>\n",
       "      <td>0</td>\n",
       "      <td>0</td>\n",
       "      <td>0</td>\n",
       "      <td>1</td>\n",
       "      <td>0</td>\n",
       "      <td>0</td>\n",
       "      <td>0</td>\n",
       "      <td>0</td>\n",
       "      <td>0</td>\n",
       "    </tr>\n",
       "    <tr>\n",
       "      <th>4</th>\n",
       "      <td>ThirdDegr3e</td>\n",
       "      <td>1</td>\n",
       "      <td>CHECK OUT</td>\n",
       "      <td>1</td>\n",
       "      <td>0</td>\n",
       "      <td>0</td>\n",
       "      <td>0</td>\n",
       "      <td>0</td>\n",
       "      <td>0</td>\n",
       "      <td>0</td>\n",
       "      <td>0</td>\n",
       "      <td>0</td>\n",
       "      <td>1</td>\n",
       "      <td>0</td>\n",
       "      <td>0</td>\n",
       "      <td>0</td>\n",
       "      <td>0</td>\n",
       "      <td>0</td>\n",
       "    </tr>\n",
       "  </tbody>\n",
       "</table>\n",
       "</div>"
      ],
      "text/plain": [
       "                 AUTHOR  CLASS  spam_word  year_2013  year_2014  year_2015  \\\n",
       "0        Aishlin Maciel      0          0          1          0          0   \n",
       "1         jeffrey jules      0          0          1          0          0   \n",
       "2  Sabina Pearson-Smith      0          0          1          0          0   \n",
       "3      Ysobel Schofield      0          0          1          0          0   \n",
       "4           ThirdDegr3e      1  CHECK OUT          1          0          0   \n",
       "\n",
       "   mon_1  mon_2  mon_3  mon_4  mon_5  mon_6  mon_7  mon_8  mon_9  mon_10  \\\n",
       "0      0      0      0      0      0      0      1      0      0       0   \n",
       "1      0      0      0      0      0      0      1      0      0       0   \n",
       "2      0      0      0      0      0      0      1      0      0       0   \n",
       "3      0      0      0      0      0      0      1      0      0       0   \n",
       "4      0      0      0      0      0      0      1      0      0       0   \n",
       "\n",
       "   mon_11  mon_12  \n",
       "0       0       0  \n",
       "1       0       0  \n",
       "2       0       0  \n",
       "3       0       0  \n",
       "4       0       0  "
      ]
     },
     "execution_count": 43,
     "metadata": {},
     "output_type": "execute_result"
    }
   ],
   "source": [
    "df.head()"
   ]
  },
  {
   "cell_type": "code",
   "execution_count": 44,
   "metadata": {},
   "outputs": [
    {
     "name": "stdout",
     "output_type": "stream",
     "text": [
      "<class 'pandas.core.frame.DataFrame'>\n",
      "Int64Index: 1019 entries, 0 to 1018\n",
      "Data columns (total 18 columns):\n",
      "AUTHOR       1019 non-null category\n",
      "CLASS        1019 non-null int64\n",
      "spam_word    1019 non-null category\n",
      "year_2013    1019 non-null int32\n",
      "year_2014    1019 non-null int32\n",
      "year_2015    1019 non-null int32\n",
      "mon_1        1019 non-null int32\n",
      "mon_2        1019 non-null int32\n",
      "mon_3        1019 non-null int32\n",
      "mon_4        1019 non-null int32\n",
      "mon_5        1019 non-null int32\n",
      "mon_6        1019 non-null int32\n",
      "mon_7        1019 non-null int32\n",
      "mon_8        1019 non-null int32\n",
      "mon_9        1019 non-null int32\n",
      "mon_10       1019 non-null int32\n",
      "mon_11       1019 non-null int32\n",
      "mon_12       1019 non-null int32\n",
      "dtypes: category(2), int32(15), int64(1)\n",
      "memory usage: 129.2 KB\n"
     ]
    }
   ],
   "source": [
    "df.info()"
   ]
  },
  {
   "cell_type": "code",
   "execution_count": 45,
   "metadata": {},
   "outputs": [
    {
     "data": {
      "text/plain": [
       "(1019, 18)"
      ]
     },
     "execution_count": 45,
     "metadata": {},
     "output_type": "execute_result"
    }
   ],
   "source": [
    "df.shape"
   ]
  },
  {
   "cell_type": "code",
   "execution_count": 46,
   "metadata": {},
   "outputs": [],
   "source": [
    "df_label=df['CLASS']"
   ]
  },
  {
   "cell_type": "code",
   "execution_count": 47,
   "metadata": {},
   "outputs": [],
   "source": [
    "del df['CLASS']"
   ]
  },
  {
   "cell_type": "code",
   "execution_count": 48,
   "metadata": {},
   "outputs": [],
   "source": [
    "df=pd.get_dummies(df.iloc[:,0:],drop_first=True)"
   ]
  },
  {
   "cell_type": "code",
   "execution_count": 49,
   "metadata": {},
   "outputs": [
    {
     "data": {
      "text/plain": [
       "(1019, 1045)"
      ]
     },
     "execution_count": 49,
     "metadata": {},
     "output_type": "execute_result"
    }
   ],
   "source": [
    "df.shape"
   ]
  },
  {
   "cell_type": "code",
   "execution_count": 50,
   "metadata": {},
   "outputs": [
    {
     "data": {
      "text/html": [
       "<div>\n",
       "<style scoped>\n",
       "    .dataframe tbody tr th:only-of-type {\n",
       "        vertical-align: middle;\n",
       "    }\n",
       "\n",
       "    .dataframe tbody tr th {\n",
       "        vertical-align: top;\n",
       "    }\n",
       "\n",
       "    .dataframe thead th {\n",
       "        text-align: right;\n",
       "    }\n",
       "</style>\n",
       "<table border=\"1\" class=\"dataframe\">\n",
       "  <thead>\n",
       "    <tr style=\"text-align: right;\">\n",
       "      <th></th>\n",
       "      <th>year_2013</th>\n",
       "      <th>year_2014</th>\n",
       "      <th>year_2015</th>\n",
       "      <th>mon_1</th>\n",
       "      <th>mon_2</th>\n",
       "      <th>mon_3</th>\n",
       "      <th>mon_4</th>\n",
       "      <th>mon_5</th>\n",
       "      <th>mon_6</th>\n",
       "      <th>mon_7</th>\n",
       "      <th>...</th>\n",
       "      <th>spam_word_free</th>\n",
       "      <th>spam_word_https://</th>\n",
       "      <th>spam_word_instagram</th>\n",
       "      <th>spam_word_like this comment</th>\n",
       "      <th>spam_word_money</th>\n",
       "      <th>spam_word_please</th>\n",
       "      <th>spam_word_share</th>\n",
       "      <th>spam_word_sub</th>\n",
       "      <th>spam_word_support</th>\n",
       "      <th>spam_word_www</th>\n",
       "    </tr>\n",
       "  </thead>\n",
       "  <tbody>\n",
       "    <tr>\n",
       "      <th>20</th>\n",
       "      <td>1</td>\n",
       "      <td>0</td>\n",
       "      <td>0</td>\n",
       "      <td>0</td>\n",
       "      <td>0</td>\n",
       "      <td>0</td>\n",
       "      <td>0</td>\n",
       "      <td>0</td>\n",
       "      <td>0</td>\n",
       "      <td>1</td>\n",
       "      <td>...</td>\n",
       "      <td>0</td>\n",
       "      <td>0</td>\n",
       "      <td>0</td>\n",
       "      <td>0</td>\n",
       "      <td>1</td>\n",
       "      <td>0</td>\n",
       "      <td>0</td>\n",
       "      <td>0</td>\n",
       "      <td>0</td>\n",
       "      <td>0</td>\n",
       "    </tr>\n",
       "    <tr>\n",
       "      <th>21</th>\n",
       "      <td>1</td>\n",
       "      <td>0</td>\n",
       "      <td>0</td>\n",
       "      <td>0</td>\n",
       "      <td>0</td>\n",
       "      <td>0</td>\n",
       "      <td>0</td>\n",
       "      <td>0</td>\n",
       "      <td>0</td>\n",
       "      <td>1</td>\n",
       "      <td>...</td>\n",
       "      <td>0</td>\n",
       "      <td>0</td>\n",
       "      <td>0</td>\n",
       "      <td>0</td>\n",
       "      <td>1</td>\n",
       "      <td>0</td>\n",
       "      <td>0</td>\n",
       "      <td>0</td>\n",
       "      <td>0</td>\n",
       "      <td>0</td>\n",
       "    </tr>\n",
       "    <tr>\n",
       "      <th>24</th>\n",
       "      <td>1</td>\n",
       "      <td>0</td>\n",
       "      <td>0</td>\n",
       "      <td>0</td>\n",
       "      <td>0</td>\n",
       "      <td>0</td>\n",
       "      <td>0</td>\n",
       "      <td>0</td>\n",
       "      <td>0</td>\n",
       "      <td>0</td>\n",
       "      <td>...</td>\n",
       "      <td>0</td>\n",
       "      <td>0</td>\n",
       "      <td>0</td>\n",
       "      <td>0</td>\n",
       "      <td>1</td>\n",
       "      <td>0</td>\n",
       "      <td>0</td>\n",
       "      <td>0</td>\n",
       "      <td>0</td>\n",
       "      <td>0</td>\n",
       "    </tr>\n",
       "    <tr>\n",
       "      <th>25</th>\n",
       "      <td>1</td>\n",
       "      <td>0</td>\n",
       "      <td>0</td>\n",
       "      <td>0</td>\n",
       "      <td>0</td>\n",
       "      <td>0</td>\n",
       "      <td>0</td>\n",
       "      <td>0</td>\n",
       "      <td>0</td>\n",
       "      <td>0</td>\n",
       "      <td>...</td>\n",
       "      <td>0</td>\n",
       "      <td>0</td>\n",
       "      <td>0</td>\n",
       "      <td>0</td>\n",
       "      <td>1</td>\n",
       "      <td>0</td>\n",
       "      <td>0</td>\n",
       "      <td>0</td>\n",
       "      <td>0</td>\n",
       "      <td>0</td>\n",
       "    </tr>\n",
       "    <tr>\n",
       "      <th>26</th>\n",
       "      <td>1</td>\n",
       "      <td>0</td>\n",
       "      <td>0</td>\n",
       "      <td>0</td>\n",
       "      <td>0</td>\n",
       "      <td>0</td>\n",
       "      <td>0</td>\n",
       "      <td>0</td>\n",
       "      <td>0</td>\n",
       "      <td>0</td>\n",
       "      <td>...</td>\n",
       "      <td>0</td>\n",
       "      <td>0</td>\n",
       "      <td>0</td>\n",
       "      <td>0</td>\n",
       "      <td>1</td>\n",
       "      <td>0</td>\n",
       "      <td>0</td>\n",
       "      <td>0</td>\n",
       "      <td>0</td>\n",
       "      <td>0</td>\n",
       "    </tr>\n",
       "    <tr>\n",
       "      <th>27</th>\n",
       "      <td>1</td>\n",
       "      <td>0</td>\n",
       "      <td>0</td>\n",
       "      <td>0</td>\n",
       "      <td>0</td>\n",
       "      <td>0</td>\n",
       "      <td>0</td>\n",
       "      <td>0</td>\n",
       "      <td>0</td>\n",
       "      <td>0</td>\n",
       "      <td>...</td>\n",
       "      <td>0</td>\n",
       "      <td>0</td>\n",
       "      <td>0</td>\n",
       "      <td>0</td>\n",
       "      <td>1</td>\n",
       "      <td>0</td>\n",
       "      <td>0</td>\n",
       "      <td>0</td>\n",
       "      <td>0</td>\n",
       "      <td>0</td>\n",
       "    </tr>\n",
       "    <tr>\n",
       "      <th>35</th>\n",
       "      <td>1</td>\n",
       "      <td>0</td>\n",
       "      <td>0</td>\n",
       "      <td>0</td>\n",
       "      <td>0</td>\n",
       "      <td>0</td>\n",
       "      <td>0</td>\n",
       "      <td>0</td>\n",
       "      <td>0</td>\n",
       "      <td>0</td>\n",
       "      <td>...</td>\n",
       "      <td>0</td>\n",
       "      <td>0</td>\n",
       "      <td>0</td>\n",
       "      <td>0</td>\n",
       "      <td>1</td>\n",
       "      <td>0</td>\n",
       "      <td>0</td>\n",
       "      <td>0</td>\n",
       "      <td>0</td>\n",
       "      <td>0</td>\n",
       "    </tr>\n",
       "    <tr>\n",
       "      <th>37</th>\n",
       "      <td>1</td>\n",
       "      <td>0</td>\n",
       "      <td>0</td>\n",
       "      <td>0</td>\n",
       "      <td>0</td>\n",
       "      <td>0</td>\n",
       "      <td>0</td>\n",
       "      <td>0</td>\n",
       "      <td>0</td>\n",
       "      <td>0</td>\n",
       "      <td>...</td>\n",
       "      <td>0</td>\n",
       "      <td>0</td>\n",
       "      <td>0</td>\n",
       "      <td>0</td>\n",
       "      <td>1</td>\n",
       "      <td>0</td>\n",
       "      <td>0</td>\n",
       "      <td>0</td>\n",
       "      <td>0</td>\n",
       "      <td>0</td>\n",
       "    </tr>\n",
       "    <tr>\n",
       "      <th>38</th>\n",
       "      <td>1</td>\n",
       "      <td>0</td>\n",
       "      <td>0</td>\n",
       "      <td>0</td>\n",
       "      <td>0</td>\n",
       "      <td>0</td>\n",
       "      <td>0</td>\n",
       "      <td>0</td>\n",
       "      <td>0</td>\n",
       "      <td>0</td>\n",
       "      <td>...</td>\n",
       "      <td>0</td>\n",
       "      <td>0</td>\n",
       "      <td>0</td>\n",
       "      <td>0</td>\n",
       "      <td>1</td>\n",
       "      <td>0</td>\n",
       "      <td>0</td>\n",
       "      <td>0</td>\n",
       "      <td>0</td>\n",
       "      <td>0</td>\n",
       "    </tr>\n",
       "    <tr>\n",
       "      <th>46</th>\n",
       "      <td>1</td>\n",
       "      <td>0</td>\n",
       "      <td>0</td>\n",
       "      <td>0</td>\n",
       "      <td>0</td>\n",
       "      <td>0</td>\n",
       "      <td>0</td>\n",
       "      <td>0</td>\n",
       "      <td>0</td>\n",
       "      <td>0</td>\n",
       "      <td>...</td>\n",
       "      <td>0</td>\n",
       "      <td>0</td>\n",
       "      <td>0</td>\n",
       "      <td>0</td>\n",
       "      <td>1</td>\n",
       "      <td>0</td>\n",
       "      <td>0</td>\n",
       "      <td>0</td>\n",
       "      <td>0</td>\n",
       "      <td>0</td>\n",
       "    </tr>\n",
       "    <tr>\n",
       "      <th>47</th>\n",
       "      <td>1</td>\n",
       "      <td>0</td>\n",
       "      <td>0</td>\n",
       "      <td>0</td>\n",
       "      <td>0</td>\n",
       "      <td>0</td>\n",
       "      <td>0</td>\n",
       "      <td>0</td>\n",
       "      <td>0</td>\n",
       "      <td>0</td>\n",
       "      <td>...</td>\n",
       "      <td>0</td>\n",
       "      <td>0</td>\n",
       "      <td>0</td>\n",
       "      <td>0</td>\n",
       "      <td>1</td>\n",
       "      <td>0</td>\n",
       "      <td>0</td>\n",
       "      <td>0</td>\n",
       "      <td>0</td>\n",
       "      <td>0</td>\n",
       "    </tr>\n",
       "    <tr>\n",
       "      <th>52</th>\n",
       "      <td>1</td>\n",
       "      <td>0</td>\n",
       "      <td>0</td>\n",
       "      <td>0</td>\n",
       "      <td>0</td>\n",
       "      <td>0</td>\n",
       "      <td>0</td>\n",
       "      <td>0</td>\n",
       "      <td>0</td>\n",
       "      <td>0</td>\n",
       "      <td>...</td>\n",
       "      <td>0</td>\n",
       "      <td>0</td>\n",
       "      <td>0</td>\n",
       "      <td>0</td>\n",
       "      <td>1</td>\n",
       "      <td>0</td>\n",
       "      <td>0</td>\n",
       "      <td>0</td>\n",
       "      <td>0</td>\n",
       "      <td>0</td>\n",
       "    </tr>\n",
       "    <tr>\n",
       "      <th>71</th>\n",
       "      <td>1</td>\n",
       "      <td>0</td>\n",
       "      <td>0</td>\n",
       "      <td>0</td>\n",
       "      <td>0</td>\n",
       "      <td>0</td>\n",
       "      <td>0</td>\n",
       "      <td>0</td>\n",
       "      <td>0</td>\n",
       "      <td>0</td>\n",
       "      <td>...</td>\n",
       "      <td>0</td>\n",
       "      <td>0</td>\n",
       "      <td>0</td>\n",
       "      <td>0</td>\n",
       "      <td>1</td>\n",
       "      <td>0</td>\n",
       "      <td>0</td>\n",
       "      <td>0</td>\n",
       "      <td>0</td>\n",
       "      <td>0</td>\n",
       "    </tr>\n",
       "    <tr>\n",
       "      <th>102</th>\n",
       "      <td>1</td>\n",
       "      <td>0</td>\n",
       "      <td>0</td>\n",
       "      <td>0</td>\n",
       "      <td>0</td>\n",
       "      <td>0</td>\n",
       "      <td>0</td>\n",
       "      <td>0</td>\n",
       "      <td>0</td>\n",
       "      <td>0</td>\n",
       "      <td>...</td>\n",
       "      <td>0</td>\n",
       "      <td>0</td>\n",
       "      <td>0</td>\n",
       "      <td>0</td>\n",
       "      <td>1</td>\n",
       "      <td>0</td>\n",
       "      <td>0</td>\n",
       "      <td>0</td>\n",
       "      <td>0</td>\n",
       "      <td>0</td>\n",
       "    </tr>\n",
       "    <tr>\n",
       "      <th>112</th>\n",
       "      <td>1</td>\n",
       "      <td>0</td>\n",
       "      <td>0</td>\n",
       "      <td>0</td>\n",
       "      <td>0</td>\n",
       "      <td>0</td>\n",
       "      <td>0</td>\n",
       "      <td>0</td>\n",
       "      <td>0</td>\n",
       "      <td>0</td>\n",
       "      <td>...</td>\n",
       "      <td>0</td>\n",
       "      <td>0</td>\n",
       "      <td>0</td>\n",
       "      <td>0</td>\n",
       "      <td>1</td>\n",
       "      <td>0</td>\n",
       "      <td>0</td>\n",
       "      <td>0</td>\n",
       "      <td>0</td>\n",
       "      <td>0</td>\n",
       "    </tr>\n",
       "    <tr>\n",
       "      <th>381</th>\n",
       "      <td>0</td>\n",
       "      <td>1</td>\n",
       "      <td>0</td>\n",
       "      <td>0</td>\n",
       "      <td>0</td>\n",
       "      <td>0</td>\n",
       "      <td>0</td>\n",
       "      <td>0</td>\n",
       "      <td>0</td>\n",
       "      <td>0</td>\n",
       "      <td>...</td>\n",
       "      <td>0</td>\n",
       "      <td>0</td>\n",
       "      <td>0</td>\n",
       "      <td>0</td>\n",
       "      <td>1</td>\n",
       "      <td>0</td>\n",
       "      <td>0</td>\n",
       "      <td>0</td>\n",
       "      <td>0</td>\n",
       "      <td>0</td>\n",
       "    </tr>\n",
       "    <tr>\n",
       "      <th>394</th>\n",
       "      <td>0</td>\n",
       "      <td>1</td>\n",
       "      <td>0</td>\n",
       "      <td>0</td>\n",
       "      <td>0</td>\n",
       "      <td>0</td>\n",
       "      <td>0</td>\n",
       "      <td>0</td>\n",
       "      <td>0</td>\n",
       "      <td>0</td>\n",
       "      <td>...</td>\n",
       "      <td>0</td>\n",
       "      <td>0</td>\n",
       "      <td>0</td>\n",
       "      <td>0</td>\n",
       "      <td>1</td>\n",
       "      <td>0</td>\n",
       "      <td>0</td>\n",
       "      <td>0</td>\n",
       "      <td>0</td>\n",
       "      <td>0</td>\n",
       "    </tr>\n",
       "    <tr>\n",
       "      <th>505</th>\n",
       "      <td>0</td>\n",
       "      <td>1</td>\n",
       "      <td>0</td>\n",
       "      <td>0</td>\n",
       "      <td>0</td>\n",
       "      <td>0</td>\n",
       "      <td>0</td>\n",
       "      <td>0</td>\n",
       "      <td>0</td>\n",
       "      <td>0</td>\n",
       "      <td>...</td>\n",
       "      <td>0</td>\n",
       "      <td>0</td>\n",
       "      <td>0</td>\n",
       "      <td>0</td>\n",
       "      <td>1</td>\n",
       "      <td>0</td>\n",
       "      <td>0</td>\n",
       "      <td>0</td>\n",
       "      <td>0</td>\n",
       "      <td>0</td>\n",
       "    </tr>\n",
       "    <tr>\n",
       "      <th>517</th>\n",
       "      <td>0</td>\n",
       "      <td>1</td>\n",
       "      <td>0</td>\n",
       "      <td>0</td>\n",
       "      <td>0</td>\n",
       "      <td>0</td>\n",
       "      <td>0</td>\n",
       "      <td>0</td>\n",
       "      <td>0</td>\n",
       "      <td>0</td>\n",
       "      <td>...</td>\n",
       "      <td>0</td>\n",
       "      <td>0</td>\n",
       "      <td>0</td>\n",
       "      <td>0</td>\n",
       "      <td>1</td>\n",
       "      <td>0</td>\n",
       "      <td>0</td>\n",
       "      <td>0</td>\n",
       "      <td>0</td>\n",
       "      <td>0</td>\n",
       "    </tr>\n",
       "    <tr>\n",
       "      <th>605</th>\n",
       "      <td>0</td>\n",
       "      <td>0</td>\n",
       "      <td>1</td>\n",
       "      <td>0</td>\n",
       "      <td>1</td>\n",
       "      <td>0</td>\n",
       "      <td>0</td>\n",
       "      <td>0</td>\n",
       "      <td>0</td>\n",
       "      <td>0</td>\n",
       "      <td>...</td>\n",
       "      <td>0</td>\n",
       "      <td>0</td>\n",
       "      <td>0</td>\n",
       "      <td>0</td>\n",
       "      <td>1</td>\n",
       "      <td>0</td>\n",
       "      <td>0</td>\n",
       "      <td>0</td>\n",
       "      <td>0</td>\n",
       "      <td>0</td>\n",
       "    </tr>\n",
       "    <tr>\n",
       "      <th>654</th>\n",
       "      <td>0</td>\n",
       "      <td>0</td>\n",
       "      <td>1</td>\n",
       "      <td>0</td>\n",
       "      <td>0</td>\n",
       "      <td>0</td>\n",
       "      <td>1</td>\n",
       "      <td>0</td>\n",
       "      <td>0</td>\n",
       "      <td>0</td>\n",
       "      <td>...</td>\n",
       "      <td>0</td>\n",
       "      <td>0</td>\n",
       "      <td>0</td>\n",
       "      <td>0</td>\n",
       "      <td>1</td>\n",
       "      <td>0</td>\n",
       "      <td>0</td>\n",
       "      <td>0</td>\n",
       "      <td>0</td>\n",
       "      <td>0</td>\n",
       "    </tr>\n",
       "    <tr>\n",
       "      <th>659</th>\n",
       "      <td>0</td>\n",
       "      <td>0</td>\n",
       "      <td>1</td>\n",
       "      <td>0</td>\n",
       "      <td>0</td>\n",
       "      <td>0</td>\n",
       "      <td>1</td>\n",
       "      <td>0</td>\n",
       "      <td>0</td>\n",
       "      <td>0</td>\n",
       "      <td>...</td>\n",
       "      <td>0</td>\n",
       "      <td>0</td>\n",
       "      <td>0</td>\n",
       "      <td>0</td>\n",
       "      <td>1</td>\n",
       "      <td>0</td>\n",
       "      <td>0</td>\n",
       "      <td>0</td>\n",
       "      <td>0</td>\n",
       "      <td>0</td>\n",
       "    </tr>\n",
       "    <tr>\n",
       "      <th>994</th>\n",
       "      <td>0</td>\n",
       "      <td>0</td>\n",
       "      <td>1</td>\n",
       "      <td>0</td>\n",
       "      <td>0</td>\n",
       "      <td>0</td>\n",
       "      <td>0</td>\n",
       "      <td>1</td>\n",
       "      <td>0</td>\n",
       "      <td>0</td>\n",
       "      <td>...</td>\n",
       "      <td>0</td>\n",
       "      <td>0</td>\n",
       "      <td>0</td>\n",
       "      <td>0</td>\n",
       "      <td>1</td>\n",
       "      <td>0</td>\n",
       "      <td>0</td>\n",
       "      <td>0</td>\n",
       "      <td>0</td>\n",
       "      <td>0</td>\n",
       "    </tr>\n",
       "  </tbody>\n",
       "</table>\n",
       "<p>23 rows × 1045 columns</p>\n",
       "</div>"
      ],
      "text/plain": [
       "     year_2013  year_2014  year_2015  mon_1  mon_2  mon_3  mon_4  mon_5  \\\n",
       "20           1          0          0      0      0      0      0      0   \n",
       "21           1          0          0      0      0      0      0      0   \n",
       "24           1          0          0      0      0      0      0      0   \n",
       "25           1          0          0      0      0      0      0      0   \n",
       "26           1          0          0      0      0      0      0      0   \n",
       "27           1          0          0      0      0      0      0      0   \n",
       "35           1          0          0      0      0      0      0      0   \n",
       "37           1          0          0      0      0      0      0      0   \n",
       "38           1          0          0      0      0      0      0      0   \n",
       "46           1          0          0      0      0      0      0      0   \n",
       "47           1          0          0      0      0      0      0      0   \n",
       "52           1          0          0      0      0      0      0      0   \n",
       "71           1          0          0      0      0      0      0      0   \n",
       "102          1          0          0      0      0      0      0      0   \n",
       "112          1          0          0      0      0      0      0      0   \n",
       "381          0          1          0      0      0      0      0      0   \n",
       "394          0          1          0      0      0      0      0      0   \n",
       "505          0          1          0      0      0      0      0      0   \n",
       "517          0          1          0      0      0      0      0      0   \n",
       "605          0          0          1      0      1      0      0      0   \n",
       "654          0          0          1      0      0      0      1      0   \n",
       "659          0          0          1      0      0      0      1      0   \n",
       "994          0          0          1      0      0      0      0      1   \n",
       "\n",
       "     mon_6  mon_7      ...        spam_word_free  spam_word_https://  \\\n",
       "20       0      1      ...                     0                   0   \n",
       "21       0      1      ...                     0                   0   \n",
       "24       0      0      ...                     0                   0   \n",
       "25       0      0      ...                     0                   0   \n",
       "26       0      0      ...                     0                   0   \n",
       "27       0      0      ...                     0                   0   \n",
       "35       0      0      ...                     0                   0   \n",
       "37       0      0      ...                     0                   0   \n",
       "38       0      0      ...                     0                   0   \n",
       "46       0      0      ...                     0                   0   \n",
       "47       0      0      ...                     0                   0   \n",
       "52       0      0      ...                     0                   0   \n",
       "71       0      0      ...                     0                   0   \n",
       "102      0      0      ...                     0                   0   \n",
       "112      0      0      ...                     0                   0   \n",
       "381      0      0      ...                     0                   0   \n",
       "394      0      0      ...                     0                   0   \n",
       "505      0      0      ...                     0                   0   \n",
       "517      0      0      ...                     0                   0   \n",
       "605      0      0      ...                     0                   0   \n",
       "654      0      0      ...                     0                   0   \n",
       "659      0      0      ...                     0                   0   \n",
       "994      0      0      ...                     0                   0   \n",
       "\n",
       "     spam_word_instagram  spam_word_like this comment  spam_word_money  \\\n",
       "20                     0                            0                1   \n",
       "21                     0                            0                1   \n",
       "24                     0                            0                1   \n",
       "25                     0                            0                1   \n",
       "26                     0                            0                1   \n",
       "27                     0                            0                1   \n",
       "35                     0                            0                1   \n",
       "37                     0                            0                1   \n",
       "38                     0                            0                1   \n",
       "46                     0                            0                1   \n",
       "47                     0                            0                1   \n",
       "52                     0                            0                1   \n",
       "71                     0                            0                1   \n",
       "102                    0                            0                1   \n",
       "112                    0                            0                1   \n",
       "381                    0                            0                1   \n",
       "394                    0                            0                1   \n",
       "505                    0                            0                1   \n",
       "517                    0                            0                1   \n",
       "605                    0                            0                1   \n",
       "654                    0                            0                1   \n",
       "659                    0                            0                1   \n",
       "994                    0                            0                1   \n",
       "\n",
       "     spam_word_please  spam_word_share  spam_word_sub  spam_word_support  \\\n",
       "20                  0                0              0                  0   \n",
       "21                  0                0              0                  0   \n",
       "24                  0                0              0                  0   \n",
       "25                  0                0              0                  0   \n",
       "26                  0                0              0                  0   \n",
       "27                  0                0              0                  0   \n",
       "35                  0                0              0                  0   \n",
       "37                  0                0              0                  0   \n",
       "38                  0                0              0                  0   \n",
       "46                  0                0              0                  0   \n",
       "47                  0                0              0                  0   \n",
       "52                  0                0              0                  0   \n",
       "71                  0                0              0                  0   \n",
       "102                 0                0              0                  0   \n",
       "112                 0                0              0                  0   \n",
       "381                 0                0              0                  0   \n",
       "394                 0                0              0                  0   \n",
       "505                 0                0              0                  0   \n",
       "517                 0                0              0                  0   \n",
       "605                 0                0              0                  0   \n",
       "654                 0                0              0                  0   \n",
       "659                 0                0              0                  0   \n",
       "994                 0                0              0                  0   \n",
       "\n",
       "     spam_word_www  \n",
       "20               0  \n",
       "21               0  \n",
       "24               0  \n",
       "25               0  \n",
       "26               0  \n",
       "27               0  \n",
       "35               0  \n",
       "37               0  \n",
       "38               0  \n",
       "46               0  \n",
       "47               0  \n",
       "52               0  \n",
       "71               0  \n",
       "102              0  \n",
       "112              0  \n",
       "381              0  \n",
       "394              0  \n",
       "505              0  \n",
       "517              0  \n",
       "605              0  \n",
       "654              0  \n",
       "659              0  \n",
       "994              0  \n",
       "\n",
       "[23 rows x 1045 columns]"
      ]
     },
     "execution_count": 50,
     "metadata": {},
     "output_type": "execute_result"
    }
   ],
   "source": [
    "df[df.spam_word_money==1]"
   ]
  },
  {
   "cell_type": "code",
   "execution_count": null,
   "metadata": {},
   "outputs": [],
   "source": []
  },
  {
   "cell_type": "code",
   "execution_count": 168,
   "metadata": {},
   "outputs": [],
   "source": [
    "from sklearn.decomposition import PCA"
   ]
  },
  {
   "cell_type": "code",
   "execution_count": 169,
   "metadata": {},
   "outputs": [],
   "source": [
    "pca= PCA(n_components=200)"
   ]
  },
  {
   "cell_type": "code",
   "execution_count": 170,
   "metadata": {},
   "outputs": [
    {
     "data": {
      "text/plain": [
       "array([[-0.16094598,  1.02983798,  0.56534331, ...,  0.08837922,\n",
       "         0.04205897, -0.02556277],\n",
       "       [-0.16094598,  1.02983798,  0.56534331, ...,  0.0091614 ,\n",
       "        -0.036419  , -0.06858588],\n",
       "       [-0.16094598,  1.02983798,  0.56534331, ..., -0.0405466 ,\n",
       "        -0.00980696,  0.02140691],\n",
       "       ...,\n",
       "       [ 0.49130946,  0.10292454,  0.0165917 , ..., -0.01740335,\n",
       "         0.02793255, -0.05085542],\n",
       "       [ 0.48514791,  0.11146188,  0.00948709, ...,  0.01656554,\n",
       "        -0.03366934,  0.04302956],\n",
       "       [ 0.49130946,  0.10292454,  0.0165917 , ...,  0.03527947,\n",
       "        -0.0377862 ,  0.01280371]])"
      ]
     },
     "execution_count": 170,
     "metadata": {},
     "output_type": "execute_result"
    }
   ],
   "source": [
    "pca.fit_transform(df)"
   ]
  },
  {
   "cell_type": "code",
   "execution_count": 171,
   "metadata": {},
   "outputs": [
    {
     "data": {
      "text/plain": [
       "0.7271898028428304"
      ]
     },
     "execution_count": 171,
     "metadata": {},
     "output_type": "execute_result"
    }
   ],
   "source": [
    "sum(pca.explained_variance_ratio_)"
   ]
  },
  {
   "cell_type": "code",
   "execution_count": 172,
   "metadata": {},
   "outputs": [
    {
     "data": {
      "text/plain": [
       "<seaborn.axisgrid.FacetGrid at 0x26a61195710>"
      ]
     },
     "execution_count": 172,
     "metadata": {},
     "output_type": "execute_result"
    },
    {
     "data": {
      "image/png": "[encoded data removed]",
      "text/plain": [
       "<Figure size 402.375x360 with 1 Axes>"
      ]
     },
     "metadata": {
      "needs_background": "light"
     },
     "output_type": "display_data"
    }
   ],
   "source": [
    "pca_df=pd.DataFrame(pca.fit_transform(df),index=df.index)\n",
    "pca_df=pca_df.iloc[:,0:2]\n",
    "pca_df=pd.concat([pca_df,df_label],axis=1)\n",
    "pca_df.columns=['first','second','label']\n",
    "sns.lmplot(x='first',y='second', hue='label',data=pca_df, fit_reg=False)"
   ]
  },
  {
   "cell_type": "code",
   "execution_count": null,
   "metadata": {},
   "outputs": [],
   "source": []
  },
  {
   "cell_type": "markdown",
   "metadata": {},
   "source": [
    "## SINCE author different therefore"
   ]
  },
  {
   "cell_type": "code",
   "execution_count": 173,
   "metadata": {},
   "outputs": [],
   "source": [
    "data_label= df_label"
   ]
  },
  {
   "cell_type": "markdown",
   "metadata": {},
   "source": [
    "## Part3: Predictive Modeling"
   ]
  },
  {
   "cell_type": "markdown",
   "metadata": {},
   "source": [
    "### Splittting data into test and train set"
   ]
  },
  {
   "cell_type": "code",
   "execution_count": 174,
   "metadata": {},
   "outputs": [],
   "source": [
    "from sklearn.model_selection import train_test_split\n",
    "Xtrain,Xtest,Ytrain,Ytest = train_test_split(df, data_label, test_size=0.30,\n",
    "                                             stratify=data_label,random_state=43535)"
   ]
  },
  {
   "cell_type": "markdown",
   "metadata": {},
   "source": [
    "### Importing ML libraries"
   ]
  },
  {
   "cell_type": "code",
   "execution_count": 175,
   "metadata": {},
   "outputs": [],
   "source": [
    "from sklearn.linear_model import SGDClassifier\n",
    "from sklearn.linear_model import LogisticRegression\n",
    "from sklearn.neighbors import KNeighborsClassifier\n",
    "from sklearn.tree import DecisionTreeClassifier\n",
    "from sklearn.svm import SVC\n",
    "from sklearn.ensemble import RandomForestClassifier\n",
    "from sklearn.ensemble import ExtraTreesClassifier\n",
    "from sklearn.ensemble import BaggingClassifier\n",
    "from sklearn.ensemble import AdaBoostClassifier\n",
    "from sklearn.ensemble import GradientBoostingClassifier"
   ]
  },
  {
   "cell_type": "markdown",
   "metadata": {},
   "source": [
    "### Evalutation metrics to check model performance"
   ]
  },
  {
   "cell_type": "code",
   "execution_count": 176,
   "metadata": {},
   "outputs": [],
   "source": [
    "from sklearn.metrics import confusion_matrix\n",
    "from sklearn.metrics import precision_recall_curve\n",
    "from sklearn.metrics import average_precision_score\n",
    "from sklearn.metrics import roc_curve\n",
    "from sklearn.metrics import auc\n",
    "from sklearn.model_selection import cross_val_score\n",
    "from sklearn.metrics import f1_score"
   ]
  },
  {
   "cell_type": "markdown",
   "metadata": {},
   "source": [
    "### Cross validation helper function"
   ]
  },
  {
   "cell_type": "code",
   "execution_count": 177,
   "metadata": {},
   "outputs": [],
   "source": [
    "def CrossVal(dataX,dataY,mode,cv=10):\n",
    "    score=cross_val_score(mode,dataX , dataY, cv=cv, scoring='accuracy')\n",
    "    return(np.mean(score))"
   ]
  },
  {
   "cell_type": "markdown",
   "metadata": {},
   "source": [
    "### Function to plot ROC and Precision Recall Curve "
   ]
  },
  {
   "cell_type": "code",
   "execution_count": 178,
   "metadata": {},
   "outputs": [],
   "source": [
    "def plotting(true,pred):\n",
    "    fig,ax=plt.subplots(1,2,figsize=(10,5))\n",
    "    precision,recall,threshold = precision_recall_curve(true,pred[:,1])\n",
    "    ax[0].plot(recall,precision,'g--')\n",
    "    ax[0].set_xlabel('Recall')\n",
    "    ax[0].set_ylabel('Precision')\n",
    "    ax[0].set_title(\"Average Precision Score : {}\".format(average_precision_score(true,pred[:,1])))\n",
    "    fpr,tpr,threshold = roc_curve(true,pred[:,1])\n",
    "    ax[1].plot(fpr,tpr)\n",
    "    ax[1].set_title(\"AUC Score is: {}\".format(auc(fpr,tpr)))\n",
    "    ax[1].plot([0,1],[0,1],'k--')\n",
    "    ax[1].set_xlabel('False Positive Rate')\n",
    "    ax[1].set_ylabel('True Positive Rate')"
   ]
  },
  {
   "cell_type": "code",
   "execution_count": null,
   "metadata": {},
   "outputs": [],
   "source": []
  },
  {
   "cell_type": "code",
   "execution_count": 179,
   "metadata": {},
   "outputs": [
    {
     "name": "stdout",
     "output_type": "stream",
     "text": [
      "Accuracy is :  0.9200117370892018\n"
     ]
    },
    {
     "data": {
      "text/plain": [
       "Text(0.5,1,'F1 Score = 0.9307692307692307')"
      ]
     },
     "execution_count": 179,
     "metadata": {},
     "output_type": "execute_result"
    },
    {
     "data": {
      "image/png": "[encoded data removed]",
      "text/plain": [
       "<Figure size 720x360 with 2 Axes>"
      ]
     },
     "metadata": {
      "needs_background": "light"
     },
     "output_type": "display_data"
    },
    {
     "data": {
      "image/png": "[encoded data removed]",
      "text/plain": [
       "<Figure size 432x288 with 2 Axes>"
      ]
     },
     "metadata": {
      "needs_background": "light"
     },
     "output_type": "display_data"
    }
   ],
   "source": [
    "sgd=SGDClassifier(tol=0.00001, random_state=439508,loss='log')\n",
    "score_sgd=CrossVal(Xtrain,Ytrain,sgd)\n",
    "print(\"Accuracy is : \",score_sgd)\n",
    "sgd.fit(Xtrain,Ytrain)\n",
    "plotting(Ytest,sgd.predict_proba(Xtest))\n",
    "\n",
    "fig=plt.figure()\n",
    "sns.heatmap(confusion_matrix(Ytest,sgd.predict(Xtest)), annot= True, cmap='Oranges')\n",
    "sgd_f1=f1_score(Ytest,sgd.predict(Xtest))\n",
    "plt.title('F1 Score = {}'.format(sgd_f1))"
   ]
  },
  {
   "cell_type": "code",
   "execution_count": null,
   "metadata": {},
   "outputs": [],
   "source": []
  },
  {
   "cell_type": "code",
   "execution_count": 42,
   "metadata": {},
   "outputs": [
    {
     "name": "stdout",
     "output_type": "stream",
     "text": [
      "Accuracy is :  0.8107589984350547\n"
     ]
    },
    {
     "data": {
      "text/plain": [
       "Text(0.5,1,'F1 Score = 0.7557603686635944')"
      ]
     },
     "execution_count": 42,
     "metadata": {},
     "output_type": "execute_result"
    },
    {
     "data": {
      "image/png": "[encoded data removed]",
      "text/plain": [
       "<Figure size 720x360 with 2 Axes>"
      ]
     },
     "metadata": {
      "needs_background": "light"
     },
     "output_type": "display_data"
    },
    {
     "data": {
      "image/png": "[encoded data removed]",
      "text/plain": [
       "<Figure size 432x288 with 2 Axes>"
      ]
     },
     "metadata": {
      "needs_background": "light"
     },
     "output_type": "display_data"
    }
   ],
   "source": [
    "k=KNeighborsClassifier(algorithm='auto', n_neighbors= 3)\n",
    "score_k=CrossVal(Xtrain,Ytrain,k)\n",
    "print(\"Accuracy is : \",score_k)\n",
    "k.fit(Xtrain,Ytrain)\n",
    "plotting(Ytest,k.predict_proba(Xtest))\n",
    "\n",
    "\n",
    "fig=plt.figure()\n",
    "sns.heatmap(confusion_matrix(Ytest,k.predict(Xtest)), annot= True, cmap='Reds')\n",
    "k_f1=f1_score(Ytest,k.predict(Xtest))\n",
    "plt.title('F1 Score = {}'.format(k_f1))"
   ]
  },
  {
   "cell_type": "code",
   "execution_count": null,
   "metadata": {},
   "outputs": [],
   "source": []
  },
  {
   "cell_type": "code",
   "execution_count": 43,
   "metadata": {},
   "outputs": [
    {
     "name": "stderr",
     "output_type": "stream",
     "text": [
      "C:\\Users\\Rishi\\Anaconda3\\lib\\site-packages\\sklearn\\linear_model\\logistic.py:433: FutureWarning: Default solver will be changed to 'lbfgs' in 0.22. Specify a solver to silence this warning.\n",
      "  FutureWarning)\n",
      "C:\\Users\\Rishi\\Anaconda3\\lib\\site-packages\\sklearn\\linear_model\\logistic.py:433: FutureWarning: Default solver will be changed to 'lbfgs' in 0.22. Specify a solver to silence this warning.\n",
      "  FutureWarning)\n",
      "C:\\Users\\Rishi\\Anaconda3\\lib\\site-packages\\sklearn\\linear_model\\logistic.py:433: FutureWarning: Default solver will be changed to 'lbfgs' in 0.22. Specify a solver to silence this warning.\n",
      "  FutureWarning)\n",
      "C:\\Users\\Rishi\\Anaconda3\\lib\\site-packages\\sklearn\\linear_model\\logistic.py:433: FutureWarning: Default solver will be changed to 'lbfgs' in 0.22. Specify a solver to silence this warning.\n",
      "  FutureWarning)\n",
      "C:\\Users\\Rishi\\Anaconda3\\lib\\site-packages\\sklearn\\linear_model\\logistic.py:433: FutureWarning: Default solver will be changed to 'lbfgs' in 0.22. Specify a solver to silence this warning.\n",
      "  FutureWarning)\n",
      "C:\\Users\\Rishi\\Anaconda3\\lib\\site-packages\\sklearn\\linear_model\\logistic.py:433: FutureWarning: Default solver will be changed to 'lbfgs' in 0.22. Specify a solver to silence this warning.\n",
      "  FutureWarning)\n",
      "C:\\Users\\Rishi\\Anaconda3\\lib\\site-packages\\sklearn\\linear_model\\logistic.py:433: FutureWarning: Default solver will be changed to 'lbfgs' in 0.22. Specify a solver to silence this warning.\n",
      "  FutureWarning)\n",
      "C:\\Users\\Rishi\\Anaconda3\\lib\\site-packages\\sklearn\\linear_model\\logistic.py:433: FutureWarning: Default solver will be changed to 'lbfgs' in 0.22. Specify a solver to silence this warning.\n",
      "  FutureWarning)\n",
      "C:\\Users\\Rishi\\Anaconda3\\lib\\site-packages\\sklearn\\linear_model\\logistic.py:433: FutureWarning: Default solver will be changed to 'lbfgs' in 0.22. Specify a solver to silence this warning.\n",
      "  FutureWarning)\n",
      "C:\\Users\\Rishi\\Anaconda3\\lib\\site-packages\\sklearn\\linear_model\\logistic.py:433: FutureWarning: Default solver will be changed to 'lbfgs' in 0.22. Specify a solver to silence this warning.\n",
      "  FutureWarning)\n",
      "C:\\Users\\Rishi\\Anaconda3\\lib\\site-packages\\sklearn\\linear_model\\logistic.py:433: FutureWarning: Default solver will be changed to 'lbfgs' in 0.22. Specify a solver to silence this warning.\n",
      "  FutureWarning)\n"
     ]
    },
    {
     "name": "stdout",
     "output_type": "stream",
     "text": [
      "Accuracy is :  0.901897496087637\n"
     ]
    },
    {
     "data": {
      "text/plain": [
       "Text(0.5,1,'F1 Score = 0.9083665338645418')"
      ]
     },
     "execution_count": 43,
     "metadata": {},
     "output_type": "execute_result"
    },
    {
     "data": {
      "image/png": "[encoded data removed]",
      "text/plain": [
       "<Figure size 720x360 with 2 Axes>"
      ]
     },
     "metadata": {
      "needs_background": "light"
     },
     "output_type": "display_data"
    },
    {
     "data": {
      "image/png": "[encoded data removed]",
      "text/plain": [
       "<Figure size 432x288 with 2 Axes>"
      ]
     },
     "metadata": {
      "needs_background": "light"
     },
     "output_type": "display_data"
    }
   ],
   "source": [
    "lr=LogisticRegression(class_weight='balanced', tol=0.00001)\n",
    "score_lr=CrossVal(Xtrain,Ytrain,lr)\n",
    "print(\"Accuracy is : \",score_lr)\n",
    "lr.fit(Xtrain,Ytrain)\n",
    "plotting(Ytest,lr.predict_proba(Xtest))\n",
    "\n",
    "\n",
    "fig=plt.figure()\n",
    "sns.heatmap(confusion_matrix(Ytest,lr.predict(Xtest)), annot= True, cmap='Greens')\n",
    "lr_f1=f1_score(Ytest,lr.predict(Xtest))\n",
    "plt.title('F1 Score = {}'.format(lr_f1))"
   ]
  },
  {
   "cell_type": "code",
   "execution_count": null,
   "metadata": {},
   "outputs": [],
   "source": []
  },
  {
   "cell_type": "code",
   "execution_count": 44,
   "metadata": {},
   "outputs": [
    {
     "name": "stdout",
     "output_type": "stream",
     "text": [
      "Accuracy is :  0.8892996870109545\n"
     ]
    },
    {
     "data": {
      "text/plain": [
       "Text(0.5,1,'F1 Score = 0.8724279835390948')"
      ]
     },
     "execution_count": 44,
     "metadata": {},
     "output_type": "execute_result"
    },
    {
     "data": {
      "image/png": "[encoded data removed]",
      "text/plain": [
       "<Figure size 720x360 with 2 Axes>"
      ]
     },
     "metadata": {
      "needs_background": "light"
     },
     "output_type": "display_data"
    },
    {
     "data": {
      "image/png": "[encoded data removed]",
      "text/plain": [
       "<Figure size 432x288 with 2 Axes>"
      ]
     },
     "metadata": {
      "needs_background": "light"
     },
     "output_type": "display_data"
    }
   ],
   "source": [
    "dtc=DecisionTreeClassifier()\n",
    "score_dtc=CrossVal(Xtrain,Ytrain,dtc)\n",
    "print(\"Accuracy is : \",score_dtc)\n",
    "dtc.fit(Xtrain,Ytrain)\n",
    "plotting(Ytest,dtc.predict_proba(Xtest))\n",
    "\n",
    "fig=plt.figure()\n",
    "sns.heatmap(confusion_matrix(Ytest,dtc.predict(Xtest)), annot= True, cmap='Blues')\n",
    "\n",
    "dtc_f1=f1_score(Ytest,dtc.predict(Xtest))\n",
    "plt.title('F1 Score = {}'.format(dtc_f1))"
   ]
  },
  {
   "cell_type": "code",
   "execution_count": null,
   "metadata": {},
   "outputs": [],
   "source": []
  },
  {
   "cell_type": "code",
   "execution_count": 45,
   "metadata": {},
   "outputs": [
    {
     "name": "stdout",
     "output_type": "stream",
     "text": [
      "Accuracy is :  0.9131259780907668\n"
     ]
    },
    {
     "data": {
      "text/plain": [
       "Text(0.5,1,'F1 Score = 0.92')"
      ]
     },
     "execution_count": 45,
     "metadata": {},
     "output_type": "execute_result"
    },
    {
     "data": {
      "image/png": "[encoded data removed]",
      "text/plain": [
       "<Figure size 720x360 with 2 Axes>"
      ]
     },
     "metadata": {
      "needs_background": "light"
     },
     "output_type": "display_data"
    },
    {
     "data": {
      "image/png": "[encoded data removed]",
      "text/plain": [
       "<Figure size 432x288 with 2 Axes>"
      ]
     },
     "metadata": {
      "needs_background": "light"
     },
     "output_type": "display_data"
    }
   ],
   "source": [
    "svc=SVC(C=0.9,probability=True,kernel='rbf',gamma=0.1)\n",
    "score_svc=CrossVal(Xtrain,Ytrain,svc)\n",
    "print(\"Accuracy is : \",score_svc)\n",
    "svc.fit(Xtrain,Ytrain)\n",
    "plotting(Ytest,svc.predict_proba(Xtest))\n",
    "\n",
    "fig=plt.figure()\n",
    "sns.heatmap(confusion_matrix(Ytest,svc.predict(Xtest)), annot= True, cmap='Greys')\n",
    "svc_f1=f1_score(Ytest,svc.predict(Xtest))\n",
    "plt.title('F1 Score = {}'.format(svc_f1))"
   ]
  },
  {
   "cell_type": "code",
   "execution_count": null,
   "metadata": {},
   "outputs": [],
   "source": []
  },
  {
   "cell_type": "code",
   "execution_count": 46,
   "metadata": {},
   "outputs": [
    {
     "name": "stdout",
     "output_type": "stream",
     "text": [
      "Accuracy is: 0.8878716744913927\n"
     ]
    },
    {
     "data": {
      "text/plain": [
       "Text(0.5,1,'F1 Score = 0.8852459016393442')"
      ]
     },
     "execution_count": 46,
     "metadata": {},
     "output_type": "execute_result"
    },
    {
     "data": {
      "image/png": "[encoded data removed]",
      "text/plain": [
       "<Figure size 720x360 with 2 Axes>"
      ]
     },
     "metadata": {
      "needs_background": "light"
     },
     "output_type": "display_data"
    },
    {
     "data": {
      "image/png": "[encoded data removed]",
      "text/plain": [
       "<Figure size 432x288 with 2 Axes>"
      ]
     },
     "metadata": {
      "needs_background": "light"
     },
     "output_type": "display_data"
    }
   ],
   "source": [
    "rf=RandomForestClassifier(n_estimators=100, n_jobs=-1, random_state=1296)\n",
    "score_rf= CrossVal(Xtrain,Ytrain,rf)\n",
    "print('Accuracy is:',score_rf)\n",
    "rf.fit(Xtrain,Ytrain)\n",
    "plotting(Ytest,rf.predict_proba(Xtest))\n",
    "\n",
    "fig=plt.figure()\n",
    "sns.heatmap(confusion_matrix(Ytest,rf.predict(Xtest)), annot= True, cmap='Oranges')\n",
    "\n",
    "rf_f1=f1_score(Ytest,rf.predict(Xtest))\n",
    "plt.title('F1 Score = {}'.format(rf_f1))"
   ]
  },
  {
   "cell_type": "code",
   "execution_count": null,
   "metadata": {},
   "outputs": [],
   "source": []
  },
  {
   "cell_type": "code",
   "execution_count": 47,
   "metadata": {},
   "outputs": [
    {
     "name": "stdout",
     "output_type": "stream",
     "text": [
      "Accuracy is: 0.8892605633802816\n"
     ]
    },
    {
     "data": {
      "text/plain": [
       "Text(0.5,1,'F1 Score = 0.8943089430894308')"
      ]
     },
     "execution_count": 47,
     "metadata": {},
     "output_type": "execute_result"
    },
    {
     "data": {
      "image/png": "[encoded data removed]",
      "text/plain": [
       "<Figure size 720x360 with 2 Axes>"
      ]
     },
     "metadata": {
      "needs_background": "light"
     },
     "output_type": "display_data"
    },
    {
     "data": {
      "image/png": "[encoded data removed]",
      "text/plain": [
       "<Figure size 432x288 with 2 Axes>"
      ]
     },
     "metadata": {
      "needs_background": "light"
     },
     "output_type": "display_data"
    }
   ],
   "source": [
    "etc=ExtraTreesClassifier(n_estimators=100, n_jobs=-1, random_state=728964)\n",
    "score_etc= CrossVal(Xtrain,Ytrain,etc)\n",
    "print('Accuracy is:',score_etc)\n",
    "etc.fit(Xtrain,Ytrain)\n",
    "plotting(Ytest,etc.predict_proba(Xtest))\n",
    "\n",
    "fig=plt.figure()\n",
    "sns.heatmap(confusion_matrix(Ytest,etc.predict(Xtest)), annot= True, cmap='Greens')\n",
    "\n",
    "etc_f1=f1_score(Ytest,etc.predict(Xtest))\n",
    "plt.title('F1 Score = {}'.format(etc_f1))"
   ]
  },
  {
   "cell_type": "code",
   "execution_count": null,
   "metadata": {},
   "outputs": [],
   "source": []
  },
  {
   "cell_type": "code",
   "execution_count": 48,
   "metadata": {},
   "outputs": [
    {
     "name": "stdout",
     "output_type": "stream",
     "text": [
      "Accuracy is: 0.7840571205007825\n"
     ]
    },
    {
     "data": {
      "text/plain": [
       "Text(0.5,1,'F1 Score = 0.7857142857142856')"
      ]
     },
     "execution_count": 48,
     "metadata": {},
     "output_type": "execute_result"
    },
    {
     "data": {
      "image/png": "[encoded data removed]",
      "text/plain": [
       "<Figure size 720x360 with 2 Axes>"
      ]
     },
     "metadata": {
      "needs_background": "light"
     },
     "output_type": "display_data"
    },
    {
     "data": {
      "image/png": "[encoded data removed]",
      "text/plain": [
       "<Figure size 432x288 with 2 Axes>"
      ]
     },
     "metadata": {
      "needs_background": "light"
     },
     "output_type": "display_data"
    }
   ],
   "source": [
    "abc=AdaBoostClassifier(sgd,n_estimators=10, random_state=2394, learning_rate=0.01)\n",
    "score_ada= CrossVal(Xtrain,Ytrain,abc)\n",
    "print('Accuracy is:',score_ada)\n",
    "abc.fit(Xtrain,Ytrain)\n",
    "plotting(Ytest,abc.predict_proba(Xtest))\n",
    "\n",
    "fig=plt.figure()\n",
    "sns.heatmap(confusion_matrix(Ytest,abc.predict(Xtest)), annot= True, cmap='Reds')\n",
    "\n",
    "abc_f1=f1_score(Ytest,abc.predict(Xtest))\n",
    "plt.title('F1 Score = {}'.format(abc_f1))"
   ]
  },
  {
   "cell_type": "code",
   "execution_count": null,
   "metadata": {},
   "outputs": [],
   "source": []
  },
  {
   "cell_type": "code",
   "execution_count": 49,
   "metadata": {},
   "outputs": [
    {
     "name": "stdout",
     "output_type": "stream",
     "text": [
      "Accuracy is: 0.8500195618153364\n"
     ]
    },
    {
     "data": {
      "text/plain": [
       "Text(0.5,1,'F1 Score = 0.8395061728395062')"
      ]
     },
     "execution_count": 49,
     "metadata": {},
     "output_type": "execute_result"
    },
    {
     "data": {
      "image/png": "[encoded data removed]",
      "text/plain": [
       "<Figure size 720x360 with 2 Axes>"
      ]
     },
     "metadata": {
      "needs_background": "light"
     },
     "output_type": "display_data"
    },
    {
     "data": {
      "image/png": "[encoded data removed]",
      "text/plain": [
       "<Figure size 432x288 with 2 Axes>"
      ]
     },
     "metadata": {
      "needs_background": "light"
     },
     "output_type": "display_data"
    }
   ],
   "source": [
    "gbc=GradientBoostingClassifier(n_estimators=200, random_state=768575, learning_rate = 0.01)\n",
    "score_gbc= CrossVal(Xtrain,Ytrain,gbc)\n",
    "print('Accuracy is:',score_gbc)\n",
    "gbc.fit(Xtrain,Ytrain)\n",
    "plotting(Ytest,gbc.predict_proba(Xtest))\n",
    "\n",
    "fig=plt.figure()\n",
    "sns.heatmap(confusion_matrix(Ytest,gbc.predict(Xtest)), annot= True, cmap='Blues')\n",
    "\n",
    "gbc_f1=f1_score(Ytest,gbc.predict(Xtest))\n",
    "plt.title('F1 Score = {}'.format(gbc_f1))"
   ]
  },
  {
   "cell_type": "code",
   "execution_count": null,
   "metadata": {},
   "outputs": [],
   "source": []
  },
  {
   "cell_type": "code",
   "execution_count": 50,
   "metadata": {},
   "outputs": [
    {
     "name": "stdout",
     "output_type": "stream",
     "text": [
      "Accuracy is: 0.8500195618153364\n"
     ]
    },
    {
     "data": {
      "text/plain": [
       "Text(0.5,1,'F1 Score = 0.5608465608465608')"
      ]
     },
     "execution_count": 50,
     "metadata": {},
     "output_type": "execute_result"
    },
    {
     "data": {
      "image/png": "[encoded data removed]",
      "text/plain": [
       "<Figure size 720x360 with 2 Axes>"
      ]
     },
     "metadata": {
      "needs_background": "light"
     },
     "output_type": "display_data"
    },
    {
     "data": {
      "image/png": "[encoded data removed]",
      "text/plain": [
       "<Figure size 432x288 with 2 Axes>"
      ]
     },
     "metadata": {
      "needs_background": "light"
     },
     "output_type": "display_data"
    }
   ],
   "source": [
    "bc=BaggingClassifier(lr,max_samples=19, bootstrap=True, n_jobs= -1, )\n",
    "score_bc= CrossVal(Xtrain,Ytrain,gbc)\n",
    "print('Accuracy is:',score_bc)\n",
    "bc.fit(Xtrain,Ytrain)\n",
    "plotting(Ytest,bc.predict_proba(Xtest))\n",
    "\n",
    "fig=plt.figure()\n",
    "sns.heatmap(confusion_matrix(Ytest,bc.predict(Xtest)), annot= True, cmap='Greys')\n",
    "\n",
    "bc_f1=f1_score(Ytest,bc.predict(Xtest))\n",
    "plt.title('F1 Score = {}'.format(bc_f1))"
   ]
  },
  {
   "cell_type": "code",
   "execution_count": null,
   "metadata": {},
   "outputs": [],
   "source": []
  },
  {
   "cell_type": "code",
   "execution_count": 51,
   "metadata": {},
   "outputs": [
    {
     "data": {
      "text/plain": [
       "Text(0.5,1,'Model Accracy')"
      ]
     },
     "execution_count": 51,
     "metadata": {},
     "output_type": "execute_result"
    },
    {
     "data": {
      "image/png": "[encoded data removed]",
      "text/plain": [
       "<Figure size 576x576 with 1 Axes>"
      ]
     },
     "metadata": {
      "needs_background": "light"
     },
     "output_type": "display_data"
    }
   ],
   "source": [
    "model_accuracy = pd.Series(data=[score_sgd, score_k, score_lr, score_dtc, score_svc, score_rf, score_etc, \n",
    "                           score_ada, score_gbc, score_bc], index=['Stochastic GD','KNN','logistic Regression',\n",
    "                                                                  'decision tree', 'SVM', 'Random Forest',\n",
    "                                                                  'Extra Tree', 'Ada Boost' , 'Gradient Boost', \n",
    "                                                                  'Bagging Classfier'])\n",
    "fig= plt.figure(figsize=(8,8))\n",
    "model_accuracy.sort_values().plot.barh()\n",
    "plt.title('Model Accracy')"
   ]
  },
  {
   "cell_type": "code",
   "execution_count": 60,
   "metadata": {},
   "outputs": [
    {
     "data": {
      "text/plain": [
       "Text(0.5,1,'Model F1 Score Comparison')"
      ]
     },
     "execution_count": 60,
     "metadata": {},
     "output_type": "execute_result"
    },
    {
     "data": {
      "image/png": "[encoded data removed]",
      "text/plain": [
       "<Figure size 576x576 with 1 Axes>"
      ]
     },
     "metadata": {
      "needs_background": "light"
     },
     "output_type": "display_data"
    }
   ],
   "source": [
    "model_f1_score = pd.Series(data=[sgd_f1, k_f1, lr_f1, dtc_f1, svc_f1, rf_f1, etc_f1, \n",
    "                           abc_f1, gbc_f1, bc_f1], index=['Stochastic GD','KNN','logistic Regression',\n",
    "                                                                  'decision tree', 'SVM', 'Random Forest',\n",
    "                                                                  'Extra Tree', 'Ada Boost' , 'Gradient Boost', \n",
    "                                                                  'Bagging Classfier'])\n",
    "fig= plt.figure(figsize=(8,8))\n",
    "model_f1_score.sort_values().plot.barh()\n",
    "plt.title('Model F1 Score Comparison')"
   ]
  },
  {
   "cell_type": "code",
   "execution_count": 61,
   "metadata": {},
   "outputs": [],
   "source": [
    "import lightgbm as lgb"
   ]
  },
  {
   "cell_type": "code",
   "execution_count": 62,
   "metadata": {},
   "outputs": [],
   "source": [
    "param = { 'objective': 'binary',\n",
    "        'metric':'auc',\n",
    "        'bagging_fraction': 0.42640981419916935,\n",
    "  'feature_fraction': 0.5718888549869281,\n",
    "  'lambda_l1': 1.9766800773416946,\n",
    "  'lambda_l2': 1.3322262742031845,\n",
    "  'max_depth': 5,\n",
    "  'min_data_in_leaf': 24,\n",
    "  'min_gain_to_split': 0.5219501719417943,\n",
    "  'num_leaves': 25}"
   ]
  },
  {
   "cell_type": "code",
   "execution_count": 63,
   "metadata": {},
   "outputs": [],
   "source": [
    "data_1=lgb.Dataset(Xtrain,Ytrain)\n",
    "data_2=lgb.Dataset(Xtest,reference=data_1)"
   ]
  },
  {
   "cell_type": "code",
   "execution_count": 68,
   "metadata": {},
   "outputs": [
    {
     "data": {
      "text/plain": [
       "[0.661748991935484,\n",
       " 0.7854296875,\n",
       " 0.7946875,\n",
       " 0.7985357862903226,\n",
       " 0.7963180443548387,\n",
       " 0.8118460181451613,\n",
       " 0.8086958165322582,\n",
       " 0.806556199596774,\n",
       " 0.8066141633064516,\n",
       " 0.806155493951613,\n",
       " 0.8088571068548387,\n",
       " 0.8095980342741935,\n",
       " 0.8087915826612904,\n",
       " 0.8115940020161292,\n",
       " 0.8133429939516128,\n",
       " 0.8128591229838709,\n",
       " 0.8138067036290322,\n",
       " 0.8125567036290322,\n",
       " 0.8112714213709677,\n",
       " 0.8107875504032258,\n",
       " 0.8112714213709677,\n",
       " 0.8114276713709678,\n",
       " 0.8120728326612904,\n",
       " 0.8103805443548386,\n",
       " 0.8097353830645162,\n",
       " 0.8098966733870967,\n",
       " 0.8095728326612903,\n",
       " 0.8097290826612904,\n",
       " 0.8097290826612904,\n",
       " 0.8097341229838708,\n",
       " 0.8085017641129033,\n",
       " 0.8088243447580645,\n",
       " 0.8090662802419356,\n",
       " 0.8090662802419356,\n",
       " 0.8100340221774193,\n",
       " 0.8102759576612902,\n",
       " 0.8104322076612902,\n",
       " 0.8109034778225807,\n",
       " 0.8094216229838709,\n",
       " 0.811195816532258,\n",
       " 0.8115133568548387,\n",
       " 0.8116645665322579,\n",
       " 0.8118258568548387,\n",
       " 0.8118258568548387,\n",
       " 0.8138823084677419,\n",
       " 0.8140435987903226,\n",
       " 0.8159790826612902,\n",
       " 0.8190385584677419,\n",
       " 0.8191998487903225,\n",
       " 0.8201499495967741,\n",
       " 0.8201499495967741,\n",
       " 0.8197467237903225,\n",
       " 0.8203112399193548,\n",
       " 0.8201890120967741,\n",
       " 0.8205015120967742,\n",
       " 0.8226738911290322,\n",
       " 0.8226738911290322,\n",
       " 0.8226738911290322,\n",
       " 0.8247631048387097,\n",
       " 0.8242792338709677,\n",
       " 0.8247631048387097,\n",
       " 0.8247631048387097,\n",
       " 0.8255695564516129,\n",
       " 0.8260773689516128,\n",
       " 0.8260773689516128,\n",
       " 0.8260773689516128,\n",
       " 0.8260773689516128,\n",
       " 0.8260773689516128,\n",
       " 0.8260773689516128,\n",
       " 0.8261580141129032,\n",
       " 0.8261580141129032,\n",
       " 0.8262386592741935,\n",
       " 0.8262386592741935,\n",
       " 0.8263999495967742]"
      ]
     },
     "execution_count": 68,
     "metadata": {},
     "output_type": "execute_result"
    }
   ],
   "source": [
    "lgb.cv(param, train_set=data_1, nfold=10, metrics='auc',num_boost_round=10000, early_stopping_rounds=1000)['auc-mean']"
   ]
  },
  {
   "cell_type": "code",
   "execution_count": null,
   "metadata": {},
   "outputs": [],
   "source": []
  },
  {
   "cell_type": "markdown",
   "metadata": {},
   "source": [
    "# Grid search"
   ]
  },
  {
   "cell_type": "code",
   "execution_count": 71,
   "metadata": {},
   "outputs": [],
   "source": [
    "from sklearn.model_selection import GridSearchCV"
   ]
  },
  {
   "cell_type": "code",
   "execution_count": 83,
   "metadata": {},
   "outputs": [],
   "source": [
    "param = [{'C': [0.1,1,3,10], 'kernel':['rbf','poly'], 'gamma':[0.01,0.1,1,5], 'degree':[2,3,4],\n",
    "        }]"
   ]
  },
  {
   "cell_type": "code",
   "execution_count": 109,
   "metadata": {},
   "outputs": [],
   "source": [
    "from sklearn.metrics import make_scorer\n",
    "def custom_auc(ground_truth, predictions):\n",
    "    #print (predictions.shape,ground_truth.shape)\n",
    "    fpr, tpr, thres= roc_curve(ground_truth, predictions)    \n",
    "    return auc(fpr, tpr)\n",
    "my_auc = make_scorer(custom_auc, greater_is_better=True, needs_proba=True)"
   ]
  },
  {
   "cell_type": "code",
   "execution_count": 110,
   "metadata": {},
   "outputs": [
    {
     "name": "stdout",
     "output_type": "stream",
     "text": [
      "(239,) (239,)\n",
      "(474,) (474,)\n",
      "(237,) (237,)\n",
      "(476,) (476,)\n",
      "(237,) (237,)\n",
      "(476,) (476,)\n",
      "(239,) (239,)\n",
      "(474,) (474,)\n",
      "(237,) (237,)\n",
      "(476,) (476,)\n",
      "(237,) (237,)\n",
      "(476,) (476,)\n",
      "(239,) (239,)\n",
      "(474,) (474,)\n",
      "(237,) (237,)\n",
      "(476,) (476,)\n",
      "(237,) (237,)\n",
      "(476,) (476,)\n",
      "(239,) (239,)\n",
      "(474,) (474,)\n",
      "(237,) (237,)\n",
      "(476,) (476,)\n",
      "(237,) (237,)\n",
      "(476,) (476,)\n",
      "(239,) (239,)\n",
      "(474,) (474,)\n",
      "(237,) (237,)\n",
      "(476,) (476,)\n",
      "(237,) (237,)\n",
      "(476,) (476,)\n",
      "(239,) (239,)\n",
      "(474,) (474,)\n",
      "(237,) (237,)\n",
      "(476,) (476,)\n",
      "(237,) (237,)\n",
      "(476,) (476,)\n",
      "(239,) (239,)\n",
      "(474,) (474,)\n",
      "(237,) (237,)\n",
      "(476,) (476,)\n",
      "(237,) (237,)\n",
      "(476,) (476,)\n",
      "(239,) (239,)\n",
      "(474,) (474,)\n",
      "(237,) (237,)\n",
      "(476,) (476,)\n",
      "(237,) (237,)\n",
      "(476,) (476,)\n",
      "(239,) (239,)\n",
      "(474,) (474,)\n",
      "(237,) (237,)\n",
      "(476,) (476,)\n",
      "(237,) (237,)\n",
      "(476,) (476,)\n",
      "(239,) (239,)\n",
      "(474,) (474,)\n",
      "(237,) (237,)\n",
      "(476,) (476,)\n",
      "(237,) (237,)\n",
      "(476,) (476,)\n",
      "(239,) (239,)\n",
      "(474,) (474,)\n",
      "(237,) (237,)\n",
      "(476,) (476,)\n",
      "(237,) (237,)\n",
      "(476,) (476,)\n",
      "(239,) (239,)\n",
      "(474,) (474,)\n",
      "(237,) (237,)\n",
      "(476,) (476,)\n",
      "(237,) (237,)\n",
      "(476,) (476,)\n",
      "(239,) (239,)\n",
      "(474,) (474,)\n",
      "(237,) (237,)\n",
      "(476,) (476,)\n",
      "(237,) (237,)\n",
      "(476,) (476,)\n",
      "(239,) (239,)\n",
      "(474,) (474,)\n",
      "(237,) (237,)\n",
      "(476,) (476,)\n",
      "(237,) (237,)\n",
      "(476,) (476,)\n",
      "(239,) (239,)\n",
      "(474,) (474,)\n",
      "(237,) (237,)\n",
      "(476,) (476,)\n",
      "(237,) (237,)\n",
      "(476,) (476,)\n",
      "(239,) (239,)\n",
      "(474,) (474,)\n",
      "(237,) (237,)\n",
      "(476,) (476,)\n",
      "(237,) (237,)\n",
      "(476,) (476,)\n",
      "(239,) (239,)\n",
      "(474,) (474,)\n",
      "(237,) (237,)\n",
      "(476,) (476,)\n",
      "(237,) (237,)\n",
      "(476,) (476,)\n",
      "(239,) (239,)\n",
      "(474,) (474,)\n",
      "(237,) (237,)\n",
      "(476,) (476,)\n",
      "(237,) (237,)\n",
      "(476,) (476,)\n",
      "(239,) (239,)\n",
      "(474,) (474,)\n",
      "(237,) (237,)\n",
      "(476,) (476,)\n",
      "(237,) (237,)\n",
      "(476,) (476,)\n",
      "(239,) (239,)\n",
      "(474,) (474,)\n",
      "(237,) (237,)\n",
      "(476,) (476,)\n",
      "(237,) (237,)\n",
      "(476,) (476,)\n",
      "(239,) (239,)\n",
      "(474,) (474,)\n",
      "(237,) (237,)\n",
      "(476,) (476,)\n",
      "(237,) (237,)\n",
      "(476,) (476,)\n",
      "(239,) (239,)\n",
      "(474,) (474,)\n",
      "(237,) (237,)\n",
      "(476,) (476,)\n",
      "(237,) (237,)\n",
      "(476,) (476,)\n",
      "(239,) (239,)\n",
      "(474,) (474,)\n",
      "(237,) (237,)\n",
      "(476,) (476,)\n",
      "(237,) (237,)\n",
      "(476,) (476,)\n",
      "(239,) (239,)\n",
      "(474,) (474,)\n",
      "(237,) (237,)\n",
      "(476,) (476,)\n",
      "(237,) (237,)\n",
      "(476,) (476,)\n",
      "(239,) (239,)\n",
      "(474,) (474,)\n",
      "(237,) (237,)\n",
      "(476,) (476,)\n",
      "(237,) (237,)\n",
      "(476,) (476,)\n",
      "(239,) (239,)\n",
      "(474,) (474,)\n",
      "(237,) (237,)\n",
      "(476,) (476,)\n",
      "(237,) (237,)\n",
      "(476,) (476,)\n",
      "(239,) (239,)\n",
      "(474,) (474,)\n",
      "(237,) (237,)\n",
      "(476,) (476,)\n",
      "(237,) (237,)\n",
      "(476,) (476,)\n",
      "(239,) (239,)\n",
      "(474,) (474,)\n",
      "(237,) (237,)\n",
      "(476,) (476,)\n",
      "(237,) (237,)\n",
      "(476,) (476,)\n",
      "(239,) (239,)\n",
      "(474,) (474,)\n",
      "(237,) (237,)\n",
      "(476,) (476,)\n",
      "(237,) (237,)\n",
      "(476,) (476,)\n",
      "(239,) (239,)\n",
      "(474,) (474,)\n",
      "(237,) (237,)\n",
      "(476,) (476,)\n",
      "(237,) (237,)\n",
      "(476,) (476,)\n",
      "(239,) (239,)\n",
      "(474,) (474,)\n",
      "(237,) (237,)\n",
      "(476,) (476,)\n",
      "(237,) (237,)\n",
      "(476,) (476,)\n",
      "(239,) (239,)\n",
      "(474,) (474,)\n",
      "(237,) (237,)\n",
      "(476,) (476,)\n",
      "(237,) (237,)\n",
      "(476,) (476,)\n",
      "(239,) (239,)\n",
      "(474,) (474,)\n",
      "(237,) (237,)\n",
      "(476,) (476,)\n",
      "(237,) (237,)\n",
      "(476,) (476,)\n",
      "(239,) (239,)\n",
      "(474,) (474,)\n",
      "(237,) (237,)\n",
      "(476,) (476,)\n",
      "(237,) (237,)\n",
      "(476,) (476,)\n",
      "(239,) (239,)\n",
      "(474,) (474,)\n",
      "(237,) (237,)\n",
      "(476,) (476,)\n",
      "(237,) (237,)\n",
      "(476,) (476,)\n",
      "(239,) (239,)\n",
      "(474,) (474,)\n",
      "(237,) (237,)\n",
      "(476,) (476,)\n",
      "(237,) (237,)\n",
      "(476,) (476,)\n",
      "(239,) (239,)\n",
      "(474,) (474,)\n",
      "(237,) (237,)\n",
      "(476,) (476,)\n",
      "(237,) (237,)\n",
      "(476,) (476,)\n",
      "(239,) (239,)\n",
      "(474,) (474,)\n",
      "(237,) (237,)\n",
      "(476,) (476,)\n",
      "(237,) (237,)\n",
      "(476,) (476,)\n",
      "(239,) (239,)\n",
      "(474,) (474,)\n",
      "(237,) (237,)\n",
      "(476,) (476,)\n",
      "(237,) (237,)\n",
      "(476,) (476,)\n",
      "(239,) (239,)\n",
      "(474,) (474,)\n",
      "(237,) (237,)\n",
      "(476,) (476,)\n",
      "(237,) (237,)\n",
      "(476,) (476,)\n",
      "(239,) (239,)\n",
      "(474,) (474,)\n",
      "(237,) (237,)\n",
      "(476,) (476,)\n",
      "(237,) (237,)\n",
      "(476,) (476,)\n",
      "(239,) (239,)\n",
      "(474,) (474,)\n",
      "(237,) (237,)\n",
      "(476,) (476,)\n",
      "(237,) (237,)\n",
      "(476,) (476,)\n",
      "(239,) (239,)\n",
      "(474,) (474,)\n",
      "(237,) (237,)\n",
      "(476,) (476,)\n",
      "(237,) (237,)\n",
      "(476,) (476,)\n",
      "(239,) (239,)\n",
      "(474,) (474,)\n",
      "(237,) (237,)\n",
      "(476,) (476,)\n",
      "(237,) (237,)\n",
      "(476,) (476,)\n",
      "(239,) (239,)\n",
      "(474,) (474,)\n",
      "(237,) (237,)\n",
      "(476,) (476,)\n",
      "(237,) (237,)\n",
      "(476,) (476,)\n",
      "(239,) (239,)\n",
      "(474,) (474,)\n",
      "(237,) (237,)\n",
      "(476,) (476,)\n",
      "(237,) (237,)\n",
      "(476,) (476,)\n",
      "(239,) (239,)\n",
      "(474,) (474,)\n",
      "(237,) (237,)\n",
      "(476,) (476,)\n",
      "(237,) (237,)\n",
      "(476,) (476,)\n",
      "(239,) (239,)\n",
      "(474,) (474,)\n",
      "(237,) (237,)\n",
      "(476,) (476,)\n",
      "(237,) (237,)\n",
      "(476,) (476,)\n",
      "(239,) (239,)\n",
      "(474,) (474,)\n",
      "(237,) (237,)\n",
      "(476,) (476,)\n",
      "(237,) (237,)\n",
      "(476,) (476,)\n",
      "(239,) (239,)\n",
      "(474,) (474,)\n",
      "(237,) (237,)\n",
      "(476,) (476,)\n",
      "(237,) (237,)\n",
      "(476,) (476,)\n",
      "(239,) (239,)\n",
      "(474,) (474,)\n",
      "(237,) (237,)\n",
      "(476,) (476,)\n",
      "(237,) (237,)\n",
      "(476,) (476,)\n",
      "(239,) (239,)\n",
      "(474,) (474,)\n",
      "(237,) (237,)\n",
      "(476,) (476,)\n",
      "(237,) (237,)\n",
      "(476,) (476,)\n",
      "(239,) (239,)\n",
      "(474,) (474,)\n",
      "(237,) (237,)\n",
      "(476,) (476,)\n",
      "(237,) (237,)\n",
      "(476,) (476,)\n",
      "(239,) (239,)\n",
      "(474,) (474,)\n",
      "(237,) (237,)\n",
      "(476,) (476,)\n",
      "(237,) (237,)\n",
      "(476,) (476,)\n",
      "(239,) (239,)\n",
      "(474,) (474,)\n",
      "(237,) (237,)\n",
      "(476,) (476,)\n",
      "(237,) (237,)\n",
      "(476,) (476,)\n",
      "(239,) (239,)\n",
      "(474,) (474,)\n",
      "(237,) (237,)\n",
      "(476,) (476,)\n",
      "(237,) (237,)\n",
      "(476,) (476,)\n",
      "(239,) (239,)\n",
      "(474,) (474,)\n",
      "(237,) (237,)\n",
      "(476,) (476,)\n",
      "(237,) (237,)\n",
      "(476,) (476,)\n",
      "(239,) (239,)\n",
      "(474,) (474,)\n",
      "(237,) (237,)\n",
      "(476,) (476,)\n",
      "(237,) (237,)\n",
      "(476,) (476,)\n",
      "(239,) (239,)\n",
      "(474,) (474,)\n",
      "(237,) (237,)\n",
      "(476,) (476,)\n",
      "(237,) (237,)\n",
      "(476,) (476,)\n",
      "(239,) (239,)\n",
      "(474,) (474,)\n",
      "(237,) (237,)\n",
      "(476,) (476,)\n",
      "(237,) (237,)\n",
      "(476,) (476,)\n",
      "(239,) (239,)\n",
      "(474,) (474,)\n",
      "(237,) (237,)\n",
      "(476,) (476,)\n",
      "(237,) (237,)\n",
      "(476,) (476,)\n",
      "(239,) (239,)\n",
      "(474,) (474,)\n",
      "(237,) (237,)\n",
      "(476,) (476,)\n",
      "(237,) (237,)\n",
      "(476,) (476,)\n",
      "(239,) (239,)\n",
      "(474,) (474,)\n",
      "(237,) (237,)\n",
      "(476,) (476,)\n",
      "(237,) (237,)\n",
      "(476,) (476,)\n",
      "(239,) (239,)\n",
      "(474,) (474,)\n",
      "(237,) (237,)\n",
      "(476,) (476,)\n",
      "(237,) (237,)\n",
      "(476,) (476,)\n",
      "(239,) (239,)\n",
      "(474,) (474,)\n",
      "(237,) (237,)\n",
      "(476,) (476,)\n",
      "(237,) (237,)\n",
      "(476,) (476,)\n",
      "(239,) (239,)\n",
      "(474,) (474,)\n",
      "(237,) (237,)\n",
      "(476,) (476,)\n",
      "(237,) (237,)\n",
      "(476,) (476,)\n",
      "(239,) (239,)\n",
      "(474,) (474,)\n",
      "(237,) (237,)\n",
      "(476,) (476,)\n",
      "(237,) (237,)\n",
      "(476,) (476,)\n",
      "(239,) (239,)\n",
      "(474,) (474,)\n",
      "(237,) (237,)\n",
      "(476,) (476,)\n",
      "(237,) (237,)\n",
      "(476,) (476,)\n",
      "(239,) (239,)\n",
      "(474,) (474,)\n",
      "(237,) (237,)\n",
      "(476,) (476,)\n",
      "(237,) (237,)\n",
      "(476,) (476,)\n",
      "(239,) (239,)\n",
      "(474,) (474,)\n",
      "(237,) (237,)\n",
      "(476,) (476,)\n",
      "(237,) (237,)\n",
      "(476,) (476,)\n",
      "(239,) (239,)\n",
      "(474,) (474,)\n",
      "(237,) (237,)\n",
      "(476,) (476,)\n",
      "(237,) (237,)\n",
      "(476,) (476,)\n",
      "(239,) (239,)\n",
      "(474,) (474,)\n",
      "(237,) (237,)\n",
      "(476,) (476,)\n",
      "(237,) (237,)\n",
      "(476,) (476,)\n",
      "(239,) (239,)\n",
      "(474,) (474,)\n",
      "(237,) (237,)\n",
      "(476,) (476,)\n",
      "(237,) (237,)\n",
      "(476,) (476,)\n",
      "(239,) (239,)\n",
      "(474,) (474,)\n",
      "(237,) (237,)\n",
      "(476,) (476,)\n",
      "(237,) (237,)\n",
      "(476,) (476,)\n",
      "(239,) (239,)\n",
      "(474,) (474,)\n",
      "(237,) (237,)\n",
      "(476,) (476,)\n",
      "(237,) (237,)\n",
      "(476,) (476,)\n",
      "(239,) (239,)\n",
      "(474,) (474,)\n",
      "(237,) (237,)\n",
      "(476,) (476,)\n",
      "(237,) (237,)\n",
      "(476,) (476,)\n",
      "(239,) (239,)\n",
      "(474,) (474,)\n",
      "(237,) (237,)\n",
      "(476,) (476,)\n",
      "(237,) (237,)\n",
      "(476,) (476,)\n",
      "(239,) (239,)\n",
      "(474,) (474,)\n",
      "(237,) (237,)\n",
      "(476,) (476,)\n",
      "(237,) (237,)\n",
      "(476,) (476,)\n",
      "(239,) (239,)\n",
      "(474,) (474,)\n",
      "(237,) (237,)\n",
      "(476,) (476,)\n",
      "(237,) (237,)\n",
      "(476,) (476,)\n",
      "(239,) (239,)\n",
      "(474,) (474,)\n",
      "(237,) (237,)\n",
      "(476,) (476,)\n",
      "(237,) (237,)\n",
      "(476,) (476,)\n",
      "(239,) (239,)\n",
      "(474,) (474,)\n",
      "(237,) (237,)\n",
      "(476,) (476,)\n",
      "(237,) (237,)\n",
      "(476,) (476,)\n",
      "(239,) (239,)\n",
      "(474,) (474,)\n",
      "(237,) (237,)\n",
      "(476,) (476,)\n",
      "(237,) (237,)\n",
      "(476,) (476,)\n",
      "(239,) (239,)\n",
      "(474,) (474,)\n",
      "(237,) (237,)\n",
      "(476,) (476,)\n",
      "(237,) (237,)\n",
      "(476,) (476,)\n",
      "(239,) (239,)\n",
      "(474,) (474,)\n",
      "(237,) (237,)\n",
      "(476,) (476,)\n",
      "(237,) (237,)\n",
      "(476,) (476,)\n",
      "(239,) (239,)\n",
      "(474,) (474,)\n",
      "(237,) (237,)\n",
      "(476,) (476,)\n",
      "(237,) (237,)\n",
      "(476,) (476,)\n",
      "(239,) (239,)\n",
      "(474,) (474,)\n",
      "(237,) (237,)\n",
      "(476,) (476,)\n",
      "(237,) (237,)\n",
      "(476,) (476,)\n",
      "(239,) (239,)\n",
      "(474,) (474,)\n",
      "(237,) (237,)\n",
      "(476,) (476,)\n",
      "(237,) (237,)\n",
      "(476,) (476,)\n",
      "(239,) (239,)\n",
      "(474,) (474,)\n",
      "(237,) (237,)\n",
      "(476,) (476,)\n",
      "(237,) (237,)\n",
      "(476,) (476,)\n",
      "(239,) (239,)\n",
      "(474,) (474,)\n",
      "(237,) (237,)\n",
      "(476,) (476,)\n",
      "(237,) (237,)\n",
      "(476,) (476,)\n",
      "(239,) (239,)\n",
      "(474,) (474,)\n",
      "(237,) (237,)\n",
      "(476,) (476,)\n",
      "(237,) (237,)\n",
      "(476,) (476,)\n",
      "(239,) (239,)\n",
      "(474,) (474,)\n",
      "(237,) (237,)\n",
      "(476,) (476,)\n",
      "(237,) (237,)\n",
      "(476,) (476,)\n",
      "(239,) (239,)\n",
      "(474,) (474,)\n",
      "(237,) (237,)\n",
      "(476,) (476,)\n",
      "(237,) (237,)\n",
      "(476,) (476,)\n",
      "(239,) (239,)\n",
      "(474,) (474,)\n",
      "(237,) (237,)\n",
      "(476,) (476,)\n",
      "(237,) (237,)\n",
      "(476,) (476,)\n",
      "(239,) (239,)\n",
      "(474,) (474,)\n",
      "(237,) (237,)\n",
      "(476,) (476,)\n",
      "(237,) (237,)\n",
      "(476,) (476,)\n",
      "(239,) (239,)\n",
      "(474,) (474,)\n",
      "(237,) (237,)\n",
      "(476,) (476,)\n",
      "(237,) (237,)\n",
      "(476,) (476,)\n",
      "(239,) (239,)\n",
      "(474,) (474,)\n",
      "(237,) (237,)\n",
      "(476,) (476,)\n",
      "(237,) (237,)\n",
      "(476,) (476,)\n"
     ]
    },
    {
     "name": "stderr",
     "output_type": "stream",
     "text": [
      "C:\\Users\\Rishi\\Anaconda3\\lib\\site-packages\\sklearn\\model_selection\\_search.py:841: DeprecationWarning: The default of the `iid` parameter will change from True to False in version 0.22 and will be removed in 0.24. This will change numeric results when test-set sizes are unequal.\n",
      "  DeprecationWarning)\n"
     ]
    },
    {
     "data": {
      "text/plain": [
       "GridSearchCV(cv=3, error_score='raise-deprecating',\n",
       "       estimator=SVC(C=1.0, cache_size=200, class_weight='balanced', coef0=0.0,\n",
       "  decision_function_shape='ovr', degree=3, gamma='auto_deprecated',\n",
       "  kernel='rbf', max_iter=-1, probability=True, random_state=None,\n",
       "  shrinking=True, tol=0.001, verbose=False),\n",
       "       fit_params=None, iid='warn', n_jobs=None,\n",
       "       param_grid=[{'C': [0.1, 1, 3, 10], 'kernel': ['rbf', 'poly'], 'gamma': [0.01, 0.1, 1, 5], 'degree': [2, 3, 4]}],\n",
       "       pre_dispatch='2*n_jobs', refit=True, return_train_score='warn',\n",
       "       scoring=make_scorer(custom_auc, needs_proba=True), verbose=0)"
      ]
     },
     "execution_count": 110,
     "metadata": {},
     "output_type": "execute_result"
    }
   ],
   "source": [
    "gs=GridSearchCV(param_grid=param,cv=3,scoring=my_auc,estimator=SVC(class_weight='balanced',probability=True))\n",
    "gs.fit(Xtrain,Ytrain)"
   ]
  },
  {
   "cell_type": "code",
   "execution_count": 113,
   "metadata": {},
   "outputs": [
    {
     "data": {
      "text/plain": [
       "SVC(C=3, cache_size=200, class_weight='balanced', coef0=0.0,\n",
       "  decision_function_shape='ovr', degree=2, gamma=0.1, kernel='rbf',\n",
       "  max_iter=-1, probability=True, random_state=None, shrinking=True,\n",
       "  tol=0.001, verbose=False)"
      ]
     },
     "execution_count": 113,
     "metadata": {},
     "output_type": "execute_result"
    }
   ],
   "source": [
    "gs.best_estimator_"
   ]
  },
  {
   "cell_type": "code",
   "execution_count": 114,
   "metadata": {},
   "outputs": [
    {
     "data": {
      "text/plain": [
       "0.9759536524416175"
      ]
     },
     "execution_count": 114,
     "metadata": {},
     "output_type": "execute_result"
    }
   ],
   "source": [
    "gs.best_score_"
   ]
  },
  {
   "cell_type": "code",
   "execution_count": 115,
   "metadata": {},
   "outputs": [],
   "source": [
    "gs=gs.best_estimator_"
   ]
  },
  {
   "cell_type": "code",
   "execution_count": null,
   "metadata": {},
   "outputs": [],
   "source": []
  },
  {
   "cell_type": "code",
   "execution_count": null,
   "metadata": {},
   "outputs": [],
   "source": []
  }
 ],
 "metadata": {
  "kernelspec": {
   "display_name": "Python 3",
   "language": "python",
   "name": "python3"
  },
  "language_info": {
   "codemirror_mode": {
    "name": "ipython",
    "version": 3
   },
   "file_extension": ".py",
   "mimetype": "text/x-python",
   "name": "python",
   "nbconvert_exporter": "python",
   "pygments_lexer": "ipython3",
   "version": "3.7.0"
  }
 },
 "nbformat": 4,
 "nbformat_minor": 2
}
